{
 "cells": [
  {
   "cell_type": "markdown",
   "source": [
    "Generate price scenarios to calculate long-term energy prices elasticity of space heating demand.\n",
    "\n",
    "Random draw of one rate factor for each energy source."
   ],
   "metadata": {
    "collapsed": false
   }
  },
  {
   "cell_type": "code",
   "execution_count": 1,
   "outputs": [],
   "source": [
    "import json\n",
    "from random import choice"
   ],
   "metadata": {
    "collapsed": false
   }
  },
  {
   "cell_type": "code",
   "execution_count": 2,
   "outputs": [],
   "source": [
    "# Input\n",
    "ini = \"project/input/energy/energy_prices_wt_ame2021.csv\"\n",
    "rate = {\n",
    "        \"Electricity\": 0.0135,\n",
    "        \"Natural gas\": 0.0268,\n",
    "        \"Wood fuel\": 0.0127,\n",
    "        \"Oil fuel\": 0.0173,\n",
    "        \"Heating\": 0.0127\n",
    "      }\n",
    "\n",
    "rates_factor = [0.8, 1, 1.5, 2]\n",
    "draws = 100"
   ],
   "metadata": {
    "collapsed": false
   }
  },
  {
   "cell_type": "code",
   "execution_count": 3,
   "outputs": [],
   "source": [
    "# Random draw of one rate factor for each energy source\n",
    "energy_scenarios = {}\n",
    "for k in range(draws):\n",
    "        rates = {}\n",
    "        for key, value in rate.items():\n",
    "            rates[key] = round(value * choice(rates_factor), 4)\n",
    "\n",
    "        energy_scenarios.update({\n",
    "                \"S{}\".format(k): {\n",
    "                \"ini\": ini,\n",
    "                \"rate\": rates}}\n",
    "        )\n"
   ],
   "metadata": {
    "collapsed": false
   }
  },
  {
   "cell_type": "code",
   "execution_count": 4,
   "outputs": [],
   "source": [
    "with open('energy_prices_scenarios.json', 'w') as fp:\n",
    "    json.dump(energy_scenarios, fp)"
   ],
   "metadata": {
    "collapsed": false
   }
  },
  {
   "cell_type": "code",
   "execution_count": null,
   "outputs": [],
   "source": [],
   "metadata": {
    "collapsed": false
   }
  }
 ],
 "metadata": {
  "kernelspec": {
   "display_name": "Python 3",
   "language": "python",
   "name": "python3"
  },
  "language_info": {
   "codemirror_mode": {
    "name": "ipython",
    "version": 2
   },
   "file_extension": ".py",
   "mimetype": "text/x-python",
   "name": "python",
   "nbconvert_exporter": "python",
   "pygments_lexer": "ipython2",
   "version": "2.7.6"
  }
 },
 "nbformat": 4,
 "nbformat_minor": 0
}
