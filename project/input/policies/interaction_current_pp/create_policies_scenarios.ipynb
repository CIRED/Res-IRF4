{
 "cells": [
  {
   "cell_type": "code",
   "execution_count": 1,
   "metadata": {
    "collapsed": true,
    "ExecuteTime": {
     "end_time": "2024-05-07T11:13:42.351573Z",
     "start_time": "2024-05-07T11:13:40.981053Z"
    }
   },
   "outputs": [],
   "source": [
    "import os\n",
    "import json\n",
    "import itertools\n",
    "from copy import deepcopy\n",
    "from random import sample\n",
    "import pandas as pd"
   ]
  },
  {
   "cell_type": "code",
   "execution_count": 2,
   "outputs": [
    {
     "name": "stdout",
     "output_type": "stream",
     "text": [
      "/Users/lucas/PycharmProjects/Res-IRF4/project/input/policies/interaction_current_pp\n"
     ]
    }
   ],
   "source": [
    "print(os.getcwd())"
   ],
   "metadata": {
    "collapsed": false,
    "ExecuteTime": {
     "end_time": "2024-05-07T11:13:42.356403Z",
     "start_time": "2024-05-07T11:13:42.353154Z"
    }
   }
  },
  {
   "cell_type": "code",
   "execution_count": 3,
   "outputs": [],
   "source": [
    "variant = {\n",
    "    'subsidies': 'variant_subsidies.json',\n",
    "    'restriction_gas': 'variant_ban_boilers.json',\n",
    "    'carbon_tax': 'variant_carbon_tax.json',\n",
    "    'obligation': 'variant_mandatory_renovation.json',\n",
    "    'cee': 'variant_wco.json',\n",
    "    'zero_interest_loan': 'variant_zil.json'\n",
    "}"
   ],
   "metadata": {
    "collapsed": false,
    "ExecuteTime": {
     "end_time": "2024-05-07T11:13:42.359653Z",
     "start_time": "2024-05-07T11:13:42.357508Z"
    }
   }
  },
  {
   "cell_type": "code",
   "execution_count": 4,
   "outputs": [],
   "source": [
    "temp_policies, temp_name = {}, {}\n",
    "for key, f in variant.items():\n",
    "    with open(f) as file:\n",
    "        p = json.load(file)\n",
    "    \n",
    "    # add option to not implement the policy\n",
    "    p.update({'no_{}'.format(key): {}})\n",
    "    \n",
    "    temp_policies.update({key: list(p.values())})\n",
    "    temp_name.update({key: list(p.keys())})\n",
    "    "
   ],
   "metadata": {
    "collapsed": false,
    "ExecuteTime": {
     "end_time": "2024-05-07T11:13:42.365467Z",
     "start_time": "2024-05-07T11:13:42.361410Z"
    }
   }
  },
  {
   "cell_type": "code",
   "execution_count": 5,
   "outputs": [],
   "source": [
    "keys, values = zip(*temp_name.items())\n",
    "permutations_names = [dict(zip(keys, v)) for v in itertools.product(*values)]\n",
    "permutations_names = {'S{}'.format(n): v for n, v in enumerate(permutations_names)}\n",
    "\n",
    "keys, values = zip(*temp_policies.items())\n",
    "permutations_policies = [dict(zip(keys, v)) for v in itertools.product(*values)]\n",
    "permutations_policies = {'S{}'.format(n): v for n, v in enumerate(permutations_policies)}"
   ],
   "metadata": {
    "collapsed": false,
    "ExecuteTime": {
     "end_time": "2024-05-07T11:13:42.370681Z",
     "start_time": "2024-05-07T11:13:42.366474Z"
    }
   }
  },
  {
   "cell_type": "code",
   "execution_count": 6,
   "outputs": [],
   "source": [
    "f = '../policies_calibration.json'\n",
    "with open(f) as file:\n",
    "    policies_ref = json.load(file)"
   ],
   "metadata": {
    "collapsed": false,
    "ExecuteTime": {
     "end_time": "2024-05-07T11:13:42.374615Z",
     "start_time": "2024-05-07T11:13:42.371887Z"
    }
   }
  },
  {
   "cell_type": "code",
   "execution_count": 7,
   "outputs": [],
   "source": [
    "result = {}\n",
    "for key, policies in permutations_policies.items():\n",
    "    # for each scenario, add the reference policies\n",
    "    temp = deepcopy(policies_ref['policies'])\n",
    "    \n",
    "    # add the policies from group\n",
    "    group = []\n",
    "    for k, i in policies.items():\n",
    "        # check if it's a policy or a group of policies\n",
    "        if 'start' not in i.keys():\n",
    "            temp.update(i)\n",
    "            group.append(k)\n",
    "    # remove the group of policies\n",
    "    for k in group:\n",
    "        policies.pop(k)\n",
    "        \n",
    "    # add the other policies\n",
    "    temp.update(policies)\n",
    "    result.update({key: deepcopy(temp)})"
   ],
   "metadata": {
    "collapsed": false,
    "ExecuteTime": {
     "end_time": "2024-05-07T11:13:46.897641Z",
     "start_time": "2024-05-07T11:13:46.819758Z"
    }
   }
  },
  {
   "cell_type": "code",
   "execution_count": 8,
   "outputs": [],
   "source": [
    "# sampling results\n",
    "sampled = False\n",
    "if sampled:\n",
    "    number_scenarios = 10\n",
    "    result_sample = sample(list(result.items()), number_scenarios)\n",
    "    result_sample = {k: i for k, i in result_sample}\n",
    "\n",
    "    permutations_names = {k: permutations_names[k] for k in result_sample.keys()}\n",
    "    pd.DataFrame(permutations_names).T.to_csv('policies_scenarios_description.csv')\n",
    "else:\n",
    "    result_sample = result.copy()\n",
    "    pd.DataFrame(permutations_names).T.to_csv('policies_scenarios_description.csv')"
   ],
   "metadata": {
    "collapsed": false,
    "ExecuteTime": {
     "end_time": "2024-05-07T11:13:52.724934Z",
     "start_time": "2024-05-07T11:13:52.699819Z"
    }
   }
  },
  {
   "cell_type": "code",
   "execution_count": 9,
   "outputs": [
    {
     "name": "stdout",
     "output_type": "stream",
     "text": [
      "384\n"
     ]
    }
   ],
   "source": [
    "print(len(result_sample.keys()))"
   ],
   "metadata": {
    "collapsed": false,
    "ExecuteTime": {
     "end_time": "2024-05-07T11:13:57.582878Z",
     "start_time": "2024-05-07T11:13:57.579298Z"
    }
   }
  },
  {
   "cell_type": "code",
   "execution_count": 69,
   "outputs": [],
   "source": [
    "with open('policies_scenarios.json', 'w') as fp:\n",
    "    json.dump(result_sample, fp)"
   ],
   "metadata": {
    "collapsed": false,
    "ExecuteTime": {
     "end_time": "2024-05-01T18:17:07.604498Z",
     "start_time": "2024-05-01T18:17:07.557833Z"
    }
   }
  },
  {
   "cell_type": "code",
   "outputs": [],
   "source": [
    "# select standalone policies\n",
    "temp = pd.DataFrame(permutations_names).T\n",
    "list_features = temp.columns\n",
    "# standalone effect\n",
    "for feature in list_features:\n",
    "    for f in temp[feature].dropna().unique():\n",
    "        idx = temp.index\n",
    "        if f.split('_')[0] != 'no':\n",
    "            idx = idx.intersection(temp[temp[feature] == f].index)\n",
    "            for of in [k for k in list_features if k != feature]:\n",
    "                idx = idx.intersection(temp[temp[of].str.split('_').str[0] == 'no'].index)\n",
    "            temp.loc[idx, 'Group'] = f\n",
    "            \n",
    "temp = temp[temp['Group'].notna()]\n",
    "result_standalone = {temp.loc[k, 'Group']: v for k, v in result_sample.items() if k in temp.index}\n",
    "with open('policies_standalone_pp.json', 'w') as fp:\n",
    "    json.dump(result_standalone, fp)"
   ],
   "metadata": {
    "collapsed": false,
    "ExecuteTime": {
     "end_time": "2024-05-07T11:19:43.595399Z",
     "start_time": "2024-05-07T11:19:43.531446Z"
    }
   },
   "execution_count": 25
  },
  {
   "cell_type": "code",
   "execution_count": 71,
   "outputs": [],
   "source": [
    "with open('policies_scenarios.json') as file:\n",
    "    policies_test = json.load(file)"
   ],
   "metadata": {
    "collapsed": false,
    "ExecuteTime": {
     "end_time": "2024-05-01T18:17:07.625301Z",
     "start_time": "2024-05-01T18:17:07.608752Z"
    }
   }
  },
  {
   "cell_type": "code",
   "execution_count": 72,
   "outputs": [
    {
     "data": {
      "text/plain": "{'carbon_tax': {'start': 2017,\n  'end': 2051,\n  'tax': 'project/input/policies/current/carbon_tax_growth.csv',\n  'emission': 'project/input/policies/current/carbon_tax_emission.csv',\n  'recycling': None,\n  'policy': 'carbon_tax'},\n 'cite': {'start': 2018,\n  'end': 2019,\n  'heater': 'project/input/policies/current/cite_heater_sf.csv',\n  'insulation': 'project/input/policies/current/cite_insulation_sf.csv',\n  'cap': 4800,\n  'policy': 'subsidy_ad_valorem'},\n 'cee': {'start': 2017,\n  'end': 2051,\n  'cumac_heater': 'project/input/policies/current/cumac_heater_per_year.csv',\n  'cumac_insulation': 'project/input/policies/current/cumac_insulation_per_year.csv',\n  'bonus_insulation': {'value': 'project/input/policies/current/cee_bonus_insulation.csv',\n   'start': 2019,\n   'end': 2022},\n  'bonus_heater': {'value': 'project/input/policies/current/cee_bonus_heater.csv',\n   'start': 2019,\n   'end': 2051},\n  'coefficient_obligation': 'project/input/policies/current/cee_coefficient_obligation.csv',\n  'value': 'project/input/policies/current/cee_value.csv',\n  'growth': None,\n  'policy': 'subsidy_targeted'},\n 'mpr_serenite': {'start': 2018,\n  'end': 2019,\n  'insulation': 'project/input/policies/current/mpr_serenite.csv',\n  'cap': 'project/input/policies/current/mpr_serenite_cap.csv',\n  'growth_insulation': None,\n  'non_cumulative': ['cee', 'cite', 'mpr', 'mpr_efficacite'],\n  'target': 'deep_renovation',\n  'policy': 'subsidy_ad_valorem'},\n 'mpr': {'start': 2021,\n  'end': 2021,\n  'heater': 'project/input/policies/current/mpr_heater.csv',\n  'growth_heater': None,\n  'insulation': 'project/input/policies/current/mpr_insulation.csv',\n  'growth_insulation': None,\n  'bonus': 'project/input/policies/current/mpr_bonus.csv',\n  'policy': 'subsidy_targeted'},\n 'mpr_multifamily': {'start': 2021,\n  'end': 2021,\n  'insulation': 'project/input/policies/current/mpr_multifamily.csv',\n  'cap': 'project/input/policies/current/mpr_multifamily_cap.csv',\n  'non_cumulative': ['cite', 'mpr', 'mpr_serenite'],\n  'target': 'energy_condition_35',\n  'policy': 'subsidy_ad_valorem'},\n 'cap': {'start': 2018,\n  'end': 2019,\n  'insulation': 'project/input/policies/current/subsidies_cap.csv',\n  'heater': 'project/input/policies/current/subsidies_cap.csv',\n  'target_insulation': ['mpr_serenite',\n   'mpr_multifamily',\n   'mpr',\n   'cite',\n   'cee'],\n  'target_heater': ['cee', 'mpr', 'cite']},\n 'reduced_vat': {'start': 2018,\n  'end': 2019,\n  'value': 0.055,\n  'policy': 'reduced_vat'},\n 'restriction_oil': {'start': 2018,\n  'end': 2051,\n  'value': 'Oil fuel',\n  'policy': 'restriction_energy'},\n 'mpr_performance': {'start': 2019,\n  'end': 2051,\n  'insulation': 'project/input/policies/current/mpr_performance.csv',\n  'growth_insulation': None,\n  'non_cumulative': ['mpr', 'mpr_efficacite'],\n  'target': 'deep_renovation',\n  'cap': 'project/input/policies/current/mpr_performance_cap.csv',\n  'policy': 'subsidy_ad_valorem'},\n 'mpr_efficacite': {'start': 2019,\n  'end': 2051,\n  'heater': 'project/input/policies/current/mpr_heater.csv',\n  'growth_heater': None,\n  'insulation': 'project/input/policies/current/mpr_insulation.csv',\n  'growth_insulation': None,\n  'bonus': 'project/input/policies/current/mpr_bonus.csv',\n  'target': 'mpr_no_fg_heater_replacement',\n  'policy': 'subsidy_targeted'},\n 'mpr_multifamily_updated': {'start': 2019,\n  'end': 2051,\n  'insulation': 'project/input/policies/current/mpr_multifamily_updated.csv',\n  'cap': 'project/input/policies/current/mpr_multifamily_updated_cap.csv',\n  'non_cumulative': ['cite',\n   'mpr',\n   'mpr_efficacite',\n   'mpr_serenite',\n   'mpr_performance',\n   'mpr_multifamily_deep'],\n  'target': 'energy_condition_35',\n  'policy': 'subsidy_ad_valorem'},\n 'mpr_multifamily_deep': {'start': 2019,\n  'end': 2051,\n  'insulation': 'project/input/policies/current/mpr_multifamily_deep_updated.csv',\n  'cap': 'project/input/policies/current/mpr_multifamily_deep_updated_cap.csv',\n  'non_cumulative': ['cite',\n   'mpr',\n   'mpr_efficacite',\n   'mpr_serenite',\n   'mpr_performance',\n   'mpr_multifamily'],\n  'target': 'energy_condition_50',\n  'policy': 'subsidy_ad_valorem'},\n 'cap_updated': {'start': 2019,\n  'end': 2051,\n  'insulation': 'project/input/policies/current/subsidies_cap_updated.csv',\n  'heater': 'project/input/policies/current/subsidies_cap_updated.csv',\n  'target_insulation': ['mpr_serenite',\n   'mpr_performance',\n   'mpr_multifamily',\n   'mpr_multifamily_deep',\n   'mpr',\n   'mpr_efficacite',\n   'cite',\n   'cee'],\n  'target_heater': ['cee', 'mpr', 'mpr_efficacite', 'cite'],\n  'policy': 'subsidy_cap'},\n 'restriction_gas': {'start': 2030,\n  'end': 2051,\n  'value': 'Natural gas',\n  'policy': 'restriction_energy'},\n 'obligation': {'start': 2022,\n  'end': 2051,\n  'value': 'project/input/policies/current/agenda_obligation_pb.csv',\n  'frequency': {'value': [0, 0.1, 0],\n   'index': ['Owner-occupied', 'Privately rented', 'Social-housing'],\n   'name': 'Occupancy status'},\n  'intensive': 'market_share',\n  'minimum_performance': 'D',\n  'policy': 'obligation'},\n 'zero_interest_loan': {'start': 2019,\n  'end': 2051,\n  'cost_max': 15000,\n  'gest': ['insulation'],\n  'value': 0.0,\n  'duration': 15,\n  'public_cost': 0.015,\n  'policy': 'zero_interest_loan',\n  'target': None}}"
     },
     "execution_count": 72,
     "metadata": {},
     "output_type": "execute_result"
    }
   ],
   "source": [
    "policies_test[list(policies_test.keys())[0]]"
   ],
   "metadata": {
    "collapsed": false,
    "ExecuteTime": {
     "end_time": "2024-05-01T18:17:07.632437Z",
     "start_time": "2024-05-01T18:17:07.626336Z"
    }
   }
  },
  {
   "cell_type": "code",
   "outputs": [],
   "source": [],
   "metadata": {
    "collapsed": false,
    "ExecuteTime": {
     "end_time": "2024-05-01T18:17:07.635274Z",
     "start_time": "2024-05-01T18:17:07.633516Z"
    }
   },
   "execution_count": 72
  }
 ],
 "metadata": {
  "kernelspec": {
   "display_name": "Python 3",
   "language": "python",
   "name": "python3"
  },
  "language_info": {
   "codemirror_mode": {
    "name": "ipython",
    "version": 2
   },
   "file_extension": ".py",
   "mimetype": "text/x-python",
   "name": "python",
   "nbconvert_exporter": "python",
   "pygments_lexer": "ipython2",
   "version": "2.7.6"
  }
 },
 "nbformat": 4,
 "nbformat_minor": 0
}
