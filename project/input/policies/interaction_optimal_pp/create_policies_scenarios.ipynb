{
 "cells": [
  {
   "cell_type": "code",
   "execution_count": 47,
   "metadata": {
    "collapsed": true,
    "ExecuteTime": {
     "end_time": "2024-05-28T18:36:27.004380Z",
     "start_time": "2024-05-28T18:36:26.984940Z"
    }
   },
   "outputs": [],
   "source": [
    "import os\n",
    "import json\n",
    "import itertools\n",
    "from copy import deepcopy\n",
    "from random import sample\n",
    "import pandas as pd"
   ]
  },
  {
   "cell_type": "code",
   "execution_count": 48,
   "outputs": [
    {
     "name": "stdout",
     "output_type": "stream",
     "text": [
      "/Users/lucas/PycharmProjects/Res-IRF4/project/input/policies/interaction_optimal_pp\n"
     ]
    }
   ],
   "source": [
    "print(os.getcwd())"
   ],
   "metadata": {
    "collapsed": false,
    "ExecuteTime": {
     "end_time": "2024-05-28T18:36:27.012213Z",
     "start_time": "2024-05-28T18:36:27.007596Z"
    }
   }
  },
  {
   "cell_type": "code",
   "execution_count": 49,
   "outputs": [],
   "source": [
    "variant = {\n",
    "    'subsidy_emission': 'variant_subsidy_emission.json',\n",
    "    'subsidy_health_cost': 'variant_subsidy_health_cost.json',\n",
    "    'subsidy_landlord': 'variant_subsidy_landlord.json',\n",
    "    'subsidy_multi_family': 'variant_subsidy_multi_family.json',\n",
    "    'subsidy_present_bias': 'variant_subsidy_present_bias.json',\n",
    "    'subsidy_status_quo': 'variant_subsidy_status_quo.json'\n",
    "    # 'tax_status_quo': 'variant_tax_status_quo.json'\n",
    "}"
   ],
   "metadata": {
    "collapsed": false,
    "ExecuteTime": {
     "end_time": "2024-05-28T18:36:27.017317Z",
     "start_time": "2024-05-28T18:36:27.013870Z"
    }
   }
  },
  {
   "cell_type": "code",
   "execution_count": 50,
   "outputs": [],
   "source": [
    "temp_policies, temp_name = {}, {}\n",
    "for key, f in variant.items():\n",
    "    with open(f) as file:\n",
    "        p = json.load(file)\n",
    "    \n",
    "    # add option to not implement the policy\n",
    "    p.update({'no_{}'.format(key): {}})\n",
    "    \n",
    "    temp_policies.update({key: list(p.values())})\n",
    "    temp_name.update({key: list(p.keys())})\n",
    "    "
   ],
   "metadata": {
    "collapsed": false,
    "ExecuteTime": {
     "end_time": "2024-05-28T18:36:27.023759Z",
     "start_time": "2024-05-28T18:36:27.018685Z"
    }
   }
  },
  {
   "cell_type": "code",
   "execution_count": 51,
   "outputs": [],
   "source": [
    "keys, values = zip(*temp_name.items())\n",
    "permutations_names = [dict(zip(keys, v)) for v in itertools.product(*values)]\n",
    "permutations_names = {'S{}'.format(n): v for n, v in enumerate(permutations_names)}\n",
    "\n",
    "keys, values = zip(*temp_policies.items())\n",
    "permutations_policies = [dict(zip(keys, v)) for v in itertools.product(*values)]\n",
    "permutations_policies = {'S{}'.format(n): v for n, v in enumerate(permutations_policies)}"
   ],
   "metadata": {
    "collapsed": false,
    "ExecuteTime": {
     "end_time": "2024-05-28T18:36:27.030330Z",
     "start_time": "2024-05-28T18:36:27.025708Z"
    }
   }
  },
  {
   "cell_type": "code",
   "execution_count": 52,
   "outputs": [],
   "source": [
    "f = '../policies_calibration.json'\n",
    "with open(f) as file:\n",
    "    policies_ref = json.load(file)"
   ],
   "metadata": {
    "collapsed": false,
    "ExecuteTime": {
     "end_time": "2024-05-28T18:36:27.034333Z",
     "start_time": "2024-05-28T18:36:27.031325Z"
    }
   }
  },
  {
   "cell_type": "code",
   "execution_count": 53,
   "outputs": [],
   "source": [
    "result = {}\n",
    "for key, policies in permutations_policies.items():\n",
    "    # for each scenario, add the reference policies\n",
    "    temp = deepcopy(policies_ref['policies'])\n",
    "    \n",
    "    # add the policies from group\n",
    "    group = []\n",
    "    for k, i in policies.items():\n",
    "        # check if it's a policy or a group of policies\n",
    "        if 'start' not in i.keys():\n",
    "            temp.update(i)\n",
    "            group.append(k)\n",
    "    # remove the group of policies\n",
    "    for k in group:\n",
    "        policies.pop(k)\n",
    "        \n",
    "    # add the other policies\n",
    "    temp.update(policies)\n",
    "    result.update({key: deepcopy(temp)})"
   ],
   "metadata": {
    "collapsed": false,
    "ExecuteTime": {
     "end_time": "2024-05-28T18:36:27.059112Z",
     "start_time": "2024-05-28T18:36:27.035346Z"
    }
   }
  },
  {
   "cell_type": "code",
   "execution_count": 54,
   "outputs": [
    {
     "name": "stdout",
     "output_type": "stream",
     "text": [
      "96\n"
     ]
    }
   ],
   "source": [
    "print(len(result.keys()))"
   ],
   "metadata": {
    "collapsed": false,
    "ExecuteTime": {
     "end_time": "2024-05-28T18:36:27.063291Z",
     "start_time": "2024-05-28T18:36:27.060227Z"
    }
   }
  },
  {
   "cell_type": "code",
   "execution_count": 55,
   "outputs": [],
   "source": [
    "# sampling results\n",
    "sampled = False\n",
    "if sampled:\n",
    "    number_scenarios = 10\n",
    "    result_sample = sample(list(result.items()), number_scenarios)\n",
    "    result_sample = {k: i for k, i in result_sample}\n",
    "\n",
    "    permutations_names = {k: permutations_names[k] for k in result_sample.keys()}\n",
    "    pd.DataFrame(permutations_names).T.to_csv('policies_scenarios_description.csv')\n",
    "else:\n",
    "    result_sample = result.copy()\n",
    "    pd.DataFrame(permutations_names).T.to_csv('policies_scenarios_description.csv')"
   ],
   "metadata": {
    "collapsed": false,
    "ExecuteTime": {
     "end_time": "2024-05-28T18:36:27.094276Z",
     "start_time": "2024-05-28T18:36:27.064244Z"
    }
   }
  },
  {
   "cell_type": "code",
   "execution_count": 56,
   "outputs": [
    {
     "name": "stdout",
     "output_type": "stream",
     "text": [
      "{'carbon_tax': {'start': 2017, 'end': 2019, 'tax': 'project/input/policies/current/carbon_tax.csv', 'emission': 'project/input/policies/current/carbon_tax_emission.csv', 'recycling': None, 'policy': 'carbon_tax'}, 'cite': {'start': 2018, 'end': 2019, 'heater': 'project/input/policies/current/cite_heater_sf.csv', 'insulation': 'project/input/policies/current/cite_insulation_sf.csv', 'cap': 4800, 'policy': 'subsidy_ad_valorem'}, 'cee': {'start': 2017, 'end': 2019, 'cumac_heater': 'project/input/policies/current/cumac_heater_per_year.csv', 'cumac_insulation': 'project/input/policies/current/cumac_insulation_per_year.csv', 'bonus_insulation': {'value': 'project/input/policies/current/cee_bonus_insulation.csv', 'start': 2020, 'end': 2019}, 'bonus_heater': {'value': 'project/input/policies/current/cee_bonus_heater.csv', 'start': 2020, 'end': 2019}, 'coefficient_obligation': 'project/input/policies/current/cee_coefficient_obligation.csv', 'policy': 'subsidy_targeted', 'value': 'project/input/policies/current/cee_value.csv', 'growth': None}, 'mpr_serenite': {'start': 2018, 'end': 2019, 'insulation': 'project/input/policies/current/mpr_serenite.csv', 'cap': 'project/input/policies/current/mpr_serenite_cap.csv', 'growth_insulation': None, 'non_cumulative': ['cee', 'cite', 'mpr', 'mpr_efficacite'], 'target': 'deep_renovation', 'policy': 'subsidy_ad_valorem'}, 'mpr': {'start': 2021, 'end': 2021, 'heater': 'project/input/policies/current/mpr_heater.csv', 'growth_heater': None, 'insulation': 'project/input/policies/current/mpr_insulation.csv', 'growth_insulation': None, 'bonus': 'project/input/policies/current/mpr_bonus.csv', 'policy': 'subsidy_targeted'}, 'mpr_multifamily': {'start': 2021, 'end': 2021, 'insulation': 'project/input/policies/current/mpr_multifamily.csv', 'cap': 'project/input/policies/current/mpr_multifamily_cap.csv', 'non_cumulative': ['cite', 'mpr', 'mpr_serenite'], 'target': 'energy_condition_35', 'policy': 'subsidy_ad_valorem'}, 'cap': {'start': 2018, 'end': 2019, 'insulation': 'project/input/policies/current/subsidies_cap.csv', 'heater': 'project/input/policies/current/subsidies_cap.csv', 'target_insulation': ['mpr_serenite', 'mpr_multifamily', 'mpr', 'cite', 'cee'], 'target_heater': ['cee', 'mpr', 'cite']}, 'reduced_vat': {'start': 2018, 'end': 2019, 'value': 0.055, 'policy': 'reduced_vat'}, 'restriction_oil': {'start': 2018, 'end': 2051, 'value': 'Oil fuel', 'policy': 'restriction_energy'}, 'subsidy_emission': {'start': 2019, 'end': 2051, 'policy': 'subsidy_proportional', 'gest': ['heater', 'insulation'], 'value': 'project/input/policies/current/carbon_tax_value.csv', 'proportional': 'tCO2_cumac', 'growth': None}, 'subsidy_health_cost': {'start': 2019, 'end': 2051, 'policy': 'subsidy_proportional', 'gest': ['insulation'], 'proportional': 'health_cost'}, 'subsidy_landlord': {'start': 2019, 'end': 2051, 'policy': 'subsidy_landlord', 'gest': ['insulation']}, 'subsidy_multi_family': {'start': 2019, 'end': 2051, 'policy': 'subsidy_multi_family', 'gest': ['insulation']}, 'subsidy_status_quo': {'start': 2019, 'end': 2051, 'policy': 'subsidy_status_quo', 'gest': ['heater']}}\n",
      "dict_keys(['S0', 'S1', 'S2', 'S3', 'S4', 'S5', 'S6', 'S7', 'S8', 'S9', 'S10', 'S11', 'S12', 'S13', 'S14', 'S15', 'S16', 'S17', 'S18', 'S19', 'S20', 'S21', 'S22', 'S23', 'S24', 'S25', 'S26', 'S27', 'S28', 'S29', 'S30', 'S31', 'S32', 'S33', 'S34', 'S35', 'S36', 'S37', 'S38', 'S39', 'S40', 'S41', 'S42', 'S43', 'S44', 'S45', 'S46', 'S47', 'S48', 'S49', 'S50', 'S51', 'S52', 'S53', 'S54', 'S55', 'S56', 'S57', 'S58', 'S59', 'S60', 'S61', 'S62', 'S63', 'S64', 'S65', 'S66', 'S67', 'S68', 'S69', 'S70', 'S71', 'S72', 'S73', 'S74', 'S75', 'S76', 'S77', 'S78', 'S79', 'S80', 'S81', 'S82', 'S83', 'S84', 'S85', 'S86', 'S87', 'S88', 'S89', 'S90', 'S91', 'S92', 'S93', 'S94', 'S95'])\n"
     ]
    }
   ],
   "source": [
    "print(result_sample[list(result_sample.keys())[2]])\n",
    "print(result_sample.keys())"
   ],
   "metadata": {
    "collapsed": false,
    "ExecuteTime": {
     "end_time": "2024-05-28T18:36:27.100086Z",
     "start_time": "2024-05-28T18:36:27.096872Z"
    }
   }
  },
  {
   "cell_type": "code",
   "execution_count": 57,
   "outputs": [],
   "source": [
    "with open('policies_scenarios.json', 'w') as fp:\n",
    "    json.dump(result_sample, fp)"
   ],
   "metadata": {
    "collapsed": false,
    "ExecuteTime": {
     "end_time": "2024-05-28T18:36:27.117098Z",
     "start_time": "2024-05-28T18:36:27.101421Z"
    }
   }
  },
  {
   "cell_type": "code",
   "execution_count": 58,
   "outputs": [],
   "source": [
    "# test"
   ],
   "metadata": {
    "collapsed": false,
    "ExecuteTime": {
     "end_time": "2024-05-28T18:36:27.120330Z",
     "start_time": "2024-05-28T18:36:27.118280Z"
    }
   }
  },
  {
   "cell_type": "code",
   "execution_count": 59,
   "outputs": [],
   "source": [
    "with open('policies_scenarios.json') as file:\n",
    "    policies_test = json.load(file)"
   ],
   "metadata": {
    "collapsed": false,
    "ExecuteTime": {
     "end_time": "2024-05-28T18:36:27.127993Z",
     "start_time": "2024-05-28T18:36:27.121247Z"
    }
   }
  },
  {
   "cell_type": "code",
   "execution_count": 60,
   "outputs": [
    {
     "data": {
      "text/plain": "{'carbon_tax': {'start': 2017,\n  'end': 2019,\n  'tax': 'project/input/policies/current/carbon_tax.csv',\n  'emission': 'project/input/policies/current/carbon_tax_emission.csv',\n  'recycling': None,\n  'policy': 'carbon_tax'},\n 'cite': {'start': 2018,\n  'end': 2019,\n  'heater': 'project/input/policies/current/cite_heater_sf.csv',\n  'insulation': 'project/input/policies/current/cite_insulation_sf.csv',\n  'cap': 4800,\n  'policy': 'subsidy_ad_valorem'},\n 'cee': {'start': 2017,\n  'end': 2019,\n  'cumac_heater': 'project/input/policies/current/cumac_heater_per_year.csv',\n  'cumac_insulation': 'project/input/policies/current/cumac_insulation_per_year.csv',\n  'bonus_insulation': {'value': 'project/input/policies/current/cee_bonus_insulation.csv',\n   'start': 2020,\n   'end': 2019},\n  'bonus_heater': {'value': 'project/input/policies/current/cee_bonus_heater.csv',\n   'start': 2020,\n   'end': 2019},\n  'coefficient_obligation': 'project/input/policies/current/cee_coefficient_obligation.csv',\n  'policy': 'subsidy_targeted',\n  'value': 'project/input/policies/current/cee_value.csv',\n  'growth': None},\n 'mpr_serenite': {'start': 2018,\n  'end': 2019,\n  'insulation': 'project/input/policies/current/mpr_serenite.csv',\n  'cap': 'project/input/policies/current/mpr_serenite_cap.csv',\n  'growth_insulation': None,\n  'non_cumulative': ['cee', 'cite', 'mpr', 'mpr_efficacite'],\n  'target': 'deep_renovation',\n  'policy': 'subsidy_ad_valorem'},\n 'mpr': {'start': 2021,\n  'end': 2021,\n  'heater': 'project/input/policies/current/mpr_heater.csv',\n  'growth_heater': None,\n  'insulation': 'project/input/policies/current/mpr_insulation.csv',\n  'growth_insulation': None,\n  'bonus': 'project/input/policies/current/mpr_bonus.csv',\n  'policy': 'subsidy_targeted'},\n 'mpr_multifamily': {'start': 2021,\n  'end': 2021,\n  'insulation': 'project/input/policies/current/mpr_multifamily.csv',\n  'cap': 'project/input/policies/current/mpr_multifamily_cap.csv',\n  'non_cumulative': ['cite', 'mpr', 'mpr_serenite'],\n  'target': 'energy_condition_35',\n  'policy': 'subsidy_ad_valorem'},\n 'cap': {'start': 2018,\n  'end': 2019,\n  'insulation': 'project/input/policies/current/subsidies_cap.csv',\n  'heater': 'project/input/policies/current/subsidies_cap.csv',\n  'target_insulation': ['mpr_serenite',\n   'mpr_multifamily',\n   'mpr',\n   'cite',\n   'cee'],\n  'target_heater': ['cee', 'mpr', 'cite']},\n 'reduced_vat': {'start': 2018,\n  'end': 2019,\n  'value': 0.055,\n  'policy': 'reduced_vat'},\n 'restriction_oil': {'start': 2018,\n  'end': 2051,\n  'value': 'Oil fuel',\n  'policy': 'restriction_energy'},\n 'subsidy_emission': {'start': 2019,\n  'end': 2051,\n  'policy': 'subsidy_proportional',\n  'gest': ['heater', 'insulation'],\n  'value': 'project/input/policies/current/carbon_tax_value.csv',\n  'proportional': 'tCO2_cumac',\n  'growth': None},\n 'subsidy_health_cost': {'start': 2019,\n  'end': 2051,\n  'policy': 'subsidy_proportional',\n  'gest': ['insulation'],\n  'proportional': 'health_cost'},\n 'subsidy_landlord': {'start': 2019,\n  'end': 2051,\n  'policy': 'subsidy_landlord',\n  'gest': ['insulation']},\n 'subsidy_multi_family': {'start': 2019,\n  'end': 2051,\n  'policy': 'subsidy_multi_family',\n  'gest': ['insulation']},\n 'subsidy_present_bias': {'start': 2019,\n  'end': 2051,\n  'gest': ['insulation'],\n  'policy': 'subsidy_present_bias'},\n 'subsidy_status_quo': {'start': 2019,\n  'end': 2051,\n  'policy': 'subsidy_status_quo',\n  'gest': ['heater']}}"
     },
     "execution_count": 60,
     "metadata": {},
     "output_type": "execute_result"
    }
   ],
   "source": [
    "policies_test[list(policies_test.keys())[0]]"
   ],
   "metadata": {
    "collapsed": false,
    "ExecuteTime": {
     "end_time": "2024-05-28T18:36:27.135645Z",
     "start_time": "2024-05-28T18:36:27.128779Z"
    }
   }
  },
  {
   "cell_type": "code",
   "outputs": [],
   "source": [
    "# select standalone policies\n",
    "temp = pd.DataFrame(permutations_names).T\n",
    "list_features = temp.columns\n",
    "# standalone effect\n",
    "for feature in list_features:\n",
    "    for f in temp[feature].dropna().unique():\n",
    "        idx = temp.index\n",
    "        if f.split('_')[0] != 'no':\n",
    "            idx = idx.intersection(temp[temp[feature] == f].index)\n",
    "            for of in [k for k in list_features if k != feature]:\n",
    "                idx = idx.intersection(temp[temp[of].str.split('_').str[0] == 'no'].index)\n",
    "            temp.loc[idx, 'Group'] = f\n",
    "            \n",
    "temp = temp[temp['Group'].notna()]\n",
    "result_standalone = {temp.loc[k, 'Group']: v for k, v in result_sample.items() if k in temp.index}\n",
    "with open('policies_standalone.json', 'w') as fp:\n",
    "    json.dump(result_standalone, fp)"
   ],
   "metadata": {
    "collapsed": false,
    "ExecuteTime": {
     "end_time": "2024-05-28T18:36:27.193214Z",
     "start_time": "2024-05-28T18:36:27.136896Z"
    }
   },
   "execution_count": 61
  },
  {
   "cell_type": "code",
   "outputs": [],
   "source": [],
   "metadata": {
    "collapsed": false,
    "ExecuteTime": {
     "end_time": "2024-05-28T18:36:27.196025Z",
     "start_time": "2024-05-28T18:36:27.194347Z"
    }
   },
   "execution_count": 61
  }
 ],
 "metadata": {
  "kernelspec": {
   "display_name": "Python 3",
   "language": "python",
   "name": "python3"
  },
  "language_info": {
   "codemirror_mode": {
    "name": "ipython",
    "version": 2
   },
   "file_extension": ".py",
   "mimetype": "text/x-python",
   "name": "python",
   "nbconvert_exporter": "python",
   "pygments_lexer": "ipython2",
   "version": "2.7.6"
  }
 },
 "nbformat": 4,
 "nbformat_minor": 0
}
