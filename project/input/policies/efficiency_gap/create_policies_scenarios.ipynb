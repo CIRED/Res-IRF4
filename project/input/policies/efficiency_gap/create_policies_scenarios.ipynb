{
 "cells": [
  {
   "cell_type": "code",
   "execution_count": 25,
   "metadata": {
    "collapsed": true
   },
   "outputs": [],
   "source": [
    "import os\n",
    "import json\n",
    "import itertools\n",
    "from copy import deepcopy\n",
    "from random import sample\n",
    "import pandas as pd"
   ]
  },
  {
   "cell_type": "code",
   "execution_count": 26,
   "outputs": [
    {
     "name": "stdout",
     "output_type": "stream",
     "text": [
      "/Users/lucas/PycharmProjects/Res-IRF4/project/input/policies/efficiency_gap\n"
     ]
    }
   ],
   "source": [
    "print(os.getcwd())"
   ],
   "metadata": {
    "collapsed": false
   }
  },
  {
   "cell_type": "code",
   "execution_count": 27,
   "outputs": [],
   "source": [
    "variant = {\n",
    "    'carbon_tax': 'variant_ghg_externality.json',\n",
    "    'landlord': 'variant_landlord_tenant.json',\n",
    "    'inertia_heater': 'variant_inertia.json'\n",
    "}"
   ],
   "metadata": {
    "collapsed": false
   }
  },
  {
   "cell_type": "code",
   "execution_count": 28,
   "outputs": [],
   "source": [
    "temp_policies, temp_name = {}, {}\n",
    "for key, f in variant.items():\n",
    "    with open(f) as file:\n",
    "        p = json.load(file)\n",
    "    p.update({'no_{}'.format(key): {}})\n",
    "    temp_policies.update({key: list(p.values())})\n",
    "    temp_name.update({key: list(p.keys())})"
   ],
   "metadata": {
    "collapsed": false
   }
  },
  {
   "cell_type": "code",
   "execution_count": 29,
   "outputs": [],
   "source": [
    "keys, values = zip(*temp_name.items())\n",
    "permutations_names = [dict(zip(keys, v)) for v in itertools.product(*values)]\n",
    "permutations_names = {'S{}'.format(n): v for n, v in enumerate(permutations_names)}\n",
    "\n",
    "keys, values = zip(*temp_policies.items())\n",
    "permutations_policies = [dict(zip(keys, v)) for v in itertools.product(*values)]\n",
    "permutations_policies = {'S{}'.format(n): v for n, v in enumerate(permutations_policies)}"
   ],
   "metadata": {
    "collapsed": false
   }
  },
  {
   "cell_type": "code",
   "execution_count": 30,
   "outputs": [],
   "source": [
    "f = '../policies_calibration.json'\n",
    "with open(f) as file:\n",
    "    policies_ref = json.load(file)"
   ],
   "metadata": {
    "collapsed": false
   }
  },
  {
   "cell_type": "code",
   "execution_count": 31,
   "outputs": [],
   "source": [
    "result = {}\n",
    "for key, policies in permutations_policies.items():\n",
    "    temp = deepcopy(policies_ref['policies'])\n",
    "    temp.update(policies)\n",
    "    result.update({key: deepcopy(temp)})"
   ],
   "metadata": {
    "collapsed": false
   }
  },
  {
   "cell_type": "code",
   "execution_count": 32,
   "outputs": [
    {
     "name": "stdout",
     "output_type": "stream",
     "text": [
      "6\n"
     ]
    }
   ],
   "source": [
    "print(len(result.keys()))"
   ],
   "metadata": {
    "collapsed": false
   }
  },
  {
   "cell_type": "code",
   "execution_count": 33,
   "outputs": [],
   "source": [
    "# sampling results\n",
    "sampled = False\n",
    "if sampled:\n",
    "    number_scenarios = 4\n",
    "    result_sample = sample(list(result.items()), number_scenarios)\n",
    "    result_sample = {k: i for k, i in result_sample}\n",
    "\n",
    "    permutations_names = {k: permutations_names[k] for k in result_sample.keys()}\n",
    "    pd.DataFrame(permutations_names).T.to_csv('policies_scenarios_description.csv')\n",
    "else:\n",
    "    result_sample = result.copy()\n",
    "    pd.DataFrame(permutations_names).T.to_csv('policies_scenarios_description.csv')"
   ],
   "metadata": {
    "collapsed": false
   }
  },
  {
   "cell_type": "code",
   "execution_count": 34,
   "outputs": [
    {
     "name": "stdout",
     "output_type": "stream",
     "text": [
      "{'carbon_tax': {'start': 2019, 'end': 2051, 'tax': 'project/input/policies/current/carbon_tax_growth.csv', 'emission': 'project/input/policies/current/carbon_tax_emission.csv', 'recycling': None, 'policy': 'carbon_tax'}, 'cite': {'start': 2018, 'end': 2019, 'heater': 'project/input/policies/current/cite_heater_sf.csv', 'insulation': 'project/input/policies/current/cite_insulation_sf.csv', 'cap': 4800, 'policy': 'subsidy_ad_valorem'}, 'cee': {'start': 2017, 'end': 2019, 'cumac_heater': 'project/input/policies/current/cumac_heater_per_year.csv', 'cumac_insulation': 'project/input/policies/current/cumac_insulation_per_year.csv', 'bonus_insulation': {'value': 'project/input/policies/current/cee_bonus_insulation.csv', 'start': 2020, 'end': 2019}, 'bonus_heater': {'value': 'project/input/policies/current/cee_bonus_heater.csv', 'start': 2020, 'end': 2019}, 'coefficient_obligation': 'project/input/policies/current/cee_coefficient_obligation.csv', 'policy': 'subsidy_targeted', 'value': 'project/input/policies/current/cee_value.csv', 'growth': None}, 'mpr_serenite': {'start': 2018, 'end': 2019, 'insulation': 'project/input/policies/current/mpr_serenite.csv', 'cap': 'project/input/policies/current/mpr_serenite_cap.csv', 'growth_insulation': None, 'non_cumulative': ['cee', 'cite', 'mpr', 'mpr_efficacite'], 'target': 'deep_renovation', 'policy': 'subsidy_ad_valorem'}, 'mpr': {'start': 2021, 'end': 2021, 'heater': 'project/input/policies/current/mpr_heater.csv', 'growth_heater': None, 'insulation': 'project/input/policies/current/mpr_insulation.csv', 'growth_insulation': None, 'bonus': 'project/input/policies/current/mpr_bonus.csv', 'policy': 'subsidy_targeted'}, 'mpr_multifamily': {'start': 2021, 'end': 2021, 'insulation': 'project/input/policies/current/mpr_multifamily.csv', 'cap': 'project/input/policies/current/mpr_multifamily_cap.csv', 'non_cumulative': ['cite', 'mpr', 'mpr_serenite'], 'target': 'energy_condition_35', 'policy': 'subsidy_ad_valorem'}, 'cap': {'start': 2018, 'end': 2019, 'insulation': 'project/input/policies/current/subsidies_cap.csv', 'heater': 'project/input/policies/current/subsidies_cap.csv', 'target_insulation': ['mpr_serenite', 'mpr_multifamily', 'mpr', 'cite', 'cee'], 'target_heater': ['cee', 'mpr', 'cite']}, 'reduced_vat': {'start': 2018, 'end': 2019, 'value': 0.055, 'policy': 'reduced_vat'}, 'restriction_oil': {'start': 2018, 'end': 2051, 'value': 'Oil fuel', 'policy': 'restriction_energy'}, 'landlord': {'start': 2019, 'end': 2051, 'policy': 'regulation', 'gest': 'insulation'}}\n",
      "dict_keys(['S0', 'S1', 'S2', 'S3', 'S4', 'S5'])\n"
     ]
    }
   ],
   "source": [
    "print(result_sample[list(result_sample.keys())[2]])\n",
    "print(result_sample.keys())"
   ],
   "metadata": {
    "collapsed": false
   }
  },
  {
   "cell_type": "code",
   "execution_count": 35,
   "outputs": [],
   "source": [
    "with open('policies_scenarios.json', 'w') as fp:\n",
    "    json.dump(result_sample, fp)"
   ],
   "metadata": {
    "collapsed": false
   }
  },
  {
   "cell_type": "code",
   "execution_count": 36,
   "outputs": [],
   "source": [
    "# test"
   ],
   "metadata": {
    "collapsed": false
   }
  },
  {
   "cell_type": "code",
   "execution_count": 37,
   "outputs": [],
   "source": [
    "with open('policies_scenarios.json') as file:\n",
    "    policies_test = json.load(file)"
   ],
   "metadata": {
    "collapsed": false
   }
  },
  {
   "cell_type": "code",
   "execution_count": 38,
   "outputs": [
    {
     "data": {
      "text/plain": "{'carbon_tax': {'start': 2019,\n  'end': 2051,\n  'tax': 'project/input/policies/carbon_value.csv',\n  'emission': 'project/input/policies/current/carbon_tax_emission.csv',\n  'recycling': None,\n  'policy': 'carbon_tax'},\n 'cite': {'start': 2018,\n  'end': 2019,\n  'heater': 'project/input/policies/current/cite_heater_sf.csv',\n  'insulation': 'project/input/policies/current/cite_insulation_sf.csv',\n  'cap': 4800,\n  'policy': 'subsidy_ad_valorem'},\n 'cee': {'start': 2017,\n  'end': 2019,\n  'cumac_heater': 'project/input/policies/current/cumac_heater_per_year.csv',\n  'cumac_insulation': 'project/input/policies/current/cumac_insulation_per_year.csv',\n  'bonus_insulation': {'value': 'project/input/policies/current/cee_bonus_insulation.csv',\n   'start': 2020,\n   'end': 2019},\n  'bonus_heater': {'value': 'project/input/policies/current/cee_bonus_heater.csv',\n   'start': 2020,\n   'end': 2019},\n  'coefficient_obligation': 'project/input/policies/current/cee_coefficient_obligation.csv',\n  'policy': 'subsidy_targeted',\n  'value': 'project/input/policies/current/cee_value.csv',\n  'growth': None},\n 'mpr_serenite': {'start': 2018,\n  'end': 2019,\n  'insulation': 'project/input/policies/current/mpr_serenite.csv',\n  'cap': 'project/input/policies/current/mpr_serenite_cap.csv',\n  'growth_insulation': None,\n  'non_cumulative': ['cee', 'cite', 'mpr', 'mpr_efficacite'],\n  'target': 'deep_renovation',\n  'policy': 'subsidy_ad_valorem'},\n 'mpr': {'start': 2021,\n  'end': 2021,\n  'heater': 'project/input/policies/current/mpr_heater.csv',\n  'growth_heater': None,\n  'insulation': 'project/input/policies/current/mpr_insulation.csv',\n  'growth_insulation': None,\n  'bonus': 'project/input/policies/current/mpr_bonus.csv',\n  'policy': 'subsidy_targeted'},\n 'mpr_multifamily': {'start': 2021,\n  'end': 2021,\n  'insulation': 'project/input/policies/current/mpr_multifamily.csv',\n  'cap': 'project/input/policies/current/mpr_multifamily_cap.csv',\n  'non_cumulative': ['cite', 'mpr', 'mpr_serenite'],\n  'target': 'energy_condition_35',\n  'policy': 'subsidy_ad_valorem'},\n 'cap': {'start': 2018,\n  'end': 2019,\n  'insulation': 'project/input/policies/current/subsidies_cap.csv',\n  'heater': 'project/input/policies/current/subsidies_cap.csv',\n  'target_insulation': ['mpr_serenite',\n   'mpr_multifamily',\n   'mpr',\n   'cite',\n   'cee'],\n  'target_heater': ['cee', 'mpr', 'cite']},\n 'reduced_vat': {'start': 2018,\n  'end': 2019,\n  'value': 0.055,\n  'policy': 'reduced_vat'},\n 'restriction_oil': {'start': 2018,\n  'end': 2051,\n  'value': 'Oil fuel',\n  'policy': 'restriction_energy'},\n 'landlord': {'start': 2019,\n  'end': 2051,\n  'policy': 'regulation',\n  'gest': 'insulation'}}"
     },
     "execution_count": 38,
     "metadata": {},
     "output_type": "execute_result"
    }
   ],
   "source": [
    "policies_test[list(policies_test.keys())[0]]"
   ],
   "metadata": {
    "collapsed": false
   }
  }
 ],
 "metadata": {
  "kernelspec": {
   "display_name": "Python 3",
   "language": "python",
   "name": "python3"
  },
  "language_info": {
   "codemirror_mode": {
    "name": "ipython",
    "version": 2
   },
   "file_extension": ".py",
   "mimetype": "text/x-python",
   "name": "python",
   "nbconvert_exporter": "python",
   "pygments_lexer": "ipython2",
   "version": "2.7.6"
  }
 },
 "nbformat": 4,
 "nbformat_minor": 0
}
