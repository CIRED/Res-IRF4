{
 "cells": [
  {
   "cell_type": "code",
   "execution_count": 15,
   "metadata": {
    "collapsed": true,
    "ExecuteTime": {
     "end_time": "2024-04-23T12:23:43.729732Z",
     "start_time": "2024-04-23T12:23:43.724536Z"
    }
   },
   "outputs": [],
   "source": [
    "import os\n",
    "import json\n",
    "import itertools\n",
    "from copy import deepcopy\n",
    "from random import sample\n",
    "import pandas as pd"
   ]
  },
  {
   "cell_type": "code",
   "execution_count": 16,
   "outputs": [
    {
     "name": "stdout",
     "output_type": "stream",
     "text": [
      "/Users/lucas/PycharmProjects/Res-IRF4/project/input/policies/interaction_mf\n"
     ]
    }
   ],
   "source": [
    "print(os.getcwd())"
   ],
   "metadata": {
    "collapsed": false,
    "ExecuteTime": {
     "end_time": "2024-04-23T12:23:43.738701Z",
     "start_time": "2024-04-23T12:23:43.734943Z"
    }
   }
  },
  {
   "cell_type": "code",
   "execution_count": 17,
   "outputs": [],
   "source": [
    "variant = {\n",
    "    'ghg_externality': 'variant_ghg_externality.json',\n",
    "    'health_cost': 'variant_health_cost.json',\n",
    "    'landlord_dilemma': 'variant_landlord_dilemma.json',\n",
    "    'multi_family': 'variant_multi_family.json',\n",
    "    'credit_constraint': 'variant_credit_constraint.json',\n",
    "    'present_bias': 'variant_present_bias.json',\n",
    "    'status_quo_bias': 'variant_status_quo_bias.json'\n",
    "}"
   ],
   "metadata": {
    "collapsed": false,
    "ExecuteTime": {
     "end_time": "2024-04-23T12:23:43.743534Z",
     "start_time": "2024-04-23T12:23:43.740735Z"
    }
   }
  },
  {
   "cell_type": "code",
   "execution_count": 18,
   "outputs": [],
   "source": [
    "temp_policies, temp_name = {}, {}\n",
    "for key, f in variant.items():\n",
    "    with open(f) as file:\n",
    "        p = json.load(file)\n",
    "    p.update({'no_{}'.format(key): {}})\n",
    "    temp_policies.update({key: list(p.values())})\n",
    "    temp_name.update({key: list(p.keys())})"
   ],
   "metadata": {
    "collapsed": false,
    "ExecuteTime": {
     "end_time": "2024-04-23T12:23:43.750593Z",
     "start_time": "2024-04-23T12:23:43.744763Z"
    }
   }
  },
  {
   "cell_type": "code",
   "execution_count": 19,
   "outputs": [],
   "source": [
    "keys, values = zip(*temp_name.items())\n",
    "permutations_names = [dict(zip(keys, v)) for v in itertools.product(*values)]\n",
    "permutations_names = {'S{}'.format(n): v for n, v in enumerate(permutations_names)}\n",
    "\n",
    "keys, values = zip(*temp_policies.items())\n",
    "permutations_policies = [dict(zip(keys, v)) for v in itertools.product(*values)]\n",
    "permutations_policies = {'S{}'.format(n): v for n, v in enumerate(permutations_policies)}"
   ],
   "metadata": {
    "collapsed": false,
    "ExecuteTime": {
     "end_time": "2024-04-23T12:23:43.757199Z",
     "start_time": "2024-04-23T12:23:43.752694Z"
    }
   }
  },
  {
   "cell_type": "code",
   "execution_count": 20,
   "outputs": [],
   "source": [
    "f = '../policies_calibration.json'\n",
    "with open(f) as file:\n",
    "    policies_ref = json.load(file)"
   ],
   "metadata": {
    "collapsed": false,
    "ExecuteTime": {
     "end_time": "2024-04-23T12:23:43.765819Z",
     "start_time": "2024-04-23T12:23:43.759901Z"
    }
   }
  },
  {
   "cell_type": "code",
   "execution_count": 21,
   "outputs": [],
   "source": [
    "result = {}\n",
    "for key, policies in permutations_policies.items():\n",
    "    temp = deepcopy(policies_ref['policies'])\n",
    "    temp.update(policies)\n",
    "    result.update({key: deepcopy(temp)})"
   ],
   "metadata": {
    "collapsed": false,
    "ExecuteTime": {
     "end_time": "2024-04-23T12:23:43.797996Z",
     "start_time": "2024-04-23T12:23:43.767400Z"
    }
   }
  },
  {
   "cell_type": "code",
   "execution_count": 1,
   "outputs": [
    {
     "ename": "NameError",
     "evalue": "name 'result' is not defined",
     "output_type": "error",
     "traceback": [
      "\u001B[0;31m---------------------------------------------------------------------------\u001B[0m",
      "\u001B[0;31mNameError\u001B[0m                                 Traceback (most recent call last)",
      "\u001B[0;32m/var/folders/p9/3r4_fgzd72j7b469xxshgfnh0000gn/T/ipykernel_14726/3459710864.py\u001B[0m in \u001B[0;36m<module>\u001B[0;34m\u001B[0m\n\u001B[0;32m----> 1\u001B[0;31m \u001B[0mprint\u001B[0m\u001B[0;34m(\u001B[0m\u001B[0mlen\u001B[0m\u001B[0;34m(\u001B[0m\u001B[0mresult\u001B[0m\u001B[0;34m.\u001B[0m\u001B[0mkeys\u001B[0m\u001B[0;34m(\u001B[0m\u001B[0;34m)\u001B[0m\u001B[0;34m)\u001B[0m\u001B[0;34m)\u001B[0m\u001B[0;34m\u001B[0m\u001B[0;34m\u001B[0m\u001B[0m\n\u001B[0m",
      "\u001B[0;31mNameError\u001B[0m: name 'result' is not defined"
     ]
    }
   ],
   "source": [
    "print(len(result.keys()))"
   ],
   "metadata": {
    "collapsed": false,
    "ExecuteTime": {
     "end_time": "2024-05-01T10:34:44.397046Z",
     "start_time": "2024-05-01T10:34:44.327536Z"
    }
   }
  },
  {
   "cell_type": "code",
   "execution_count": 23,
   "outputs": [],
   "source": [
    "# sampling results\n",
    "sampled = False\n",
    "if sampled:\n",
    "    number_scenarios = 4\n",
    "    result_sample = sample(list(result.items()), number_scenarios)\n",
    "    result_sample = {k: i for k, i in result_sample}\n",
    "\n",
    "    permutations_names = {k: permutations_names[k] for k in result_sample.keys()}\n",
    "    pd.DataFrame(permutations_names).T.to_csv('policies_scenarios_description.csv')\n",
    "else:\n",
    "    result_sample = result.copy()\n",
    "    pd.DataFrame(permutations_names).T.to_csv('policies_scenarios_description.csv')"
   ],
   "metadata": {
    "collapsed": false,
    "ExecuteTime": {
     "end_time": "2024-04-23T12:23:43.820667Z",
     "start_time": "2024-04-23T12:23:43.810657Z"
    }
   }
  },
  {
   "cell_type": "code",
   "execution_count": 24,
   "outputs": [
    {
     "name": "stdout",
     "output_type": "stream",
     "text": [
      "{'carbon_tax': {'start': 2017, 'end': 2019, 'tax': 'project/input/policies/current/carbon_tax.csv', 'emission': 'project/input/policies/current/carbon_tax_emission.csv', 'recycling': None, 'policy': 'carbon_tax'}, 'cite': {'start': 2018, 'end': 2019, 'heater': 'project/input/policies/current/cite_heater_sf.csv', 'insulation': 'project/input/policies/current/cite_insulation_sf.csv', 'cap': 4800, 'policy': 'subsidy_ad_valorem'}, 'cee': {'start': 2017, 'end': 2019, 'cumac_heater': 'project/input/policies/current/cumac_heater_per_year.csv', 'cumac_insulation': 'project/input/policies/current/cumac_insulation_per_year.csv', 'bonus_insulation': {'value': 'project/input/policies/current/cee_bonus_insulation.csv', 'start': 2020, 'end': 2019}, 'bonus_heater': {'value': 'project/input/policies/current/cee_bonus_heater.csv', 'start': 2020, 'end': 2019}, 'coefficient_obligation': 'project/input/policies/current/cee_coefficient_obligation.csv', 'policy': 'subsidy_targeted', 'value': 'project/input/policies/current/cee_value.csv', 'growth': None}, 'mpr_serenite': {'start': 2018, 'end': 2019, 'insulation': 'project/input/policies/current/mpr_serenite.csv', 'cap': 'project/input/policies/current/mpr_serenite_cap.csv', 'growth_insulation': None, 'non_cumulative': ['cee', 'cite', 'mpr', 'mpr_efficacite'], 'target': 'deep_renovation', 'policy': 'subsidy_ad_valorem'}, 'mpr': {'start': 2021, 'end': 2021, 'heater': 'project/input/policies/current/mpr_heater.csv', 'growth_heater': None, 'insulation': 'project/input/policies/current/mpr_insulation.csv', 'growth_insulation': None, 'bonus': 'project/input/policies/current/mpr_bonus.csv', 'policy': 'subsidy_targeted'}, 'mpr_multifamily': {'start': 2021, 'end': 2021, 'insulation': 'project/input/policies/current/mpr_multifamily.csv', 'cap': 'project/input/policies/current/mpr_multifamily_cap.csv', 'non_cumulative': ['cite', 'mpr', 'mpr_serenite'], 'target': 'energy_condition_35', 'policy': 'subsidy_ad_valorem'}, 'cap': {'start': 2018, 'end': 2019, 'insulation': 'project/input/policies/current/subsidies_cap.csv', 'heater': 'project/input/policies/current/subsidies_cap.csv', 'target_insulation': ['mpr_serenite', 'mpr_multifamily', 'mpr', 'cite', 'cee'], 'target_heater': ['cee', 'mpr', 'cite']}, 'reduced_vat': {'start': 2018, 'end': 2019, 'value': 0.055, 'policy': 'reduced_vat'}, 'restriction_oil': {'start': 2018, 'end': 2051, 'value': 'Oil fuel', 'policy': 'restriction_energy'}, 'ghg_externality': {'start': 2019, 'end': 2051, 'tax': 'project/input/policies/carbon_value.csv', 'emission': 'project/input/policies/current/carbon_tax_emission.csv', 'recycling': None, 'policy': 'carbon_tax'}, 'health_cost': {'start': 2019, 'end': 2051, 'policy': 'regulation', 'gest': ['insulation']}, 'landlord_dilemma': {'start': 2019, 'end': 2051, 'policy': 'regulation', 'gest': 'insulation'}, 'multi_family': {'start': 2019, 'end': 2051, 'policy': 'regulation', 'gest': 'insulation'}, 'credit_constraint': {'start': 2019, 'end': 2051, 'policy': 'credit_constraint', 'gest': ['heater', 'insulation']}, 'present_bias': {}, 'status_quo_bias': {'start': 2019, 'end': 2051, 'policy': 'regulation', 'gest': 'heater', 'value': 0.2}}\n",
      "dict_keys(['S0', 'S1', 'S2', 'S3', 'S4', 'S5', 'S6', 'S7', 'S8', 'S9', 'S10', 'S11', 'S12', 'S13', 'S14', 'S15', 'S16', 'S17', 'S18', 'S19', 'S20', 'S21', 'S22', 'S23', 'S24', 'S25', 'S26', 'S27', 'S28', 'S29', 'S30', 'S31', 'S32', 'S33', 'S34', 'S35', 'S36', 'S37', 'S38', 'S39', 'S40', 'S41', 'S42', 'S43', 'S44', 'S45', 'S46', 'S47', 'S48', 'S49', 'S50', 'S51', 'S52', 'S53', 'S54', 'S55', 'S56', 'S57', 'S58', 'S59', 'S60', 'S61', 'S62', 'S63', 'S64', 'S65', 'S66', 'S67', 'S68', 'S69', 'S70', 'S71', 'S72', 'S73', 'S74', 'S75', 'S76', 'S77', 'S78', 'S79', 'S80', 'S81', 'S82', 'S83', 'S84', 'S85', 'S86', 'S87', 'S88', 'S89', 'S90', 'S91', 'S92', 'S93', 'S94', 'S95', 'S96', 'S97', 'S98', 'S99', 'S100', 'S101', 'S102', 'S103', 'S104', 'S105', 'S106', 'S107', 'S108', 'S109', 'S110', 'S111', 'S112', 'S113', 'S114', 'S115', 'S116', 'S117', 'S118', 'S119', 'S120', 'S121', 'S122', 'S123', 'S124', 'S125', 'S126', 'S127'])\n"
     ]
    }
   ],
   "source": [
    "print(result_sample[list(result_sample.keys())[2]])\n",
    "print(result_sample.keys())"
   ],
   "metadata": {
    "collapsed": false,
    "ExecuteTime": {
     "end_time": "2024-04-23T12:23:43.824710Z",
     "start_time": "2024-04-23T12:23:43.821987Z"
    }
   }
  },
  {
   "cell_type": "code",
   "execution_count": 25,
   "outputs": [],
   "source": [
    "with open('policies_scenarios.json', 'w') as fp:\n",
    "    json.dump(result_sample, fp)"
   ],
   "metadata": {
    "collapsed": false,
    "ExecuteTime": {
     "end_time": "2024-04-23T12:23:43.848243Z",
     "start_time": "2024-04-23T12:23:43.831504Z"
    }
   }
  },
  {
   "cell_type": "code",
   "execution_count": 26,
   "outputs": [],
   "source": [
    "# test"
   ],
   "metadata": {
    "collapsed": false,
    "ExecuteTime": {
     "end_time": "2024-04-23T12:23:43.851569Z",
     "start_time": "2024-04-23T12:23:43.849743Z"
    }
   }
  },
  {
   "cell_type": "code",
   "execution_count": 27,
   "outputs": [],
   "source": [
    "with open('policies_scenarios.json') as file:\n",
    "    policies_test = json.load(file)"
   ],
   "metadata": {
    "collapsed": false,
    "ExecuteTime": {
     "end_time": "2024-04-23T12:23:43.857557Z",
     "start_time": "2024-04-23T12:23:43.852309Z"
    }
   }
  },
  {
   "cell_type": "code",
   "execution_count": 28,
   "outputs": [
    {
     "data": {
      "text/plain": "{'carbon_tax': {'start': 2017,\n  'end': 2019,\n  'tax': 'project/input/policies/current/carbon_tax.csv',\n  'emission': 'project/input/policies/current/carbon_tax_emission.csv',\n  'recycling': None,\n  'policy': 'carbon_tax'},\n 'cite': {'start': 2018,\n  'end': 2019,\n  'heater': 'project/input/policies/current/cite_heater_sf.csv',\n  'insulation': 'project/input/policies/current/cite_insulation_sf.csv',\n  'cap': 4800,\n  'policy': 'subsidy_ad_valorem'},\n 'cee': {'start': 2017,\n  'end': 2019,\n  'cumac_heater': 'project/input/policies/current/cumac_heater_per_year.csv',\n  'cumac_insulation': 'project/input/policies/current/cumac_insulation_per_year.csv',\n  'bonus_insulation': {'value': 'project/input/policies/current/cee_bonus_insulation.csv',\n   'start': 2020,\n   'end': 2019},\n  'bonus_heater': {'value': 'project/input/policies/current/cee_bonus_heater.csv',\n   'start': 2020,\n   'end': 2019},\n  'coefficient_obligation': 'project/input/policies/current/cee_coefficient_obligation.csv',\n  'policy': 'subsidy_targeted',\n  'value': 'project/input/policies/current/cee_value.csv',\n  'growth': None},\n 'mpr_serenite': {'start': 2018,\n  'end': 2019,\n  'insulation': 'project/input/policies/current/mpr_serenite.csv',\n  'cap': 'project/input/policies/current/mpr_serenite_cap.csv',\n  'growth_insulation': None,\n  'non_cumulative': ['cee', 'cite', 'mpr', 'mpr_efficacite'],\n  'target': 'deep_renovation',\n  'policy': 'subsidy_ad_valorem'},\n 'mpr': {'start': 2021,\n  'end': 2021,\n  'heater': 'project/input/policies/current/mpr_heater.csv',\n  'growth_heater': None,\n  'insulation': 'project/input/policies/current/mpr_insulation.csv',\n  'growth_insulation': None,\n  'bonus': 'project/input/policies/current/mpr_bonus.csv',\n  'policy': 'subsidy_targeted'},\n 'mpr_multifamily': {'start': 2021,\n  'end': 2021,\n  'insulation': 'project/input/policies/current/mpr_multifamily.csv',\n  'cap': 'project/input/policies/current/mpr_multifamily_cap.csv',\n  'non_cumulative': ['cite', 'mpr', 'mpr_serenite'],\n  'target': 'energy_condition_35',\n  'policy': 'subsidy_ad_valorem'},\n 'cap': {'start': 2018,\n  'end': 2019,\n  'insulation': 'project/input/policies/current/subsidies_cap.csv',\n  'heater': 'project/input/policies/current/subsidies_cap.csv',\n  'target_insulation': ['mpr_serenite',\n   'mpr_multifamily',\n   'mpr',\n   'cite',\n   'cee'],\n  'target_heater': ['cee', 'mpr', 'cite']},\n 'reduced_vat': {'start': 2018,\n  'end': 2019,\n  'value': 0.055,\n  'policy': 'reduced_vat'},\n 'restriction_oil': {'start': 2018,\n  'end': 2051,\n  'value': 'Oil fuel',\n  'policy': 'restriction_energy'},\n 'ghg_externality': {'start': 2019,\n  'end': 2051,\n  'tax': 'project/input/policies/carbon_value.csv',\n  'emission': 'project/input/policies/current/carbon_tax_emission.csv',\n  'recycling': None,\n  'policy': 'carbon_tax'},\n 'health_cost': {'start': 2019,\n  'end': 2051,\n  'policy': 'regulation',\n  'gest': ['insulation']},\n 'landlord_dilemma': {'start': 2019,\n  'end': 2051,\n  'policy': 'regulation',\n  'gest': 'insulation'},\n 'multi_family': {'start': 2019,\n  'end': 2051,\n  'policy': 'regulation',\n  'gest': 'insulation'},\n 'credit_constraint': {'start': 2019,\n  'end': 2051,\n  'policy': 'credit_constraint',\n  'gest': ['heater', 'insulation']},\n 'present_bias': {'start': 2019,\n  'end': 2051,\n  'value': 0.032,\n  'policy': 'regulation',\n  'gest': ['heater', 'insulation']},\n 'status_quo_bias': {'start': 2019,\n  'end': 2051,\n  'policy': 'regulation',\n  'gest': 'heater',\n  'value': 0.2}}"
     },
     "execution_count": 28,
     "metadata": {},
     "output_type": "execute_result"
    }
   ],
   "source": [
    "policies_test[list(policies_test.keys())[0]]"
   ],
   "metadata": {
    "collapsed": false,
    "ExecuteTime": {
     "end_time": "2024-04-23T12:23:43.864298Z",
     "start_time": "2024-04-23T12:23:43.859195Z"
    }
   }
  },
  {
   "cell_type": "code",
   "outputs": [],
   "source": [],
   "metadata": {
    "collapsed": false,
    "ExecuteTime": {
     "end_time": "2024-04-23T12:23:43.866809Z",
     "start_time": "2024-04-23T12:23:43.865238Z"
    }
   },
   "execution_count": 28
  }
 ],
 "metadata": {
  "kernelspec": {
   "display_name": "Python 3",
   "language": "python",
   "name": "python3"
  },
  "language_info": {
   "codemirror_mode": {
    "name": "ipython",
    "version": 2
   },
   "file_extension": ".py",
   "mimetype": "text/x-python",
   "name": "python",
   "nbconvert_exporter": "python",
   "pygments_lexer": "ipython2",
   "version": "2.7.6"
  }
 },
 "nbformat": 4,
 "nbformat_minor": 0
}
