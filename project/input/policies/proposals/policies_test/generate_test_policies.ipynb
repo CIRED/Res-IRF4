{
 "cells": [
  {
   "cell_type": "code",
   "execution_count": null,
   "metadata": {
    "collapsed": true,
    "pycharm": {
     "is_executing": true
    }
   },
   "outputs": [],
   "source": [
    "from itertools import product\n",
    "from json import dump\n",
    "from pandas import DataFrame"
   ]
  },
  {
   "cell_type": "code",
   "execution_count": null,
   "outputs": [],
   "source": [
    "subsidy = {\n",
    "    \"ad_valorem\": {\n",
    "          \"start\": 2019,\n",
    "          \"end\": 2020,\n",
    "          \"value\": None,\n",
    "          \"policy\": \"subsidy_ad_valorem\",\n",
    "          \"gest\": \"insulation\",\n",
    "          \"index\": None,\n",
    "          \"target\": None\n",
    "        }\n",
    "}"
   ],
   "metadata": {
    "collapsed": false,
    "pycharm": {
     "is_executing": true
    }
   }
  },
  {
   "cell_type": "code",
   "execution_count": null,
   "outputs": [],
   "source": [
    "targets = [None, 'deep_renovation', 'deep_renovation_fg', 'certificate_jump_min', 'fossil', 'out_worst', 'reach_best']\n",
    "indexes = [None, 'project/input/policies/target/low_income_owner.csv']\n",
    "values = [0.3, 0.5, 0.7]\n",
    "# Make all combination of subsidies (targets, indexes, values)\n",
    "combinations = list(product(targets, indexes, values))"
   ],
   "metadata": {
    "collapsed": false,
    "pycharm": {
     "is_executing": true
    }
   }
  },
  {
   "cell_type": "code",
   "execution_count": null,
   "outputs": [],
   "source": [
    "subsidies, description = {}, {}\n",
    "for k, combination in enumerate(combinations):\n",
    "    temp = subsidy['ad_valorem'].copy()\n",
    "    temp['target'] = combination[0]\n",
    "    temp['index'] = combination[1]\n",
    "    temp['value'] = combination[2]\n",
    "    subsidies.update({'S{}'.format(k): temp})\n",
    "    description.update({'S{}'.format(k): list(combination)})"
   ],
   "metadata": {
    "collapsed": false,
    "pycharm": {
     "is_executing": true
    }
   }
  },
  {
   "cell_type": "code",
   "execution_count": null,
   "outputs": [],
   "source": [
    "with open('policies_test.json', 'w') as fp:\n",
    "    dump(subsidies, fp)\n",
    "\n",
    "temp = DataFrame(description).T.set_axis(['target', 'index', 'value'], axis=1)\n",
    "temp.to_csv('policies_description.csv')\n"
   ],
   "metadata": {
    "collapsed": false,
    "pycharm": {
     "is_executing": true
    }
   }
  }
 ],
 "metadata": {
  "kernelspec": {
   "display_name": "Python 3",
   "language": "python",
   "name": "python3"
  },
  "language_info": {
   "codemirror_mode": {
    "name": "ipython",
    "version": 2
   },
   "file_extension": ".py",
   "mimetype": "text/x-python",
   "name": "python",
   "nbconvert_exporter": "python",
   "pygments_lexer": "ipython2",
   "version": "2.7.6"
  }
 },
 "nbformat": 4,
 "nbformat_minor": 0
}
