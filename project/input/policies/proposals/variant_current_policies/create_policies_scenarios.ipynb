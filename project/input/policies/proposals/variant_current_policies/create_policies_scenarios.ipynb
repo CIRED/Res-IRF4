{
 "cells": [
  {
   "cell_type": "code",
   "execution_count": 67,
   "metadata": {
    "collapsed": true
   },
   "outputs": [],
   "source": [
    "import os\n",
    "import json\n",
    "import itertools\n",
    "from copy import deepcopy\n",
    "from random import sample\n"
   ]
  },
  {
   "cell_type": "code",
   "execution_count": 68,
   "outputs": [
    {
     "name": "stdout",
     "output_type": "stream",
     "text": [
      "/Users/lucas/PycharmProjects/Res-IRF4/project/input/policies/proposals/variant_current_policies\n"
     ]
    }
   ],
   "source": [
    "print(os.getcwd())"
   ],
   "metadata": {
    "collapsed": false
   }
  },
  {
   "cell_type": "code",
   "execution_count": 69,
   "outputs": [],
   "source": [
    "variant = {\n",
    "    'carbon_tax_variant': 'variant_carbon_tax.json',\n",
    "    'cee_variant': 'variant_white_certificate.json',\n",
    "    'mpr_serenite_variant': 'variant_mpr_serenite.json',\n",
    "    'mpr_variant': 'variant_mpr.json',\n",
    "    'obligation_variant': 'variant_obligation.json',\n",
    "    'zil_variant': 'variant_policies_zil.json'\n",
    "}"
   ],
   "metadata": {
    "collapsed": false
   }
  },
  {
   "cell_type": "code",
   "execution_count": 82,
   "outputs": [],
   "source": [
    "temp_policies, temp_name = {}, {}\n",
    "for key, f in variant.items():\n",
    "    with open(f) as file:\n",
    "        p = json.load(file)\n",
    "    p.update({'no_{}'.format(key): {}})\n",
    "    temp_policies.update({key: list(p.values())})\n",
    "    temp_name.update({key: list(p.keys())})"
   ],
   "metadata": {
    "collapsed": false
   }
  },
  {
   "cell_type": "code",
   "execution_count": 71,
   "outputs": [],
   "source": [
    "keys, values = zip(*temp_name.items())\n",
    "permutations_names = [dict(zip(keys, v)) for v in itertools.product(*values)]\n",
    "permutations_names = {'S{}'.format(n): v for n, v in enumerate(permutations_names)}\n",
    "\n",
    "keys, values = zip(*temp_policies.items())\n",
    "permutations_policies = [dict(zip(keys, v)) for v in itertools.product(*values)]\n",
    "permutations_policies = {'S{}'.format(n): v for n, v in enumerate(permutations_policies)}"
   ],
   "metadata": {
    "collapsed": false
   }
  },
  {
   "cell_type": "code",
   "execution_count": 72,
   "outputs": [],
   "source": [
    "f = '../../current/policies_calibration.json'\n",
    "with open(f) as file:\n",
    "    policies_ref = json.load(file)"
   ],
   "metadata": {
    "collapsed": false
   }
  },
  {
   "cell_type": "code",
   "execution_count": 73,
   "outputs": [],
   "source": [
    "result = {}\n",
    "for key, policies in permutations_policies.items():\n",
    "    temp = deepcopy(policies_ref['policies'])\n",
    "    temp.update(policies)\n",
    "    result.update({key: deepcopy(temp)})"
   ],
   "metadata": {
    "collapsed": false
   }
  },
  {
   "cell_type": "code",
   "execution_count": 74,
   "outputs": [],
   "source": [
    "result = sample(list(result.items()), 5)\n",
    "result = {k: i for k, i in result}"
   ],
   "metadata": {
    "collapsed": false
   }
  },
  {
   "cell_type": "code",
   "execution_count": 75,
   "outputs": [],
   "source": [
    "with open('montecarlo/policies_scenarios.json', 'w') as fp:\n",
    "    json.dump(result, fp)"
   ],
   "metadata": {
    "collapsed": false
   }
  },
  {
   "cell_type": "code",
   "execution_count": 76,
   "outputs": [],
   "source": [
    "# test"
   ],
   "metadata": {
    "collapsed": false
   }
  },
  {
   "cell_type": "code",
   "execution_count": 77,
   "outputs": [],
   "source": [
    "with open('montecarlo/policies_scenarios.json') as file:\n",
    "    policies_test = json.load(file)"
   ],
   "metadata": {
    "collapsed": false
   }
  },
  {
   "cell_type": "code",
   "execution_count": 78,
   "outputs": [
    {
     "data": {
      "text/plain": "{'carbon_tax': {'start': 2017,\n  'end': 2019,\n  'tax': 'project/input/policies/current/carbon_tax.csv',\n  'emission': 'project/input/policies/current/carbon_tax_emission.csv',\n  'recycling': None},\n 'cite': {'start': 2018,\n  'end': 2019,\n  'heater': 'project/input/policies/current/cite_heater_sf.csv',\n  'insulation': 'project/input/policies/current/cite_insulation_sf.csv',\n  'cap': 4800,\n  'policy': 'subsidy_ad_valorem'},\n 'cee': {'start': 2017,\n  'end': 2019,\n  'cumac_heater': 'project/input/policies/current/cumac_heater.csv',\n  'cumac_insulation': 'project/input/policies/current/cumac_insulation.csv',\n  'bonus_insulation': {'value': 'project/input/policies/current/cee_bonus_insulation.csv',\n   'start': 2020,\n   'end': 2019},\n  'bonus_heater': {'value': 'project/input/policies/current/cee_bonus_heater.csv',\n   'start': 2020,\n   'end': 2019},\n  'coefficient_obligation': 'project/input/policies/current/cee_coefficient_obligation.csv',\n  'policy': 'subsidy_targeted',\n  'value': 'project/input/policies/current/cee_value.csv',\n  'growth': None},\n 'mpr_serenite': {'start': 2018,\n  'end': 2019,\n  'insulation': 'project/input/policies/current/mpr_serenite.csv',\n  'cap': 'project/input/policies/current/mpr_serenite_cap.csv',\n  'growth_insulation': None,\n  'non_cumulative': ['cee', 'mpr'],\n  'target': 'mpr_serenite_nb',\n  'policy': 'subsidy_ad_valorem'},\n 'mpr': {'start': 2021,\n  'end': 2051,\n  'heater': 'project/input/policies/current/mpr_heater.csv',\n  'growth_heater': None,\n  'insulation': 'project/input/policies/current/mpr_insulation.csv',\n  'growth_insulation': None,\n  'bonus': 'project/input/policies/current/mpr_bonus.csv'},\n 'mpr_multifamily': {'start': 2021,\n  'end': 2051,\n  'insulation': 'project/input/policies/current/mpr_multifamily.csv',\n  'cap': 'project/input/policies/current/mpr_multifamily_cap.csv',\n  'non_cumulative': ['cite', 'mpr'],\n  'target': 'mpr_serenite_nb',\n  'policy': 'subsidy_ad_valorem'},\n 'cap': {'start': 2018,\n  'end': 2019,\n  'insulation': 'project/input/policies/current/subsidies_cap.csv',\n  'target': ['mpr_serenite', 'mpr_multifamily', 'mpr', 'cite', 'cee']},\n 'reduced_vta': {'start': 2018, 'end': 2019, 'value': 0.055},\n 'restriction_oil': {'start': 2018,\n  'end': 2051,\n  'value': 'Oil fuel',\n  'policy': 'restriction_energy'},\n 'carbon_tax_variant': {'start': 2019,\n  'end': 2051,\n  'tax': 'project/input/policies/carbon_value.csv',\n  'emission': 'project/input/policies/current/carbon_tax_emission.csv',\n  'recycling': None},\n 'cee_variant': {'start': 2019,\n  'end': 2051,\n  'cumac_heater': 'project/input/policies/current/cumac_heater.csv',\n  'cumac_insulation': 'project/input/policies/current/cumac_insulation.csv',\n  'bonus_insulation': {'value': 'project/input/policies/current/cee_bonus_insulation.csv',\n   'start': 2019,\n   'end': 2022},\n  'bonus_heater': {'value': 'project/input/policies/current/cee_bonus_heater.csv',\n   'start': 2019,\n   'end': 2051},\n  'coefficient_obligation': 'project/input/policies/current/cee_coefficient_obligation.csv',\n  'policy': 'subsidy_targeted',\n  'value': 'project/input/policies/current/cee_value.csv',\n  'growth': None},\n 'mpr_serenite_variant': {},\n 'mpr_variant': {'start': 2021,\n  'end': 2051,\n  'heater': 'project/input/policies/current/mpr_heater.csv',\n  'growth_heater': 'project/input/policies/proposals/variant_current_policies/growth_mpr_heater.csv',\n  'insulation': 'project/input/policies/current/mpr_insulation.csv',\n  'growth_insulation': 'project/input/policies/proposals/variant_current_policies/growth_mpr_insulation.csv',\n  'bonus': 'project/input/policies/current/mpr_bonus.csv'},\n 'obligation_variant': {'start': 2022,\n  'end': 2051,\n  'value': 'project/input/policies/current/agenda_obligation_pb.csv',\n  'frequency': {'value': [0, 0.1, 0],\n   'index': ['Owner-occupied', 'Privately rented', 'Social-housing'],\n   'name': 'Occupancy status'},\n  'intensive': 'market_share',\n  'minimum_performance': 'D',\n  'policy': 'obligation'},\n 'zil_variant': {'start': 2019,\n  'end': 2051,\n  'policy': 'zero_interest_loan',\n  'cost_max': 10000,\n  'gest': ['insulation', 'heater'],\n  'value': 0.0,\n  'duration': 10}}"
     },
     "execution_count": 78,
     "metadata": {},
     "output_type": "execute_result"
    }
   ],
   "source": [
    "policies_test[list(policies_test.keys())[0]]"
   ],
   "metadata": {
    "collapsed": false
   }
  },
  {
   "cell_type": "code",
   "execution_count": 78,
   "outputs": [],
   "source": [],
   "metadata": {
    "collapsed": false
   }
  }
 ],
 "metadata": {
  "kernelspec": {
   "display_name": "Python 3",
   "language": "python",
   "name": "python3"
  },
  "language_info": {
   "codemirror_mode": {
    "name": "ipython",
    "version": 2
   },
   "file_extension": ".py",
   "mimetype": "text/x-python",
   "name": "python",
   "nbconvert_exporter": "python",
   "pygments_lexer": "ipython2",
   "version": "2.7.6"
  }
 },
 "nbformat": 4,
 "nbformat_minor": 0
}
