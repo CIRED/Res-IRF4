{
 "cells": [
  {
   "cell_type": "markdown",
   "source": [
    "## Elasticity energy prices\n",
    "\n",
    "Les prix suivent un processus auto regressif\n",
    "$$P_t= λ_1 . P{t-1} + λ_2 . P_{t-2} + α + ϵ_t$$\n",
    "\n",
    "On calibre en fixant :\n",
    "    - P{t-1}= prix de 2019\n",
    "    - P_{t-2}= prix de 2018\n",
    "    - Plusieurs combinaisons sont fixés pour λ_1 et λ_2 en croisant λ_1∈[0.6,0.65,0.7,0.75],\n",
    "     et λ_1+λ_2∈[0.85,0.9,0.95,0.97] soit 16 combinaisons.\n",
    "    - α est fixé de sorte que $P_{2020} - λ_1 . P{2019} + λ_2 . P_{2018} =α$\n",
    "    - Enfin ϵ_t∼N(0,P_2012⁄10). Pour chaque combinaisons 10 tirages sont faites soit 160 simulations au total.\n",
    "\n",
    "Le premier prix que l’on cherchera à simuler sera le prix de 2013.\n",
    "On fait cette opération pour l’électricité, le gaz, le fioul et le bois.\n"
   ],
   "metadata": {
    "collapsed": false,
    "pycharm": {
     "name": "#%% md\n"
    }
   }
  },
  {
   "cell_type": "code",
   "execution_count": 1,
   "outputs": [],
   "source": [
    "from pandas import Series, concat\n",
    "from project.model import get_inputs\n",
    "from project.read_input import generate_price_scenarios"
   ],
   "metadata": {
    "collapsed": false,
    "pycharm": {
     "name": "#%%\n"
    }
   }
  },
  {
   "cell_type": "code",
   "execution_count": 2,
   "outputs": [
    {
     "name": "stderr",
     "output_type": "stream",
     "text": [
      "2022-11-12 13:31:34,827 - 73239 - log_ - INFO - Creating AgentBuildings object\n"
     ]
    }
   ],
   "source": [
    "o = get_inputs(variables=['energy_prices'])"
   ],
   "metadata": {
    "collapsed": false,
    "pycharm": {
     "name": "#%%\n"
    }
   }
  },
  {
   "cell_type": "code",
   "execution_count": 3,
   "outputs": [
    {
     "data": {
      "text/plain": "      Electricity  Natural gas  Oil fuel  Wood fuel\n2018     0.164220     0.077656  0.089952   0.061490\n2019     0.166581     0.088922  0.104549   0.061490\n2020     0.166628     0.090678  0.106887   0.061490\n2021     0.168445     0.092221  0.109971   0.062250\n2022     0.170290     0.093808  0.113126   0.063011",
      "text/html": "<div>\n<style scoped>\n    .dataframe tbody tr th:only-of-type {\n        vertical-align: middle;\n    }\n\n    .dataframe tbody tr th {\n        vertical-align: top;\n    }\n\n    .dataframe thead th {\n        text-align: right;\n    }\n</style>\n<table border=\"1\" class=\"dataframe\">\n  <thead>\n    <tr style=\"text-align: right;\">\n      <th></th>\n      <th>Electricity</th>\n      <th>Natural gas</th>\n      <th>Oil fuel</th>\n      <th>Wood fuel</th>\n    </tr>\n  </thead>\n  <tbody>\n    <tr>\n      <th>2018</th>\n      <td>0.164220</td>\n      <td>0.077656</td>\n      <td>0.089952</td>\n      <td>0.061490</td>\n    </tr>\n    <tr>\n      <th>2019</th>\n      <td>0.166581</td>\n      <td>0.088922</td>\n      <td>0.104549</td>\n      <td>0.061490</td>\n    </tr>\n    <tr>\n      <th>2020</th>\n      <td>0.166628</td>\n      <td>0.090678</td>\n      <td>0.106887</td>\n      <td>0.061490</td>\n    </tr>\n    <tr>\n      <th>2021</th>\n      <td>0.168445</td>\n      <td>0.092221</td>\n      <td>0.109971</td>\n      <td>0.062250</td>\n    </tr>\n    <tr>\n      <th>2022</th>\n      <td>0.170290</td>\n      <td>0.093808</td>\n      <td>0.113126</td>\n      <td>0.063011</td>\n    </tr>\n  </tbody>\n</table>\n</div>"
     },
     "execution_count": 3,
     "metadata": {},
     "output_type": "execute_result"
    }
   ],
   "source": [
    "energy_prices = o['energy_prices']\n",
    "energy_prices.head()"
   ],
   "metadata": {
    "collapsed": false,
    "pycharm": {
     "name": "#%%\n"
    }
   }
  },
  {
   "cell_type": "code",
   "execution_count": 8,
   "outputs": [],
   "source": [
    "result = generate_price_scenarios(energy_prices, path='prices_scenario', nb_draws=10)"
   ],
   "metadata": {
    "collapsed": false,
    "pycharm": {
     "name": "#%%\n"
    }
   }
  },
  {
   "cell_type": "code",
   "execution_count": 9,
   "outputs": [
    {
     "data": {
      "text/plain": "{'0.7_0.3_1': 'energy_prices_0.7_0.3_1.csv',\n '0.7_0.3_3': 'energy_prices_0.7_0.3_3.csv',\n '0.7_0.3_5': 'energy_prices_0.7_0.3_5.csv',\n '0.7_0.3_8': 'energy_prices_0.7_0.3_8.csv'}"
     },
     "execution_count": 9,
     "metadata": {},
     "output_type": "execute_result"
    }
   ],
   "source": [
    "result"
   ],
   "metadata": {
    "collapsed": false,
    "pycharm": {
     "name": "#%%\n"
    }
   }
  },
  {
   "cell_type": "code",
   "execution_count": 5,
   "outputs": [],
   "source": [],
   "metadata": {
    "collapsed": false,
    "pycharm": {
     "name": "#%%\n"
    }
   }
  }
 ],
 "metadata": {
  "kernelspec": {
   "display_name": "Python 3",
   "language": "python",
   "name": "python3"
  },
  "language_info": {
   "codemirror_mode": {
    "name": "ipython",
    "version": 2
   },
   "file_extension": ".py",
   "mimetype": "text/x-python",
   "name": "python",
   "nbconvert_exporter": "python",
   "pygments_lexer": "ipython2",
   "version": "2.7.6"
  }
 },
 "nbformat": 4,
 "nbformat_minor": 0
}