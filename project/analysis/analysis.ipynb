{
 "cells": [
  {
   "cell_type": "code",
   "execution_count": 15,
   "metadata": {
    "collapsed": true
   },
   "outputs": [],
   "source": [
    "import pandas as pd\n",
    "import os\n",
    "import pickle"
   ]
  },
  {
   "cell_type": "code",
   "execution_count": 82,
   "outputs": [
    {
     "name": "stdout",
     "output_type": "stream",
     "text": [
      "Existing  Occupancy status  Income owner  Income tenant  Housing type   Heating system                  Wall  Floor  Roof  Windows\n",
      "True      Owner-occupied    D1            D1             Multi-family   Electricity-Heat pump           0.2   0.2    0.1   1.5        1154.718085\n",
      "                                                                        Electricity-Performance boiler  0.2   0.3    0.1   1.5        1471.124363\n",
      "                                                                        Electricity-Heat pump           0.2   0.3    0.1   2.5         176.557856\n",
      "                                                                        Electricity-Performance boiler  0.2   0.3    0.1   2.5        2353.798980\n",
      "                                                                                                        0.4   0.3    0.1   2.5        2358.987305\n",
      "                                                                                                                                         ...     \n",
      "          Social-housing    D10           D9             Single-family  Wood fuel-Standard boiler       2.0   2.0    0.2   2.5          19.340549\n",
      "                                                                                                                     0.3   2.5          13.012636\n",
      "                                                                                                                     0.5   2.5          11.971334\n",
      "                                                                                                                     2.5   2.5           8.654844\n",
      "                                                                                                                           4.0           5.976490\n",
      "Name: Stock buildings, Length: 17880, dtype: float64\n"
     ]
    }
   ],
   "source": [
    "stock = pd.read_csv(os.path.join('..', 'input', 'building_stock_sdes2018.csv'), index_col=[0, 1, 2, 3, 4, 5, 6, 7, 8, 9]).squeeze()\n",
    "\n",
    "\n",
    "stock = pd.concat([stock], keys=[True], names=['Existing'])\n",
    "\n",
    "idx_names = ['Existing', 'Occupancy status', 'Income owner', 'Income tenant', 'Housing type',\n",
    "             'Heating system', 'Wall', 'Floor', 'Roof', 'Windows']\n",
    "stock = stock.reset_index(level=['Heating energy', 'Heating system'])\n",
    "stock['Heating system'] = stock['Heating energy'] + '-' + stock['Heating system']\n",
    "stock = stock.set_index(['Heating system'], append=True).loc[:, 'Stock buildings']\n",
    "stock = stock.reorder_levels(idx_names)\n",
    "\n",
    "print(stock)"
   ],
   "metadata": {
    "collapsed": false,
    "pycharm": {
     "name": "#%%\n"
    }
   }
  },
  {
   "cell_type": "code",
   "execution_count": 17,
   "outputs": [],
   "source": [
    "with open('../input/parameters_thermal_module.pkl', 'rb') as f:\n",
    "    param = pickle.load(f)"
   ],
   "metadata": {
    "collapsed": false,
    "pycharm": {
     "name": "#%%\n"
    }
   }
  },
  {
   "cell_type": "code",
   "execution_count": 19,
   "outputs": [
    {
     "data": {
      "text/plain": "                   Wall     Floor      Roof   Windows\nHousing type                                         \nSingle-family  0.975002  0.748213  0.762826  0.162041\nMulti-family   0.905083  0.708620  0.748979  0.151731",
      "text/html": "<div>\n<style scoped>\n    .dataframe tbody tr th:only-of-type {\n        vertical-align: middle;\n    }\n\n    .dataframe tbody tr th {\n        vertical-align: top;\n    }\n\n    .dataframe thead th {\n        text-align: right;\n    }\n</style>\n<table border=\"1\" class=\"dataframe\">\n  <thead>\n    <tr style=\"text-align: right;\">\n      <th></th>\n      <th>Wall</th>\n      <th>Floor</th>\n      <th>Roof</th>\n      <th>Windows</th>\n    </tr>\n    <tr>\n      <th>Housing type</th>\n      <th></th>\n      <th></th>\n      <th></th>\n      <th></th>\n    </tr>\n  </thead>\n  <tbody>\n    <tr>\n      <th>Single-family</th>\n      <td>0.975002</td>\n      <td>0.748213</td>\n      <td>0.762826</td>\n      <td>0.162041</td>\n    </tr>\n    <tr>\n      <th>Multi-family</th>\n      <td>0.905083</td>\n      <td>0.708620</td>\n      <td>0.748979</td>\n      <td>0.151731</td>\n    </tr>\n  </tbody>\n</table>\n</div>"
     },
     "execution_count": 19,
     "metadata": {},
     "output_type": "execute_result"
    }
   ],
   "source": [
    "param['ratio_surface']"
   ],
   "metadata": {
    "collapsed": false,
    "pycharm": {
     "name": "#%%\n"
    }
   }
  },
  {
   "cell_type": "code",
   "execution_count": 24,
   "outputs": [
    {
     "data": {
      "text/plain": "Housing type   Occupancy status  Income tenant  Heating energy  Income owner  Wall  Floor  Roof  Windows  Heating system    \nMulti-family   Owner-occupied    D1             Electricity     D1            0.2   0.2    0.1   1.5      Heat pump             0.2\n                                                                                    0.3    0.1   1.5      Performance boiler    0.2\n                                                                                                 2.5      Heat pump             0.2\n                                                                                                          Performance boiler    0.2\n                                                                              0.4   0.3    0.1   2.5      Performance boiler    0.4\n                                                                                                                               ... \nSingle-family  Social-housing    D9             Wood fuel       D10           2.0   2.0    0.2   2.5      Standard boiler       2.0\n                                                                                           0.3   2.5      Standard boiler       2.0\n                                                                                           0.5   2.5      Standard boiler       2.0\n                                                                                           2.5   2.5      Standard boiler       2.0\n                                                                                                 4.0      Standard boiler       2.0\nName: Wall, Length: 17880, dtype: float64"
     },
     "execution_count": 24,
     "metadata": {},
     "output_type": "execute_result"
    }
   ],
   "source": [
    "pd.Series(stock.index.get_level_values('Wall'), index=stock.index)"
   ],
   "metadata": {
    "collapsed": false,
    "pycharm": {
     "name": "#%%\n"
    }
   }
  },
  {
   "cell_type": "code",
   "execution_count": 38,
   "outputs": [],
   "source": [
    "import sys\n",
    "sys.path.append('..')\n",
    "from building import ThermalBuildings\n"
   ],
   "metadata": {
    "collapsed": false,
    "pycharm": {
     "name": "#%%\n"
    }
   }
  },
  {
   "cell_type": "code",
   "execution_count": 49,
   "outputs": [],
   "source": [
    "surface = pd.read_csv(os.path.join('../input/surface.csv'), index_col=[0, 1, 2]).squeeze()\n",
    "surface = pd.DataFrame({2018: surface, 2019: surface})\n",
    "efficiency = pd.read_csv(os.path.join('../input/efficiency.csv'), index_col=[0]).squeeze()\n",
    "income = pd.Series([13628, 20391, 24194, 27426, 31139, 35178, 39888, 45400, 54309, 92735],\n",
    "                                    index=pd.Index(['D1', 'D2', 'D3', 'D4', 'D5', 'D6', 'D7', 'D8', 'D9', 'D10']))\n",
    "\n",
    "consumption_ini = pd.Series([33, 117, 36, 79],\n",
    "                                             index=pd.Index(['Electricity', 'Natural gas', 'Oil fuel', 'Wood fuel'],\n",
    "                                                            name='Heating energy'))\n",
    "\n",
    "prices = pd.read_csv(os.path.join('../input/energy_prices.csv'), index_col=[0]).squeeze()"
   ],
   "metadata": {
    "collapsed": false,
    "pycharm": {
     "name": "#%%\n"
    }
   }
  },
  {
   "cell_type": "code",
   "execution_count": 62,
   "outputs": [],
   "source": [
    "var = 300000"
   ],
   "metadata": {
    "collapsed": false,
    "pycharm": {
     "name": "#%%\n"
    }
   }
  },
  {
   "cell_type": "code",
   "execution_count": 61,
   "outputs": [
    {
     "data": {
      "text/plain": "Existing  Occupancy status  Income owner  Income tenant  Housing type   Heating system                  Wall  Floor  Roof  Windows\nTrue      Owner-occupied    D1            D1             Multi-family   Electricity-Heat pump           0.2   0.2    0.1   1.5        1154.718085\n                                                                        Electricity-Performance boiler  0.2   0.3    0.1   1.5        1471.124363\n                                                                        Electricity-Heat pump           0.2   0.3    0.1   2.5         176.557856\n                                                                        Electricity-Performance boiler  0.2   0.3    0.1   2.5        2353.798980\n                                                                                                        0.4   0.3    0.1   2.5        2358.987305\n                                                                                                                                         ...     \n          Social-housing    D10           D9             Single-family  Wood fuel-Standard boiler       2.0   2.0    0.2   2.5          19.340549\n                                                                                                                     0.3   2.5          13.012636\n                                                                                                                     0.5   2.5          11.971334\n                                                                                                                     2.5   2.5           8.654844\n                                                                                                                           4.0           5.976490\nName: Stock buildings, Length: 17880, dtype: float64"
     },
     "execution_count": 61,
     "metadata": {},
     "output_type": "execute_result"
    }
   ],
   "source": [
    "stock.groupby()"
   ],
   "metadata": {
    "collapsed": false,
    "pycharm": {
     "name": "#%%\n"
    }
   }
  },
  {
   "cell_type": "code",
   "execution_count": 50,
   "outputs": [
    {
     "data": {
      "text/plain": "      Electricity  Natural gas  Oil fuel  Wood fuel\n2018      0.17140     0.082000  0.093100    0.06150\n2019      0.17790     0.082614  0.094929    0.06150\n2020      0.17970     0.083229  0.096757    0.06220\n2021      0.18152     0.083843  0.098586    0.06298\n2022      0.18334     0.084457  0.100414    0.06376\n2023      0.18516     0.085071  0.102243    0.06454\n2024      0.18698     0.085686  0.104071    0.06532\n2025      0.18880     0.086300  0.105900    0.06610\n2026      0.19078     0.086720  0.108400    0.06690\n2027      0.19276     0.087140  0.110900    0.06770\n2028      0.19474     0.087560  0.113400    0.06850\n2029      0.19672     0.087980  0.115900    0.06930\n2030      0.19870     0.088400  0.118400    0.07010\n2031      0.20084     0.089760  0.119680    0.07096\n2032      0.20298     0.091120  0.120960    0.07182\n2033      0.20512     0.092480  0.122240    0.07268\n2034      0.20726     0.093840  0.123520    0.07354\n2035      0.20940     0.095200  0.124800    0.07440\n2036      0.21174     0.097280  0.126080    0.07532\n2037      0.21408     0.099360  0.127360    0.07624\n2038      0.21642     0.101440  0.128640    0.07716\n2039      0.21876     0.103520  0.129920    0.07808\n2040      0.22110     0.105600  0.131200    0.07900\n2041      0.22364     0.105240  0.132520    0.07996\n2042      0.22618     0.104880  0.133840    0.08092\n2043      0.22872     0.104520  0.135160    0.08188\n2044      0.23126     0.104160  0.136480    0.08284\n2045      0.23380     0.103800  0.137800    0.08380\n2046      0.23656     0.104280  0.140520    0.08484\n2047      0.23932     0.104760  0.143240    0.08588\n2048      0.24208     0.105240  0.145960    0.08692\n2049      0.24484     0.105720  0.148680    0.08796\n2050      0.24760     0.106200  0.151400    0.08900",
      "text/html": "<div>\n<style scoped>\n    .dataframe tbody tr th:only-of-type {\n        vertical-align: middle;\n    }\n\n    .dataframe tbody tr th {\n        vertical-align: top;\n    }\n\n    .dataframe thead th {\n        text-align: right;\n    }\n</style>\n<table border=\"1\" class=\"dataframe\">\n  <thead>\n    <tr style=\"text-align: right;\">\n      <th></th>\n      <th>Electricity</th>\n      <th>Natural gas</th>\n      <th>Oil fuel</th>\n      <th>Wood fuel</th>\n    </tr>\n  </thead>\n  <tbody>\n    <tr>\n      <th>2018</th>\n      <td>0.17140</td>\n      <td>0.082000</td>\n      <td>0.093100</td>\n      <td>0.06150</td>\n    </tr>\n    <tr>\n      <th>2019</th>\n      <td>0.17790</td>\n      <td>0.082614</td>\n      <td>0.094929</td>\n      <td>0.06150</td>\n    </tr>\n    <tr>\n      <th>2020</th>\n      <td>0.17970</td>\n      <td>0.083229</td>\n      <td>0.096757</td>\n      <td>0.06220</td>\n    </tr>\n    <tr>\n      <th>2021</th>\n      <td>0.18152</td>\n      <td>0.083843</td>\n      <td>0.098586</td>\n      <td>0.06298</td>\n    </tr>\n    <tr>\n      <th>2022</th>\n      <td>0.18334</td>\n      <td>0.084457</td>\n      <td>0.100414</td>\n      <td>0.06376</td>\n    </tr>\n    <tr>\n      <th>2023</th>\n      <td>0.18516</td>\n      <td>0.085071</td>\n      <td>0.102243</td>\n      <td>0.06454</td>\n    </tr>\n    <tr>\n      <th>2024</th>\n      <td>0.18698</td>\n      <td>0.085686</td>\n      <td>0.104071</td>\n      <td>0.06532</td>\n    </tr>\n    <tr>\n      <th>2025</th>\n      <td>0.18880</td>\n      <td>0.086300</td>\n      <td>0.105900</td>\n      <td>0.06610</td>\n    </tr>\n    <tr>\n      <th>2026</th>\n      <td>0.19078</td>\n      <td>0.086720</td>\n      <td>0.108400</td>\n      <td>0.06690</td>\n    </tr>\n    <tr>\n      <th>2027</th>\n      <td>0.19276</td>\n      <td>0.087140</td>\n      <td>0.110900</td>\n      <td>0.06770</td>\n    </tr>\n    <tr>\n      <th>2028</th>\n      <td>0.19474</td>\n      <td>0.087560</td>\n      <td>0.113400</td>\n      <td>0.06850</td>\n    </tr>\n    <tr>\n      <th>2029</th>\n      <td>0.19672</td>\n      <td>0.087980</td>\n      <td>0.115900</td>\n      <td>0.06930</td>\n    </tr>\n    <tr>\n      <th>2030</th>\n      <td>0.19870</td>\n      <td>0.088400</td>\n      <td>0.118400</td>\n      <td>0.07010</td>\n    </tr>\n    <tr>\n      <th>2031</th>\n      <td>0.20084</td>\n      <td>0.089760</td>\n      <td>0.119680</td>\n      <td>0.07096</td>\n    </tr>\n    <tr>\n      <th>2032</th>\n      <td>0.20298</td>\n      <td>0.091120</td>\n      <td>0.120960</td>\n      <td>0.07182</td>\n    </tr>\n    <tr>\n      <th>2033</th>\n      <td>0.20512</td>\n      <td>0.092480</td>\n      <td>0.122240</td>\n      <td>0.07268</td>\n    </tr>\n    <tr>\n      <th>2034</th>\n      <td>0.20726</td>\n      <td>0.093840</td>\n      <td>0.123520</td>\n      <td>0.07354</td>\n    </tr>\n    <tr>\n      <th>2035</th>\n      <td>0.20940</td>\n      <td>0.095200</td>\n      <td>0.124800</td>\n      <td>0.07440</td>\n    </tr>\n    <tr>\n      <th>2036</th>\n      <td>0.21174</td>\n      <td>0.097280</td>\n      <td>0.126080</td>\n      <td>0.07532</td>\n    </tr>\n    <tr>\n      <th>2037</th>\n      <td>0.21408</td>\n      <td>0.099360</td>\n      <td>0.127360</td>\n      <td>0.07624</td>\n    </tr>\n    <tr>\n      <th>2038</th>\n      <td>0.21642</td>\n      <td>0.101440</td>\n      <td>0.128640</td>\n      <td>0.07716</td>\n    </tr>\n    <tr>\n      <th>2039</th>\n      <td>0.21876</td>\n      <td>0.103520</td>\n      <td>0.129920</td>\n      <td>0.07808</td>\n    </tr>\n    <tr>\n      <th>2040</th>\n      <td>0.22110</td>\n      <td>0.105600</td>\n      <td>0.131200</td>\n      <td>0.07900</td>\n    </tr>\n    <tr>\n      <th>2041</th>\n      <td>0.22364</td>\n      <td>0.105240</td>\n      <td>0.132520</td>\n      <td>0.07996</td>\n    </tr>\n    <tr>\n      <th>2042</th>\n      <td>0.22618</td>\n      <td>0.104880</td>\n      <td>0.133840</td>\n      <td>0.08092</td>\n    </tr>\n    <tr>\n      <th>2043</th>\n      <td>0.22872</td>\n      <td>0.104520</td>\n      <td>0.135160</td>\n      <td>0.08188</td>\n    </tr>\n    <tr>\n      <th>2044</th>\n      <td>0.23126</td>\n      <td>0.104160</td>\n      <td>0.136480</td>\n      <td>0.08284</td>\n    </tr>\n    <tr>\n      <th>2045</th>\n      <td>0.23380</td>\n      <td>0.103800</td>\n      <td>0.137800</td>\n      <td>0.08380</td>\n    </tr>\n    <tr>\n      <th>2046</th>\n      <td>0.23656</td>\n      <td>0.104280</td>\n      <td>0.140520</td>\n      <td>0.08484</td>\n    </tr>\n    <tr>\n      <th>2047</th>\n      <td>0.23932</td>\n      <td>0.104760</td>\n      <td>0.143240</td>\n      <td>0.08588</td>\n    </tr>\n    <tr>\n      <th>2048</th>\n      <td>0.24208</td>\n      <td>0.105240</td>\n      <td>0.145960</td>\n      <td>0.08692</td>\n    </tr>\n    <tr>\n      <th>2049</th>\n      <td>0.24484</td>\n      <td>0.105720</td>\n      <td>0.148680</td>\n      <td>0.08796</td>\n    </tr>\n    <tr>\n      <th>2050</th>\n      <td>0.24760</td>\n      <td>0.106200</td>\n      <td>0.151400</td>\n      <td>0.08900</td>\n    </tr>\n  </tbody>\n</table>\n</div>"
     },
     "execution_count": 50,
     "metadata": {},
     "output_type": "execute_result"
    }
   ],
   "source": [
    "prices"
   ],
   "metadata": {
    "collapsed": false,
    "pycharm": {
     "name": "#%%\n"
    }
   }
  },
  {
   "cell_type": "code",
   "execution_count": 43,
   "outputs": [
    {
     "data": {
      "text/plain": "                                          2018   2019\nExisting Occupancy status Housing type               \nTrue     Owner-occupied   Single-family  109.5  109.5\n                          Multi-family    74.3   74.3\n         Privately rented Single-family   87.1   87.1\n                          Multi-family    53.5   53.5\n         Social-housing   Single-family   77.8   77.8\n                          Multi-family    63.3   63.3\nFalse    Owner-occupied   Single-family  132.0  132.0\n                          Multi-family    81.0   81.0\n         Privately rented Single-family   90.0   90.0\n                          Multi-family    60.0   60.0\n         Social-housing   Single-family   84.0   84.0\n                          Multi-family    71.0   71.0",
      "text/html": "<div>\n<style scoped>\n    .dataframe tbody tr th:only-of-type {\n        vertical-align: middle;\n    }\n\n    .dataframe tbody tr th {\n        vertical-align: top;\n    }\n\n    .dataframe thead th {\n        text-align: right;\n    }\n</style>\n<table border=\"1\" class=\"dataframe\">\n  <thead>\n    <tr style=\"text-align: right;\">\n      <th></th>\n      <th></th>\n      <th></th>\n      <th>2018</th>\n      <th>2019</th>\n    </tr>\n    <tr>\n      <th>Existing</th>\n      <th>Occupancy status</th>\n      <th>Housing type</th>\n      <th></th>\n      <th></th>\n    </tr>\n  </thead>\n  <tbody>\n    <tr>\n      <th rowspan=\"6\" valign=\"top\">True</th>\n      <th rowspan=\"2\" valign=\"top\">Owner-occupied</th>\n      <th>Single-family</th>\n      <td>109.5</td>\n      <td>109.5</td>\n    </tr>\n    <tr>\n      <th>Multi-family</th>\n      <td>74.3</td>\n      <td>74.3</td>\n    </tr>\n    <tr>\n      <th rowspan=\"2\" valign=\"top\">Privately rented</th>\n      <th>Single-family</th>\n      <td>87.1</td>\n      <td>87.1</td>\n    </tr>\n    <tr>\n      <th>Multi-family</th>\n      <td>53.5</td>\n      <td>53.5</td>\n    </tr>\n    <tr>\n      <th rowspan=\"2\" valign=\"top\">Social-housing</th>\n      <th>Single-family</th>\n      <td>77.8</td>\n      <td>77.8</td>\n    </tr>\n    <tr>\n      <th>Multi-family</th>\n      <td>63.3</td>\n      <td>63.3</td>\n    </tr>\n    <tr>\n      <th rowspan=\"6\" valign=\"top\">False</th>\n      <th rowspan=\"2\" valign=\"top\">Owner-occupied</th>\n      <th>Single-family</th>\n      <td>132.0</td>\n      <td>132.0</td>\n    </tr>\n    <tr>\n      <th>Multi-family</th>\n      <td>81.0</td>\n      <td>81.0</td>\n    </tr>\n    <tr>\n      <th rowspan=\"2\" valign=\"top\">Privately rented</th>\n      <th>Single-family</th>\n      <td>90.0</td>\n      <td>90.0</td>\n    </tr>\n    <tr>\n      <th>Multi-family</th>\n      <td>60.0</td>\n      <td>60.0</td>\n    </tr>\n    <tr>\n      <th rowspan=\"2\" valign=\"top\">Social-housing</th>\n      <th>Single-family</th>\n      <td>84.0</td>\n      <td>84.0</td>\n    </tr>\n    <tr>\n      <th>Multi-family</th>\n      <td>71.0</td>\n      <td>71.0</td>\n    </tr>\n  </tbody>\n</table>\n</div>"
     },
     "execution_count": 43,
     "metadata": {},
     "output_type": "execute_result"
    }
   ],
   "source": [
    "thermal_building = ThermalBuildings(stock, surface, param, efficiency, income, consumption_ini, 'output')"
   ],
   "metadata": {
    "collapsed": false,
    "pycharm": {
     "name": "#%%\n"
    }
   }
  },
  {
   "cell_type": "code",
   "execution_count": 77,
   "outputs": [],
   "source": [
    "temp = pd.concat((thermal_building.stock, thermal_building.certificate.rename('Certificate')), axis=1)\n",
    "share = temp.loc[temp['Certificate'] == 'G', 'Stock buildings'] / temp.loc[temp['Certificate'] == 'G', 'Stock buildings'].sum()\n",
    "to_replace = share * var"
   ],
   "metadata": {
    "collapsed": false,
    "pycharm": {
     "name": "#%%\n"
    }
   }
  },
  {
   "cell_type": "code",
   "execution_count": 87,
   "outputs": [
    {
     "name": "stdout",
     "output_type": "stream",
     "text": [
      "26398690.691502374\n"
     ]
    }
   ],
   "source": [
    "new_stock = stock - to_replace.reindex(stock.index, fill_value=0)\n",
    "new_stock\n",
    "print(new_stock.sum())"
   ],
   "metadata": {
    "collapsed": false,
    "pycharm": {
     "name": "#%%\n"
    }
   }
  },
  {
   "cell_type": "code",
   "execution_count": 90,
   "outputs": [],
   "source": [
    "performance = {'Wall': round(1 / 3.7, 1), 'Floor': round(1 / 3, 1), 'Roof': round(1 / 6, 1),\n",
    "                                           'Windows': 1.5}"
   ],
   "metadata": {
    "collapsed": false,
    "pycharm": {
     "name": "#%%\n"
    }
   }
  },
  {
   "cell_type": "code",
   "execution_count": 97,
   "outputs": [],
   "source": [
    "for i in ['Wall', 'Floor', 'Roof', 'Windows']:\n",
    "    to_replace = to_replace.rename(index={2.0: performance[i], 2.5: performance[i]}, level=i)"
   ],
   "metadata": {
    "collapsed": false,
    "pycharm": {
     "name": "#%%\n"
    }
   }
  },
  {
   "cell_type": "code",
   "execution_count": 98,
   "outputs": [
    {
     "data": {
      "text/plain": "Existing  Occupancy status  Income owner  Income tenant  Housing type   Heating system                  Wall  Floor  Roof  Windows\nTrue      Owner-occupied    D1            D1             Multi-family   Electricity-Performance boiler  0.3   0.3    0.2   1.5        552.636316\n                                                                                                                     0.3   1.5        416.369827\n                                                                                                                     0.2   1.5        753.250869\n                                                                        Natural gas-Standard boiler     0.3   0.3    0.2   4.0        203.204482\n                                                                        Oil fuel-Standard boiler        0.3   0.3    0.2   4.0         50.910094\n                                                                                                                                         ...    \n          Social-housing    D10           D9             Single-family  Oil fuel-Standard boiler        0.3   0.3    0.2   1.5          3.833641\n                                                                                                                           4.0          2.647271\n                                                                        Wood fuel-Standard boiler       0.3   0.9    0.2   4.0          0.253880\n                                                                                                              0.3    0.2   1.5          1.601083\n                                                                                                                           4.0          1.105607\nName: Stock buildings, Length: 2160, dtype: float64"
     },
     "execution_count": 98,
     "metadata": {},
     "output_type": "execute_result"
    }
   ],
   "source": [
    "to_replace"
   ],
   "metadata": {
    "collapsed": false,
    "pycharm": {
     "name": "#%%\n"
    }
   }
  },
  {
   "cell_type": "code",
   "execution_count": 94,
   "outputs": [
    {
     "data": {
      "text/plain": "Float64Index([2.0, 2.5], dtype='float64', name='Wall')"
     },
     "execution_count": 94,
     "metadata": {},
     "output_type": "execute_result"
    }
   ],
   "source": [
    "to_replace.index.get_level_values('Wall').unique()"
   ],
   "metadata": {
    "collapsed": false,
    "pycharm": {
     "name": "#%%\n"
    }
   }
  },
  {
   "cell_type": "code",
   "execution_count": 78,
   "outputs": [],
   "source": [
    "stock = stock - to_replace"
   ],
   "metadata": {
    "collapsed": false,
    "pycharm": {
     "name": "#%%\n"
    }
   }
  },
  {
   "cell_type": "code",
   "execution_count": 53,
   "outputs": [],
   "source": [
    "consumption = thermal_building.heating_consumption(prices.loc[2018, :])"
   ],
   "metadata": {
    "collapsed": false,
    "pycharm": {
     "name": "#%%\n"
    }
   }
  },
  {
   "cell_type": "code",
   "execution_count": 58,
   "outputs": [
    {
     "data": {
      "text/plain": "Energy\nElectricity     52.470926\nNatural gas    110.740754\nOil fuel        44.985508\nWood fuel       19.648971\ndtype: float64"
     },
     "execution_count": 58,
     "metadata": {},
     "output_type": "execute_result"
    }
   ],
   "source": [
    "consumption.groupby(thermal_building.energy).sum() / 10**9"
   ],
   "metadata": {
    "collapsed": false,
    "pycharm": {
     "name": "#%%\n"
    }
   }
  },
  {
   "cell_type": "code",
   "execution_count": 60,
   "outputs": [
    {
     "data": {
      "text/plain": "Heating energy\nElectricity     33\nNatural gas    117\nOil fuel        36\nWood fuel       79\ndtype: int64"
     },
     "execution_count": 60,
     "metadata": {},
     "output_type": "execute_result"
    }
   ],
   "source": [
    "consumption_ini"
   ],
   "metadata": {
    "collapsed": false,
    "pycharm": {
     "name": "#%%\n"
    }
   }
  },
  {
   "cell_type": "code",
   "execution_count": 57,
   "outputs": [
    {
     "data": {
      "text/plain": "A     1.005392\nB     4.870714\nC    26.785350\nD    70.490776\nE    65.695896\nF    36.018787\nG    22.979245\ndtype: float64"
     },
     "execution_count": 57,
     "metadata": {},
     "output_type": "execute_result"
    }
   ],
   "source": [
    "consumption.groupby(thermal_building.certificate).sum() / 10**9"
   ],
   "metadata": {
    "collapsed": false,
    "pycharm": {
     "name": "#%%\n"
    }
   }
  },
  {
   "cell_type": "code",
   "execution_count": null,
   "outputs": [],
   "source": [
    "heating_consumption(u_wall, u_floor, u_roof, u_windows, dh, efficiency, param)"
   ],
   "metadata": {
    "collapsed": false,
    "pycharm": {
     "name": "#%%\n"
    }
   }
  }
 ],
 "metadata": {
  "kernelspec": {
   "display_name": "Python 3",
   "language": "python",
   "name": "python3"
  },
  "language_info": {
   "codemirror_mode": {
    "name": "ipython",
    "version": 2
   },
   "file_extension": ".py",
   "mimetype": "text/x-python",
   "name": "python",
   "nbconvert_exporter": "python",
   "pygments_lexer": "ipython2",
   "version": "2.7.6"
  }
 },
 "nbformat": 4,
 "nbformat_minor": 0
}