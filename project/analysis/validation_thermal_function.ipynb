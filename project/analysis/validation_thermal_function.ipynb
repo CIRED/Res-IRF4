{
 "cells": [
  {
   "cell_type": "code",
   "execution_count": 1,
   "outputs": [],
   "source": [
    "import pandas as pd\n",
    "\n",
    "from project.thermal import conventional_energy_3uses"
   ],
   "metadata": {
    "collapsed": false,
    "pycharm": {
     "name": "#%%\n"
    }
   }
  },
  {
   "cell_type": "markdown",
   "source": [
    "Average losses area for envelope components."
   ],
   "metadata": {
    "collapsed": false,
    "pycharm": {
     "name": "#%% md\n"
    }
   }
  },
  {
   "cell_type": "code",
   "execution_count": 2,
   "outputs": [
    {
     "data": {
      "text/plain": "               Roof  Windows  Wall  Floor\nHousing type                             \nSingle-family  0.77     0.17  1.42   0.75\nMulti-family   0.29     0.19  0.78   0.28",
      "text/html": "<div>\n<style scoped>\n    .dataframe tbody tr th:only-of-type {\n        vertical-align: middle;\n    }\n\n    .dataframe tbody tr th {\n        vertical-align: top;\n    }\n\n    .dataframe thead th {\n        text-align: right;\n    }\n</style>\n<table border=\"1\" class=\"dataframe\">\n  <thead>\n    <tr style=\"text-align: right;\">\n      <th></th>\n      <th>Roof</th>\n      <th>Windows</th>\n      <th>Wall</th>\n      <th>Floor</th>\n    </tr>\n    <tr>\n      <th>Housing type</th>\n      <th></th>\n      <th></th>\n      <th></th>\n      <th></th>\n    </tr>\n  </thead>\n  <tbody>\n    <tr>\n      <th>Single-family</th>\n      <td>0.77</td>\n      <td>0.17</td>\n      <td>1.42</td>\n      <td>0.75</td>\n    </tr>\n    <tr>\n      <th>Multi-family</th>\n      <td>0.29</td>\n      <td>0.19</td>\n      <td>0.78</td>\n      <td>0.28</td>\n    </tr>\n  </tbody>\n</table>\n</div>"
     },
     "execution_count": 2,
     "metadata": {},
     "output_type": "execute_result"
    }
   ],
   "source": [
    "ratio_surface = {'Roof': [0.77, 0.29],\n",
    "                 'Windows': [0.17, 0.19],\n",
    "                 'Wall': [1.42, 0.78],\n",
    "                 'Floor': [0.75, 0.28]\n",
    "                 }\n",
    "\n",
    "ratio_surface = pd.DataFrame(ratio_surface, index=pd.Index(['Single-family', 'Multi-family'], name='Housing type'))\n",
    "ratio_surface"
   ],
   "metadata": {
    "collapsed": false,
    "pycharm": {
     "name": "#%%\n"
    }
   }
  },
  {
   "cell_type": "markdown",
   "source": [
    "# Validation thermal function\n",
    "\n",
    "This notebook tests the dispersion of space heating consumption and energy performance for best and worst performance building archetypes.\n",
    "\n",
    "Defining boundaries building archetypes:"
   ],
   "metadata": {
    "collapsed": false,
    "pycharm": {
     "name": "#%% md\n"
    }
   }
  },
  {
   "cell_type": "code",
   "execution_count": 9,
   "outputs": [
    {
     "data": {
      "text/plain": "                                                          Wall  Roof  Floor  \\\nHousing type  Heating system                 Energy                           \nSingle-family Electricity-Performance boiler Electricity  2.50  2.50   2.00   \n              Electricity-Heat pump          Electricity  0.20  0.27   0.12   \n                                             Electricity  0.13  0.20   0.12   \n              Natural gas-Standard boiler    Natural gas  2.50  2.50   2.00   \n              Natural gas-Performance boiler Natural gas  0.20  0.27   0.12   \n                                             Natural gas  0.13  0.20   0.12   \nMulti-family  Electricity-Performance boiler Electricity  2.50  2.50   2.00   \n              Electricity-Heat pump          Electricity  0.20  0.27   0.12   \n                                             Electricity  0.13  0.20   0.12   \n              Natural gas-Standard boiler    Natural gas  2.50  2.50   2.00   \n              Natural gas-Performance boiler Natural gas  0.20  0.27   0.12   \n                                             Natural gas  0.13  0.20   0.12   \n\n                                                          Windows  \\\nHousing type  Heating system                 Energy                 \nSingle-family Electricity-Performance boiler Electricity      4.3   \n              Electricity-Heat pump          Electricity      1.3   \n                                             Electricity      0.8   \n              Natural gas-Standard boiler    Natural gas      4.3   \n              Natural gas-Performance boiler Natural gas      1.3   \n                                             Natural gas      0.8   \nMulti-family  Electricity-Performance boiler Electricity      4.3   \n              Electricity-Heat pump          Electricity      1.3   \n                                             Electricity      0.8   \n              Natural gas-Standard boiler    Natural gas      4.3   \n              Natural gas-Performance boiler Natural gas      1.3   \n                                             Natural gas      0.8   \n\n                                                          Ventilation  \\\nHousing type  Heating system                 Energy                     \nSingle-family Electricity-Performance boiler Electricity          0.8   \n              Electricity-Heat pump          Electricity          0.4   \n                                             Electricity          0.4   \n              Natural gas-Standard boiler    Natural gas          0.8   \n              Natural gas-Performance boiler Natural gas          0.4   \n                                             Natural gas          0.4   \nMulti-family  Electricity-Performance boiler Electricity          0.8   \n              Electricity-Heat pump          Electricity          0.4   \n                                             Electricity          0.4   \n              Natural gas-Standard boiler    Natural gas          0.8   \n              Natural gas-Performance boiler Natural gas          0.4   \n                                             Natural gas          0.4   \n\n                                                          Efficiency  \nHousing type  Heating system                 Energy                   \nSingle-family Electricity-Performance boiler Electricity        0.95  \n              Electricity-Heat pump          Electricity        2.50  \n                                             Electricity        2.50  \n              Natural gas-Standard boiler    Natural gas        0.60  \n              Natural gas-Performance boiler Natural gas        0.76  \n                                             Natural gas        0.76  \nMulti-family  Electricity-Performance boiler Electricity        0.95  \n              Electricity-Heat pump          Electricity        2.50  \n                                             Electricity        2.50  \n              Natural gas-Standard boiler    Natural gas        0.60  \n              Natural gas-Performance boiler Natural gas        0.76  \n                                             Natural gas        0.76  ",
      "text/html": "<div>\n<style scoped>\n    .dataframe tbody tr th:only-of-type {\n        vertical-align: middle;\n    }\n\n    .dataframe tbody tr th {\n        vertical-align: top;\n    }\n\n    .dataframe thead th {\n        text-align: right;\n    }\n</style>\n<table border=\"1\" class=\"dataframe\">\n  <thead>\n    <tr style=\"text-align: right;\">\n      <th></th>\n      <th></th>\n      <th></th>\n      <th>Wall</th>\n      <th>Roof</th>\n      <th>Floor</th>\n      <th>Windows</th>\n      <th>Ventilation</th>\n      <th>Efficiency</th>\n    </tr>\n    <tr>\n      <th>Housing type</th>\n      <th>Heating system</th>\n      <th>Energy</th>\n      <th></th>\n      <th></th>\n      <th></th>\n      <th></th>\n      <th></th>\n      <th></th>\n    </tr>\n  </thead>\n  <tbody>\n    <tr>\n      <th rowspan=\"6\" valign=\"top\">Single-family</th>\n      <th>Electricity-Performance boiler</th>\n      <th>Electricity</th>\n      <td>2.50</td>\n      <td>2.50</td>\n      <td>2.00</td>\n      <td>4.3</td>\n      <td>0.8</td>\n      <td>0.95</td>\n    </tr>\n    <tr>\n      <th rowspan=\"2\" valign=\"top\">Electricity-Heat pump</th>\n      <th>Electricity</th>\n      <td>0.20</td>\n      <td>0.27</td>\n      <td>0.12</td>\n      <td>1.3</td>\n      <td>0.4</td>\n      <td>2.50</td>\n    </tr>\n    <tr>\n      <th>Electricity</th>\n      <td>0.13</td>\n      <td>0.20</td>\n      <td>0.12</td>\n      <td>0.8</td>\n      <td>0.4</td>\n      <td>2.50</td>\n    </tr>\n    <tr>\n      <th>Natural gas-Standard boiler</th>\n      <th>Natural gas</th>\n      <td>2.50</td>\n      <td>2.50</td>\n      <td>2.00</td>\n      <td>4.3</td>\n      <td>0.8</td>\n      <td>0.60</td>\n    </tr>\n    <tr>\n      <th rowspan=\"2\" valign=\"top\">Natural gas-Performance boiler</th>\n      <th>Natural gas</th>\n      <td>0.20</td>\n      <td>0.27</td>\n      <td>0.12</td>\n      <td>1.3</td>\n      <td>0.4</td>\n      <td>0.76</td>\n    </tr>\n    <tr>\n      <th>Natural gas</th>\n      <td>0.13</td>\n      <td>0.20</td>\n      <td>0.12</td>\n      <td>0.8</td>\n      <td>0.4</td>\n      <td>0.76</td>\n    </tr>\n    <tr>\n      <th rowspan=\"6\" valign=\"top\">Multi-family</th>\n      <th>Electricity-Performance boiler</th>\n      <th>Electricity</th>\n      <td>2.50</td>\n      <td>2.50</td>\n      <td>2.00</td>\n      <td>4.3</td>\n      <td>0.8</td>\n      <td>0.95</td>\n    </tr>\n    <tr>\n      <th rowspan=\"2\" valign=\"top\">Electricity-Heat pump</th>\n      <th>Electricity</th>\n      <td>0.20</td>\n      <td>0.27</td>\n      <td>0.12</td>\n      <td>1.3</td>\n      <td>0.4</td>\n      <td>2.50</td>\n    </tr>\n    <tr>\n      <th>Electricity</th>\n      <td>0.13</td>\n      <td>0.20</td>\n      <td>0.12</td>\n      <td>0.8</td>\n      <td>0.4</td>\n      <td>2.50</td>\n    </tr>\n    <tr>\n      <th>Natural gas-Standard boiler</th>\n      <th>Natural gas</th>\n      <td>2.50</td>\n      <td>2.50</td>\n      <td>2.00</td>\n      <td>4.3</td>\n      <td>0.8</td>\n      <td>0.60</td>\n    </tr>\n    <tr>\n      <th rowspan=\"2\" valign=\"top\">Natural gas-Performance boiler</th>\n      <th>Natural gas</th>\n      <td>0.20</td>\n      <td>0.27</td>\n      <td>0.12</td>\n      <td>1.3</td>\n      <td>0.4</td>\n      <td>0.76</td>\n    </tr>\n    <tr>\n      <th>Natural gas</th>\n      <td>0.13</td>\n      <td>0.20</td>\n      <td>0.12</td>\n      <td>0.8</td>\n      <td>0.4</td>\n      <td>0.76</td>\n    </tr>\n  </tbody>\n</table>\n</div>"
     },
     "execution_count": 9,
     "metadata": {},
     "output_type": "execute_result"
    }
   ],
   "source": [
    "# Wall, Roof, Floor, Windows, Air rate (ventilation), Heating system\n",
    "buildings = {'Worst electricity': [2.5, 2.5, 2, 4.3, 0.8, 'Electricity-Performance boiler'],\n",
    "            'Renovation electricity': [0.2, 0.27, 0.12, 1.3, 0.4, 'Electricity-Heat pump'],\n",
    "            'Renovation efficient electricity': [0.13, 0.2, 0.12, 0.8, 0.4, 'Electricity-Heat pump'],\n",
    "            'Worst gas': [2.5, 2.5, 2, 4.3, 0.8, 'Natural gas-Standard boiler'],\n",
    "            'Renovation gas': [0.2, 0.27, 0.12, 1.3, 0.4, 'Natural gas-Performance boiler'],\n",
    "            'Renovation efficient gas': [0.13, 0.2, 0.12, 0.8, 0.4, 'Natural gas-Performance boiler'],\n",
    "            }\n",
    "\n",
    "replace = {'Electricity-Performance boiler': 0.95,\n",
    "           'Electricity-Heat pump': 2.5,\n",
    "           'Natural gas-Standard boiler': 0.6,\n",
    "          'Natural gas-Performance boiler': 0.76,\n",
    "           }\n",
    "\n",
    "buildings = pd.DataFrame(buildings, index=['Wall', 'Roof', 'Floor', 'Windows', 'Ventilation', 'Heating system']).T\n",
    "buildings['Energy'] = buildings['Heating system'].str.split('-').str[0].rename('Energy')\n",
    "\n",
    "buildings = pd.concat([buildings, buildings], keys=['Single-family', 'Multi-family'], names=['Housing type'])\n",
    "#efficiency = pd.Series(envelope.index.get_level_values('Heating system')).replace(replace).set_axis(envelope.index)\n",
    "efficiency = buildings['Heating system'].replace(replace).set_axis(buildings.index)\n",
    "\n",
    "buildings = pd.concat((buildings, efficiency.rename('Efficiency')), axis=1)\n",
    "buildings = buildings.set_index(['Heating system', 'Energy'], append=True)\n",
    "\n",
    "buildings = buildings.droplevel(None)\n",
    "buildings = buildings.astype({\n",
    "    'Wall': 'float',\n",
    "    'Roof': 'float', 'Floor': 'float', 'Windows': 'float', 'Ventilation': 'float', 'Efficiency': 'float'\n",
    "})\n",
    "\n",
    "buildings"
   ],
   "metadata": {
    "collapsed": false,
    "pycharm": {
     "name": "#%%\n"
    }
   }
  },
  {
   "cell_type": "markdown",
   "source": [
    "#### Calculating energy dispersion without ventilation"
   ],
   "metadata": {
    "collapsed": false,
    "pycharm": {
     "name": "#%% md\n"
    }
   }
  },
  {
   "cell_type": "code",
   "execution_count": 10,
   "outputs": [
    {
     "data": {
      "text/plain": "                                                          Wall  Roof  Floor  \\\nHousing type  Heating system                 Energy                           \nMulti-family  Electricity-Heat pump          Electricity  0.20  0.27   0.12   \n                                             Electricity  0.13  0.20   0.12   \n              Electricity-Performance boiler Electricity  2.50  2.50   2.00   \n              Natural gas-Performance boiler Natural gas  0.20  0.27   0.12   \n                                             Natural gas  0.13  0.20   0.12   \n              Natural gas-Standard boiler    Natural gas  2.50  2.50   2.00   \nSingle-family Electricity-Heat pump          Electricity  0.20  0.27   0.12   \n                                             Electricity  0.13  0.20   0.12   \n              Electricity-Performance boiler Electricity  2.50  2.50   2.00   \n              Natural gas-Performance boiler Natural gas  0.20  0.27   0.12   \n                                             Natural gas  0.13  0.20   0.12   \n              Natural gas-Standard boiler    Natural gas  2.50  2.50   2.00   \n\n                                                          Windows  \\\nHousing type  Heating system                 Energy                 \nMulti-family  Electricity-Heat pump          Electricity      1.3   \n                                             Electricity      0.8   \n              Electricity-Performance boiler Electricity      4.3   \n              Natural gas-Performance boiler Natural gas      1.3   \n                                             Natural gas      0.8   \n              Natural gas-Standard boiler    Natural gas      4.3   \nSingle-family Electricity-Heat pump          Electricity      1.3   \n                                             Electricity      0.8   \n              Electricity-Performance boiler Electricity      4.3   \n              Natural gas-Performance boiler Natural gas      1.3   \n                                             Natural gas      0.8   \n              Natural gas-Standard boiler    Natural gas      4.3   \n\n                                                          Ventilation  \\\nHousing type  Heating system                 Energy                     \nMulti-family  Electricity-Heat pump          Electricity          0.4   \n                                             Electricity          0.4   \n              Electricity-Performance boiler Electricity          0.8   \n              Natural gas-Performance boiler Natural gas          0.4   \n                                             Natural gas          0.4   \n              Natural gas-Standard boiler    Natural gas          0.8   \nSingle-family Electricity-Heat pump          Electricity          0.4   \n                                             Electricity          0.4   \n              Electricity-Performance boiler Electricity          0.8   \n              Natural gas-Performance boiler Natural gas          0.4   \n                                             Natural gas          0.4   \n              Natural gas-Standard boiler    Natural gas          0.8   \n\n                                                          Efficiency  0  \\\nHousing type  Heating system                 Energy                       \nMulti-family  Electricity-Heat pump          Electricity        2.50  A   \n                                             Electricity        2.50  A   \n              Electricity-Performance boiler Electricity        0.95  G   \n              Natural gas-Performance boiler Natural gas        0.76  B   \n                                             Natural gas        0.76  B   \n              Natural gas-Standard boiler    Natural gas        0.60  E   \nSingle-family Electricity-Heat pump          Electricity        2.50  B   \n                                             Electricity        2.50  A   \n              Electricity-Performance boiler Electricity        0.95  G   \n              Natural gas-Performance boiler Natural gas        0.76  B   \n                                             Natural gas        0.76  B   \n              Natural gas-Standard boiler    Natural gas        0.60  G   \n\n                                                                   1  \nHousing type  Heating system                 Energy                   \nMulti-family  Electricity-Heat pump          Electricity   43.897393  \n                                             Electricity   36.821435  \n              Electricity-Performance boiler Electricity  482.545049  \n              Natural gas-Performance boiler Natural gas   69.729680  \n                                             Natural gas   59.609603  \n              Natural gas-Standard boiler    Natural gas  320.401095  \nSingle-family Electricity-Heat pump          Electricity   55.361663  \n                                             Electricity   45.051422  \n              Electricity-Performance boiler Electricity  803.272270  \n              Natural gas-Performance boiler Natural gas   84.547001  \n                                             Natural gas   69.801233  \n              Natural gas-Standard boiler    Natural gas  543.870144  ",
      "text/html": "<div>\n<style scoped>\n    .dataframe tbody tr th:only-of-type {\n        vertical-align: middle;\n    }\n\n    .dataframe tbody tr th {\n        vertical-align: top;\n    }\n\n    .dataframe thead th {\n        text-align: right;\n    }\n</style>\n<table border=\"1\" class=\"dataframe\">\n  <thead>\n    <tr style=\"text-align: right;\">\n      <th></th>\n      <th></th>\n      <th></th>\n      <th>Wall</th>\n      <th>Roof</th>\n      <th>Floor</th>\n      <th>Windows</th>\n      <th>Ventilation</th>\n      <th>Efficiency</th>\n      <th>0</th>\n      <th>1</th>\n    </tr>\n    <tr>\n      <th>Housing type</th>\n      <th>Heating system</th>\n      <th>Energy</th>\n      <th></th>\n      <th></th>\n      <th></th>\n      <th></th>\n      <th></th>\n      <th></th>\n      <th></th>\n      <th></th>\n    </tr>\n  </thead>\n  <tbody>\n    <tr>\n      <th rowspan=\"6\" valign=\"top\">Multi-family</th>\n      <th rowspan=\"2\" valign=\"top\">Electricity-Heat pump</th>\n      <th>Electricity</th>\n      <td>0.20</td>\n      <td>0.27</td>\n      <td>0.12</td>\n      <td>1.3</td>\n      <td>0.4</td>\n      <td>2.50</td>\n      <td>A</td>\n      <td>43.897393</td>\n    </tr>\n    <tr>\n      <th>Electricity</th>\n      <td>0.13</td>\n      <td>0.20</td>\n      <td>0.12</td>\n      <td>0.8</td>\n      <td>0.4</td>\n      <td>2.50</td>\n      <td>A</td>\n      <td>36.821435</td>\n    </tr>\n    <tr>\n      <th>Electricity-Performance boiler</th>\n      <th>Electricity</th>\n      <td>2.50</td>\n      <td>2.50</td>\n      <td>2.00</td>\n      <td>4.3</td>\n      <td>0.8</td>\n      <td>0.95</td>\n      <td>G</td>\n      <td>482.545049</td>\n    </tr>\n    <tr>\n      <th rowspan=\"2\" valign=\"top\">Natural gas-Performance boiler</th>\n      <th>Natural gas</th>\n      <td>0.20</td>\n      <td>0.27</td>\n      <td>0.12</td>\n      <td>1.3</td>\n      <td>0.4</td>\n      <td>0.76</td>\n      <td>B</td>\n      <td>69.729680</td>\n    </tr>\n    <tr>\n      <th>Natural gas</th>\n      <td>0.13</td>\n      <td>0.20</td>\n      <td>0.12</td>\n      <td>0.8</td>\n      <td>0.4</td>\n      <td>0.76</td>\n      <td>B</td>\n      <td>59.609603</td>\n    </tr>\n    <tr>\n      <th>Natural gas-Standard boiler</th>\n      <th>Natural gas</th>\n      <td>2.50</td>\n      <td>2.50</td>\n      <td>2.00</td>\n      <td>4.3</td>\n      <td>0.8</td>\n      <td>0.60</td>\n      <td>E</td>\n      <td>320.401095</td>\n    </tr>\n    <tr>\n      <th rowspan=\"6\" valign=\"top\">Single-family</th>\n      <th rowspan=\"2\" valign=\"top\">Electricity-Heat pump</th>\n      <th>Electricity</th>\n      <td>0.20</td>\n      <td>0.27</td>\n      <td>0.12</td>\n      <td>1.3</td>\n      <td>0.4</td>\n      <td>2.50</td>\n      <td>B</td>\n      <td>55.361663</td>\n    </tr>\n    <tr>\n      <th>Electricity</th>\n      <td>0.13</td>\n      <td>0.20</td>\n      <td>0.12</td>\n      <td>0.8</td>\n      <td>0.4</td>\n      <td>2.50</td>\n      <td>A</td>\n      <td>45.051422</td>\n    </tr>\n    <tr>\n      <th>Electricity-Performance boiler</th>\n      <th>Electricity</th>\n      <td>2.50</td>\n      <td>2.50</td>\n      <td>2.00</td>\n      <td>4.3</td>\n      <td>0.8</td>\n      <td>0.95</td>\n      <td>G</td>\n      <td>803.272270</td>\n    </tr>\n    <tr>\n      <th rowspan=\"2\" valign=\"top\">Natural gas-Performance boiler</th>\n      <th>Natural gas</th>\n      <td>0.20</td>\n      <td>0.27</td>\n      <td>0.12</td>\n      <td>1.3</td>\n      <td>0.4</td>\n      <td>0.76</td>\n      <td>B</td>\n      <td>84.547001</td>\n    </tr>\n    <tr>\n      <th>Natural gas</th>\n      <td>0.13</td>\n      <td>0.20</td>\n      <td>0.12</td>\n      <td>0.8</td>\n      <td>0.4</td>\n      <td>0.76</td>\n      <td>B</td>\n      <td>69.801233</td>\n    </tr>\n    <tr>\n      <th>Natural gas-Standard boiler</th>\n      <th>Natural gas</th>\n      <td>2.50</td>\n      <td>2.50</td>\n      <td>2.00</td>\n      <td>4.3</td>\n      <td>0.8</td>\n      <td>0.60</td>\n      <td>G</td>\n      <td>543.870144</td>\n    </tr>\n  </tbody>\n</table>\n</div>"
     },
     "execution_count": 10,
     "metadata": {},
     "output_type": "execute_result"
    }
   ],
   "source": [
    "dpe, energy_primary = conventional_energy_3uses(buildings['Wall'], buildings['Floor'], buildings['Roof'], buildings['Windows'], ratio_surface, buildings['Efficiency'], buildings.index)\n",
    "result = pd.concat((buildings, dpe, energy_primary), axis=1).sort_index()\n",
    "result"
   ],
   "metadata": {
    "collapsed": false,
    "pycharm": {
     "name": "#%%\n"
    }
   }
  },
  {
   "cell_type": "markdown",
   "source": [
    "- The performance of the building archetypes ranges from A to G, which is the necessary range to address the policy in France\n",
    "- The worst performing fossil fuel-fired multifamily buildings are not G. This is explained by using the average loss surface for each component. In a building, the first and last floors would get more and the other floors less. Here archetypes represent an average apartment in the building. This assumption centers the distribution around the mean."
   ],
   "metadata": {
    "collapsed": false,
    "pycharm": {
     "name": "#%% md\n"
    }
   }
  },
  {
   "cell_type": "markdown",
   "source": [
    "#### Calculating energy dispersion with ventilation"
   ],
   "metadata": {
    "collapsed": false,
    "pycharm": {
     "name": "#%% md\n"
    }
   }
  },
  {
   "cell_type": "code",
   "execution_count": 11,
   "outputs": [
    {
     "data": {
      "text/plain": "                                                          Wall  Roof  Floor  \\\nHousing type  Heating system                 Energy                           \nMulti-family  Electricity-Heat pump          Electricity  0.20  0.27   0.12   \n                                             Electricity  0.13  0.20   0.12   \n              Electricity-Performance boiler Electricity  2.50  2.50   2.00   \n              Natural gas-Performance boiler Natural gas  0.20  0.27   0.12   \n                                             Natural gas  0.13  0.20   0.12   \n              Natural gas-Standard boiler    Natural gas  2.50  2.50   2.00   \nSingle-family Electricity-Heat pump          Electricity  0.20  0.27   0.12   \n                                             Electricity  0.13  0.20   0.12   \n              Electricity-Performance boiler Electricity  2.50  2.50   2.00   \n              Natural gas-Performance boiler Natural gas  0.20  0.27   0.12   \n                                             Natural gas  0.13  0.20   0.12   \n              Natural gas-Standard boiler    Natural gas  2.50  2.50   2.00   \n\n                                                          Windows  \\\nHousing type  Heating system                 Energy                 \nMulti-family  Electricity-Heat pump          Electricity      1.3   \n                                             Electricity      0.8   \n              Electricity-Performance boiler Electricity      4.3   \n              Natural gas-Performance boiler Natural gas      1.3   \n                                             Natural gas      0.8   \n              Natural gas-Standard boiler    Natural gas      4.3   \nSingle-family Electricity-Heat pump          Electricity      1.3   \n                                             Electricity      0.8   \n              Electricity-Performance boiler Electricity      4.3   \n              Natural gas-Performance boiler Natural gas      1.3   \n                                             Natural gas      0.8   \n              Natural gas-Standard boiler    Natural gas      4.3   \n\n                                                          Ventilation  \\\nHousing type  Heating system                 Energy                     \nMulti-family  Electricity-Heat pump          Electricity          0.4   \n                                             Electricity          0.4   \n              Electricity-Performance boiler Electricity          0.8   \n              Natural gas-Performance boiler Natural gas          0.4   \n                                             Natural gas          0.4   \n              Natural gas-Standard boiler    Natural gas          0.8   \nSingle-family Electricity-Heat pump          Electricity          0.4   \n                                             Electricity          0.4   \n              Electricity-Performance boiler Electricity          0.8   \n              Natural gas-Performance boiler Natural gas          0.4   \n                                             Natural gas          0.4   \n              Natural gas-Standard boiler    Natural gas          0.8   \n\n                                                          Efficiency  0  \\\nHousing type  Heating system                 Energy                       \nMulti-family  Electricity-Heat pump          Electricity        2.50  A   \n                                             Electricity        2.50  A   \n              Electricity-Performance boiler Electricity        0.95  G   \n              Natural gas-Performance boiler Natural gas        0.76  B   \n                                             Natural gas        0.76  A   \n              Natural gas-Standard boiler    Natural gas        0.60  F   \nSingle-family Electricity-Heat pump          Electricity        2.50  A   \n                                             Electricity        2.50  A   \n              Electricity-Performance boiler Electricity        0.95  G   \n              Natural gas-Performance boiler Natural gas        0.76  B   \n                                             Natural gas        0.76  B   \n              Natural gas-Standard boiler    Natural gas        0.60  G   \n\n                                                                   1  \nHousing type  Heating system                 Energy                   \nMulti-family  Electricity-Heat pump          Electricity   36.777966  \n                                             Electricity   30.029856  \n              Electricity-Performance boiler Electricity  501.275385  \n              Natural gas-Performance boiler Natural gas   59.547434  \n                                             Natural gas   49.896247  \n              Natural gas-Standard boiler    Natural gas  333.295167  \nSingle-family Electricity-Heat pump          Electricity   47.881051  \n                                             Electricity   37.700384  \n              Electricity-Performance boiler Electricity  820.243743  \n              Natural gas-Performance boiler Natural gas   73.848185  \n                                             Natural gas   59.287734  \n              Natural gas-Standard boiler    Natural gas  555.553405  ",
      "text/html": "<div>\n<style scoped>\n    .dataframe tbody tr th:only-of-type {\n        vertical-align: middle;\n    }\n\n    .dataframe tbody tr th {\n        vertical-align: top;\n    }\n\n    .dataframe thead th {\n        text-align: right;\n    }\n</style>\n<table border=\"1\" class=\"dataframe\">\n  <thead>\n    <tr style=\"text-align: right;\">\n      <th></th>\n      <th></th>\n      <th></th>\n      <th>Wall</th>\n      <th>Roof</th>\n      <th>Floor</th>\n      <th>Windows</th>\n      <th>Ventilation</th>\n      <th>Efficiency</th>\n      <th>0</th>\n      <th>1</th>\n    </tr>\n    <tr>\n      <th>Housing type</th>\n      <th>Heating system</th>\n      <th>Energy</th>\n      <th></th>\n      <th></th>\n      <th></th>\n      <th></th>\n      <th></th>\n      <th></th>\n      <th></th>\n      <th></th>\n    </tr>\n  </thead>\n  <tbody>\n    <tr>\n      <th rowspan=\"6\" valign=\"top\">Multi-family</th>\n      <th rowspan=\"2\" valign=\"top\">Electricity-Heat pump</th>\n      <th>Electricity</th>\n      <td>0.20</td>\n      <td>0.27</td>\n      <td>0.12</td>\n      <td>1.3</td>\n      <td>0.4</td>\n      <td>2.50</td>\n      <td>A</td>\n      <td>36.777966</td>\n    </tr>\n    <tr>\n      <th>Electricity</th>\n      <td>0.13</td>\n      <td>0.20</td>\n      <td>0.12</td>\n      <td>0.8</td>\n      <td>0.4</td>\n      <td>2.50</td>\n      <td>A</td>\n      <td>30.029856</td>\n    </tr>\n    <tr>\n      <th>Electricity-Performance boiler</th>\n      <th>Electricity</th>\n      <td>2.50</td>\n      <td>2.50</td>\n      <td>2.00</td>\n      <td>4.3</td>\n      <td>0.8</td>\n      <td>0.95</td>\n      <td>G</td>\n      <td>501.275385</td>\n    </tr>\n    <tr>\n      <th rowspan=\"2\" valign=\"top\">Natural gas-Performance boiler</th>\n      <th>Natural gas</th>\n      <td>0.20</td>\n      <td>0.27</td>\n      <td>0.12</td>\n      <td>1.3</td>\n      <td>0.4</td>\n      <td>0.76</td>\n      <td>B</td>\n      <td>59.547434</td>\n    </tr>\n    <tr>\n      <th>Natural gas</th>\n      <td>0.13</td>\n      <td>0.20</td>\n      <td>0.12</td>\n      <td>0.8</td>\n      <td>0.4</td>\n      <td>0.76</td>\n      <td>A</td>\n      <td>49.896247</td>\n    </tr>\n    <tr>\n      <th>Natural gas-Standard boiler</th>\n      <th>Natural gas</th>\n      <td>2.50</td>\n      <td>2.50</td>\n      <td>2.00</td>\n      <td>4.3</td>\n      <td>0.8</td>\n      <td>0.60</td>\n      <td>F</td>\n      <td>333.295167</td>\n    </tr>\n    <tr>\n      <th rowspan=\"6\" valign=\"top\">Single-family</th>\n      <th rowspan=\"2\" valign=\"top\">Electricity-Heat pump</th>\n      <th>Electricity</th>\n      <td>0.20</td>\n      <td>0.27</td>\n      <td>0.12</td>\n      <td>1.3</td>\n      <td>0.4</td>\n      <td>2.50</td>\n      <td>A</td>\n      <td>47.881051</td>\n    </tr>\n    <tr>\n      <th>Electricity</th>\n      <td>0.13</td>\n      <td>0.20</td>\n      <td>0.12</td>\n      <td>0.8</td>\n      <td>0.4</td>\n      <td>2.50</td>\n      <td>A</td>\n      <td>37.700384</td>\n    </tr>\n    <tr>\n      <th>Electricity-Performance boiler</th>\n      <th>Electricity</th>\n      <td>2.50</td>\n      <td>2.50</td>\n      <td>2.00</td>\n      <td>4.3</td>\n      <td>0.8</td>\n      <td>0.95</td>\n      <td>G</td>\n      <td>820.243743</td>\n    </tr>\n    <tr>\n      <th rowspan=\"2\" valign=\"top\">Natural gas-Performance boiler</th>\n      <th>Natural gas</th>\n      <td>0.20</td>\n      <td>0.27</td>\n      <td>0.12</td>\n      <td>1.3</td>\n      <td>0.4</td>\n      <td>0.76</td>\n      <td>B</td>\n      <td>73.848185</td>\n    </tr>\n    <tr>\n      <th>Natural gas</th>\n      <td>0.13</td>\n      <td>0.20</td>\n      <td>0.12</td>\n      <td>0.8</td>\n      <td>0.4</td>\n      <td>0.76</td>\n      <td>B</td>\n      <td>59.287734</td>\n    </tr>\n    <tr>\n      <th>Natural gas-Standard boiler</th>\n      <th>Natural gas</th>\n      <td>2.50</td>\n      <td>2.50</td>\n      <td>2.00</td>\n      <td>4.3</td>\n      <td>0.8</td>\n      <td>0.60</td>\n      <td>G</td>\n      <td>555.553405</td>\n    </tr>\n  </tbody>\n</table>\n</div>"
     },
     "execution_count": 11,
     "metadata": {},
     "output_type": "execute_result"
    }
   ],
   "source": [
    "dpe, energy_primary = conventional_energy_3uses(buildings['Wall'], buildings['Floor'], buildings['Roof'], buildings['Windows'], ratio_surface, buildings['Efficiency'], buildings.index, air_rate=buildings['Ventilation'])\n",
    "result = pd.concat((buildings, dpe, energy_primary), axis=1).sort_index()\n",
    "result"
   ],
   "metadata": {
    "collapsed": false,
    "pycharm": {
     "name": "#%%\n"
    }
   }
  },
  {
   "cell_type": "markdown",
   "source": [
    "Adding ventilation does not change the dispersion"
   ],
   "metadata": {
    "collapsed": false,
    "pycharm": {
     "name": "#%% md\n"
    }
   }
  },
  {
   "cell_type": "markdown",
   "source": [
    "#### Testing rounded value"
   ],
   "metadata": {
    "collapsed": false,
    "pycharm": {
     "name": "#%% md\n"
    }
   }
  },
  {
   "cell_type": "code",
   "execution_count": 8,
   "outputs": [
    {
     "data": {
      "text/plain": "                                                          Wall  Roof  Floor  \\\nHousing type  Heating system                 Energy                           \nMulti-family  Electricity-Heat pump          Electricity   0.2   0.3    0.1   \n                                             Electricity   0.1   0.2    0.1   \n              Electricity-Performance boiler Electricity   2.5   2.5    2.0   \n              Natural gas-Performance boiler Natural gas   0.2   0.3    0.1   \n                                             Natural gas   0.1   0.2    0.1   \n              Natural gas-Standard boiler    Natural gas   2.5   2.5    2.0   \nSingle-family Electricity-Heat pump          Electricity   0.2   0.3    0.1   \n                                             Electricity   0.1   0.2    0.1   \n              Electricity-Performance boiler Electricity   2.5   2.5    2.0   \n              Natural gas-Performance boiler Natural gas   0.2   0.3    0.1   \n                                             Natural gas   0.1   0.2    0.1   \n              Natural gas-Standard boiler    Natural gas   2.5   2.5    2.0   \n\n                                                          Windows  \\\nHousing type  Heating system                 Energy                 \nMulti-family  Electricity-Heat pump          Electricity      1.3   \n                                             Electricity      0.8   \n              Electricity-Performance boiler Electricity      3.0   \n              Natural gas-Performance boiler Natural gas      1.3   \n                                             Natural gas      0.8   \n              Natural gas-Standard boiler    Natural gas      3.0   \nSingle-family Electricity-Heat pump          Electricity      1.3   \n                                             Electricity      0.8   \n              Electricity-Performance boiler Electricity      3.0   \n              Natural gas-Performance boiler Natural gas      1.3   \n                                             Natural gas      0.8   \n              Natural gas-Standard boiler    Natural gas      3.0   \n\n                                                          Ventilation  \\\nHousing type  Heating system                 Energy                     \nMulti-family  Electricity-Heat pump          Electricity          0.4   \n                                             Electricity          0.4   \n              Electricity-Performance boiler Electricity          0.8   \n              Natural gas-Performance boiler Natural gas          0.4   \n                                             Natural gas          0.4   \n              Natural gas-Standard boiler    Natural gas          0.8   \nSingle-family Electricity-Heat pump          Electricity          0.4   \n                                             Electricity          0.4   \n              Electricity-Performance boiler Electricity          0.8   \n              Natural gas-Performance boiler Natural gas          0.4   \n                                             Natural gas          0.4   \n              Natural gas-Standard boiler    Natural gas          0.8   \n\n                                                          Efficiency  0  \\\nHousing type  Heating system                 Energy                       \nMulti-family  Electricity-Heat pump          Electricity         2.5  A   \n                                             Electricity         2.5  A   \n              Electricity-Performance boiler Electricity         1.0  G   \n              Natural gas-Performance boiler Natural gas         0.8  B   \n                                             Natural gas         0.8  A   \n              Natural gas-Standard boiler    Natural gas         0.6  E   \nSingle-family Electricity-Heat pump          Electricity         2.5  A   \n                                             Electricity         2.5  A   \n              Electricity-Performance boiler Electricity         1.0  G   \n              Natural gas-Performance boiler Natural gas         0.8  B   \n                                             Natural gas         0.8  B   \n              Natural gas-Standard boiler    Natural gas         0.6  G   \n\n                                                                   1  \nHousing type  Heating system                 Energy                   \nMulti-family  Electricity-Heat pump          Electricity   37.238312  \n                                             Electricity   29.238496  \n              Electricity-Performance boiler Electricity  455.184644  \n              Natural gas-Performance boiler Natural gas   58.845533  \n                                             Natural gas   47.976217  \n              Natural gas-Standard boiler    Natural gas  315.701088  \nSingle-family Electricity-Heat pump          Electricity   49.172267  \n                                             Electricity   36.195262  \n              Electricity-Performance boiler Electricity  765.424704  \n              Natural gas-Performance boiler Natural gas   73.185145  \n                                             Natural gas   55.553345  \n              Natural gas-Standard boiler    Natural gas  543.727011  ",
      "text/html": "<div>\n<style scoped>\n    .dataframe tbody tr th:only-of-type {\n        vertical-align: middle;\n    }\n\n    .dataframe tbody tr th {\n        vertical-align: top;\n    }\n\n    .dataframe thead th {\n        text-align: right;\n    }\n</style>\n<table border=\"1\" class=\"dataframe\">\n  <thead>\n    <tr style=\"text-align: right;\">\n      <th></th>\n      <th></th>\n      <th></th>\n      <th>Wall</th>\n      <th>Roof</th>\n      <th>Floor</th>\n      <th>Windows</th>\n      <th>Ventilation</th>\n      <th>Efficiency</th>\n      <th>0</th>\n      <th>1</th>\n    </tr>\n    <tr>\n      <th>Housing type</th>\n      <th>Heating system</th>\n      <th>Energy</th>\n      <th></th>\n      <th></th>\n      <th></th>\n      <th></th>\n      <th></th>\n      <th></th>\n      <th></th>\n      <th></th>\n    </tr>\n  </thead>\n  <tbody>\n    <tr>\n      <th rowspan=\"6\" valign=\"top\">Multi-family</th>\n      <th rowspan=\"2\" valign=\"top\">Electricity-Heat pump</th>\n      <th>Electricity</th>\n      <td>0.2</td>\n      <td>0.3</td>\n      <td>0.1</td>\n      <td>1.3</td>\n      <td>0.4</td>\n      <td>2.5</td>\n      <td>A</td>\n      <td>37.238312</td>\n    </tr>\n    <tr>\n      <th>Electricity</th>\n      <td>0.1</td>\n      <td>0.2</td>\n      <td>0.1</td>\n      <td>0.8</td>\n      <td>0.4</td>\n      <td>2.5</td>\n      <td>A</td>\n      <td>29.238496</td>\n    </tr>\n    <tr>\n      <th>Electricity-Performance boiler</th>\n      <th>Electricity</th>\n      <td>2.5</td>\n      <td>2.5</td>\n      <td>2.0</td>\n      <td>3.0</td>\n      <td>0.8</td>\n      <td>1.0</td>\n      <td>G</td>\n      <td>455.184644</td>\n    </tr>\n    <tr>\n      <th rowspan=\"2\" valign=\"top\">Natural gas-Performance boiler</th>\n      <th>Natural gas</th>\n      <td>0.2</td>\n      <td>0.3</td>\n      <td>0.1</td>\n      <td>1.3</td>\n      <td>0.4</td>\n      <td>0.8</td>\n      <td>B</td>\n      <td>58.845533</td>\n    </tr>\n    <tr>\n      <th>Natural gas</th>\n      <td>0.1</td>\n      <td>0.2</td>\n      <td>0.1</td>\n      <td>0.8</td>\n      <td>0.4</td>\n      <td>0.8</td>\n      <td>A</td>\n      <td>47.976217</td>\n    </tr>\n    <tr>\n      <th>Natural gas-Standard boiler</th>\n      <th>Natural gas</th>\n      <td>2.5</td>\n      <td>2.5</td>\n      <td>2.0</td>\n      <td>3.0</td>\n      <td>0.8</td>\n      <td>0.6</td>\n      <td>E</td>\n      <td>315.701088</td>\n    </tr>\n    <tr>\n      <th rowspan=\"6\" valign=\"top\">Single-family</th>\n      <th rowspan=\"2\" valign=\"top\">Electricity-Heat pump</th>\n      <th>Electricity</th>\n      <td>0.2</td>\n      <td>0.3</td>\n      <td>0.1</td>\n      <td>1.3</td>\n      <td>0.4</td>\n      <td>2.5</td>\n      <td>A</td>\n      <td>49.172267</td>\n    </tr>\n    <tr>\n      <th>Electricity</th>\n      <td>0.1</td>\n      <td>0.2</td>\n      <td>0.1</td>\n      <td>0.8</td>\n      <td>0.4</td>\n      <td>2.5</td>\n      <td>A</td>\n      <td>36.195262</td>\n    </tr>\n    <tr>\n      <th>Electricity-Performance boiler</th>\n      <th>Electricity</th>\n      <td>2.5</td>\n      <td>2.5</td>\n      <td>2.0</td>\n      <td>3.0</td>\n      <td>0.8</td>\n      <td>1.0</td>\n      <td>G</td>\n      <td>765.424704</td>\n    </tr>\n    <tr>\n      <th rowspan=\"2\" valign=\"top\">Natural gas-Performance boiler</th>\n      <th>Natural gas</th>\n      <td>0.2</td>\n      <td>0.3</td>\n      <td>0.1</td>\n      <td>1.3</td>\n      <td>0.4</td>\n      <td>0.8</td>\n      <td>B</td>\n      <td>73.185145</td>\n    </tr>\n    <tr>\n      <th>Natural gas</th>\n      <td>0.1</td>\n      <td>0.2</td>\n      <td>0.1</td>\n      <td>0.8</td>\n      <td>0.4</td>\n      <td>0.8</td>\n      <td>B</td>\n      <td>55.553345</td>\n    </tr>\n    <tr>\n      <th>Natural gas-Standard boiler</th>\n      <th>Natural gas</th>\n      <td>2.5</td>\n      <td>2.5</td>\n      <td>2.0</td>\n      <td>3.0</td>\n      <td>0.8</td>\n      <td>0.6</td>\n      <td>G</td>\n      <td>543.727011</td>\n    </tr>\n  </tbody>\n</table>\n</div>"
     },
     "execution_count": 8,
     "metadata": {},
     "output_type": "execute_result"
    }
   ],
   "source": [
    "buildings_round = buildings.copy()\n",
    "buildings_round['Wall'] = buildings_round['Wall'].round(1)\n",
    "buildings_round['Floor'] = buildings_round['Floor'].round(1)\n",
    "buildings_round['Roof'] = buildings_round['Roof'].round(1)\n",
    "buildings_round['Windows'] = buildings_round['Windows'].round(1)\n",
    "buildings_round['Efficiency'] = buildings_round['Efficiency'].round(1)\n",
    "\n",
    "dpe, energy_primary = conventional_energy_3uses(buildings_round['Wall'], buildings_round['Floor'], buildings_round['Roof'], buildings_round['Windows'], ratio_surface, buildings_round['Efficiency'], buildings_round.index, air_rate=buildings['Ventilation'])\n",
    "result = pd.concat((buildings_round, dpe, energy_primary), axis=1).sort_index()\n",
    "result"
   ],
   "metadata": {
    "collapsed": false,
    "pycharm": {
     "name": "#%%\n"
    }
   }
  },
  {
   "cell_type": "code",
   "execution_count": 7,
   "outputs": [
    {
     "data": {
      "text/plain": "Housing type   Heating system                  Energy     \nSingle-family  Electricity-Performance boiler  Electricity    2.5\n               Electricity-Heat pump           Electricity    0.2\n                                               Electricity    0.1\n               Natural gas-Standard boiler     Natural gas    2.5\n               Natural gas-Performance boiler  Natural gas    0.2\n                                               Natural gas    0.1\nMulti-family   Electricity-Performance boiler  Electricity    2.5\n               Electricity-Heat pump           Electricity    0.2\n                                               Electricity    0.1\n               Natural gas-Standard boiler     Natural gas    2.5\n               Natural gas-Performance boiler  Natural gas    0.2\n                                               Natural gas    0.1\nName: Wall, dtype: float64"
     },
     "execution_count": 7,
     "metadata": {},
     "output_type": "execute_result"
    }
   ],
   "source": [
    "buildings_round['Wall'].astype('float').round(1)"
   ],
   "metadata": {
    "collapsed": false,
    "pycharm": {
     "name": "#%%\n"
    }
   }
  },
  {
   "cell_type": "code",
   "execution_count": 7,
   "outputs": [],
   "source": [],
   "metadata": {
    "collapsed": false,
    "pycharm": {
     "name": "#%%\n"
    }
   }
  }
 ],
 "metadata": {
  "kernelspec": {
   "display_name": "Python 3",
   "language": "python",
   "name": "python3"
  },
  "language_info": {
   "codemirror_mode": {
    "name": "ipython",
    "version": 2
   },
   "file_extension": ".py",
   "mimetype": "text/x-python",
   "name": "python",
   "nbconvert_exporter": "python",
   "pygments_lexer": "ipython2",
   "version": "2.7.6"
  }
 },
 "nbformat": 4,
 "nbformat_minor": 0
}