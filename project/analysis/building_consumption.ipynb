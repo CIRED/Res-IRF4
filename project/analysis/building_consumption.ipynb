{
 "cells": [
  {
   "cell_type": "code",
   "execution_count": null,
   "metadata": {
    "collapsed": true
   },
   "outputs": [],
   "source": []
  },
  {
   "cell_type": "code",
   "execution_count": 1,
   "outputs": [
    {
     "ename": "ModuleNotFoundError",
     "evalue": "No module named 'project'",
     "output_type": "error",
     "traceback": [
      "\u001B[0;31m---------------------------------------------------------------------------\u001B[0m",
      "\u001B[0;31mModuleNotFoundError\u001B[0m                       Traceback (most recent call last)",
      "\u001B[0;32m/var/folders/p9/3r4_fgzd72j7b469xxshgfnh0000gn/T/ipykernel_49225/983324799.py\u001B[0m in \u001B[0;36m<module>\u001B[0;34m\u001B[0m\n\u001B[1;32m      1\u001B[0m \u001B[0;32mimport\u001B[0m \u001B[0mpandas\u001B[0m \u001B[0;32mas\u001B[0m \u001B[0mpd\u001B[0m\u001B[0;34m\u001B[0m\u001B[0;34m\u001B[0m\u001B[0m\n\u001B[1;32m      2\u001B[0m \u001B[0;34m\u001B[0m\u001B[0m\n\u001B[0;32m----> 3\u001B[0;31m \u001B[0;32mfrom\u001B[0m \u001B[0mproject\u001B[0m\u001B[0;34m.\u001B[0m\u001B[0mthermal\u001B[0m \u001B[0;32mimport\u001B[0m \u001B[0mheating_consumption\u001B[0m\u001B[0;34m,\u001B[0m \u001B[0mcertificate\u001B[0m\u001B[0;34m,\u001B[0m \u001B[0mHDD\u001B[0m\u001B[0;34m,\u001B[0m \u001B[0mCONVERSION\u001B[0m\u001B[0;34m\u001B[0m\u001B[0;34m\u001B[0m\u001B[0m\n\u001B[0m\u001B[1;32m      4\u001B[0m \u001B[0;32mfrom\u001B[0m \u001B[0mproject\u001B[0m\u001B[0;34m.\u001B[0m\u001B[0minput\u001B[0m\u001B[0;34m.\u001B[0m\u001B[0mparam\u001B[0m \u001B[0;32mimport\u001B[0m \u001B[0mgeneric_input\u001B[0m\u001B[0;34m\u001B[0m\u001B[0;34m\u001B[0m\u001B[0m\n\u001B[1;32m      5\u001B[0m \u001B[0;32mfrom\u001B[0m \u001B[0mproject\u001B[0m\u001B[0;34m.\u001B[0m\u001B[0mutils\u001B[0m \u001B[0;32mimport\u001B[0m \u001B[0mreindex_mi\u001B[0m\u001B[0;34m\u001B[0m\u001B[0;34m\u001B[0m\u001B[0m\n",
      "\u001B[0;31mModuleNotFoundError\u001B[0m: No module named 'project'"
     ]
    }
   ],
   "source": [
    "import pandas as pd\n",
    "\n",
    "from project.thermal import heating_consumption, certificate, HDD, CONVERSION\n",
    "from project.input.param import generic_input\n",
    "from project.utils import reindex_mi"
   ],
   "metadata": {
    "collapsed": false
   }
  },
  {
   "cell_type": "code",
   "execution_count": 2,
   "outputs": [
    {
     "data": {
      "text/plain": "               Wall  Floor  Roof  Windows\nHousing type                             \nSingle-family   1.2   0.96  0.98     0.15\nMulti-family    0.9   0.00  0.00     0.15",
      "text/html": "<div>\n<style scoped>\n    .dataframe tbody tr th:only-of-type {\n        vertical-align: middle;\n    }\n\n    .dataframe tbody tr th {\n        vertical-align: top;\n    }\n\n    .dataframe thead th {\n        text-align: right;\n    }\n</style>\n<table border=\"1\" class=\"dataframe\">\n  <thead>\n    <tr style=\"text-align: right;\">\n      <th></th>\n      <th>Wall</th>\n      <th>Floor</th>\n      <th>Roof</th>\n      <th>Windows</th>\n    </tr>\n    <tr>\n      <th>Housing type</th>\n      <th></th>\n      <th></th>\n      <th></th>\n      <th></th>\n    </tr>\n  </thead>\n  <tbody>\n    <tr>\n      <th>Single-family</th>\n      <td>1.2</td>\n      <td>0.96</td>\n      <td>0.98</td>\n      <td>0.15</td>\n    </tr>\n    <tr>\n      <th>Multi-family</th>\n      <td>0.9</td>\n      <td>0.00</td>\n      <td>0.00</td>\n      <td>0.15</td>\n    </tr>\n  </tbody>\n</table>\n</div>"
     },
     "execution_count": 2,
     "metadata": {},
     "output_type": "execute_result"
    }
   ],
   "source": [
    "ratio_surface = generic_input['ratio_surface']\n",
    "ratio_surface"
   ],
   "metadata": {
    "collapsed": false
   }
  },
  {
   "cell_type": "code",
   "execution_count": 15,
   "outputs": [
    {
     "data": {
      "text/plain": "                         Wall  Floor  Roof  Windows  Efficiency\nHousing type                                                   \nSingle-family renovated   0.2    0.2   0.2      1.6         0.8\n              old         2.0    2.0   2.0      4.0         0.7\n              new         0.1    0.1   0.1      1.2         3.0\nMulti-family  renovated   0.2    0.2   0.2      1.6         0.8\n              old         2.0    2.0   2.0      4.0         0.7\n              new         0.1    0.1   0.1      1.2         3.0",
      "text/html": "<div>\n<style scoped>\n    .dataframe tbody tr th:only-of-type {\n        vertical-align: middle;\n    }\n\n    .dataframe tbody tr th {\n        vertical-align: top;\n    }\n\n    .dataframe thead th {\n        text-align: right;\n    }\n</style>\n<table border=\"1\" class=\"dataframe\">\n  <thead>\n    <tr style=\"text-align: right;\">\n      <th></th>\n      <th></th>\n      <th>Wall</th>\n      <th>Floor</th>\n      <th>Roof</th>\n      <th>Windows</th>\n      <th>Efficiency</th>\n    </tr>\n    <tr>\n      <th>Housing type</th>\n      <th></th>\n      <th></th>\n      <th></th>\n      <th></th>\n      <th></th>\n      <th></th>\n    </tr>\n  </thead>\n  <tbody>\n    <tr>\n      <th rowspan=\"3\" valign=\"top\">Single-family</th>\n      <th>renovated</th>\n      <td>0.2</td>\n      <td>0.2</td>\n      <td>0.2</td>\n      <td>1.6</td>\n      <td>0.8</td>\n    </tr>\n    <tr>\n      <th>old</th>\n      <td>2.0</td>\n      <td>2.0</td>\n      <td>2.0</td>\n      <td>4.0</td>\n      <td>0.7</td>\n    </tr>\n    <tr>\n      <th>new</th>\n      <td>0.1</td>\n      <td>0.1</td>\n      <td>0.1</td>\n      <td>1.2</td>\n      <td>3.0</td>\n    </tr>\n    <tr>\n      <th rowspan=\"3\" valign=\"top\">Multi-family</th>\n      <th>renovated</th>\n      <td>0.2</td>\n      <td>0.2</td>\n      <td>0.2</td>\n      <td>1.6</td>\n      <td>0.8</td>\n    </tr>\n    <tr>\n      <th>old</th>\n      <td>2.0</td>\n      <td>2.0</td>\n      <td>2.0</td>\n      <td>4.0</td>\n      <td>0.7</td>\n    </tr>\n    <tr>\n      <th>new</th>\n      <td>0.1</td>\n      <td>0.1</td>\n      <td>0.1</td>\n      <td>1.2</td>\n      <td>3.0</td>\n    </tr>\n  </tbody>\n</table>\n</div>"
     },
     "execution_count": 15,
     "metadata": {},
     "output_type": "execute_result"
    }
   ],
   "source": [
    "buildings = {'Renovated': [0.2, 0.2, 0.2, 1.6, 0.8],\n",
    "             'Old': [2, 2, 2, 4, 0.7],\n",
    "             'New': [0.1, 0.1, 0.1, 1.2, 3]\n",
    "             }\n",
    "\n",
    "buildings = pd.DataFrame(buildings, index=pd.Index(['Wall', 'Floor', 'Roof', 'Windows', 'Efficiency'])).T\n",
    "buildings = pd.concat([buildings] * 2, keys=['Single-family', 'Multi-family'], names=['Housing type'])\n",
    "buildings"
   ],
   "metadata": {
    "collapsed": false
   }
  },
  {
   "cell_type": "code",
   "execution_count": 17,
   "outputs": [
    {
     "data": {
      "text/plain": "Housing type            \nSingle-family  renovated     82.572602\n               old          628.923709\n               new           14.535653\nMulti-family   renovated     42.302893\n               old          238.344885\n               new            8.331310\nName: Consumption, dtype: float64"
     },
     "execution_count": 17,
     "metadata": {},
     "output_type": "execute_result"
    }
   ],
   "source": [
    "heating_consumption(buildings['Wall'], buildings['Floor'], buildings['Roof'], buildings['Windows'], buildings['Efficiency'], ratio_surface, HDD)"
   ],
   "metadata": {
    "collapsed": false
   }
  },
  {
   "cell_type": "code",
   "execution_count": 20,
   "outputs": [
    {
     "data": {
      "text/plain": "Housing type       \nSingle-family  1914    492.797824\n               1948    520.722392\n               1967    621.782488\n               1974    576.048468\n               1981    189.658255\n               1989    210.932323\n               1999    130.222669\n               2005    113.537151\n               2012     89.872895\n               2020     78.479538\nMulti-family   1914    172.824349\n               1948    172.824349\n               1967    224.309916\n               1974    145.474890\n               1981     88.253193\n               1989     65.763845\n               1999     58.489668\n               2005     44.247858\n               2012     42.775931\n               2020     36.983756\nName: Consumption, dtype: float64"
     },
     "execution_count": 20,
     "metadata": {},
     "output_type": "execute_result"
    }
   ],
   "source": [
    "buildings = {'1914': [1.35, 1.5, 2.3, 4.8, 0.8],\n",
    "             '1948': [1.35, 2.5, 1.7, 4.8, 0.8],\n",
    "             '1967': [2.42, 1.8, 2.8, 2.6, 0.8],\n",
    "             '1974': [1.35, 2.8, 2.5, 2.6, 0.8],\n",
    "             '1981': [0.57, 0.61, 0.46, 2.8, 0.8],\n",
    "             '1989': [0.32, 0.42, 1.25, 2.6, 0.8],\n",
    "             '1999': [0.23, 0.36, 0.42, 2.6, 0.8],\n",
    "             '2005': [0.19, 0.33, 0.42, 1.8, 0.8],\n",
    "             '2012': [0.239, 0.29, 0.18, 1.4, 0.8],\n",
    "             '2020': [0.17, 0.21, 0.21, 1.4, 0.8]}\n",
    "\n",
    "buildings = pd.DataFrame(buildings, index=pd.Index(['Wall', 'Floor', 'Roof', 'Windows', 'Efficiency'])).T\n",
    "buildings = pd.concat([buildings] * 2, keys=['Single-family', 'Multi-family'], names=['Housing type'])\n",
    "heating_consumption(buildings['Wall'], buildings['Floor'], buildings['Roof'], buildings['Windows'], buildings['Efficiency'], ratio_surface, DHH)"
   ],
   "metadata": {
    "collapsed": false
   }
  },
  {
   "cell_type": "code",
   "execution_count": null,
   "outputs": [],
   "source": [],
   "metadata": {
    "collapsed": false
   }
  }
 ],
 "metadata": {
  "kernelspec": {
   "display_name": "Python 3",
   "language": "python",
   "name": "python3"
  },
  "language_info": {
   "codemirror_mode": {
    "name": "ipython",
    "version": 2
   },
   "file_extension": ".py",
   "mimetype": "text/x-python",
   "name": "python",
   "nbconvert_exporter": "python",
   "pygments_lexer": "ipython2",
   "version": "2.7.6"
  }
 },
 "nbformat": 4,
 "nbformat_minor": 0
}
