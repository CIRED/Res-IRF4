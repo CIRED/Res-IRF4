{
 "cells": [
  {
   "cell_type": "markdown",
   "metadata": {
    "pycharm": {
     "name": "#%% md\n"
    }
   },
   "source": [
    "# SDES-2018 Building stock"
   ]
  },
  {
   "cell_type": "code",
   "execution_count": 1,
   "metadata": {
    "tags": [],
    "pycharm": {
     "name": "#%%\n"
    }
   },
   "outputs": [],
   "source": [
    "import os\n",
    "import pandas as pd\n",
    "import json\n",
    "import sys\n",
    "from project.utils import plot_attribute, subplots_attributes, subplots_pie, plot_attribute2attribute\n"
   ]
  },
  {
   "cell_type": "code",
   "execution_count": 2,
   "outputs": [],
   "source": [
    "sys.path.append('..')\n",
    "sys.path.append('../..')\n",
    "from project.utils import reindex_mi"
   ],
   "metadata": {
    "collapsed": false,
    "pycharm": {
     "name": "#%%\n"
    }
   }
  },
  {
   "cell_type": "code",
   "execution_count": 3,
   "metadata": {
    "collapsed": false,
    "jupyter": {
     "outputs_hidden": false
    },
    "pycharm": {
     "name": "#%%\n"
    }
   },
   "outputs": [],
   "source": [
    "folder_input = 'sdes_2018'\n",
    "folder_output = 'output'\n",
    "if not os.path.isdir(folder_output):\n",
    "    os.mkdir(folder_output)"
   ]
  },
  {
   "cell_type": "markdown",
   "metadata": {
    "pycharm": {
     "name": "#%% md\n"
    }
   },
   "source": [
    "# Reading input"
   ]
  },
  {
   "cell_type": "markdown",
   "metadata": {
    "pycharm": {
     "name": "#%% md\n"
    }
   },
   "source": [
    "## Main input\n",
    "Sources: SDES-2018\n",
    "Status: Confidential"
   ]
  },
  {
   "cell_type": "code",
   "execution_count": 4,
   "metadata": {
    "collapsed": false,
    "jupyter": {
     "outputs_hidden": false
    },
    "pycharm": {
     "name": "#%%\n"
    }
   },
   "outputs": [],
   "source": [
    "replace_dict = {r'^(P)$': 'Owner-occupied',\n",
    "                'Gaz': 'Natural gas',\n",
    "                'Bois\\*': 'Wood fuel',\n",
    "                'Fioul domestique': 'Oil fuel',\n",
    "                'Chauffage urbain': 'Urban heating',\n",
    "                'MA': 'Single-family',\n",
    "                'Maison': 'Single-family',\n",
    "                'AP': 'Multi-family',\n",
    "                'Appartement': 'Multi-family',\n",
    "                'LP': 'Privately rented',\n",
    "                'Autres.*': 'Others',\n",
    "                'LS': 'Social-housing',\n",
    "                '.?lectricit.*': 'Electricity',}"
   ]
  },
  {
   "cell_type": "code",
   "execution_count": 5,
   "metadata": {
    "collapsed": false,
    "jupyter": {
     "outputs_hidden": false
    },
    "pycharm": {
     "name": "#%%\n"
    }
   },
   "outputs": [
    {
     "name": "stdout",
     "output_type": "stream",
     "text": [
      "<pandas.io.formats.style.Styler object at 0x7fc9cacf8190>\n",
      "Total number of housing in this study 28,620,348\n"
     ]
    }
   ],
   "source": [
    "name_file = 'comptages_DPE.csv'\n",
    "stock_buildings = pd.read_csv(os.path.join(folder_input, name_file), sep=',', header=[0], encoding='latin-1',\n",
    "                        index_col=[0, 1, 2, 3, 4]).squeeze()\n",
    "index_names = ['Housing type', 'Occupancy status', 'Income tenant', 'Heating energy', 'Energy performance']\n",
    "stock_buildings.index.set_names(index_names, inplace=True)\n",
    "\n",
    "stock_buildings = stock_buildings.reset_index().replace(replace_dict, regex=True).set_index(stock_buildings.index.names).squeeze()\n",
    "\n",
    "print(stock_buildings.head().to_frame().style.format('{:.1f}'))\n",
    "\n",
    "\n",
    "print('Total number of housing in this study {:,.0f}'.format(stock_buildings.sum()))"
   ]
  },
  {
   "cell_type": "markdown",
   "metadata": {
    "pycharm": {
     "name": "#%% md\n"
    }
   },
   "source": [
    "### Remove gratuity"
   ]
  },
  {
   "cell_type": "code",
   "execution_count": 6,
   "metadata": {
    "collapsed": false,
    "jupyter": {
     "outputs_hidden": false
    },
    "pycharm": {
     "name": "#%%\n"
    }
   },
   "outputs": [
    {
     "name": "stdout",
     "output_type": "stream",
     "text": [
      "<pandas.io.formats.style.Styler object at 0x7fc9d82495b0>\n",
      "Total number of housing at this point 28,366,454\n"
     ]
    }
   ],
   "source": [
    "stock_buildings = stock_buildings.loc[stock_buildings.index.get_level_values('Occupancy status') != 'G']\n",
    "print(stock_buildings.head().to_frame().style.format('{:.1f}'))\n",
    "print('Total number of housing at this point {:,.0f}'.format(stock_buildings.sum()))"
   ]
  },
  {
   "cell_type": "markdown",
   "metadata": {
    "pycharm": {
     "name": "#%% md\n"
    }
   },
   "source": [
    "### De-aggregate 'Others' to 'Wood fuel' and 'Oil fuel'\n",
    "\n",
    "Using another source of data, we de-aggregate each rows where Heating energy == 'Others' to 'Wood fuel' and 'Oil fuel'.  \n",
    "Rate depends on Housing type"
   ]
  },
  {
   "cell_type": "markdown",
   "metadata": {
    "pycharm": {
     "name": "#%% md\n"
    }
   },
   "source": [
    "#### Read data oil fuel and wood fuel"
   ]
  },
  {
   "cell_type": "code",
   "execution_count": 7,
   "metadata": {
    "collapsed": false,
    "jupyter": {
     "outputs_hidden": false
    },
    "pycharm": {
     "name": "#%%\n"
    }
   },
   "outputs": [
    {
     "name": "stdout",
     "output_type": "stream",
     "text": [
      "                                                  Parc en milliers de logements  \\\n",
      "Energie principale de chauffage Type de logement                                  \n",
      "Autres énergies                 Appartement                           19.155201   \n",
      "Bois*                           Appartement                           51.225000   \n",
      "Chauffage urbain                Appartement                         1234.451978   \n",
      "Fioul domestique                Appartement                          585.193629   \n",
      "Gaz de pétrole liquéfié         Appartement                           10.900000   \n",
      "Autres énergies                 Maison                               168.656387   \n",
      "Bois*                           Maison                              1197.667239   \n",
      "Fioul domestique                Maison                              2867.700000   \n",
      "Gaz de pétrole liquéfié         Maison                               391.261813   \n",
      "\n",
      "                                                  Taux du parc en %  \n",
      "Energie principale de chauffage Type de logement                     \n",
      "Autres énergies                 Appartement                0.010077  \n",
      "Bois*                           Appartement                0.026947  \n",
      "Chauffage urbain                Appartement                0.649395  \n",
      "Fioul domestique                Appartement                0.307847  \n",
      "Gaz de pétrole liquéfié         Appartement                0.005734  \n",
      "Autres énergies                 Maison                     0.036464  \n",
      "Bois*                           Maison                     0.258939  \n",
      "Fioul domestique                Maison                     0.620005  \n",
      "Gaz de pétrole liquéfié         Maison                     0.084592  \n",
      "<pandas.io.formats.style.Styler object at 0x7fc9cadc2550>\n"
     ]
    }
   ],
   "source": [
    "name_file = 'fuel_oil_wood_2018.xlsx'\n",
    "data_fuel = pd.read_excel(os.path.join(folder_input, name_file), header=[0], index_col=[1, 0])\n",
    "print(data_fuel.head(10))\n",
    "\n",
    "data_fuel.index.set_names(['Heating energy', 'Housing type'], inplace=True)\n",
    "data_fuel = data_fuel.reset_index().replace(replace_dict, regex=True).set_index(data_fuel.index.names).squeeze()\n",
    "\n",
    "fuel_list = ['Wood fuel', 'Oil fuel']\n",
    "data_fuel = data_fuel[data_fuel.index.get_level_values('Heating energy').isin(fuel_list)]\n",
    "data_fuel = data_fuel.loc[:, 'Taux du parc en %']\n",
    "print(data_fuel.head(10).to_frame().style.format('{:.2f}'))"
   ]
  },
  {
   "cell_type": "markdown",
   "metadata": {
    "pycharm": {
     "name": "#%% md\n"
    }
   },
   "source": [
    "#### De-aggregate stock_buildings rows"
   ]
  },
  {
   "cell_type": "markdown",
   "metadata": {
    "pycharm": {
     "name": "#%% md\n"
    }
   },
   "source": [
    "##### Preparing data_fuel to de-aggregate"
   ]
  },
  {
   "cell_type": "code",
   "execution_count": 8,
   "metadata": {
    "pycharm": {
     "name": "#%%\n"
    }
   },
   "outputs": [
    {
     "name": "stdout",
     "output_type": "stream",
     "text": [
      "<pandas.io.formats.style.Styler object at 0x7fc9984688b0>\n"
     ]
    }
   ],
   "source": [
    "data_fuel = data_fuel.to_frame().pivot_table(columns='Heating energy', index='Housing type')\n",
    "data_fuel = pd.concat([data_fuel], keys=['Others'], names=['Heating energy'], axis=0)\n",
    "print(data_fuel.style.format('{:.0%}'))"
   ]
  },
  {
   "cell_type": "markdown",
   "metadata": {
    "pycharm": {
     "name": "#%% md\n"
    }
   },
   "source": [
    "##### Combining data_fuel with stock_buildings"
   ]
  },
  {
   "cell_type": "code",
   "execution_count": 9,
   "metadata": {
    "pycharm": {
     "name": "#%%\n"
    }
   },
   "outputs": [
    {
     "name": "stdout",
     "output_type": "stream",
     "text": [
      "<pandas.io.formats.style.Styler object at 0x7fc9cadcafd0>\n",
      "<pandas.io.formats.style.Styler object at 0x7fc9cadcaf10>\n",
      "\n",
      " Total number of housing at this point 26,698,691\n"
     ]
    }
   ],
   "source": [
    "data_fuel_re = reindex_mi(data_fuel, stock_buildings.index)\n",
    "\n",
    "# multiplication will remove other value than Others (need to be added back later)\n",
    "stock_buildings_others = (stock_buildings * data_fuel_re.T).T\n",
    "stock_buildings_others.dropna(inplace=True)\n",
    "stock_buildings_others = stock_buildings_others.droplevel('Heating energy', axis=0).stack().iloc[:, 0]\n",
    "stock_buildings_others = stock_buildings_others.reorder_levels(stock_buildings.index.names)\n",
    "print(stock_buildings_others.head().to_frame().style.format('{:.0f}'))\n",
    "\n",
    "\n",
    "stock_buildings = pd.concat((stock_buildings.loc[stock_buildings.index.get_level_values('Heating energy') != 'Others'], stock_buildings_others), axis=0)\n",
    "print(stock_buildings.groupby('Heating energy').sum().to_frame().style.format('{:,.0f}'))\n",
    "print('\\n Total number of housing at this point {:,.0f}'.format(stock_buildings.sum()))\n"
   ]
  },
  {
   "cell_type": "markdown",
   "metadata": {
    "pycharm": {
     "name": "#%% md\n"
    }
   },
   "source": [
    "### Add owner income as attribute for each building\n",
    "\n",
    "Using another source of data, we add another level (or attribute) to building stocks: income owner.\n",
    "Income owner is useful to determine socio-economic parameters like the interest rate or the investment duration."
   ]
  },
  {
   "cell_type": "markdown",
   "metadata": {
    "pycharm": {
     "name": "#%% md\n"
    }
   },
   "source": [
    "#### Read data income owner"
   ]
  },
  {
   "cell_type": "code",
   "execution_count": 10,
   "metadata": {
    "collapsed": false,
    "jupyter": {
     "outputs_hidden": false
    },
    "pycharm": {
     "name": "#%%\n"
    }
   },
   "outputs": [
    {
     "name": "stdout",
     "output_type": "stream",
     "text": [
      "                                      DATECONST DECILE_PB    NB_LOG\n",
      "NATLOC OCC DECILE ENERGIE ETIQUETTE                                \n",
      "AP     LP  D1     Autres  A          Après 1948        D1  1.474775\n",
      "MA     LP  D1     Autres  A          Après 1948        D1  9.673954\n",
      "AP     LP  D2     Autres  A          Après 1948        D1  0.952759\n",
      "MA     LP  D2     Autres  A          Après 1948        D1  9.703615\n",
      "AP     LP  D3     Autres  A          Après 1948        D1  0.334222\n",
      "Housing type   Occupancy status  Income tenant  Heating energy  Energy performance  Income owner\n",
      "Multi-family   Privately rented  D1             Others          A                   D1              1.474775\n",
      "Single-family  Privately rented  D1             Others          A                   D1              9.673954\n",
      "Multi-family   Privately rented  D2             Others          A                   D1              0.952759\n",
      "Single-family  Privately rented  D2             Others          A                   D1              9.703615\n",
      "Multi-family   Privately rented  D3             Others          A                   D1              0.334222\n",
      "Name: NB_LOG, dtype: float64\n",
      "\n",
      " Total number of housing at this point 2,614,910 - stock with income owner\n"
     ]
    }
   ],
   "source": [
    "name_file = 'parclocatifprive_post48_revenusPB.csv'\n",
    "data_income_owner = pd.read_csv(os.path.join(folder_input, name_file), sep=',', header=[0],\n",
    "                                index_col=[2, 0, 3, 5, 6])\n",
    "print(data_income_owner.head())\n",
    "\n",
    "index_names = ['Housing type', 'Occupancy status', 'Income tenant', 'Heating energy', 'Energy performance']\n",
    "data_income_owner.index.set_names(index_names, inplace=True)\n",
    "\n",
    "data_income_owner.rename(columns={'DECILE_PB': 'Income owner'}, inplace=True)\n",
    "data_income_owner.reset_index(inplace=True)\n",
    "data_income_owner.set_index(index_names + ['Income owner'], inplace=True)\n",
    "\n",
    "data_income_owner = data_income_owner.reset_index().replace(replace_dict, regex=True).set_index(data_income_owner.index.names).squeeze()\n",
    "\n",
    "\n",
    "data_income_owner = data_income_owner.loc[data_income_owner.index.get_level_values('Income owner') != 'NC']\n",
    "data_income_owner = data_income_owner.loc[:, 'NB_LOG']\n",
    "\n",
    "print(data_income_owner.head())\n",
    "print('\\n Total number of housing at this point {:,.0f} - stock with income owner'.format(data_income_owner.sum()))"
   ]
  },
  {
   "cell_type": "markdown",
   "metadata": {
    "pycharm": {
     "name": "#%% md\n"
    }
   },
   "source": [
    "#### De-aggregate 'Others' to 'Wood fuel' and 'Oil fuel'\n",
    "\n",
    "Exactly what it is done before for stock_buildings data."
   ]
  },
  {
   "cell_type": "code",
   "execution_count": 11,
   "metadata": {
    "collapsed": false,
    "jupyter": {
     "outputs_hidden": false
    },
    "pycharm": {
     "name": "#%%\n"
    }
   },
   "outputs": [
    {
     "name": "stdout",
     "output_type": "stream",
     "text": [
      "<pandas.io.formats.style.Styler object at 0x7fc9d82495e0>\n",
      "Housing type   Occupancy status  Income tenant  Heating energy  Energy performance  Income owner\n",
      "Multi-family   Privately rented  D1             Electricity     A                   D1               34.508022\n",
      "Single-family  Privately rented  D1             Electricity     A                   D1              101.310182\n",
      "Multi-family   Privately rented  D2             Electricity     A                   D1               50.501777\n",
      "Single-family  Privately rented  D2             Electricity     A                   D1              181.706836\n",
      "Multi-family   Privately rented  D3             Electricity     A                   D1               52.694762\n",
      "dtype: float64\n",
      "\n",
      " Total number of housing at this point 2,486,346 - stock with income owner\n"
     ]
    }
   ],
   "source": [
    "data_fuel_re = reindex_mi(data_fuel, data_income_owner.index)\n",
    "print(data_fuel_re.head().style.format('{:.0%}'))\n",
    "\n",
    "# multiplication will remove other value than Others (need to be added back later)\n",
    "data_income_owner_others = (data_income_owner * data_fuel_re.T).T\n",
    "data_income_owner_others.dropna(inplace=True)\n",
    "data_income_owner_others = data_income_owner_others.droplevel('Heating energy', axis=0).stack().iloc[:, 0]\n",
    "data_income_owner_others = data_income_owner_others.reorder_levels(data_income_owner.index.names)\n",
    "\n",
    "\n",
    "data_income_owner = pd.concat((data_income_owner.loc[data_income_owner.index.get_level_values('Heating energy') != 'Others'], data_income_owner_others), axis=0)\n",
    "print(data_income_owner.head())\n",
    "\n",
    "print('\\n Total number of housing at this point {:,.0f} - stock with income owner'.format(data_income_owner.sum()))"
   ]
  },
  {
   "cell_type": "markdown",
   "source": [
    "#### Get proportion of other attributes based on Income owner in order to add it to stock_buildings"
   ],
   "metadata": {
    "collapsed": false,
    "pycharm": {
     "name": "#%% md\n"
    }
   }
  },
  {
   "cell_type": "code",
   "execution_count": 12,
   "outputs": [
    {
     "name": "stdout",
     "output_type": "stream",
     "text": [
      "Income tenant                                     D1       D10        D2  \\\n",
      "Housing type Occupancy status Income owner                                 \n",
      "Multi-family Privately rented D1            0.149581  0.068497  0.149302   \n",
      "                              D10           0.090687  0.105143  0.090000   \n",
      "                              D2            0.175912  0.047592  0.164074   \n",
      "                              D3            0.172281  0.034828  0.151458   \n",
      "                              D4            0.147198  0.038975  0.107708   \n",
      "\n",
      "Income tenant                                     D3        D4        D5  \\\n",
      "Housing type Occupancy status Income owner                                 \n",
      "Multi-family Privately rented D1            0.103206  0.107108  0.093357   \n",
      "                              D10           0.083294  0.093956  0.097789   \n",
      "                              D2            0.110753  0.118910  0.119314   \n",
      "                              D3            0.123091  0.116244  0.090400   \n",
      "                              D4            0.119283  0.126770  0.130311   \n",
      "\n",
      "Income tenant                                     D6        D7        D8  \\\n",
      "Housing type Occupancy status Income owner                                 \n",
      "Multi-family Privately rented D1            0.097701  0.068844  0.090355   \n",
      "                              D10           0.102668  0.110460  0.113747   \n",
      "                              D2            0.081843  0.067416  0.057803   \n",
      "                              D3            0.088600  0.084081  0.073641   \n",
      "                              D4            0.106767  0.092635  0.079548   \n",
      "\n",
      "Income tenant                                     D9  \n",
      "Housing type Occupancy status Income owner            \n",
      "Multi-family Privately rented D1            0.072049  \n",
      "                              D10           0.112255  \n",
      "                              D2            0.056384  \n",
      "                              D3            0.065375  \n",
      "                              D4            0.050805  \n"
     ]
    }
   ],
   "source": [
    "data_income_owner_ = data_income_owner.copy()\n",
    "data_income_owner_ = data_income_owner_.groupby(['Housing type', 'Occupancy status', 'Income owner', 'Income tenant']).sum()\n",
    "share_income_tenant = (data_income_owner_.unstack('Income tenant').T / data_income_owner_.unstack('Income tenant').sum(axis=1)).T\n",
    "print(share_income_tenant.head())\n",
    "share_income_tenant.to_csv(os.path.join(folder_output, 'share_income_tenant.csv'))"
   ],
   "metadata": {
    "collapsed": false,
    "pycharm": {
     "name": "#%%\n"
    }
   }
  },
  {
   "cell_type": "markdown",
   "metadata": {
    "pycharm": {
     "name": "#%% md\n"
    }
   },
   "source": [
    "#### Get proportion of other attributes based on Income owner in order to add it to stock_buildings"
   ]
  },
  {
   "cell_type": "code",
   "execution_count": 13,
   "metadata": {
    "pycharm": {
     "name": "#%%\n"
    }
   },
   "outputs": [
    {
     "name": "stdout",
     "output_type": "stream",
     "text": [
      "Income owner                                       D1       D10        D2  \\\n",
      "Housing type Occupancy status Income tenant                                 \n",
      "Multi-family Privately rented D1             0.049976  0.316608  0.042466   \n",
      "                              D10            0.034957  0.560692  0.017549   \n",
      "                              D2             0.051833  0.326489  0.041156   \n",
      "                              D3             0.040265  0.339562  0.031219   \n",
      "                              D4             0.038916  0.356705  0.031216   \n",
      "\n",
      "Income owner                                       D3        D4        D5  \\\n",
      "Housing type Occupancy status Income tenant                                 \n",
      "Multi-family Privately rented D1             0.045133  0.044297  0.055800   \n",
      "                              D10            0.013937  0.017916  0.028036   \n",
      "                              D2             0.041229  0.033680  0.054267   \n",
      "                              D3             0.037654  0.041916  0.047862   \n",
      "                              D4             0.033116  0.041486  0.049415   \n",
      "\n",
      "Income owner                                       D6        D7        D8  \\\n",
      "Housing type Occupancy status Income tenant                                 \n",
      "Multi-family Privately rented D1             0.064975  0.088413  0.115768   \n",
      "                              D10            0.038011  0.053214  0.082760   \n",
      "                              D2             0.065806  0.081088  0.121678   \n",
      "                              D3             0.064347  0.092098  0.111372   \n",
      "                              D4             0.059924  0.083666  0.122893   \n",
      "\n",
      "Income owner                                       D9  \n",
      "Housing type Occupancy status Income tenant            \n",
      "Multi-family Privately rented D1             0.176564  \n",
      "                              D10            0.152930  \n",
      "                              D2             0.182773  \n",
      "                              D3             0.193704  \n",
      "                              D4             0.182664  \n"
     ]
    }
   ],
   "source": [
    "share_income_owner = (data_income_owner_.unstack('Income owner').T / data_income_owner_.unstack('Income owner').sum(axis=1)).T\n",
    "print(share_income_owner.head())\n",
    "\n",
    "share_income_owner.to_csv(os.path.join(folder_output, 'share_income_owner.csv'))"
   ]
  },
  {
   "cell_type": "code",
   "execution_count": 14,
   "metadata": {
    "pycharm": {
     "name": "#%%\n"
    }
   },
   "outputs": [
    {
     "name": "stdout",
     "output_type": "stream",
     "text": [
      "Housing type   Occupancy status  Income tenant  Heating energy  Energy performance  Income owner\n",
      "Multi-family   Social-housing    D1             Electricity     A                   NaN             4162.321113\n",
      "Single-family  Social-housing    D1             Electricity     A                   NaN             1618.652411\n",
      "Multi-family   Owner-occupied    D1             Electricity     A                   NaN             1154.718085\n",
      "Single-family  Owner-occupied    D1             Electricity     A                   NaN             5032.777538\n",
      "Multi-family   Social-housing    D2             Electricity     A                   NaN             4298.192125\n",
      "                                                                                                       ...     \n",
      "Single-family  Privately rented  D10            Wood fuel       G                   D5                20.603479\n",
      "                                                                                    D6                25.586547\n",
      "                                                                                    D7                34.844713\n",
      "                                                                                    D8                63.545738\n",
      "                                                                                    D9               110.578082\n",
      "Length: 6720, dtype: float64\n",
      "\n",
      " Total number of housing at this point 26,698,691\n"
     ]
    }
   ],
   "source": [
    "\n",
    "# multiplication will remove other value than Landlords (need to be added back later)\n",
    "stock_buildings_landlords = (stock_buildings * reindex_mi(share_income_owner, stock_buildings.index).T).T\n",
    "stock_buildings_landlords = stock_buildings_landlords.stack()\n",
    "\n",
    "stock_buildings_wolandlords = pd.concat([stock_buildings], keys=[float('nan')], names=['Income owner'])\n",
    "stock_buildings_wolandlords = stock_buildings_wolandlords.loc[stock_buildings_wolandlords.index.get_level_values('Occupancy status') != 'Privately rented']\n",
    "stock_buildings_wolandlords = stock_buildings_wolandlords.reorder_levels(stock_buildings_landlords.index.names)\n",
    "stock_buildings = pd.concat((stock_buildings_wolandlords, stock_buildings_landlords), axis=0)\n",
    "print(stock_buildings)\n",
    "print('\\n Total number of housing at this point {:,.0f}'.format(stock_buildings.sum()))"
   ]
  },
  {
   "cell_type": "markdown",
   "metadata": {
    "pycharm": {
     "name": "#%% md\n"
    }
   },
   "source": [
    "#### Handle Owner-occupied and social-housing\n",
    "\n",
    "1. Setting income owner = income occupant when occupancy status = 'Owner-occupied'\n",
    "2. Setting income owner = D10 when occupancy status = 'Social-housing'"
   ]
  },
  {
   "cell_type": "code",
   "execution_count": 15,
   "metadata": {
    "pycharm": {
     "name": "#%%\n"
    }
   },
   "outputs": [
    {
     "name": "stdout",
     "output_type": "stream",
     "text": [
      "                                                                                             Stock buildings\n",
      "Housing type  Energy performance Heating energy Occupancy status Income owner Income tenant                 \n",
      "Multi-family  A                  Electricity    Social-housing   D10          D1                 4162.321113\n",
      "Single-family A                  Electricity    Social-housing   D10          D1                 1618.652411\n",
      "Multi-family  A                  Electricity    Owner-occupied   D1           D1                 1154.718085\n",
      "Single-family A                  Electricity    Owner-occupied   D1           D1                 5032.777538\n",
      "Multi-family  A                  Electricity    Social-housing   D10          D2                 4298.192125\n",
      "...                                                                                                      ...\n",
      "Single-family G                  Wood fuel      Privately rented D5           D10                  20.603479\n",
      "                                                                 D6           D10                  25.586547\n",
      "                                                                 D7           D10                  34.844713\n",
      "                                                                 D8           D10                  63.545738\n",
      "                                                                 D9           D10                 110.578082\n",
      "\n",
      "[6720 rows x 1 columns]\n",
      "\n",
      " Total number of housings 26,698,691\n"
     ]
    }
   ],
   "source": [
    "stock_buildings = stock_buildings.reset_index()\n",
    "\n",
    "# Owner-occupied\n",
    "stock_buildings.loc[stock_buildings.loc[:, 'Occupancy status'] == 'Owner-occupied', 'Income owner'] = stock_buildings.loc[stock_buildings.loc[:, 'Occupancy status'] == 'Owner-occupied', 'Income tenant']\n",
    "\n",
    "# social-housing\n",
    "temp = stock_buildings.loc[stock_buildings.loc[:, 'Occupancy status'] == 'Social-housing', 'Income owner']\n",
    "stock_buildings.loc[stock_buildings.loc[:, 'Occupancy status'] == 'Social-housing', 'Income owner'] = ['D10'] * len(temp)\n",
    "\n",
    "index_names = ['Housing type', 'Energy performance', 'Heating energy', 'Occupancy status', 'Income owner', 'Income tenant']\n",
    "stock_buildings = stock_buildings.set_index(index_names).iloc[:, 0].rename('Stock buildings')\n",
    "\n",
    "# stock_buildings.to_pickle(os.path.join(folder_output, 'building_stock_sdes2018.pkl'), protocol=4)\n",
    "stock_buildings.to_csv(os.path.join(folder_output, 'building_stock_sdes2018_aggregated.csv'))\n",
    "\n",
    "print(stock_buildings.to_frame())\n",
    "print('\\n Total number of housings {:,.0f}'.format(stock_buildings.sum()))"
   ]
  },
  {
   "cell_type": "code",
   "execution_count": 16,
   "outputs": [
    {
     "name": "stdout",
     "output_type": "stream",
     "text": [
      "Heating energy\n",
      "Electricity    4.964876e+06\n",
      "Natural gas    6.274891e+06\n",
      "Oil fuel       5.065432e+05\n",
      "Wood fuel      4.434032e+04\n",
      "Name: Stock buildings, dtype: float64\n",
      "Heating energy\n",
      "Electricity    5.402671e+06\n",
      "Natural gas    5.343517e+06\n",
      "Oil fuel       2.935760e+06\n",
      "Wood fuel      1.226092e+06\n",
      "Name: Stock buildings, dtype: float64\n"
     ]
    }
   ],
   "source": [
    "d = stock_buildings.xs('Multi-family', level='Housing type').groupby('Heating energy').sum()\n",
    "print(d)\n",
    "\n",
    "d = stock_buildings.xs('Single-family', level='Housing type').groupby('Heating energy').sum()\n",
    "print(d)"
   ],
   "metadata": {
    "collapsed": false,
    "pycharm": {
     "name": "#%%\n"
    }
   }
  }
 ],
 "metadata": {
  "kernelspec": {
   "name": "dataanalysis",
   "language": "python",
   "display_name": "Python (dataanalysis)"
  },
  "language_info": {
   "codemirror_mode": {
    "name": "ipython",
    "version": 3
   },
   "file_extension": ".py",
   "mimetype": "text/x-python",
   "name": "python",
   "nbconvert_exporter": "python",
   "pygments_lexer": "ipython3",
   "version": "3.9.5"
  }
 },
 "nbformat": 4,
 "nbformat_minor": 4
}