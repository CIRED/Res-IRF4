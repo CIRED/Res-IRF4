{
 "cells": [
  {
   "cell_type": "markdown",
   "metadata": {
    "pycharm": {
     "name": "#%% md\n"
    }
   },
   "source": [
    "# SDES-2018 Building stock"
   ]
  },
  {
   "cell_type": "code",
   "execution_count": 24,
   "metadata": {
    "tags": [],
    "pycharm": {
     "name": "#%%\n"
    }
   },
   "outputs": [],
   "source": [
    "import os\n",
    "import pandas as pd\n",
    "import json\n",
    "import sys\n",
    "from graphs import plot_attribute, subplots_attributes, subplots_pie, plot_attribute2attribute\n"
   ]
  },
  {
   "cell_type": "code",
   "execution_count": 25,
   "outputs": [],
   "source": [
    "sys.path.append('..')\n",
    "sys.path.append('../..')\n",
    "from project.utils import reindex_mi"
   ],
   "metadata": {
    "collapsed": false,
    "pycharm": {
     "name": "#%%\n"
    }
   }
  },
  {
   "cell_type": "code",
   "execution_count": 26,
   "metadata": {
    "collapsed": false,
    "jupyter": {
     "outputs_hidden": false
    },
    "pycharm": {
     "name": "#%%\n"
    }
   },
   "outputs": [],
   "source": [
    "folder_input = 'sdes_2018'\n",
    "folder_output = 'output'\n",
    "if not os.path.isdir(folder_output):\n",
    "    os.mkdir(folder_output)"
   ]
  },
  {
   "cell_type": "markdown",
   "metadata": {
    "pycharm": {
     "name": "#%% md\n"
    }
   },
   "source": [
    "# Reading input"
   ]
  },
  {
   "cell_type": "markdown",
   "metadata": {
    "pycharm": {
     "name": "#%% md\n"
    }
   },
   "source": [
    "## Main input\n",
    "Sources: SDES-2018\n",
    "Status: Confidential"
   ]
  },
  {
   "cell_type": "code",
   "execution_count": 27,
   "metadata": {
    "collapsed": false,
    "jupyter": {
     "outputs_hidden": false
    },
    "pycharm": {
     "name": "#%%\n"
    }
   },
   "outputs": [],
   "source": [
    "replace_dict = {r'^(P)$': 'Owner-occupied',\n",
    "                'Gaz': 'Natural gas',\n",
    "                'Bois\\*': 'Wood fuel',\n",
    "                'Fioul domestique': 'Oil fuel',\n",
    "                'Chauffage urbain': 'Urban heating',\n",
    "                'MA': 'Single-family',\n",
    "                'Maison': 'Single-family',\n",
    "                'AP': 'Multi-family',\n",
    "                'Appartement': 'Multi-family',\n",
    "                'LP': 'Privately rented',\n",
    "                'Autres.*': 'Others',\n",
    "                'LS': 'Social-housing',\n",
    "                '.?lectricit.*': 'Electricity',}"
   ]
  },
  {
   "cell_type": "code",
   "execution_count": 28,
   "metadata": {
    "collapsed": false,
    "jupyter": {
     "outputs_hidden": false
    },
    "pycharm": {
     "name": "#%%\n"
    }
   },
   "outputs": [
    {
     "data": {
      "text/plain": "<pandas.io.formats.style.Styler at 0x7fd7282b6a30>",
      "text/html": "<style type=\"text/css\">\n</style>\n<table id=\"T_0bd7c_\">\n  <thead>\n    <tr>\n      <th class=\"blank\" >&nbsp;</th>\n      <th class=\"blank\" >&nbsp;</th>\n      <th class=\"blank\" >&nbsp;</th>\n      <th class=\"blank\" >&nbsp;</th>\n      <th class=\"blank level0\" >&nbsp;</th>\n      <th class=\"col_heading level0 col0\" >NB_LOG</th>\n    </tr>\n    <tr>\n      <th class=\"index_name level0\" >Housing type</th>\n      <th class=\"index_name level1\" >Occupancy status</th>\n      <th class=\"index_name level2\" >Income tenant</th>\n      <th class=\"index_name level3\" >Heating energy</th>\n      <th class=\"index_name level4\" >Energy performance</th>\n      <th class=\"blank col0\" >&nbsp;</th>\n    </tr>\n  </thead>\n  <tbody>\n    <tr>\n      <th id=\"T_0bd7c_level0_row0\" class=\"row_heading level0 row0\" >Multi-family</th>\n      <th id=\"T_0bd7c_level1_row0\" class=\"row_heading level1 row0\" >G</th>\n      <th id=\"T_0bd7c_level2_row0\" class=\"row_heading level2 row0\" >D1</th>\n      <th id=\"T_0bd7c_level3_row0\" class=\"row_heading level3 row0\" >Others</th>\n      <th id=\"T_0bd7c_level4_row0\" class=\"row_heading level4 row0\" >A</th>\n      <td id=\"T_0bd7c_row0_col0\" class=\"data row0 col0\" >3.4</td>\n    </tr>\n    <tr>\n      <th id=\"T_0bd7c_level0_row1\" class=\"row_heading level0 row1\" >Single-family</th>\n      <th id=\"T_0bd7c_level1_row1\" class=\"row_heading level1 row1\" >G</th>\n      <th id=\"T_0bd7c_level2_row1\" class=\"row_heading level2 row1\" >D1</th>\n      <th id=\"T_0bd7c_level3_row1\" class=\"row_heading level3 row1\" >Others</th>\n      <th id=\"T_0bd7c_level4_row1\" class=\"row_heading level4 row1\" >A</th>\n      <td id=\"T_0bd7c_row1_col0\" class=\"data row1 col0\" >20.0</td>\n    </tr>\n    <tr>\n      <th id=\"T_0bd7c_level0_row2\" class=\"row_heading level0 row2\" >Multi-family</th>\n      <th id=\"T_0bd7c_level1_row2\" class=\"row_heading level1 row2\" >Privately rented</th>\n      <th id=\"T_0bd7c_level2_row2\" class=\"row_heading level2 row2\" >D1</th>\n      <th id=\"T_0bd7c_level3_row2\" class=\"row_heading level3 row2\" >Others</th>\n      <th id=\"T_0bd7c_level4_row2\" class=\"row_heading level4 row2\" >A</th>\n      <td id=\"T_0bd7c_row2_col0\" class=\"data row2 col0\" >282.2</td>\n    </tr>\n    <tr>\n      <th id=\"T_0bd7c_level0_row3\" class=\"row_heading level0 row3\" >Single-family</th>\n      <th id=\"T_0bd7c_level1_row3\" class=\"row_heading level1 row3\" >Privately rented</th>\n      <th id=\"T_0bd7c_level2_row3\" class=\"row_heading level2 row3\" >D1</th>\n      <th id=\"T_0bd7c_level3_row3\" class=\"row_heading level3 row3\" >Others</th>\n      <th id=\"T_0bd7c_level4_row3\" class=\"row_heading level4 row3\" >A</th>\n      <td id=\"T_0bd7c_row3_col0\" class=\"data row3 col0\" >343.9</td>\n    </tr>\n    <tr>\n      <th id=\"T_0bd7c_level0_row4\" class=\"row_heading level0 row4\" >Multi-family</th>\n      <th id=\"T_0bd7c_level1_row4\" class=\"row_heading level1 row4\" >Social-housing</th>\n      <th id=\"T_0bd7c_level2_row4\" class=\"row_heading level2 row4\" >D1</th>\n      <th id=\"T_0bd7c_level3_row4\" class=\"row_heading level3 row4\" >Others</th>\n      <th id=\"T_0bd7c_level4_row4\" class=\"row_heading level4 row4\" >A</th>\n      <td id=\"T_0bd7c_row4_col0\" class=\"data row4 col0\" >887.9</td>\n    </tr>\n  </tbody>\n</table>\n"
     },
     "metadata": {},
     "output_type": "display_data"
    },
    {
     "name": "stdout",
     "output_type": "stream",
     "text": [
      "Total number of housing in this study 28,620,348\n"
     ]
    }
   ],
   "source": [
    "name_file = 'comptages_DPE.csv'\n",
    "stock_buildings = pd.read_csv(os.path.join(folder_input, name_file), sep=',', header=[0], encoding='latin-1',\n",
    "                        index_col=[0, 1, 2, 3, 4]).squeeze()\n",
    "index_names = ['Housing type', 'Occupancy status', 'Income tenant', 'Heating energy', 'Energy performance']\n",
    "stock_buildings.index.set_names(index_names, inplace=True)\n",
    "\n",
    "stock_buildings = stock_buildings.reset_index().replace(replace_dict, regex=True).set_index(stock_buildings.index.names).squeeze()\n",
    "\n",
    "print(stock_buildings.head().to_frame().style.format('{:.1f}'))\n",
    "\n",
    "\n",
    "print('Total number of housing in this study {:,.0f}'.format(stock_buildings.sum()))"
   ]
  },
  {
   "cell_type": "markdown",
   "metadata": {
    "pycharm": {
     "name": "#%% md\n"
    }
   },
   "source": [
    "### Remove gratuity"
   ]
  },
  {
   "cell_type": "code",
   "execution_count": 29,
   "metadata": {
    "collapsed": false,
    "jupyter": {
     "outputs_hidden": false
    },
    "pycharm": {
     "name": "#%%\n"
    }
   },
   "outputs": [
    {
     "data": {
      "text/plain": "<pandas.io.formats.style.Styler at 0x7fd730692280>",
      "text/html": "<style type=\"text/css\">\n</style>\n<table id=\"T_23fdb_\">\n  <thead>\n    <tr>\n      <th class=\"blank\" >&nbsp;</th>\n      <th class=\"blank\" >&nbsp;</th>\n      <th class=\"blank\" >&nbsp;</th>\n      <th class=\"blank\" >&nbsp;</th>\n      <th class=\"blank level0\" >&nbsp;</th>\n      <th class=\"col_heading level0 col0\" >NB_LOG</th>\n    </tr>\n    <tr>\n      <th class=\"index_name level0\" >Housing type</th>\n      <th class=\"index_name level1\" >Occupancy status</th>\n      <th class=\"index_name level2\" >Income tenant</th>\n      <th class=\"index_name level3\" >Heating energy</th>\n      <th class=\"index_name level4\" >Energy performance</th>\n      <th class=\"blank col0\" >&nbsp;</th>\n    </tr>\n  </thead>\n  <tbody>\n    <tr>\n      <th id=\"T_23fdb_level0_row0\" class=\"row_heading level0 row0\" >Multi-family</th>\n      <th id=\"T_23fdb_level1_row0\" class=\"row_heading level1 row0\" >Privately rented</th>\n      <th id=\"T_23fdb_level2_row0\" class=\"row_heading level2 row0\" >D1</th>\n      <th id=\"T_23fdb_level3_row0\" class=\"row_heading level3 row0\" >Others</th>\n      <th id=\"T_23fdb_level4_row0\" class=\"row_heading level4 row0\" >A</th>\n      <td id=\"T_23fdb_row0_col0\" class=\"data row0 col0\" >282.2</td>\n    </tr>\n    <tr>\n      <th id=\"T_23fdb_level0_row1\" class=\"row_heading level0 row1\" >Single-family</th>\n      <th id=\"T_23fdb_level1_row1\" class=\"row_heading level1 row1\" >Privately rented</th>\n      <th id=\"T_23fdb_level2_row1\" class=\"row_heading level2 row1\" >D1</th>\n      <th id=\"T_23fdb_level3_row1\" class=\"row_heading level3 row1\" >Others</th>\n      <th id=\"T_23fdb_level4_row1\" class=\"row_heading level4 row1\" >A</th>\n      <td id=\"T_23fdb_row1_col0\" class=\"data row1 col0\" >343.9</td>\n    </tr>\n    <tr>\n      <th id=\"T_23fdb_level0_row2\" class=\"row_heading level0 row2\" >Multi-family</th>\n      <th id=\"T_23fdb_level1_row2\" class=\"row_heading level1 row2\" >Social-housing</th>\n      <th id=\"T_23fdb_level2_row2\" class=\"row_heading level2 row2\" >D1</th>\n      <th id=\"T_23fdb_level3_row2\" class=\"row_heading level3 row2\" >Others</th>\n      <th id=\"T_23fdb_level4_row2\" class=\"row_heading level4 row2\" >A</th>\n      <td id=\"T_23fdb_row2_col0\" class=\"data row2 col0\" >887.9</td>\n    </tr>\n    <tr>\n      <th id=\"T_23fdb_level0_row3\" class=\"row_heading level0 row3\" >Single-family</th>\n      <th id=\"T_23fdb_level1_row3\" class=\"row_heading level1 row3\" >Social-housing</th>\n      <th id=\"T_23fdb_level2_row3\" class=\"row_heading level2 row3\" >D1</th>\n      <th id=\"T_23fdb_level3_row3\" class=\"row_heading level3 row3\" >Others</th>\n      <th id=\"T_23fdb_level4_row3\" class=\"row_heading level4 row3\" >A</th>\n      <td id=\"T_23fdb_row3_col0\" class=\"data row3 col0\" >73.4</td>\n    </tr>\n    <tr>\n      <th id=\"T_23fdb_level0_row4\" class=\"row_heading level0 row4\" >Multi-family</th>\n      <th id=\"T_23fdb_level1_row4\" class=\"row_heading level1 row4\" >Owner-occupied</th>\n      <th id=\"T_23fdb_level2_row4\" class=\"row_heading level2 row4\" >D1</th>\n      <th id=\"T_23fdb_level3_row4\" class=\"row_heading level3 row4\" >Others</th>\n      <th id=\"T_23fdb_level4_row4\" class=\"row_heading level4 row4\" >A</th>\n      <td id=\"T_23fdb_row4_col0\" class=\"data row4 col0\" >155.4</td>\n    </tr>\n  </tbody>\n</table>\n"
     },
     "metadata": {},
     "output_type": "display_data"
    },
    {
     "name": "stdout",
     "output_type": "stream",
     "text": [
      "Total number of housing at this point 28,366,454\n"
     ]
    }
   ],
   "source": [
    "stock_buildings = stock_buildings.loc[stock_buildings.index.get_level_values('Occupancy status') != 'G']\n",
    "print(stock_buildings.head().to_frame().style.format('{:.1f}'))\n",
    "print('Total number of housing at this point {:,.0f}'.format(stock_buildings.sum()))"
   ]
  },
  {
   "cell_type": "markdown",
   "metadata": {
    "pycharm": {
     "name": "#%% md\n"
    }
   },
   "source": [
    "### De-aggregate 'Others' to 'Wood fuel' and 'Oil fuel'\n",
    "\n",
    "Using another source of data, we de-aggregate each rows where Heating energy == 'Others' to 'Wood fuel' and 'Oil fuel'.  \n",
    "Rate depends on Housing type"
   ]
  },
  {
   "cell_type": "markdown",
   "metadata": {
    "pycharm": {
     "name": "#%% md\n"
    }
   },
   "source": [
    "#### Read data oil fuel and wood fuel"
   ]
  },
  {
   "cell_type": "code",
   "execution_count": 30,
   "metadata": {
    "collapsed": false,
    "jupyter": {
     "outputs_hidden": false
    },
    "pycharm": {
     "name": "#%%\n"
    }
   },
   "outputs": [
    {
     "data": {
      "text/plain": "                                                  Parc en milliers de logements  \\\nEnergie principale de chauffage Type de logement                                  \nAutres énergies                 Appartement                           19.155201   \nBois*                           Appartement                           51.225000   \nChauffage urbain                Appartement                         1234.451978   \nFioul domestique                Appartement                          585.193629   \nGaz de pétrole liquéfié         Appartement                           10.900000   \nAutres énergies                 Maison                               168.656387   \nBois*                           Maison                              1197.667239   \nFioul domestique                Maison                              2867.700000   \nGaz de pétrole liquéfié         Maison                               391.261813   \n\n                                                  Taux du parc en %  \nEnergie principale de chauffage Type de logement                     \nAutres énergies                 Appartement                0.010077  \nBois*                           Appartement                0.026947  \nChauffage urbain                Appartement                0.649395  \nFioul domestique                Appartement                0.307847  \nGaz de pétrole liquéfié         Appartement                0.005734  \nAutres énergies                 Maison                     0.036464  \nBois*                           Maison                     0.258939  \nFioul domestique                Maison                     0.620005  \nGaz de pétrole liquéfié         Maison                     0.084592  ",
      "text/html": "<div>\n<style scoped>\n    .dataframe tbody tr th:only-of-type {\n        vertical-align: middle;\n    }\n\n    .dataframe tbody tr th {\n        vertical-align: top;\n    }\n\n    .dataframe thead th {\n        text-align: right;\n    }\n</style>\n<table border=\"1\" class=\"dataframe\">\n  <thead>\n    <tr style=\"text-align: right;\">\n      <th></th>\n      <th></th>\n      <th>Parc en milliers de logements</th>\n      <th>Taux du parc en %</th>\n    </tr>\n    <tr>\n      <th>Energie principale de chauffage</th>\n      <th>Type de logement</th>\n      <th></th>\n      <th></th>\n    </tr>\n  </thead>\n  <tbody>\n    <tr>\n      <th>Autres énergies</th>\n      <th>Appartement</th>\n      <td>19.155201</td>\n      <td>0.010077</td>\n    </tr>\n    <tr>\n      <th>Bois*</th>\n      <th>Appartement</th>\n      <td>51.225000</td>\n      <td>0.026947</td>\n    </tr>\n    <tr>\n      <th>Chauffage urbain</th>\n      <th>Appartement</th>\n      <td>1234.451978</td>\n      <td>0.649395</td>\n    </tr>\n    <tr>\n      <th>Fioul domestique</th>\n      <th>Appartement</th>\n      <td>585.193629</td>\n      <td>0.307847</td>\n    </tr>\n    <tr>\n      <th>Gaz de pétrole liquéfié</th>\n      <th>Appartement</th>\n      <td>10.900000</td>\n      <td>0.005734</td>\n    </tr>\n    <tr>\n      <th>Autres énergies</th>\n      <th>Maison</th>\n      <td>168.656387</td>\n      <td>0.036464</td>\n    </tr>\n    <tr>\n      <th>Bois*</th>\n      <th>Maison</th>\n      <td>1197.667239</td>\n      <td>0.258939</td>\n    </tr>\n    <tr>\n      <th>Fioul domestique</th>\n      <th>Maison</th>\n      <td>2867.700000</td>\n      <td>0.620005</td>\n    </tr>\n    <tr>\n      <th>Gaz de pétrole liquéfié</th>\n      <th>Maison</th>\n      <td>391.261813</td>\n      <td>0.084592</td>\n    </tr>\n  </tbody>\n</table>\n</div>"
     },
     "metadata": {},
     "output_type": "display_data"
    },
    {
     "data": {
      "text/plain": "<pandas.io.formats.style.Styler at 0x7fd7537856a0>",
      "text/html": "<style type=\"text/css\">\n</style>\n<table id=\"T_808a9_\">\n  <thead>\n    <tr>\n      <th class=\"blank\" >&nbsp;</th>\n      <th class=\"blank level0\" >&nbsp;</th>\n      <th class=\"col_heading level0 col0\" >Taux du parc en %</th>\n    </tr>\n    <tr>\n      <th class=\"index_name level0\" >Heating energy</th>\n      <th class=\"index_name level1\" >Housing type</th>\n      <th class=\"blank col0\" >&nbsp;</th>\n    </tr>\n  </thead>\n  <tbody>\n    <tr>\n      <th id=\"T_808a9_level0_row0\" class=\"row_heading level0 row0\" >Wood fuel</th>\n      <th id=\"T_808a9_level1_row0\" class=\"row_heading level1 row0\" >Multi-family</th>\n      <td id=\"T_808a9_row0_col0\" class=\"data row0 col0\" >0.03</td>\n    </tr>\n    <tr>\n      <th id=\"T_808a9_level0_row1\" class=\"row_heading level0 row1\" >Oil fuel</th>\n      <th id=\"T_808a9_level1_row1\" class=\"row_heading level1 row1\" >Multi-family</th>\n      <td id=\"T_808a9_row1_col0\" class=\"data row1 col0\" >0.31</td>\n    </tr>\n    <tr>\n      <th id=\"T_808a9_level0_row2\" class=\"row_heading level0 row2\" >Wood fuel</th>\n      <th id=\"T_808a9_level1_row2\" class=\"row_heading level1 row2\" >Single-family</th>\n      <td id=\"T_808a9_row2_col0\" class=\"data row2 col0\" >0.26</td>\n    </tr>\n    <tr>\n      <th id=\"T_808a9_level0_row3\" class=\"row_heading level0 row3\" >Oil fuel</th>\n      <th id=\"T_808a9_level1_row3\" class=\"row_heading level1 row3\" >Single-family</th>\n      <td id=\"T_808a9_row3_col0\" class=\"data row3 col0\" >0.62</td>\n    </tr>\n  </tbody>\n</table>\n"
     },
     "metadata": {},
     "output_type": "display_data"
    }
   ],
   "source": [
    "name_file = 'fuel_oil_wood_2018.xlsx'\n",
    "data_fuel = pd.read_excel(os.path.join(folder_input, name_file), header=[0], index_col=[1, 0])\n",
    "print(data_fuel.head(10))\n",
    "\n",
    "data_fuel.index.set_names(['Heating energy', 'Housing type'], inplace=True)\n",
    "data_fuel = data_fuel.reset_index().replace(replace_dict, regex=True).set_index(data_fuel.index.names).squeeze()\n",
    "\n",
    "fuel_list = ['Wood fuel', 'Oil fuel']\n",
    "data_fuel = data_fuel[data_fuel.index.get_level_values('Heating energy').isin(fuel_list)]\n",
    "data_fuel = data_fuel.loc[:, 'Taux du parc en %']\n",
    "print(data_fuel.head(10).to_frame().style.format('{:.2f}'))"
   ]
  },
  {
   "cell_type": "markdown",
   "metadata": {
    "pycharm": {
     "name": "#%% md\n"
    }
   },
   "source": [
    "#### De-aggregate stock_buildings rows"
   ]
  },
  {
   "cell_type": "markdown",
   "metadata": {
    "pycharm": {
     "name": "#%% md\n"
    }
   },
   "source": [
    "##### Preparing data_fuel to de-aggregate"
   ]
  },
  {
   "cell_type": "code",
   "execution_count": 31,
   "metadata": {
    "pycharm": {
     "name": "#%%\n"
    }
   },
   "outputs": [
    {
     "data": {
      "text/plain": "<pandas.io.formats.style.Styler at 0x7fd753773040>",
      "text/html": "<style type=\"text/css\">\n</style>\n<table id=\"T_d3bbe_\">\n  <thead>\n    <tr>\n      <th class=\"blank\" >&nbsp;</th>\n      <th class=\"blank level0\" >&nbsp;</th>\n      <th class=\"col_heading level0 col0\" colspan=\"2\">Taux du parc en %</th>\n    </tr>\n    <tr>\n      <th class=\"blank\" >&nbsp;</th>\n      <th class=\"index_name level1\" >Heating energy</th>\n      <th class=\"col_heading level1 col0\" >Oil fuel</th>\n      <th class=\"col_heading level1 col1\" >Wood fuel</th>\n    </tr>\n    <tr>\n      <th class=\"index_name level0\" >Heating energy</th>\n      <th class=\"index_name level1\" >Housing type</th>\n      <th class=\"blank col0\" >&nbsp;</th>\n      <th class=\"blank col1\" >&nbsp;</th>\n    </tr>\n  </thead>\n  <tbody>\n    <tr>\n      <th id=\"T_d3bbe_level0_row0\" class=\"row_heading level0 row0\" rowspan=\"2\">Others</th>\n      <th id=\"T_d3bbe_level1_row0\" class=\"row_heading level1 row0\" >Multi-family</th>\n      <td id=\"T_d3bbe_row0_col0\" class=\"data row0 col0\" >31%</td>\n      <td id=\"T_d3bbe_row0_col1\" class=\"data row0 col1\" >3%</td>\n    </tr>\n    <tr>\n      <th id=\"T_d3bbe_level1_row1\" class=\"row_heading level1 row1\" >Single-family</th>\n      <td id=\"T_d3bbe_row1_col0\" class=\"data row1 col0\" >62%</td>\n      <td id=\"T_d3bbe_row1_col1\" class=\"data row1 col1\" >26%</td>\n    </tr>\n  </tbody>\n</table>\n"
     },
     "metadata": {},
     "output_type": "display_data"
    }
   ],
   "source": [
    "data_fuel = data_fuel.to_frame().pivot_table(columns='Heating energy', index='Housing type')\n",
    "data_fuel = pd.concat([data_fuel], keys=['Others'], names=['Heating energy'], axis=0)\n",
    "print(data_fuel.style.format('{:.0%}'))"
   ]
  },
  {
   "cell_type": "markdown",
   "metadata": {
    "pycharm": {
     "name": "#%% md\n"
    }
   },
   "source": [
    "##### Combining data_fuel with stock_buildings"
   ]
  },
  {
   "cell_type": "code",
   "execution_count": 32,
   "metadata": {
    "pycharm": {
     "name": "#%%\n"
    }
   },
   "outputs": [
    {
     "data": {
      "text/plain": "<pandas.io.formats.style.Styler at 0x7fd7531acc40>",
      "text/html": "<style type=\"text/css\">\n</style>\n<table id=\"T_5ffdf_\">\n  <thead>\n    <tr>\n      <th class=\"blank\" >&nbsp;</th>\n      <th class=\"blank\" >&nbsp;</th>\n      <th class=\"blank\" >&nbsp;</th>\n      <th class=\"blank\" >&nbsp;</th>\n      <th class=\"blank level0\" >&nbsp;</th>\n      <th class=\"col_heading level0 col0\" >Taux du parc en %</th>\n    </tr>\n    <tr>\n      <th class=\"index_name level0\" >Housing type</th>\n      <th class=\"index_name level1\" >Occupancy status</th>\n      <th class=\"index_name level2\" >Income tenant</th>\n      <th class=\"index_name level3\" >Heating energy</th>\n      <th class=\"index_name level4\" >Energy performance</th>\n      <th class=\"blank col0\" >&nbsp;</th>\n    </tr>\n  </thead>\n  <tbody>\n    <tr>\n      <th id=\"T_5ffdf_level0_row0\" class=\"row_heading level0 row0\" rowspan=\"2\">Multi-family</th>\n      <th id=\"T_5ffdf_level1_row0\" class=\"row_heading level1 row0\" rowspan=\"2\">Privately rented</th>\n      <th id=\"T_5ffdf_level2_row0\" class=\"row_heading level2 row0\" rowspan=\"2\">D1</th>\n      <th id=\"T_5ffdf_level3_row0\" class=\"row_heading level3 row0\" >Oil fuel</th>\n      <th id=\"T_5ffdf_level4_row0\" class=\"row_heading level4 row0\" >A</th>\n      <td id=\"T_5ffdf_row0_col0\" class=\"data row0 col0\" >87</td>\n    </tr>\n    <tr>\n      <th id=\"T_5ffdf_level3_row1\" class=\"row_heading level3 row1\" >Wood fuel</th>\n      <th id=\"T_5ffdf_level4_row1\" class=\"row_heading level4 row1\" >A</th>\n      <td id=\"T_5ffdf_row1_col0\" class=\"data row1 col0\" >8</td>\n    </tr>\n    <tr>\n      <th id=\"T_5ffdf_level0_row2\" class=\"row_heading level0 row2\" rowspan=\"2\">Single-family</th>\n      <th id=\"T_5ffdf_level1_row2\" class=\"row_heading level1 row2\" rowspan=\"2\">Privately rented</th>\n      <th id=\"T_5ffdf_level2_row2\" class=\"row_heading level2 row2\" rowspan=\"2\">D1</th>\n      <th id=\"T_5ffdf_level3_row2\" class=\"row_heading level3 row2\" >Oil fuel</th>\n      <th id=\"T_5ffdf_level4_row2\" class=\"row_heading level4 row2\" >A</th>\n      <td id=\"T_5ffdf_row2_col0\" class=\"data row2 col0\" >213</td>\n    </tr>\n    <tr>\n      <th id=\"T_5ffdf_level3_row3\" class=\"row_heading level3 row3\" >Wood fuel</th>\n      <th id=\"T_5ffdf_level4_row3\" class=\"row_heading level4 row3\" >A</th>\n      <td id=\"T_5ffdf_row3_col0\" class=\"data row3 col0\" >89</td>\n    </tr>\n    <tr>\n      <th id=\"T_5ffdf_level0_row4\" class=\"row_heading level0 row4\" >Multi-family</th>\n      <th id=\"T_5ffdf_level1_row4\" class=\"row_heading level1 row4\" >Social-housing</th>\n      <th id=\"T_5ffdf_level2_row4\" class=\"row_heading level2 row4\" >D1</th>\n      <th id=\"T_5ffdf_level3_row4\" class=\"row_heading level3 row4\" >Oil fuel</th>\n      <th id=\"T_5ffdf_level4_row4\" class=\"row_heading level4 row4\" >A</th>\n      <td id=\"T_5ffdf_row4_col0\" class=\"data row4 col0\" >273</td>\n    </tr>\n  </tbody>\n</table>\n"
     },
     "metadata": {},
     "output_type": "display_data"
    },
    {
     "data": {
      "text/plain": "<pandas.io.formats.style.Styler at 0x7fd75375fdc0>",
      "text/html": "<style type=\"text/css\">\n</style>\n<table id=\"T_e3f31_\">\n  <thead>\n    <tr>\n      <th class=\"blank level0\" >&nbsp;</th>\n      <th class=\"col_heading level0 col0\" >0</th>\n    </tr>\n    <tr>\n      <th class=\"index_name level0\" >Heating energy</th>\n      <th class=\"blank col0\" >&nbsp;</th>\n    </tr>\n  </thead>\n  <tbody>\n    <tr>\n      <th id=\"T_e3f31_level0_row0\" class=\"row_heading level0 row0\" >Electricity</th>\n      <td id=\"T_e3f31_row0_col0\" class=\"data row0 col0\" >10,367,547</td>\n    </tr>\n    <tr>\n      <th id=\"T_e3f31_level0_row1\" class=\"row_heading level0 row1\" >Natural gas</th>\n      <td id=\"T_e3f31_row1_col0\" class=\"data row1 col0\" >11,618,408</td>\n    </tr>\n    <tr>\n      <th id=\"T_e3f31_level0_row2\" class=\"row_heading level0 row2\" >Oil fuel</th>\n      <td id=\"T_e3f31_row2_col0\" class=\"data row2 col0\" >3,442,304</td>\n    </tr>\n    <tr>\n      <th id=\"T_e3f31_level0_row3\" class=\"row_heading level0 row3\" >Wood fuel</th>\n      <td id=\"T_e3f31_row3_col0\" class=\"data row3 col0\" >1,270,432</td>\n    </tr>\n  </tbody>\n</table>\n"
     },
     "metadata": {},
     "output_type": "display_data"
    },
    {
     "name": "stdout",
     "output_type": "stream",
     "text": [
      "\n",
      " Total number of housing at this point 26,698,691\n"
     ]
    }
   ],
   "source": [
    "data_fuel_re = reindex_mi(data_fuel, stock_buildings.index)\n",
    "\n",
    "# multiplication will remove other value than Others (need to be added back later)\n",
    "stock_buildings_others = (stock_buildings * data_fuel_re.T).T\n",
    "stock_buildings_others.dropna(inplace=True)\n",
    "stock_buildings_others = stock_buildings_others.droplevel('Heating energy', axis=0).stack().iloc[:, 0]\n",
    "stock_buildings_others = stock_buildings_others.reorder_levels(stock_buildings.index.names)\n",
    "print(stock_buildings_others.head().to_frame().style.format('{:.0f}'))\n",
    "\n",
    "\n",
    "stock_buildings = pd.concat((stock_buildings.loc[stock_buildings.index.get_level_values('Heating energy') != 'Others'], stock_buildings_others), axis=0)\n",
    "print(stock_buildings.groupby('Heating energy').sum().to_frame().style.format('{:,.0f}'))\n",
    "print('\\n Total number of housing at this point {:,.0f}'.format(stock_buildings.sum()))\n"
   ]
  },
  {
   "cell_type": "markdown",
   "metadata": {
    "pycharm": {
     "name": "#%% md\n"
    }
   },
   "source": [
    "### Add owner income as attribute for each building\n",
    "\n",
    "Using another source of data, we add another level (or attribute) to building stocks: income owner.\n",
    "Income owner is useful to determine socio-economic parameters like the interest rate or the investment duration."
   ]
  },
  {
   "cell_type": "markdown",
   "metadata": {
    "pycharm": {
     "name": "#%% md\n"
    }
   },
   "source": [
    "#### Read data income owner"
   ]
  },
  {
   "cell_type": "code",
   "execution_count": 33,
   "metadata": {
    "collapsed": false,
    "jupyter": {
     "outputs_hidden": false
    },
    "pycharm": {
     "name": "#%%\n"
    }
   },
   "outputs": [
    {
     "data": {
      "text/plain": "                                      DATECONST DECILE_PB    NB_LOG\nNATLOC OCC DECILE ENERGIE ETIQUETTE                                \nAP     LP  D1     Autres  A          Après 1948        D1  1.474775\nMA     LP  D1     Autres  A          Après 1948        D1  9.673954\nAP     LP  D2     Autres  A          Après 1948        D1  0.952759\nMA     LP  D2     Autres  A          Après 1948        D1  9.703615\nAP     LP  D3     Autres  A          Après 1948        D1  0.334222",
      "text/html": "<div>\n<style scoped>\n    .dataframe tbody tr th:only-of-type {\n        vertical-align: middle;\n    }\n\n    .dataframe tbody tr th {\n        vertical-align: top;\n    }\n\n    .dataframe thead th {\n        text-align: right;\n    }\n</style>\n<table border=\"1\" class=\"dataframe\">\n  <thead>\n    <tr style=\"text-align: right;\">\n      <th></th>\n      <th></th>\n      <th></th>\n      <th></th>\n      <th></th>\n      <th>DATECONST</th>\n      <th>DECILE_PB</th>\n      <th>NB_LOG</th>\n    </tr>\n    <tr>\n      <th>NATLOC</th>\n      <th>OCC</th>\n      <th>DECILE</th>\n      <th>ENERGIE</th>\n      <th>ETIQUETTE</th>\n      <th></th>\n      <th></th>\n      <th></th>\n    </tr>\n  </thead>\n  <tbody>\n    <tr>\n      <th>AP</th>\n      <th>LP</th>\n      <th>D1</th>\n      <th>Autres</th>\n      <th>A</th>\n      <td>Après 1948</td>\n      <td>D1</td>\n      <td>1.474775</td>\n    </tr>\n    <tr>\n      <th>MA</th>\n      <th>LP</th>\n      <th>D1</th>\n      <th>Autres</th>\n      <th>A</th>\n      <td>Après 1948</td>\n      <td>D1</td>\n      <td>9.673954</td>\n    </tr>\n    <tr>\n      <th>AP</th>\n      <th>LP</th>\n      <th>D2</th>\n      <th>Autres</th>\n      <th>A</th>\n      <td>Après 1948</td>\n      <td>D1</td>\n      <td>0.952759</td>\n    </tr>\n    <tr>\n      <th>MA</th>\n      <th>LP</th>\n      <th>D2</th>\n      <th>Autres</th>\n      <th>A</th>\n      <td>Après 1948</td>\n      <td>D1</td>\n      <td>9.703615</td>\n    </tr>\n    <tr>\n      <th>AP</th>\n      <th>LP</th>\n      <th>D3</th>\n      <th>Autres</th>\n      <th>A</th>\n      <td>Après 1948</td>\n      <td>D1</td>\n      <td>0.334222</td>\n    </tr>\n  </tbody>\n</table>\n</div>"
     },
     "metadata": {},
     "output_type": "display_data"
    },
    {
     "data": {
      "text/plain": "Housing type   Occupancy status  Income tenant  Heating energy  Energy performance  Income owner\nMulti-family   Privately rented  D1             Others          A                   D1              1.474775\nSingle-family  Privately rented  D1             Others          A                   D1              9.673954\nMulti-family   Privately rented  D2             Others          A                   D1              0.952759\nSingle-family  Privately rented  D2             Others          A                   D1              9.703615\nMulti-family   Privately rented  D3             Others          A                   D1              0.334222\nName: NB_LOG, dtype: float64"
     },
     "metadata": {},
     "output_type": "display_data"
    },
    {
     "name": "stdout",
     "output_type": "stream",
     "text": [
      "\n",
      " Total number of housing at this point 2,614,910 - stock with income owner\n"
     ]
    }
   ],
   "source": [
    "name_file = 'parclocatifprive_post48_revenusPB.csv'\n",
    "data_income_owner = pd.read_csv(os.path.join(folder_input, name_file), sep=',', header=[0],\n",
    "                                index_col=[2, 0, 3, 5, 6])\n",
    "print(data_income_owner.head())\n",
    "\n",
    "index_names = ['Housing type', 'Occupancy status', 'Income tenant', 'Heating energy', 'Energy performance']\n",
    "data_income_owner.index.set_names(index_names, inplace=True)\n",
    "\n",
    "data_income_owner.rename(columns={'DECILE_PB': 'Income owner'}, inplace=True)\n",
    "data_income_owner.reset_index(inplace=True)\n",
    "data_income_owner.set_index(index_names + ['Income owner'], inplace=True)\n",
    "\n",
    "data_income_owner = data_income_owner.reset_index().replace(replace_dict, regex=True).set_index(data_income_owner.index.names).squeeze()\n",
    "\n",
    "\n",
    "data_income_owner = data_income_owner.loc[data_income_owner.index.get_level_values('Income owner') != 'NC']\n",
    "data_income_owner = data_income_owner.loc[:, 'NB_LOG']\n",
    "\n",
    "print(data_income_owner.head())\n",
    "print('\\n Total number of housing at this point {:,.0f} - stock with income owner'.format(data_income_owner.sum()))"
   ]
  },
  {
   "cell_type": "markdown",
   "metadata": {
    "pycharm": {
     "name": "#%% md\n"
    }
   },
   "source": [
    "#### De-aggregate 'Others' to 'Wood fuel' and 'Oil fuel'\n",
    "\n",
    "Exactly what it is done before for stock_buildings data."
   ]
  },
  {
   "cell_type": "code",
   "execution_count": 34,
   "metadata": {
    "collapsed": false,
    "jupyter": {
     "outputs_hidden": false
    },
    "pycharm": {
     "name": "#%%\n"
    }
   },
   "outputs": [
    {
     "data": {
      "text/plain": "<pandas.io.formats.style.Styler at 0x7fd7532a1430>",
      "text/html": "<style type=\"text/css\">\n</style>\n<table id=\"T_4d1df_\">\n  <thead>\n    <tr>\n      <th class=\"blank\" >&nbsp;</th>\n      <th class=\"blank\" >&nbsp;</th>\n      <th class=\"blank\" >&nbsp;</th>\n      <th class=\"blank\" >&nbsp;</th>\n      <th class=\"blank\" >&nbsp;</th>\n      <th class=\"blank level0\" >&nbsp;</th>\n      <th class=\"col_heading level0 col0\" colspan=\"2\">Taux du parc en %</th>\n    </tr>\n    <tr>\n      <th class=\"blank\" >&nbsp;</th>\n      <th class=\"blank\" >&nbsp;</th>\n      <th class=\"blank\" >&nbsp;</th>\n      <th class=\"blank\" >&nbsp;</th>\n      <th class=\"blank\" >&nbsp;</th>\n      <th class=\"index_name level1\" >Heating energy</th>\n      <th class=\"col_heading level1 col0\" >Oil fuel</th>\n      <th class=\"col_heading level1 col1\" >Wood fuel</th>\n    </tr>\n    <tr>\n      <th class=\"index_name level0\" >Housing type</th>\n      <th class=\"index_name level1\" >Occupancy status</th>\n      <th class=\"index_name level2\" >Income tenant</th>\n      <th class=\"index_name level3\" >Heating energy</th>\n      <th class=\"index_name level4\" >Energy performance</th>\n      <th class=\"index_name level5\" >Income owner</th>\n      <th class=\"blank col0\" >&nbsp;</th>\n      <th class=\"blank col1\" >&nbsp;</th>\n    </tr>\n  </thead>\n  <tbody>\n    <tr>\n      <th id=\"T_4d1df_level0_row0\" class=\"row_heading level0 row0\" >Multi-family</th>\n      <th id=\"T_4d1df_level1_row0\" class=\"row_heading level1 row0\" >Privately rented</th>\n      <th id=\"T_4d1df_level2_row0\" class=\"row_heading level2 row0\" >D1</th>\n      <th id=\"T_4d1df_level3_row0\" class=\"row_heading level3 row0\" >Others</th>\n      <th id=\"T_4d1df_level4_row0\" class=\"row_heading level4 row0\" >A</th>\n      <th id=\"T_4d1df_level5_row0\" class=\"row_heading level5 row0\" >D1</th>\n      <td id=\"T_4d1df_row0_col0\" class=\"data row0 col0\" >31%</td>\n      <td id=\"T_4d1df_row0_col1\" class=\"data row0 col1\" >3%</td>\n    </tr>\n    <tr>\n      <th id=\"T_4d1df_level0_row1\" class=\"row_heading level0 row1\" >Single-family</th>\n      <th id=\"T_4d1df_level1_row1\" class=\"row_heading level1 row1\" >Privately rented</th>\n      <th id=\"T_4d1df_level2_row1\" class=\"row_heading level2 row1\" >D1</th>\n      <th id=\"T_4d1df_level3_row1\" class=\"row_heading level3 row1\" >Others</th>\n      <th id=\"T_4d1df_level4_row1\" class=\"row_heading level4 row1\" >A</th>\n      <th id=\"T_4d1df_level5_row1\" class=\"row_heading level5 row1\" >D1</th>\n      <td id=\"T_4d1df_row1_col0\" class=\"data row1 col0\" >62%</td>\n      <td id=\"T_4d1df_row1_col1\" class=\"data row1 col1\" >26%</td>\n    </tr>\n    <tr>\n      <th id=\"T_4d1df_level0_row2\" class=\"row_heading level0 row2\" >Multi-family</th>\n      <th id=\"T_4d1df_level1_row2\" class=\"row_heading level1 row2\" >Privately rented</th>\n      <th id=\"T_4d1df_level2_row2\" class=\"row_heading level2 row2\" >D2</th>\n      <th id=\"T_4d1df_level3_row2\" class=\"row_heading level3 row2\" >Others</th>\n      <th id=\"T_4d1df_level4_row2\" class=\"row_heading level4 row2\" >A</th>\n      <th id=\"T_4d1df_level5_row2\" class=\"row_heading level5 row2\" >D1</th>\n      <td id=\"T_4d1df_row2_col0\" class=\"data row2 col0\" >31%</td>\n      <td id=\"T_4d1df_row2_col1\" class=\"data row2 col1\" >3%</td>\n    </tr>\n    <tr>\n      <th id=\"T_4d1df_level0_row3\" class=\"row_heading level0 row3\" >Single-family</th>\n      <th id=\"T_4d1df_level1_row3\" class=\"row_heading level1 row3\" >Privately rented</th>\n      <th id=\"T_4d1df_level2_row3\" class=\"row_heading level2 row3\" >D2</th>\n      <th id=\"T_4d1df_level3_row3\" class=\"row_heading level3 row3\" >Others</th>\n      <th id=\"T_4d1df_level4_row3\" class=\"row_heading level4 row3\" >A</th>\n      <th id=\"T_4d1df_level5_row3\" class=\"row_heading level5 row3\" >D1</th>\n      <td id=\"T_4d1df_row3_col0\" class=\"data row3 col0\" >62%</td>\n      <td id=\"T_4d1df_row3_col1\" class=\"data row3 col1\" >26%</td>\n    </tr>\n    <tr>\n      <th id=\"T_4d1df_level0_row4\" class=\"row_heading level0 row4\" >Multi-family</th>\n      <th id=\"T_4d1df_level1_row4\" class=\"row_heading level1 row4\" >Privately rented</th>\n      <th id=\"T_4d1df_level2_row4\" class=\"row_heading level2 row4\" >D3</th>\n      <th id=\"T_4d1df_level3_row4\" class=\"row_heading level3 row4\" >Others</th>\n      <th id=\"T_4d1df_level4_row4\" class=\"row_heading level4 row4\" >A</th>\n      <th id=\"T_4d1df_level5_row4\" class=\"row_heading level5 row4\" >D1</th>\n      <td id=\"T_4d1df_row4_col0\" class=\"data row4 col0\" >31%</td>\n      <td id=\"T_4d1df_row4_col1\" class=\"data row4 col1\" >3%</td>\n    </tr>\n  </tbody>\n</table>\n"
     },
     "metadata": {},
     "output_type": "display_data"
    },
    {
     "data": {
      "text/plain": "Housing type   Occupancy status  Income tenant  Heating energy  Energy performance  Income owner\nMulti-family   Privately rented  D1             Electricity     A                   D1               34.508022\nSingle-family  Privately rented  D1             Electricity     A                   D1              101.310182\nMulti-family   Privately rented  D2             Electricity     A                   D1               50.501777\nSingle-family  Privately rented  D2             Electricity     A                   D1              181.706836\nMulti-family   Privately rented  D3             Electricity     A                   D1               52.694762\ndtype: float64"
     },
     "metadata": {},
     "output_type": "display_data"
    },
    {
     "name": "stdout",
     "output_type": "stream",
     "text": [
      "\n",
      " Total number of housing at this point 2,486,346 - stock with income owner\n"
     ]
    }
   ],
   "source": [
    "data_fuel_re = reindex_mi(data_fuel, data_income_owner.index)\n",
    "print(data_fuel_re.head().style.format('{:.0%}'))\n",
    "\n",
    "# multiplication will remove other value than Others (need to be added back later)\n",
    "data_income_owner_others = (data_income_owner * data_fuel_re.T).T\n",
    "data_income_owner_others.dropna(inplace=True)\n",
    "data_income_owner_others = data_income_owner_others.droplevel('Heating energy', axis=0).stack().iloc[:, 0]\n",
    "data_income_owner_others = data_income_owner_others.reorder_levels(data_income_owner.index.names)\n",
    "\n",
    "\n",
    "data_income_owner = pd.concat((data_income_owner.loc[data_income_owner.index.get_level_values('Heating energy') != 'Others'], data_income_owner_others), axis=0)\n",
    "print(data_income_owner.head())\n",
    "\n",
    "print('\\n Total number of housing at this point {:,.0f} - stock with income owner'.format(data_income_owner.sum()))"
   ]
  },
  {
   "cell_type": "markdown",
   "source": [
    "#### Get proportion of other attributes based on Income owner in order to add it to stock_buildings"
   ],
   "metadata": {
    "collapsed": false,
    "pycharm": {
     "name": "#%% md\n"
    }
   }
  },
  {
   "cell_type": "code",
   "execution_count": 35,
   "outputs": [
    {
     "data": {
      "text/plain": "Income tenant                                     D1       D10        D2  \\\nHousing type Occupancy status Income owner                                 \nMulti-family Privately rented D1            0.149581  0.068497  0.149302   \n                              D10           0.090687  0.105143  0.090000   \n                              D2            0.175912  0.047592  0.164074   \n                              D3            0.172281  0.034828  0.151458   \n                              D4            0.147198  0.038975  0.107708   \n\nIncome tenant                                     D3        D4        D5  \\\nHousing type Occupancy status Income owner                                 \nMulti-family Privately rented D1            0.103206  0.107108  0.093357   \n                              D10           0.083294  0.093956  0.097789   \n                              D2            0.110753  0.118910  0.119314   \n                              D3            0.123091  0.116244  0.090400   \n                              D4            0.119283  0.126770  0.130311   \n\nIncome tenant                                     D6        D7        D8  \\\nHousing type Occupancy status Income owner                                 \nMulti-family Privately rented D1            0.097701  0.068844  0.090355   \n                              D10           0.102668  0.110460  0.113747   \n                              D2            0.081843  0.067416  0.057803   \n                              D3            0.088600  0.084081  0.073641   \n                              D4            0.106767  0.092635  0.079548   \n\nIncome tenant                                     D9  \nHousing type Occupancy status Income owner            \nMulti-family Privately rented D1            0.072049  \n                              D10           0.112255  \n                              D2            0.056384  \n                              D3            0.065375  \n                              D4            0.050805  ",
      "text/html": "<div>\n<style scoped>\n    .dataframe tbody tr th:only-of-type {\n        vertical-align: middle;\n    }\n\n    .dataframe tbody tr th {\n        vertical-align: top;\n    }\n\n    .dataframe thead th {\n        text-align: right;\n    }\n</style>\n<table border=\"1\" class=\"dataframe\">\n  <thead>\n    <tr style=\"text-align: right;\">\n      <th></th>\n      <th></th>\n      <th>Income tenant</th>\n      <th>D1</th>\n      <th>D10</th>\n      <th>D2</th>\n      <th>D3</th>\n      <th>D4</th>\n      <th>D5</th>\n      <th>D6</th>\n      <th>D7</th>\n      <th>D8</th>\n      <th>D9</th>\n    </tr>\n    <tr>\n      <th>Housing type</th>\n      <th>Occupancy status</th>\n      <th>Income owner</th>\n      <th></th>\n      <th></th>\n      <th></th>\n      <th></th>\n      <th></th>\n      <th></th>\n      <th></th>\n      <th></th>\n      <th></th>\n      <th></th>\n    </tr>\n  </thead>\n  <tbody>\n    <tr>\n      <th rowspan=\"5\" valign=\"top\">Multi-family</th>\n      <th rowspan=\"5\" valign=\"top\">Privately rented</th>\n      <th>D1</th>\n      <td>0.149581</td>\n      <td>0.068497</td>\n      <td>0.149302</td>\n      <td>0.103206</td>\n      <td>0.107108</td>\n      <td>0.093357</td>\n      <td>0.097701</td>\n      <td>0.068844</td>\n      <td>0.090355</td>\n      <td>0.072049</td>\n    </tr>\n    <tr>\n      <th>D10</th>\n      <td>0.090687</td>\n      <td>0.105143</td>\n      <td>0.090000</td>\n      <td>0.083294</td>\n      <td>0.093956</td>\n      <td>0.097789</td>\n      <td>0.102668</td>\n      <td>0.110460</td>\n      <td>0.113747</td>\n      <td>0.112255</td>\n    </tr>\n    <tr>\n      <th>D2</th>\n      <td>0.175912</td>\n      <td>0.047592</td>\n      <td>0.164074</td>\n      <td>0.110753</td>\n      <td>0.118910</td>\n      <td>0.119314</td>\n      <td>0.081843</td>\n      <td>0.067416</td>\n      <td>0.057803</td>\n      <td>0.056384</td>\n    </tr>\n    <tr>\n      <th>D3</th>\n      <td>0.172281</td>\n      <td>0.034828</td>\n      <td>0.151458</td>\n      <td>0.123091</td>\n      <td>0.116244</td>\n      <td>0.090400</td>\n      <td>0.088600</td>\n      <td>0.084081</td>\n      <td>0.073641</td>\n      <td>0.065375</td>\n    </tr>\n    <tr>\n      <th>D4</th>\n      <td>0.147198</td>\n      <td>0.038975</td>\n      <td>0.107708</td>\n      <td>0.119283</td>\n      <td>0.126770</td>\n      <td>0.130311</td>\n      <td>0.106767</td>\n      <td>0.092635</td>\n      <td>0.079548</td>\n      <td>0.050805</td>\n    </tr>\n  </tbody>\n</table>\n</div>"
     },
     "metadata": {},
     "output_type": "display_data"
    }
   ],
   "source": [
    "data_income_owner_ = data_income_owner.copy()\n",
    "data_income_owner_ = data_income_owner_.groupby(['Housing type', 'Occupancy status', 'Income owner', 'Income tenant']).sum()\n",
    "share_income_tenant = (data_income_owner_.unstack('Income tenant').T / data_income_owner_.unstack('Income tenant').sum(axis=1)).T\n",
    "print(share_income_tenant.head())\n",
    "share_income_tenant.to_csv(os.path.join(folder_output, 'share_income_tenant.csv'))"
   ],
   "metadata": {
    "collapsed": false,
    "pycharm": {
     "name": "#%%\n"
    }
   }
  },
  {
   "cell_type": "markdown",
   "metadata": {
    "pycharm": {
     "name": "#%% md\n"
    }
   },
   "source": [
    "#### Get proportion of other attributes based on Income owner in order to add it to stock_buildings"
   ]
  },
  {
   "cell_type": "code",
   "execution_count": 36,
   "metadata": {
    "pycharm": {
     "name": "#%%\n"
    }
   },
   "outputs": [
    {
     "data": {
      "text/plain": "Income owner                                       D1       D10        D2  \\\nHousing type Occupancy status Income tenant                                 \nMulti-family Privately rented D1             0.049976  0.316608  0.042466   \n                              D10            0.034957  0.560692  0.017549   \n                              D2             0.051833  0.326489  0.041156   \n                              D3             0.040265  0.339562  0.031219   \n                              D4             0.038916  0.356705  0.031216   \n\nIncome owner                                       D3        D4        D5  \\\nHousing type Occupancy status Income tenant                                 \nMulti-family Privately rented D1             0.045133  0.044297  0.055800   \n                              D10            0.013937  0.017916  0.028036   \n                              D2             0.041229  0.033680  0.054267   \n                              D3             0.037654  0.041916  0.047862   \n                              D4             0.033116  0.041486  0.049415   \n\nIncome owner                                       D6        D7        D8  \\\nHousing type Occupancy status Income tenant                                 \nMulti-family Privately rented D1             0.064975  0.088413  0.115768   \n                              D10            0.038011  0.053214  0.082760   \n                              D2             0.065806  0.081088  0.121678   \n                              D3             0.064347  0.092098  0.111372   \n                              D4             0.059924  0.083666  0.122893   \n\nIncome owner                                       D9  \nHousing type Occupancy status Income tenant            \nMulti-family Privately rented D1             0.176564  \n                              D10            0.152930  \n                              D2             0.182773  \n                              D3             0.193704  \n                              D4             0.182664  ",
      "text/html": "<div>\n<style scoped>\n    .dataframe tbody tr th:only-of-type {\n        vertical-align: middle;\n    }\n\n    .dataframe tbody tr th {\n        vertical-align: top;\n    }\n\n    .dataframe thead th {\n        text-align: right;\n    }\n</style>\n<table border=\"1\" class=\"dataframe\">\n  <thead>\n    <tr style=\"text-align: right;\">\n      <th></th>\n      <th></th>\n      <th>Income owner</th>\n      <th>D1</th>\n      <th>D10</th>\n      <th>D2</th>\n      <th>D3</th>\n      <th>D4</th>\n      <th>D5</th>\n      <th>D6</th>\n      <th>D7</th>\n      <th>D8</th>\n      <th>D9</th>\n    </tr>\n    <tr>\n      <th>Housing type</th>\n      <th>Occupancy status</th>\n      <th>Income tenant</th>\n      <th></th>\n      <th></th>\n      <th></th>\n      <th></th>\n      <th></th>\n      <th></th>\n      <th></th>\n      <th></th>\n      <th></th>\n      <th></th>\n    </tr>\n  </thead>\n  <tbody>\n    <tr>\n      <th rowspan=\"5\" valign=\"top\">Multi-family</th>\n      <th rowspan=\"5\" valign=\"top\">Privately rented</th>\n      <th>D1</th>\n      <td>0.049976</td>\n      <td>0.316608</td>\n      <td>0.042466</td>\n      <td>0.045133</td>\n      <td>0.044297</td>\n      <td>0.055800</td>\n      <td>0.064975</td>\n      <td>0.088413</td>\n      <td>0.115768</td>\n      <td>0.176564</td>\n    </tr>\n    <tr>\n      <th>D10</th>\n      <td>0.034957</td>\n      <td>0.560692</td>\n      <td>0.017549</td>\n      <td>0.013937</td>\n      <td>0.017916</td>\n      <td>0.028036</td>\n      <td>0.038011</td>\n      <td>0.053214</td>\n      <td>0.082760</td>\n      <td>0.152930</td>\n    </tr>\n    <tr>\n      <th>D2</th>\n      <td>0.051833</td>\n      <td>0.326489</td>\n      <td>0.041156</td>\n      <td>0.041229</td>\n      <td>0.033680</td>\n      <td>0.054267</td>\n      <td>0.065806</td>\n      <td>0.081088</td>\n      <td>0.121678</td>\n      <td>0.182773</td>\n    </tr>\n    <tr>\n      <th>D3</th>\n      <td>0.040265</td>\n      <td>0.339562</td>\n      <td>0.031219</td>\n      <td>0.037654</td>\n      <td>0.041916</td>\n      <td>0.047862</td>\n      <td>0.064347</td>\n      <td>0.092098</td>\n      <td>0.111372</td>\n      <td>0.193704</td>\n    </tr>\n    <tr>\n      <th>D4</th>\n      <td>0.038916</td>\n      <td>0.356705</td>\n      <td>0.031216</td>\n      <td>0.033116</td>\n      <td>0.041486</td>\n      <td>0.049415</td>\n      <td>0.059924</td>\n      <td>0.083666</td>\n      <td>0.122893</td>\n      <td>0.182664</td>\n    </tr>\n  </tbody>\n</table>\n</div>"
     },
     "metadata": {},
     "output_type": "display_data"
    }
   ],
   "source": [
    "share_income_owner = (data_income_owner_.unstack('Income owner').T / data_income_owner_.unstack('Income owner').sum(axis=1)).T\n",
    "print(share_income_owner.head())\n",
    "\n",
    "share_income_owner.to_csv(os.path.join(folder_output, 'share_income_owner.csv'))"
   ]
  },
  {
   "cell_type": "code",
   "execution_count": 37,
   "metadata": {
    "pycharm": {
     "name": "#%%\n"
    }
   },
   "outputs": [
    {
     "data": {
      "text/plain": "Housing type   Occupancy status  Income tenant  Heating energy  Energy performance  Income owner\nMulti-family   Social-housing    D1             Electricity     A                   NaN             4162.321113\nSingle-family  Social-housing    D1             Electricity     A                   NaN             1618.652411\nMulti-family   Owner-occupied    D1             Electricity     A                   NaN             1154.718085\nSingle-family  Owner-occupied    D1             Electricity     A                   NaN             5032.777538\nMulti-family   Social-housing    D2             Electricity     A                   NaN             4298.192125\n                                                                                                       ...     \nSingle-family  Privately rented  D10            Wood fuel       G                   D5                20.603479\n                                                                                    D6                25.586547\n                                                                                    D7                34.844713\n                                                                                    D8                63.545738\n                                                                                    D9               110.578082\nLength: 6720, dtype: float64"
     },
     "metadata": {},
     "output_type": "display_data"
    },
    {
     "name": "stdout",
     "output_type": "stream",
     "text": [
      "\n",
      " Total number of housing at this point 26,698,691\n"
     ]
    }
   ],
   "source": [
    "\n",
    "# multiplication will remove other value than Landlords (need to be added back later)\n",
    "stock_buildings_landlords = (stock_buildings * reindex_mi(share_income_owner, stock_buildings.index).T).T\n",
    "stock_buildings_landlords = stock_buildings_landlords.stack()\n",
    "\n",
    "stock_buildings_wolandlords = pd.concat([stock_buildings], keys=[float('nan')], names=['Income owner'])\n",
    "stock_buildings_wolandlords = stock_buildings_wolandlords.loc[stock_buildings_wolandlords.index.get_level_values('Occupancy status') != 'Privately rented']\n",
    "stock_buildings_wolandlords = stock_buildings_wolandlords.reorder_levels(stock_buildings_landlords.index.names)\n",
    "stock_buildings = pd.concat((stock_buildings_wolandlords, stock_buildings_landlords), axis=0)\n",
    "print(stock_buildings)\n",
    "print('\\n Total number of housing at this point {:,.0f}'.format(stock_buildings.sum()))"
   ]
  },
  {
   "cell_type": "markdown",
   "metadata": {
    "pycharm": {
     "name": "#%% md\n"
    }
   },
   "source": [
    "#### Handle Owner-occupied and social-housing\n",
    "\n",
    "1. Setting income owner = income occupant when occupancy status = 'Owner-occupied'\n",
    "2. Setting income owner = D10 when occupancy status = 'Social-housing'"
   ]
  },
  {
   "cell_type": "code",
   "execution_count": 38,
   "metadata": {
    "pycharm": {
     "name": "#%%\n"
    }
   },
   "outputs": [
    {
     "data": {
      "text/plain": "                                                                                             Stock buildings\nHousing type  Energy performance Heating energy Occupancy status Income owner Income tenant                 \nMulti-family  A                  Electricity    Social-housing   D10          D1                 4162.321113\nSingle-family A                  Electricity    Social-housing   D10          D1                 1618.652411\nMulti-family  A                  Electricity    Owner-occupied   D1           D1                 1154.718085\nSingle-family A                  Electricity    Owner-occupied   D1           D1                 5032.777538\nMulti-family  A                  Electricity    Social-housing   D10          D2                 4298.192125\n...                                                                                                      ...\nSingle-family G                  Wood fuel      Privately rented D5           D10                  20.603479\n                                                                 D6           D10                  25.586547\n                                                                 D7           D10                  34.844713\n                                                                 D8           D10                  63.545738\n                                                                 D9           D10                 110.578082\n\n[6720 rows x 1 columns]",
      "text/html": "<div>\n<style scoped>\n    .dataframe tbody tr th:only-of-type {\n        vertical-align: middle;\n    }\n\n    .dataframe tbody tr th {\n        vertical-align: top;\n    }\n\n    .dataframe thead th {\n        text-align: right;\n    }\n</style>\n<table border=\"1\" class=\"dataframe\">\n  <thead>\n    <tr style=\"text-align: right;\">\n      <th></th>\n      <th></th>\n      <th></th>\n      <th></th>\n      <th></th>\n      <th></th>\n      <th>Stock buildings</th>\n    </tr>\n    <tr>\n      <th>Housing type</th>\n      <th>Energy performance</th>\n      <th>Heating energy</th>\n      <th>Occupancy status</th>\n      <th>Income owner</th>\n      <th>Income tenant</th>\n      <th></th>\n    </tr>\n  </thead>\n  <tbody>\n    <tr>\n      <th>Multi-family</th>\n      <th>A</th>\n      <th>Electricity</th>\n      <th>Social-housing</th>\n      <th>D10</th>\n      <th>D1</th>\n      <td>4162.321113</td>\n    </tr>\n    <tr>\n      <th>Single-family</th>\n      <th>A</th>\n      <th>Electricity</th>\n      <th>Social-housing</th>\n      <th>D10</th>\n      <th>D1</th>\n      <td>1618.652411</td>\n    </tr>\n    <tr>\n      <th>Multi-family</th>\n      <th>A</th>\n      <th>Electricity</th>\n      <th>Owner-occupied</th>\n      <th>D1</th>\n      <th>D1</th>\n      <td>1154.718085</td>\n    </tr>\n    <tr>\n      <th>Single-family</th>\n      <th>A</th>\n      <th>Electricity</th>\n      <th>Owner-occupied</th>\n      <th>D1</th>\n      <th>D1</th>\n      <td>5032.777538</td>\n    </tr>\n    <tr>\n      <th>Multi-family</th>\n      <th>A</th>\n      <th>Electricity</th>\n      <th>Social-housing</th>\n      <th>D10</th>\n      <th>D2</th>\n      <td>4298.192125</td>\n    </tr>\n    <tr>\n      <th>...</th>\n      <th>...</th>\n      <th>...</th>\n      <th>...</th>\n      <th>...</th>\n      <th>...</th>\n      <td>...</td>\n    </tr>\n    <tr>\n      <th rowspan=\"5\" valign=\"top\">Single-family</th>\n      <th rowspan=\"5\" valign=\"top\">G</th>\n      <th rowspan=\"5\" valign=\"top\">Wood fuel</th>\n      <th rowspan=\"5\" valign=\"top\">Privately rented</th>\n      <th>D5</th>\n      <th>D10</th>\n      <td>20.603479</td>\n    </tr>\n    <tr>\n      <th>D6</th>\n      <th>D10</th>\n      <td>25.586547</td>\n    </tr>\n    <tr>\n      <th>D7</th>\n      <th>D10</th>\n      <td>34.844713</td>\n    </tr>\n    <tr>\n      <th>D8</th>\n      <th>D10</th>\n      <td>63.545738</td>\n    </tr>\n    <tr>\n      <th>D9</th>\n      <th>D10</th>\n      <td>110.578082</td>\n    </tr>\n  </tbody>\n</table>\n<p>6720 rows × 1 columns</p>\n</div>"
     },
     "metadata": {},
     "output_type": "display_data"
    },
    {
     "name": "stdout",
     "output_type": "stream",
     "text": [
      "\n",
      " Total number of housings 26,698,691\n"
     ]
    }
   ],
   "source": [
    "stock_buildings = stock_buildings.reset_index()\n",
    "\n",
    "# Owner-occupied\n",
    "stock_buildings.loc[stock_buildings.loc[:, 'Occupancy status'] == 'Owner-occupied', 'Income owner'] = stock_buildings.loc[stock_buildings.loc[:, 'Occupancy status'] == 'Owner-occupied', 'Income tenant']\n",
    "\n",
    "# social-housing\n",
    "temp = stock_buildings.loc[stock_buildings.loc[:, 'Occupancy status'] == 'Social-housing', 'Income owner']\n",
    "stock_buildings.loc[stock_buildings.loc[:, 'Occupancy status'] == 'Social-housing', 'Income owner'] = ['D10'] * len(temp)\n",
    "\n",
    "index_names = ['Housing type', 'Energy performance', 'Heating energy', 'Occupancy status', 'Income owner', 'Income tenant']\n",
    "stock_buildings = stock_buildings.set_index(index_names).iloc[:, 0].rename('Stock buildings')\n",
    "\n",
    "# stock_buildings.to_pickle(os.path.join(folder_output, 'building_stock_sdes2018.pkl'), protocol=4)\n",
    "stock_buildings.to_csv(os.path.join(folder_output, 'building_stock_sdes2018_aggregated.csv'))\n",
    "\n",
    "print(stock_buildings.to_frame())\n",
    "print('\\n Total number of housings {:,.0f}'.format(stock_buildings.sum()))"
   ]
  },
  {
   "cell_type": "markdown",
   "source": [
    "# Decomposition by component and heating system"
   ],
   "metadata": {
    "collapsed": false,
    "pycharm": {
     "name": "#%% md\n"
    }
   }
  },
  {
   "cell_type": "code",
   "execution_count": 42,
   "outputs": [
    {
     "data": {
      "text/plain": "                                                 Wall  Floor  Roof  Windows  \\\nEnergy performance Housing type  Heating energy                               \nB                  Multi-family  Natural gas     0.21   0.00  0.00     1.30   \n                                 Oil fuel        0.21   0.00  0.00     1.30   \n                                 Wood fuel       0.21   0.00  0.00     1.30   \n                   Single-family Natural gas     0.21   0.28  0.12     1.30   \n                                 Oil fuel        0.21   0.28  0.12     1.30   \n...                                               ...    ...   ...      ...   \nG                  Multi-family  Electricity     1.94   0.00  0.00     6.18   \n                                 Electricity     2.52   0.00  0.00     3.32   \n                   Single-family Electricity     1.74   0.54  0.13     6.77   \n                                 Electricity     0.57   2.10  0.32     5.56   \n                                 Electricity     1.61   2.30  0.25    13.73   \n\n                                                 Efficiency     Share  \nEnergy performance Housing type  Heating energy                        \nB                  Multi-family  Natural gas           0.85  1.000000  \n                                 Oil fuel              0.85  1.000000  \n                                 Wood fuel             0.85  1.000000  \n                   Single-family Natural gas           0.85  1.000000  \n                                 Oil fuel              0.85  1.000000  \n...                                                     ...       ...  \nG                  Multi-family  Electricity           0.95  0.646274  \n                                 Electricity           0.95  0.353726  \n                   Single-family Electricity           0.95  0.432415  \n                                 Electricity           0.95  0.409536  \n                                 Electricity           0.95  0.158049  \n\n[109 rows x 6 columns]",
      "text/html": "<div>\n<style scoped>\n    .dataframe tbody tr th:only-of-type {\n        vertical-align: middle;\n    }\n\n    .dataframe tbody tr th {\n        vertical-align: top;\n    }\n\n    .dataframe thead th {\n        text-align: right;\n    }\n</style>\n<table border=\"1\" class=\"dataframe\">\n  <thead>\n    <tr style=\"text-align: right;\">\n      <th></th>\n      <th></th>\n      <th></th>\n      <th>Wall</th>\n      <th>Floor</th>\n      <th>Roof</th>\n      <th>Windows</th>\n      <th>Efficiency</th>\n      <th>Share</th>\n    </tr>\n    <tr>\n      <th>Energy performance</th>\n      <th>Housing type</th>\n      <th>Heating energy</th>\n      <th></th>\n      <th></th>\n      <th></th>\n      <th></th>\n      <th></th>\n      <th></th>\n    </tr>\n  </thead>\n  <tbody>\n    <tr>\n      <th rowspan=\"5\" valign=\"top\">B</th>\n      <th rowspan=\"3\" valign=\"top\">Multi-family</th>\n      <th>Natural gas</th>\n      <td>0.21</td>\n      <td>0.00</td>\n      <td>0.00</td>\n      <td>1.30</td>\n      <td>0.85</td>\n      <td>1.000000</td>\n    </tr>\n    <tr>\n      <th>Oil fuel</th>\n      <td>0.21</td>\n      <td>0.00</td>\n      <td>0.00</td>\n      <td>1.30</td>\n      <td>0.85</td>\n      <td>1.000000</td>\n    </tr>\n    <tr>\n      <th>Wood fuel</th>\n      <td>0.21</td>\n      <td>0.00</td>\n      <td>0.00</td>\n      <td>1.30</td>\n      <td>0.85</td>\n      <td>1.000000</td>\n    </tr>\n    <tr>\n      <th rowspan=\"2\" valign=\"top\">Single-family</th>\n      <th>Natural gas</th>\n      <td>0.21</td>\n      <td>0.28</td>\n      <td>0.12</td>\n      <td>1.30</td>\n      <td>0.85</td>\n      <td>1.000000</td>\n    </tr>\n    <tr>\n      <th>Oil fuel</th>\n      <td>0.21</td>\n      <td>0.28</td>\n      <td>0.12</td>\n      <td>1.30</td>\n      <td>0.85</td>\n      <td>1.000000</td>\n    </tr>\n    <tr>\n      <th>...</th>\n      <th>...</th>\n      <th>...</th>\n      <td>...</td>\n      <td>...</td>\n      <td>...</td>\n      <td>...</td>\n      <td>...</td>\n      <td>...</td>\n    </tr>\n    <tr>\n      <th rowspan=\"5\" valign=\"top\">G</th>\n      <th rowspan=\"2\" valign=\"top\">Multi-family</th>\n      <th>Electricity</th>\n      <td>1.94</td>\n      <td>0.00</td>\n      <td>0.00</td>\n      <td>6.18</td>\n      <td>0.95</td>\n      <td>0.646274</td>\n    </tr>\n    <tr>\n      <th>Electricity</th>\n      <td>2.52</td>\n      <td>0.00</td>\n      <td>0.00</td>\n      <td>3.32</td>\n      <td>0.95</td>\n      <td>0.353726</td>\n    </tr>\n    <tr>\n      <th rowspan=\"3\" valign=\"top\">Single-family</th>\n      <th>Electricity</th>\n      <td>1.74</td>\n      <td>0.54</td>\n      <td>0.13</td>\n      <td>6.77</td>\n      <td>0.95</td>\n      <td>0.432415</td>\n    </tr>\n    <tr>\n      <th>Electricity</th>\n      <td>0.57</td>\n      <td>2.10</td>\n      <td>0.32</td>\n      <td>5.56</td>\n      <td>0.95</td>\n      <td>0.409536</td>\n    </tr>\n    <tr>\n      <th>Electricity</th>\n      <td>1.61</td>\n      <td>2.30</td>\n      <td>0.25</td>\n      <td>13.73</td>\n      <td>0.95</td>\n      <td>0.158049</td>\n    </tr>\n  </tbody>\n</table>\n<p>109 rows × 6 columns</p>\n</div>"
     },
     "execution_count": 42,
     "metadata": {},
     "output_type": "execute_result"
    }
   ],
   "source": [
    "archetypes = pd.read_csv(os.path.join('output', 'archetypes.csv'))\n",
    "archetypes.rename(columns={'U_wall': 'Wall', 'U_floor': 'Floor', 'U_roof': 'Roof', 'U_windows': 'Windows', 'Proba': 'Share', 'Performance': 'Energy performance'}, inplace=True)\n",
    "archetypes['Energy performance'].replace({'A': 'B'}, inplace=True)\n",
    "archetypes.set_index(['Energy performance', 'Housing type', 'Heating energy'], inplace=True)\n",
    "archetypes.drop(['Electricity', 'Number'], inplace=True, axis=1)\n",
    "archetypes"
   ],
   "metadata": {
    "collapsed": false,
    "pycharm": {
     "name": "#%%\n"
    }
   }
  },
  {
   "cell_type": "code",
   "execution_count": 43,
   "outputs": [],
   "source": [
    "stock_buildings  = stock_buildings.reset_index('Energy performance').replace({'A': 'B'}).set_index('Energy performance', append=True)"
   ],
   "metadata": {
    "collapsed": false,
    "pycharm": {
     "name": "#%%\n"
    }
   }
  },
  {
   "cell_type": "code",
   "execution_count": 44,
   "outputs": [
    {
     "name": "stderr",
     "output_type": "stream",
     "text": [
      "/Users/lucas/opt/anaconda3/envs/DataAnalysis/lib/python3.8/site-packages/pandas/core/indexing.py:925: PerformanceWarning: indexing past lexsort depth may impact performance.\n",
      "  return self._getitem_tuple(key)\n"
     ]
    }
   ],
   "source": [
    "new_levels = ['Wall', 'Floor', 'Roof', 'Windows', 'Efficiency']\n",
    "new_stock = pd.DataFrame()\n",
    "for idx, group_stock in stock_buildings.groupby(['Energy performance', 'Housing type', 'Heating energy']):\n",
    "    for i, row in archetypes.loc[idx, :].iterrows():\n",
    "        stock = row['Share'] * group_stock\n",
    "        stock = pd.concat((stock, pd.concat([row[new_levels]] * group_stock.shape[0], keys=group_stock.index, axis=1).T), axis=1).set_index(new_levels, append=True)\n",
    "        new_stock = pd.concat((new_stock, stock), axis=0)"
   ],
   "metadata": {
    "collapsed": false,
    "pycharm": {
     "name": "#%%\n"
    }
   }
  },
  {
   "cell_type": "code",
   "execution_count": 45,
   "outputs": [
    {
     "data": {
      "text/plain": "                                                                                                                 Stock buildings\nHousing type  Heating energy Occupancy status Income owner Income tenant Wall Floor Roof Windows Heating system                 \nMulti-family  Electricity    Owner-occupied   D1           D1            0.21 0.00  0.00 1.30    3.00                2225.100088\n                                                                         0.28 0.00  0.00 4.45    0.95                5688.251234\n                                                                         0.53 0.00  0.00 2.40    0.95               10388.296466\n                                                                         0.59 0.00  0.00 6.72    0.95               15750.031490\n                                                                         1.22 0.00  0.00 2.87    3.00                5649.117553\n...                                                                                                                          ...\nSingle-family Wood fuel      Social-housing   D10          D9            0.95 0.28  0.38 4.18    0.75                  24.556174\n                                                                         1.75 0.44  0.57 3.09    0.75                  44.776096\n                                                                         2.04 2.18  0.24 5.27    0.75                   6.528044\n                                                                         2.17 1.42  0.29 4.38    0.85                  10.746958\n                                                                         2.51 0.47  2.11 4.23    0.75                  12.186275\n\n[13080 rows x 1 columns]",
      "text/html": "<div>\n<style scoped>\n    .dataframe tbody tr th:only-of-type {\n        vertical-align: middle;\n    }\n\n    .dataframe tbody tr th {\n        vertical-align: top;\n    }\n\n    .dataframe thead th {\n        text-align: right;\n    }\n</style>\n<table border=\"1\" class=\"dataframe\">\n  <thead>\n    <tr style=\"text-align: right;\">\n      <th></th>\n      <th></th>\n      <th></th>\n      <th></th>\n      <th></th>\n      <th></th>\n      <th></th>\n      <th></th>\n      <th></th>\n      <th></th>\n      <th>Stock buildings</th>\n    </tr>\n    <tr>\n      <th>Housing type</th>\n      <th>Heating energy</th>\n      <th>Occupancy status</th>\n      <th>Income owner</th>\n      <th>Income tenant</th>\n      <th>Wall</th>\n      <th>Floor</th>\n      <th>Roof</th>\n      <th>Windows</th>\n      <th>Heating system</th>\n      <th></th>\n    </tr>\n  </thead>\n  <tbody>\n    <tr>\n      <th rowspan=\"5\" valign=\"top\">Multi-family</th>\n      <th rowspan=\"5\" valign=\"top\">Electricity</th>\n      <th rowspan=\"5\" valign=\"top\">Owner-occupied</th>\n      <th rowspan=\"5\" valign=\"top\">D1</th>\n      <th rowspan=\"5\" valign=\"top\">D1</th>\n      <th>0.21</th>\n      <th>0.00</th>\n      <th>0.00</th>\n      <th>1.30</th>\n      <th>3.00</th>\n      <td>2225.100088</td>\n    </tr>\n    <tr>\n      <th>0.28</th>\n      <th>0.00</th>\n      <th>0.00</th>\n      <th>4.45</th>\n      <th>0.95</th>\n      <td>5688.251234</td>\n    </tr>\n    <tr>\n      <th>0.53</th>\n      <th>0.00</th>\n      <th>0.00</th>\n      <th>2.40</th>\n      <th>0.95</th>\n      <td>10388.296466</td>\n    </tr>\n    <tr>\n      <th>0.59</th>\n      <th>0.00</th>\n      <th>0.00</th>\n      <th>6.72</th>\n      <th>0.95</th>\n      <td>15750.031490</td>\n    </tr>\n    <tr>\n      <th>1.22</th>\n      <th>0.00</th>\n      <th>0.00</th>\n      <th>2.87</th>\n      <th>3.00</th>\n      <td>5649.117553</td>\n    </tr>\n    <tr>\n      <th>...</th>\n      <th>...</th>\n      <th>...</th>\n      <th>...</th>\n      <th>...</th>\n      <th>...</th>\n      <th>...</th>\n      <th>...</th>\n      <th>...</th>\n      <th>...</th>\n      <td>...</td>\n    </tr>\n    <tr>\n      <th rowspan=\"5\" valign=\"top\">Single-family</th>\n      <th rowspan=\"5\" valign=\"top\">Wood fuel</th>\n      <th rowspan=\"5\" valign=\"top\">Social-housing</th>\n      <th rowspan=\"5\" valign=\"top\">D10</th>\n      <th rowspan=\"5\" valign=\"top\">D9</th>\n      <th>0.95</th>\n      <th>0.28</th>\n      <th>0.38</th>\n      <th>4.18</th>\n      <th>0.75</th>\n      <td>24.556174</td>\n    </tr>\n    <tr>\n      <th>1.75</th>\n      <th>0.44</th>\n      <th>0.57</th>\n      <th>3.09</th>\n      <th>0.75</th>\n      <td>44.776096</td>\n    </tr>\n    <tr>\n      <th>2.04</th>\n      <th>2.18</th>\n      <th>0.24</th>\n      <th>5.27</th>\n      <th>0.75</th>\n      <td>6.528044</td>\n    </tr>\n    <tr>\n      <th>2.17</th>\n      <th>1.42</th>\n      <th>0.29</th>\n      <th>4.38</th>\n      <th>0.85</th>\n      <td>10.746958</td>\n    </tr>\n    <tr>\n      <th>2.51</th>\n      <th>0.47</th>\n      <th>2.11</th>\n      <th>4.23</th>\n      <th>0.75</th>\n      <td>12.186275</td>\n    </tr>\n  </tbody>\n</table>\n<p>13080 rows × 1 columns</p>\n</div>"
     },
     "metadata": {},
     "output_type": "display_data"
    }
   ],
   "source": [
    "new_stock['Heating system'] = new_stock.index.get_level_values('Efficiency')\n",
    "new_stock['Heating system'].replace({0.9: 'Performance boiler', 0.65: 'Standard boiler', 2: 'Heat pump'}, inplace=True)\n",
    "new_stock.set_index('Heating system', append=True, inplace=True)\n",
    "new_stock = new_stock.droplevel(['Energy performance', 'Efficiency'])\n",
    "new_stock = new_stock.groupby(new_stock.index.names).sum()\n",
    "print(new_stock)\n",
    "\n",
    "new_stock.to_csv(os.path.join(folder_output, 'building_stock_sdes2018.csv'))"
   ],
   "metadata": {
    "collapsed": false,
    "pycharm": {
     "name": "#%%\n"
    }
   }
  },
  {
   "cell_type": "code",
   "execution_count": 50,
   "outputs": [
    {
     "name": "stdout",
     "output_type": "stream",
     "text": [
      "\n",
      " Total number of housings 26,698,691\n"
     ]
    }
   ],
   "source": [
    "print('\\n Total number of housings {:,.0f}'.format(new_stock.squeeze().sum() ))\n"
   ],
   "metadata": {
    "collapsed": false,
    "pycharm": {
     "name": "#%%\n"
    }
   }
  },
  {
   "cell_type": "markdown",
   "metadata": {
    "pycharm": {
     "name": "#%% md\n"
    }
   },
   "source": [
    "## Main - subplots by levels"
   ]
  },
  {
   "cell_type": "code",
   "execution_count": 46,
   "outputs": [
    {
     "ename": "FileNotFoundError",
     "evalue": "[Errno 2] No such file or directory: 'input/colors.json'",
     "output_type": "error",
     "traceback": [
      "\u001B[0;31m---------------------------------------------------------------------------\u001B[0m",
      "\u001B[0;31mFileNotFoundError\u001B[0m                         Traceback (most recent call last)",
      "\u001B[0;32m/var/folders/p9/3r4_fgzd72j7b469xxshgfnh0000gn/T/ipykernel_9657/2186166654.py\u001B[0m in \u001B[0;36m<module>\u001B[0;34m\u001B[0m\n\u001B[1;32m      2\u001B[0m \u001B[0;34m\u001B[0m\u001B[0m\n\u001B[1;32m      3\u001B[0m \u001B[0mname_file\u001B[0m \u001B[0;34m=\u001B[0m \u001B[0mos\u001B[0m\u001B[0;34m.\u001B[0m\u001B[0mpath\u001B[0m\u001B[0;34m.\u001B[0m\u001B[0mjoin\u001B[0m\u001B[0;34m(\u001B[0m\u001B[0;34m'input'\u001B[0m\u001B[0;34m,\u001B[0m \u001B[0;34m'colors.json'\u001B[0m\u001B[0;34m)\u001B[0m\u001B[0;34m\u001B[0m\u001B[0;34m\u001B[0m\u001B[0m\n\u001B[0;32m----> 4\u001B[0;31m \u001B[0;32mwith\u001B[0m \u001B[0mopen\u001B[0m\u001B[0;34m(\u001B[0m\u001B[0mname_file\u001B[0m\u001B[0;34m)\u001B[0m \u001B[0;32mas\u001B[0m \u001B[0mfile\u001B[0m\u001B[0;34m:\u001B[0m\u001B[0;34m\u001B[0m\u001B[0;34m\u001B[0m\u001B[0m\n\u001B[0m\u001B[1;32m      5\u001B[0m     \u001B[0mdict_color\u001B[0m \u001B[0;34m=\u001B[0m \u001B[0mjson\u001B[0m\u001B[0;34m.\u001B[0m\u001B[0mload\u001B[0m\u001B[0;34m(\u001B[0m\u001B[0mfile\u001B[0m\u001B[0;34m)\u001B[0m\u001B[0;34m\u001B[0m\u001B[0;34m\u001B[0m\u001B[0m\n",
      "\u001B[0;31mFileNotFoundError\u001B[0m: [Errno 2] No such file or directory: 'input/colors.json'"
     ]
    }
   ],
   "source": [
    "# Graphs\n",
    "\n",
    "name_file = os.path.join('input', 'colors.json')\n",
    "with open(name_file) as file:\n",
    "    dict_color = json.load(file)"
   ],
   "metadata": {
    "collapsed": false,
    "pycharm": {
     "name": "#%%\n"
    }
   }
  },
  {
   "cell_type": "code",
   "execution_count": null,
   "metadata": {
    "pycharm": {
     "name": "#%%\n"
    }
   },
   "outputs": [],
   "source": [
    "dict_order = {'Income tenant': ['D1', 'D2', 'D3', 'D4', 'D5', 'D6', 'D7', 'D8', 'D9', 'D10'],\n",
    "              'Income owner': ['D1', 'D2', 'D3', 'D4', 'D5', 'D6', 'D7', 'D8', 'D9', 'D10'],\n",
    "              'Heating energy': ['Electricity', 'Natural gas', 'Oil fuel', 'Wood fuel'],\n",
    "              'Energy performance': ['G', 'F', 'E', 'D', 'C', 'B', 'A'],\n",
    "              'Housing type': ['Single-family', 'Multi-family'],\n",
    "              'Occupancy status': ['Owner-occupied', 'Privately rented', 'Social-housing']\n",
    "             }\n",
    "\n",
    "order_attributes = ['Housing type', 'Heating energy', 'Energy performance', 'Occupancy status', 'Income owner', 'Income tenant']\n",
    "stock_buildings = stock_buildings.reorder_levels(order_attributes)\n",
    "\n",
    "subplots_attributes(stock_buildings, dict_order=dict_order, suptitle=None, dict_color=dict_color, option='percent', sharey=True)\n",
    "subplots_attributes(stock_buildings, dict_order=dict_order, suptitle=None, dict_color=dict_color, option='million', sharey=True)"
   ]
  },
  {
   "cell_type": "code",
   "execution_count": null,
   "outputs": [],
   "source": [
    "plot_attribute(stock_buildings, attribute='Energy performance', dict_order=dict_order, suptitle=None, option='million', dict_color=dict_color, width=0.3)"
   ],
   "metadata": {
    "collapsed": false,
    "pycharm": {
     "name": "#%%\n"
    }
   }
  },
  {
   "cell_type": "code",
   "execution_count": null,
   "metadata": {
    "pycharm": {
     "name": "#%%\n"
    }
   },
   "outputs": [],
   "source": [
    "for attribute in stock_buildings.index.names:\n",
    "    print(attribute)\n",
    "    plot_attribute(stock_buildings, attribute=attribute, dict_order=dict_order, suptitle='Buildings stocks', option='million', dict_color=dict_color, width=0.3)\n",
    "    df = stock_buildings.groupby(attribute).sum().loc[dict_order[attribute]]\n",
    "    print(df)\n",
    "    print(df / df.sum())"
   ]
  },
  {
   "cell_type": "code",
   "execution_count": null,
   "metadata": {
    "pycharm": {
     "name": "#%%\n"
    }
   },
   "outputs": [],
   "source": [
    "plot_attribute2attribute(stock_buildings, 'Energy performance', 'Heating energy', dict_order=dict_order, dict_color=dict_color)\n",
    "plot_attribute2attribute(stock_buildings, 'Energy performance', 'Heating energy', dict_order=dict_order, dict_color=dict_color, percent=True)"
   ]
  },
  {
   "cell_type": "code",
   "execution_count": null,
   "outputs": [],
   "source": [],
   "metadata": {
    "collapsed": false,
    "pycharm": {
     "name": "#%%\n"
    }
   }
  },
  {
   "cell_type": "code",
   "execution_count": null,
   "outputs": [],
   "source": [
    "stock_buildings.groupby(['Energy performance', 'Heating energy']).sum().unstack('Heating energy')"
   ],
   "metadata": {
    "collapsed": false,
    "pycharm": {
     "name": "#%%\n"
    }
   }
  },
  {
   "cell_type": "code",
   "execution_count": null,
   "outputs": [],
   "source": [
    "(stock_buildings.groupby(['Energy performance', 'Heating energy']).sum().unstack('Heating energy').T / stock_buildings.groupby(['Energy performance', 'Heating energy']).sum().unstack('Heating energy').sum(axis=1)).T"
   ],
   "metadata": {
    "collapsed": false,
    "pycharm": {
     "name": "#%%\n"
    }
   }
  },
  {
   "cell_type": "code",
   "execution_count": null,
   "outputs": [],
   "source": [],
   "metadata": {
    "collapsed": false,
    "pycharm": {
     "name": "#%%\n"
    }
   }
  }
 ],
 "metadata": {
  "kernelspec": {
   "name": "dataanalysis",
   "language": "python",
   "display_name": "Python (dataanalysis)"
  },
  "language_info": {
   "codemirror_mode": {
    "name": "ipython",
    "version": 3
   },
   "file_extension": ".py",
   "mimetype": "text/x-python",
   "name": "python",
   "nbconvert_exporter": "python",
   "pygments_lexer": "ipython3",
   "version": "3.9.5"
  }
 },
 "nbformat": 4,
 "nbformat_minor": 4
}