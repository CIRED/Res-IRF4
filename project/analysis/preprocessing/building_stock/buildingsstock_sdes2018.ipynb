{
 "cells": [
  {
   "cell_type": "markdown",
   "metadata": {
    "pycharm": {
     "name": "#%% md\n"
    }
   },
   "source": [
    "# SDES-2018 Building stock"
   ]
  },
  {
   "cell_type": "code",
   "execution_count": 1,
   "metadata": {
    "tags": [],
    "pycharm": {
     "name": "#%%\n"
    }
   },
   "outputs": [],
   "source": [
    "import os\n",
    "import pandas as pd\n",
    "import json\n",
    "import sys\n",
    "from graphs import plot_attribute, subplots_attributes, subplots_pie, plot_attribute2attribute\n"
   ]
  },
  {
   "cell_type": "code",
   "execution_count": 2,
   "outputs": [],
   "source": [
    "sys.path.append('..')\n",
    "sys.path.append('../..')\n",
    "from project.utils import reindex_mi"
   ],
   "metadata": {
    "collapsed": false,
    "pycharm": {
     "name": "#%%\n"
    }
   }
  },
  {
   "cell_type": "code",
   "execution_count": 3,
   "metadata": {
    "collapsed": false,
    "jupyter": {
     "outputs_hidden": false
    },
    "pycharm": {
     "name": "#%%\n"
    }
   },
   "outputs": [],
   "source": [
    "folder_input = 'sdes_2018'\n",
    "folder_output = 'output'\n",
    "if not os.path.isdir(folder_output):\n",
    "    os.mkdir(folder_output)"
   ]
  },
  {
   "cell_type": "markdown",
   "metadata": {
    "pycharm": {
     "name": "#%% md\n"
    }
   },
   "source": [
    "# Reading input"
   ]
  },
  {
   "cell_type": "markdown",
   "metadata": {
    "pycharm": {
     "name": "#%% md\n"
    }
   },
   "source": [
    "## Main input\n",
    "Sources: SDES-2018\n",
    "Status: Confidential"
   ]
  },
  {
   "cell_type": "code",
   "execution_count": 4,
   "metadata": {
    "collapsed": false,
    "jupyter": {
     "outputs_hidden": false
    },
    "pycharm": {
     "name": "#%%\n"
    }
   },
   "outputs": [],
   "source": [
    "replace_dict = {r'^(P)$': 'Owner-occupied',\n",
    "                'Gaz': 'Natural gas',\n",
    "                'Bois\\*': 'Wood fuel',\n",
    "                'Fioul domestique': 'Oil fuel',\n",
    "                'Chauffage urbain': 'Urban heating',\n",
    "                'MA': 'Single-family',\n",
    "                'Maison': 'Single-family',\n",
    "                'AP': 'Multi-family',\n",
    "                'Appartement': 'Multi-family',\n",
    "                'LP': 'Privately rented',\n",
    "                'Autres.*': 'Others',\n",
    "                'LS': 'Social-housing',\n",
    "                '.?lectricit.*': 'Electricity',}"
   ]
  },
  {
   "cell_type": "code",
   "execution_count": 5,
   "metadata": {
    "collapsed": false,
    "jupyter": {
     "outputs_hidden": false
    },
    "pycharm": {
     "name": "#%%\n"
    }
   },
   "outputs": [
    {
     "name": "stdout",
     "output_type": "stream",
     "text": [
      "<pandas.io.formats.style.Styler object at 0x7fc9cacf8190>\n",
      "Total number of housing in this study 28,620,348\n"
     ]
    }
   ],
   "source": [
    "name_file = 'comptages_DPE.csv'\n",
    "stock_buildings = pd.read_csv(os.path.join(folder_input, name_file), sep=',', header=[0], encoding='latin-1',\n",
    "                        index_col=[0, 1, 2, 3, 4]).squeeze()\n",
    "index_names = ['Housing type', 'Occupancy status', 'Income tenant', 'Heating energy', 'Energy performance']\n",
    "stock_buildings.index.set_names(index_names, inplace=True)\n",
    "\n",
    "stock_buildings = stock_buildings.reset_index().replace(replace_dict, regex=True).set_index(stock_buildings.index.names).squeeze()\n",
    "\n",
    "print(stock_buildings.head().to_frame().style.format('{:.1f}'))\n",
    "\n",
    "\n",
    "print('Total number of housing in this study {:,.0f}'.format(stock_buildings.sum()))"
   ]
  },
  {
   "cell_type": "markdown",
   "metadata": {
    "pycharm": {
     "name": "#%% md\n"
    }
   },
   "source": [
    "### Remove gratuity"
   ]
  },
  {
   "cell_type": "code",
   "execution_count": 6,
   "metadata": {
    "collapsed": false,
    "jupyter": {
     "outputs_hidden": false
    },
    "pycharm": {
     "name": "#%%\n"
    }
   },
   "outputs": [
    {
     "name": "stdout",
     "output_type": "stream",
     "text": [
      "<pandas.io.formats.style.Styler object at 0x7fc9d82495b0>\n",
      "Total number of housing at this point 28,366,454\n"
     ]
    }
   ],
   "source": [
    "stock_buildings = stock_buildings.loc[stock_buildings.index.get_level_values('Occupancy status') != 'G']\n",
    "print(stock_buildings.head().to_frame().style.format('{:.1f}'))\n",
    "print('Total number of housing at this point {:,.0f}'.format(stock_buildings.sum()))"
   ]
  },
  {
   "cell_type": "markdown",
   "metadata": {
    "pycharm": {
     "name": "#%% md\n"
    }
   },
   "source": [
    "### De-aggregate 'Others' to 'Wood fuel' and 'Oil fuel'\n",
    "\n",
    "Using another source of data, we de-aggregate each rows where Heating energy == 'Others' to 'Wood fuel' and 'Oil fuel'.  \n",
    "Rate depends on Housing type"
   ]
  },
  {
   "cell_type": "markdown",
   "metadata": {
    "pycharm": {
     "name": "#%% md\n"
    }
   },
   "source": [
    "#### Read data oil fuel and wood fuel"
   ]
  },
  {
   "cell_type": "code",
   "execution_count": 7,
   "metadata": {
    "collapsed": false,
    "jupyter": {
     "outputs_hidden": false
    },
    "pycharm": {
     "name": "#%%\n"
    }
   },
   "outputs": [
    {
     "name": "stdout",
     "output_type": "stream",
     "text": [
      "                                                  Parc en milliers de logements  \\\n",
      "Energie principale de chauffage Type de logement                                  \n",
      "Autres énergies                 Appartement                           19.155201   \n",
      "Bois*                           Appartement                           51.225000   \n",
      "Chauffage urbain                Appartement                         1234.451978   \n",
      "Fioul domestique                Appartement                          585.193629   \n",
      "Gaz de pétrole liquéfié         Appartement                           10.900000   \n",
      "Autres énergies                 Maison                               168.656387   \n",
      "Bois*                           Maison                              1197.667239   \n",
      "Fioul domestique                Maison                              2867.700000   \n",
      "Gaz de pétrole liquéfié         Maison                               391.261813   \n",
      "\n",
      "                                                  Taux du parc en %  \n",
      "Energie principale de chauffage Type de logement                     \n",
      "Autres énergies                 Appartement                0.010077  \n",
      "Bois*                           Appartement                0.026947  \n",
      "Chauffage urbain                Appartement                0.649395  \n",
      "Fioul domestique                Appartement                0.307847  \n",
      "Gaz de pétrole liquéfié         Appartement                0.005734  \n",
      "Autres énergies                 Maison                     0.036464  \n",
      "Bois*                           Maison                     0.258939  \n",
      "Fioul domestique                Maison                     0.620005  \n",
      "Gaz de pétrole liquéfié         Maison                     0.084592  \n",
      "<pandas.io.formats.style.Styler object at 0x7fc9cadc2550>\n"
     ]
    }
   ],
   "source": [
    "name_file = 'fuel_oil_wood_2018.xlsx'\n",
    "data_fuel = pd.read_excel(os.path.join(folder_input, name_file), header=[0], index_col=[1, 0])\n",
    "print(data_fuel.head(10))\n",
    "\n",
    "data_fuel.index.set_names(['Heating energy', 'Housing type'], inplace=True)\n",
    "data_fuel = data_fuel.reset_index().replace(replace_dict, regex=True).set_index(data_fuel.index.names).squeeze()\n",
    "\n",
    "fuel_list = ['Wood fuel', 'Oil fuel']\n",
    "data_fuel = data_fuel[data_fuel.index.get_level_values('Heating energy').isin(fuel_list)]\n",
    "data_fuel = data_fuel.loc[:, 'Taux du parc en %']\n",
    "print(data_fuel.head(10).to_frame().style.format('{:.2f}'))"
   ]
  },
  {
   "cell_type": "markdown",
   "metadata": {
    "pycharm": {
     "name": "#%% md\n"
    }
   },
   "source": [
    "#### De-aggregate stock_buildings rows"
   ]
  },
  {
   "cell_type": "markdown",
   "metadata": {
    "pycharm": {
     "name": "#%% md\n"
    }
   },
   "source": [
    "##### Preparing data_fuel to de-aggregate"
   ]
  },
  {
   "cell_type": "code",
   "execution_count": 8,
   "metadata": {
    "pycharm": {
     "name": "#%%\n"
    }
   },
   "outputs": [
    {
     "name": "stdout",
     "output_type": "stream",
     "text": [
      "<pandas.io.formats.style.Styler object at 0x7fc9984688b0>\n"
     ]
    }
   ],
   "source": [
    "data_fuel = data_fuel.to_frame().pivot_table(columns='Heating energy', index='Housing type')\n",
    "data_fuel = pd.concat([data_fuel], keys=['Others'], names=['Heating energy'], axis=0)\n",
    "print(data_fuel.style.format('{:.0%}'))"
   ]
  },
  {
   "cell_type": "markdown",
   "metadata": {
    "pycharm": {
     "name": "#%% md\n"
    }
   },
   "source": [
    "##### Combining data_fuel with stock_buildings"
   ]
  },
  {
   "cell_type": "code",
   "execution_count": 9,
   "metadata": {
    "pycharm": {
     "name": "#%%\n"
    }
   },
   "outputs": [
    {
     "name": "stdout",
     "output_type": "stream",
     "text": [
      "<pandas.io.formats.style.Styler object at 0x7fc9cadcafd0>\n",
      "<pandas.io.formats.style.Styler object at 0x7fc9cadcaf10>\n",
      "\n",
      " Total number of housing at this point 26,698,691\n"
     ]
    }
   ],
   "source": [
    "data_fuel_re = reindex_mi(data_fuel, stock_buildings.index)\n",
    "\n",
    "# multiplication will remove other value than Others (need to be added back later)\n",
    "stock_buildings_others = (stock_buildings * data_fuel_re.T).T\n",
    "stock_buildings_others.dropna(inplace=True)\n",
    "stock_buildings_others = stock_buildings_others.droplevel('Heating energy', axis=0).stack().iloc[:, 0]\n",
    "stock_buildings_others = stock_buildings_others.reorder_levels(stock_buildings.index.names)\n",
    "print(stock_buildings_others.head().to_frame().style.format('{:.0f}'))\n",
    "\n",
    "\n",
    "stock_buildings = pd.concat((stock_buildings.loc[stock_buildings.index.get_level_values('Heating energy') != 'Others'], stock_buildings_others), axis=0)\n",
    "print(stock_buildings.groupby('Heating energy').sum().to_frame().style.format('{:,.0f}'))\n",
    "print('\\n Total number of housing at this point {:,.0f}'.format(stock_buildings.sum()))\n"
   ]
  },
  {
   "cell_type": "markdown",
   "metadata": {
    "pycharm": {
     "name": "#%% md\n"
    }
   },
   "source": [
    "### Add owner income as attribute for each building\n",
    "\n",
    "Using another source of data, we add another level (or attribute) to building stocks: income owner.\n",
    "Income owner is useful to determine socio-economic parameters like the interest rate or the investment duration."
   ]
  },
  {
   "cell_type": "markdown",
   "metadata": {
    "pycharm": {
     "name": "#%% md\n"
    }
   },
   "source": [
    "#### Read data income owner"
   ]
  },
  {
   "cell_type": "code",
   "execution_count": 10,
   "metadata": {
    "collapsed": false,
    "jupyter": {
     "outputs_hidden": false
    },
    "pycharm": {
     "name": "#%%\n"
    }
   },
   "outputs": [
    {
     "name": "stdout",
     "output_type": "stream",
     "text": [
      "                                      DATECONST DECILE_PB    NB_LOG\n",
      "NATLOC OCC DECILE ENERGIE ETIQUETTE                                \n",
      "AP     LP  D1     Autres  A          Après 1948        D1  1.474775\n",
      "MA     LP  D1     Autres  A          Après 1948        D1  9.673954\n",
      "AP     LP  D2     Autres  A          Après 1948        D1  0.952759\n",
      "MA     LP  D2     Autres  A          Après 1948        D1  9.703615\n",
      "AP     LP  D3     Autres  A          Après 1948        D1  0.334222\n",
      "Housing type   Occupancy status  Income tenant  Heating energy  Energy performance  Income owner\n",
      "Multi-family   Privately rented  D1             Others          A                   D1              1.474775\n",
      "Single-family  Privately rented  D1             Others          A                   D1              9.673954\n",
      "Multi-family   Privately rented  D2             Others          A                   D1              0.952759\n",
      "Single-family  Privately rented  D2             Others          A                   D1              9.703615\n",
      "Multi-family   Privately rented  D3             Others          A                   D1              0.334222\n",
      "Name: NB_LOG, dtype: float64\n",
      "\n",
      " Total number of housing at this point 2,614,910 - stock with income owner\n"
     ]
    }
   ],
   "source": [
    "name_file = 'parclocatifprive_post48_revenusPB.csv'\n",
    "data_income_owner = pd.read_csv(os.path.join(folder_input, name_file), sep=',', header=[0],\n",
    "                                index_col=[2, 0, 3, 5, 6])\n",
    "print(data_income_owner.head())\n",
    "\n",
    "index_names = ['Housing type', 'Occupancy status', 'Income tenant', 'Heating energy', 'Energy performance']\n",
    "data_income_owner.index.set_names(index_names, inplace=True)\n",
    "\n",
    "data_income_owner.rename(columns={'DECILE_PB': 'Income owner'}, inplace=True)\n",
    "data_income_owner.reset_index(inplace=True)\n",
    "data_income_owner.set_index(index_names + ['Income owner'], inplace=True)\n",
    "\n",
    "data_income_owner = data_income_owner.reset_index().replace(replace_dict, regex=True).set_index(data_income_owner.index.names).squeeze()\n",
    "\n",
    "\n",
    "data_income_owner = data_income_owner.loc[data_income_owner.index.get_level_values('Income owner') != 'NC']\n",
    "data_income_owner = data_income_owner.loc[:, 'NB_LOG']\n",
    "\n",
    "print(data_income_owner.head())\n",
    "print('\\n Total number of housing at this point {:,.0f} - stock with income owner'.format(data_income_owner.sum()))"
   ]
  },
  {
   "cell_type": "markdown",
   "metadata": {
    "pycharm": {
     "name": "#%% md\n"
    }
   },
   "source": [
    "#### De-aggregate 'Others' to 'Wood fuel' and 'Oil fuel'\n",
    "\n",
    "Exactly what it is done before for stock_buildings data."
   ]
  },
  {
   "cell_type": "code",
   "execution_count": 11,
   "metadata": {
    "collapsed": false,
    "jupyter": {
     "outputs_hidden": false
    },
    "pycharm": {
     "name": "#%%\n"
    }
   },
   "outputs": [
    {
     "name": "stdout",
     "output_type": "stream",
     "text": [
      "<pandas.io.formats.style.Styler object at 0x7fc9d82495e0>\n",
      "Housing type   Occupancy status  Income tenant  Heating energy  Energy performance  Income owner\n",
      "Multi-family   Privately rented  D1             Electricity     A                   D1               34.508022\n",
      "Single-family  Privately rented  D1             Electricity     A                   D1              101.310182\n",
      "Multi-family   Privately rented  D2             Electricity     A                   D1               50.501777\n",
      "Single-family  Privately rented  D2             Electricity     A                   D1              181.706836\n",
      "Multi-family   Privately rented  D3             Electricity     A                   D1               52.694762\n",
      "dtype: float64\n",
      "\n",
      " Total number of housing at this point 2,486,346 - stock with income owner\n"
     ]
    }
   ],
   "source": [
    "data_fuel_re = reindex_mi(data_fuel, data_income_owner.index)\n",
    "print(data_fuel_re.head().style.format('{:.0%}'))\n",
    "\n",
    "# multiplication will remove other value than Others (need to be added back later)\n",
    "data_income_owner_others = (data_income_owner * data_fuel_re.T).T\n",
    "data_income_owner_others.dropna(inplace=True)\n",
    "data_income_owner_others = data_income_owner_others.droplevel('Heating energy', axis=0).stack().iloc[:, 0]\n",
    "data_income_owner_others = data_income_owner_others.reorder_levels(data_income_owner.index.names)\n",
    "\n",
    "\n",
    "data_income_owner = pd.concat((data_income_owner.loc[data_income_owner.index.get_level_values('Heating energy') != 'Others'], data_income_owner_others), axis=0)\n",
    "print(data_income_owner.head())\n",
    "\n",
    "print('\\n Total number of housing at this point {:,.0f} - stock with income owner'.format(data_income_owner.sum()))"
   ]
  },
  {
   "cell_type": "markdown",
   "source": [
    "#### Get proportion of other attributes based on Income owner in order to add it to stock_buildings"
   ],
   "metadata": {
    "collapsed": false,
    "pycharm": {
     "name": "#%% md\n"
    }
   }
  },
  {
   "cell_type": "code",
   "execution_count": 12,
   "outputs": [
    {
     "name": "stdout",
     "output_type": "stream",
     "text": [
      "Income tenant                                     D1       D10        D2  \\\n",
      "Housing type Occupancy status Income owner                                 \n",
      "Multi-family Privately rented D1            0.149581  0.068497  0.149302   \n",
      "                              D10           0.090687  0.105143  0.090000   \n",
      "                              D2            0.175912  0.047592  0.164074   \n",
      "                              D3            0.172281  0.034828  0.151458   \n",
      "                              D4            0.147198  0.038975  0.107708   \n",
      "\n",
      "Income tenant                                     D3        D4        D5  \\\n",
      "Housing type Occupancy status Income owner                                 \n",
      "Multi-family Privately rented D1            0.103206  0.107108  0.093357   \n",
      "                              D10           0.083294  0.093956  0.097789   \n",
      "                              D2            0.110753  0.118910  0.119314   \n",
      "                              D3            0.123091  0.116244  0.090400   \n",
      "                              D4            0.119283  0.126770  0.130311   \n",
      "\n",
      "Income tenant                                     D6        D7        D8  \\\n",
      "Housing type Occupancy status Income owner                                 \n",
      "Multi-family Privately rented D1            0.097701  0.068844  0.090355   \n",
      "                              D10           0.102668  0.110460  0.113747   \n",
      "                              D2            0.081843  0.067416  0.057803   \n",
      "                              D3            0.088600  0.084081  0.073641   \n",
      "                              D4            0.106767  0.092635  0.079548   \n",
      "\n",
      "Income tenant                                     D9  \n",
      "Housing type Occupancy status Income owner            \n",
      "Multi-family Privately rented D1            0.072049  \n",
      "                              D10           0.112255  \n",
      "                              D2            0.056384  \n",
      "                              D3            0.065375  \n",
      "                              D4            0.050805  \n"
     ]
    }
   ],
   "source": [
    "data_income_owner_ = data_income_owner.copy()\n",
    "data_income_owner_ = data_income_owner_.groupby(['Housing type', 'Occupancy status', 'Income owner', 'Income tenant']).sum()\n",
    "share_income_tenant = (data_income_owner_.unstack('Income tenant').T / data_income_owner_.unstack('Income tenant').sum(axis=1)).T\n",
    "print(share_income_tenant.head())\n",
    "share_income_tenant.to_csv(os.path.join(folder_output, 'share_income_tenant.csv'))"
   ],
   "metadata": {
    "collapsed": false,
    "pycharm": {
     "name": "#%%\n"
    }
   }
  },
  {
   "cell_type": "markdown",
   "metadata": {
    "pycharm": {
     "name": "#%% md\n"
    }
   },
   "source": [
    "#### Get proportion of other attributes based on Income owner in order to add it to stock_buildings"
   ]
  },
  {
   "cell_type": "code",
   "execution_count": 13,
   "metadata": {
    "pycharm": {
     "name": "#%%\n"
    }
   },
   "outputs": [
    {
     "name": "stdout",
     "output_type": "stream",
     "text": [
      "Income owner                                       D1       D10        D2  \\\n",
      "Housing type Occupancy status Income tenant                                 \n",
      "Multi-family Privately rented D1             0.049976  0.316608  0.042466   \n",
      "                              D10            0.034957  0.560692  0.017549   \n",
      "                              D2             0.051833  0.326489  0.041156   \n",
      "                              D3             0.040265  0.339562  0.031219   \n",
      "                              D4             0.038916  0.356705  0.031216   \n",
      "\n",
      "Income owner                                       D3        D4        D5  \\\n",
      "Housing type Occupancy status Income tenant                                 \n",
      "Multi-family Privately rented D1             0.045133  0.044297  0.055800   \n",
      "                              D10            0.013937  0.017916  0.028036   \n",
      "                              D2             0.041229  0.033680  0.054267   \n",
      "                              D3             0.037654  0.041916  0.047862   \n",
      "                              D4             0.033116  0.041486  0.049415   \n",
      "\n",
      "Income owner                                       D6        D7        D8  \\\n",
      "Housing type Occupancy status Income tenant                                 \n",
      "Multi-family Privately rented D1             0.064975  0.088413  0.115768   \n",
      "                              D10            0.038011  0.053214  0.082760   \n",
      "                              D2             0.065806  0.081088  0.121678   \n",
      "                              D3             0.064347  0.092098  0.111372   \n",
      "                              D4             0.059924  0.083666  0.122893   \n",
      "\n",
      "Income owner                                       D9  \n",
      "Housing type Occupancy status Income tenant            \n",
      "Multi-family Privately rented D1             0.176564  \n",
      "                              D10            0.152930  \n",
      "                              D2             0.182773  \n",
      "                              D3             0.193704  \n",
      "                              D4             0.182664  \n"
     ]
    }
   ],
   "source": [
    "share_income_owner = (data_income_owner_.unstack('Income owner').T / data_income_owner_.unstack('Income owner').sum(axis=1)).T\n",
    "print(share_income_owner.head())\n",
    "\n",
    "share_income_owner.to_csv(os.path.join(folder_output, 'share_income_owner.csv'))"
   ]
  },
  {
   "cell_type": "code",
   "execution_count": 14,
   "metadata": {
    "pycharm": {
     "name": "#%%\n"
    }
   },
   "outputs": [
    {
     "name": "stdout",
     "output_type": "stream",
     "text": [
      "Housing type   Occupancy status  Income tenant  Heating energy  Energy performance  Income owner\n",
      "Multi-family   Social-housing    D1             Electricity     A                   NaN             4162.321113\n",
      "Single-family  Social-housing    D1             Electricity     A                   NaN             1618.652411\n",
      "Multi-family   Owner-occupied    D1             Electricity     A                   NaN             1154.718085\n",
      "Single-family  Owner-occupied    D1             Electricity     A                   NaN             5032.777538\n",
      "Multi-family   Social-housing    D2             Electricity     A                   NaN             4298.192125\n",
      "                                                                                                       ...     \n",
      "Single-family  Privately rented  D10            Wood fuel       G                   D5                20.603479\n",
      "                                                                                    D6                25.586547\n",
      "                                                                                    D7                34.844713\n",
      "                                                                                    D8                63.545738\n",
      "                                                                                    D9               110.578082\n",
      "Length: 6720, dtype: float64\n",
      "\n",
      " Total number of housing at this point 26,698,691\n"
     ]
    }
   ],
   "source": [
    "\n",
    "# multiplication will remove other value than Landlords (need to be added back later)\n",
    "stock_buildings_landlords = (stock_buildings * reindex_mi(share_income_owner, stock_buildings.index).T).T\n",
    "stock_buildings_landlords = stock_buildings_landlords.stack()\n",
    "\n",
    "stock_buildings_wolandlords = pd.concat([stock_buildings], keys=[float('nan')], names=['Income owner'])\n",
    "stock_buildings_wolandlords = stock_buildings_wolandlords.loc[stock_buildings_wolandlords.index.get_level_values('Occupancy status') != 'Privately rented']\n",
    "stock_buildings_wolandlords = stock_buildings_wolandlords.reorder_levels(stock_buildings_landlords.index.names)\n",
    "stock_buildings = pd.concat((stock_buildings_wolandlords, stock_buildings_landlords), axis=0)\n",
    "print(stock_buildings)\n",
    "print('\\n Total number of housing at this point {:,.0f}'.format(stock_buildings.sum()))"
   ]
  },
  {
   "cell_type": "markdown",
   "metadata": {
    "pycharm": {
     "name": "#%% md\n"
    }
   },
   "source": [
    "#### Handle Owner-occupied and social-housing\n",
    "\n",
    "1. Setting income owner = income occupant when occupancy status = 'Owner-occupied'\n",
    "2. Setting income owner = D10 when occupancy status = 'Social-housing'"
   ]
  },
  {
   "cell_type": "code",
   "execution_count": 15,
   "metadata": {
    "pycharm": {
     "name": "#%%\n"
    }
   },
   "outputs": [
    {
     "name": "stdout",
     "output_type": "stream",
     "text": [
      "                                                                                             Stock buildings\n",
      "Housing type  Energy performance Heating energy Occupancy status Income owner Income tenant                 \n",
      "Multi-family  A                  Electricity    Social-housing   D10          D1                 4162.321113\n",
      "Single-family A                  Electricity    Social-housing   D10          D1                 1618.652411\n",
      "Multi-family  A                  Electricity    Owner-occupied   D1           D1                 1154.718085\n",
      "Single-family A                  Electricity    Owner-occupied   D1           D1                 5032.777538\n",
      "Multi-family  A                  Electricity    Social-housing   D10          D2                 4298.192125\n",
      "...                                                                                                      ...\n",
      "Single-family G                  Wood fuel      Privately rented D5           D10                  20.603479\n",
      "                                                                 D6           D10                  25.586547\n",
      "                                                                 D7           D10                  34.844713\n",
      "                                                                 D8           D10                  63.545738\n",
      "                                                                 D9           D10                 110.578082\n",
      "\n",
      "[6720 rows x 1 columns]\n",
      "\n",
      " Total number of housings 26,698,691\n"
     ]
    }
   ],
   "source": [
    "stock_buildings = stock_buildings.reset_index()\n",
    "\n",
    "# Owner-occupied\n",
    "stock_buildings.loc[stock_buildings.loc[:, 'Occupancy status'] == 'Owner-occupied', 'Income owner'] = stock_buildings.loc[stock_buildings.loc[:, 'Occupancy status'] == 'Owner-occupied', 'Income tenant']\n",
    "\n",
    "# social-housing\n",
    "temp = stock_buildings.loc[stock_buildings.loc[:, 'Occupancy status'] == 'Social-housing', 'Income owner']\n",
    "stock_buildings.loc[stock_buildings.loc[:, 'Occupancy status'] == 'Social-housing', 'Income owner'] = ['D10'] * len(temp)\n",
    "\n",
    "index_names = ['Housing type', 'Energy performance', 'Heating energy', 'Occupancy status', 'Income owner', 'Income tenant']\n",
    "stock_buildings = stock_buildings.set_index(index_names).iloc[:, 0].rename('Stock buildings')\n",
    "\n",
    "# stock_buildings.to_pickle(os.path.join(folder_output, 'building_stock_sdes2018.pkl'), protocol=4)\n",
    "stock_buildings.to_csv(os.path.join(folder_output, 'building_stock_sdes2018_aggregated.csv'))\n",
    "\n",
    "print(stock_buildings.to_frame())\n",
    "print('\\n Total number of housings {:,.0f}'.format(stock_buildings.sum()))"
   ]
  },
  {
   "cell_type": "code",
   "execution_count": 16,
   "outputs": [
    {
     "name": "stdout",
     "output_type": "stream",
     "text": [
      "Heating energy\n",
      "Electricity    4.964876e+06\n",
      "Natural gas    6.274891e+06\n",
      "Oil fuel       5.065432e+05\n",
      "Wood fuel      4.434032e+04\n",
      "Name: Stock buildings, dtype: float64\n",
      "Heating energy\n",
      "Electricity    5.402671e+06\n",
      "Natural gas    5.343517e+06\n",
      "Oil fuel       2.935760e+06\n",
      "Wood fuel      1.226092e+06\n",
      "Name: Stock buildings, dtype: float64\n"
     ]
    }
   ],
   "source": [
    "d = stock_buildings.xs('Multi-family', level='Housing type').groupby('Heating energy').sum()\n",
    "print(d)\n",
    "\n",
    "d = stock_buildings.xs('Single-family', level='Housing type').groupby('Heating energy').sum()\n",
    "print(d)"
   ],
   "metadata": {
    "collapsed": false,
    "pycharm": {
     "name": "#%%\n"
    }
   }
  },
  {
   "cell_type": "markdown",
   "source": [
    "# Decomposition by component and heating system"
   ],
   "metadata": {
    "collapsed": false,
    "pycharm": {
     "name": "#%% md\n"
    }
   }
  },
  {
   "cell_type": "markdown",
   "source": [
    "In order to reduce the number of combination we drop oil and wood fuel for multi-family dwelling."
   ],
   "metadata": {
    "collapsed": false,
    "pycharm": {
     "name": "#%% md\n"
    }
   }
  },
  {
   "cell_type": "code",
   "execution_count": 17,
   "outputs": [],
   "source": [
    "idx = stock_buildings.xs('Multi-family', level='Housing type', drop_level=False).xs('Oil fuel', level='Heating energy', drop_level=False).index\n",
    "stock_buildings.drop(idx, inplace=True)\n",
    "\n",
    "idx = stock_buildings.xs('Multi-family', level='Housing type', drop_level=False).xs('Wood fuel', level='Heating energy', drop_level=False).index\n",
    "stock_buildings.drop(idx, inplace=True)"
   ],
   "metadata": {
    "collapsed": false,
    "pycharm": {
     "name": "#%%\n"
    }
   }
  },
  {
   "cell_type": "code",
   "execution_count": 18,
   "outputs": [
    {
     "data": {
      "text/plain": "                                                 Wall  Floor  Roof  Windows  \\\nEnergy performance Housing type  Heating energy                               \nB                  Multi-family  Natural gas      0.2    0.0   0.0      1.3   \n                   Single-family Natural gas      0.2    0.3   0.1      1.3   \n                                 Oil fuel         0.2    0.3   0.1      1.3   \n                                 Wood fuel        0.2    0.3   0.1      1.3   \nC                  Multi-family  Natural gas      0.4    0.0   0.0      2.2   \n...                                               ...    ...   ...      ...   \nG                  Multi-family  Electricity      1.9    0.0   0.0      6.2   \n                                 Electricity      2.5    0.0   0.0      3.3   \n                   Single-family Electricity      1.7    0.5   0.1      6.8   \n                                 Electricity      0.6    2.1   0.3      5.6   \n                                 Electricity      1.6    2.3   0.3     13.7   \n\n                                                 Efficiency     Share  \nEnergy performance Housing type  Heating energy                        \nB                  Multi-family  Natural gas           0.85  1.000000  \n                   Single-family Natural gas           0.85  1.000000  \n                                 Oil fuel              0.85  1.000000  \n                                 Wood fuel             0.85  1.000000  \nC                  Multi-family  Natural gas           0.75  1.000000  \n...                                                     ...       ...  \nG                  Multi-family  Electricity           0.95  0.646274  \n                                 Electricity           0.95  0.353726  \n                   Single-family Electricity           0.95  0.432415  \n                                 Electricity           0.95  0.409536  \n                                 Electricity           0.95  0.158049  \n\n[81 rows x 6 columns]",
      "text/html": "<div>\n<style scoped>\n    .dataframe tbody tr th:only-of-type {\n        vertical-align: middle;\n    }\n\n    .dataframe tbody tr th {\n        vertical-align: top;\n    }\n\n    .dataframe thead th {\n        text-align: right;\n    }\n</style>\n<table border=\"1\" class=\"dataframe\">\n  <thead>\n    <tr style=\"text-align: right;\">\n      <th></th>\n      <th></th>\n      <th></th>\n      <th>Wall</th>\n      <th>Floor</th>\n      <th>Roof</th>\n      <th>Windows</th>\n      <th>Efficiency</th>\n      <th>Share</th>\n    </tr>\n    <tr>\n      <th>Energy performance</th>\n      <th>Housing type</th>\n      <th>Heating energy</th>\n      <th></th>\n      <th></th>\n      <th></th>\n      <th></th>\n      <th></th>\n      <th></th>\n    </tr>\n  </thead>\n  <tbody>\n    <tr>\n      <th rowspan=\"4\" valign=\"top\">B</th>\n      <th>Multi-family</th>\n      <th>Natural gas</th>\n      <td>0.2</td>\n      <td>0.0</td>\n      <td>0.0</td>\n      <td>1.3</td>\n      <td>0.85</td>\n      <td>1.000000</td>\n    </tr>\n    <tr>\n      <th rowspan=\"3\" valign=\"top\">Single-family</th>\n      <th>Natural gas</th>\n      <td>0.2</td>\n      <td>0.3</td>\n      <td>0.1</td>\n      <td>1.3</td>\n      <td>0.85</td>\n      <td>1.000000</td>\n    </tr>\n    <tr>\n      <th>Oil fuel</th>\n      <td>0.2</td>\n      <td>0.3</td>\n      <td>0.1</td>\n      <td>1.3</td>\n      <td>0.85</td>\n      <td>1.000000</td>\n    </tr>\n    <tr>\n      <th>Wood fuel</th>\n      <td>0.2</td>\n      <td>0.3</td>\n      <td>0.1</td>\n      <td>1.3</td>\n      <td>0.85</td>\n      <td>1.000000</td>\n    </tr>\n    <tr>\n      <th>C</th>\n      <th>Multi-family</th>\n      <th>Natural gas</th>\n      <td>0.4</td>\n      <td>0.0</td>\n      <td>0.0</td>\n      <td>2.2</td>\n      <td>0.75</td>\n      <td>1.000000</td>\n    </tr>\n    <tr>\n      <th>...</th>\n      <th>...</th>\n      <th>...</th>\n      <td>...</td>\n      <td>...</td>\n      <td>...</td>\n      <td>...</td>\n      <td>...</td>\n      <td>...</td>\n    </tr>\n    <tr>\n      <th rowspan=\"5\" valign=\"top\">G</th>\n      <th rowspan=\"2\" valign=\"top\">Multi-family</th>\n      <th>Electricity</th>\n      <td>1.9</td>\n      <td>0.0</td>\n      <td>0.0</td>\n      <td>6.2</td>\n      <td>0.95</td>\n      <td>0.646274</td>\n    </tr>\n    <tr>\n      <th>Electricity</th>\n      <td>2.5</td>\n      <td>0.0</td>\n      <td>0.0</td>\n      <td>3.3</td>\n      <td>0.95</td>\n      <td>0.353726</td>\n    </tr>\n    <tr>\n      <th rowspan=\"3\" valign=\"top\">Single-family</th>\n      <th>Electricity</th>\n      <td>1.7</td>\n      <td>0.5</td>\n      <td>0.1</td>\n      <td>6.8</td>\n      <td>0.95</td>\n      <td>0.432415</td>\n    </tr>\n    <tr>\n      <th>Electricity</th>\n      <td>0.6</td>\n      <td>2.1</td>\n      <td>0.3</td>\n      <td>5.6</td>\n      <td>0.95</td>\n      <td>0.409536</td>\n    </tr>\n    <tr>\n      <th>Electricity</th>\n      <td>1.6</td>\n      <td>2.3</td>\n      <td>0.3</td>\n      <td>13.7</td>\n      <td>0.95</td>\n      <td>0.158049</td>\n    </tr>\n  </tbody>\n</table>\n<p>81 rows × 6 columns</p>\n</div>"
     },
     "execution_count": 18,
     "metadata": {},
     "output_type": "execute_result"
    }
   ],
   "source": [
    "archetypes = pd.read_csv(os.path.join('output', 'archetypes.csv'))\n",
    "archetypes.rename(columns={'U_wall': 'Wall', 'U_floor': 'Floor', 'U_roof': 'Roof', 'U_windows': 'Windows', 'Proba': 'Share', 'Performance': 'Energy performance'}, inplace=True)\n",
    "archetypes['Energy performance'].replace({'A': 'B'}, inplace=True)\n",
    "archetypes.set_index(['Energy performance', 'Housing type', 'Heating energy'], inplace=True)\n",
    "archetypes.drop(['Electricity', 'Number'], inplace=True, axis=1)\n",
    "archetypes"
   ],
   "metadata": {
    "collapsed": false,
    "pycharm": {
     "name": "#%%\n"
    }
   }
  },
  {
   "cell_type": "code",
   "execution_count": 19,
   "outputs": [],
   "source": [
    "stock_buildings  = stock_buildings.reset_index('Energy performance').replace({'A': 'B'}).set_index('Energy performance', append=True)"
   ],
   "metadata": {
    "collapsed": false,
    "pycharm": {
     "name": "#%%\n"
    }
   }
  },
  {
   "cell_type": "code",
   "execution_count": 20,
   "outputs": [
    {
     "name": "stderr",
     "output_type": "stream",
     "text": [
      "/Users/lucas/opt/anaconda3/envs/DataAnalysis/lib/python3.8/site-packages/pandas/core/indexing.py:925: PerformanceWarning: indexing past lexsort depth may impact performance.\n",
      "  return self._getitem_tuple(key)\n"
     ]
    }
   ],
   "source": [
    "new_levels = ['Wall', 'Floor', 'Roof', 'Windows', 'Efficiency']\n",
    "new_stock = pd.DataFrame()\n",
    "for idx, group_stock in stock_buildings.groupby(['Energy performance', 'Housing type', 'Heating energy']):\n",
    "    for i, row in archetypes.loc[idx, :].iterrows():\n",
    "        stock = row['Share'] * group_stock\n",
    "        stock = pd.concat((stock, pd.concat([row[new_levels]] * group_stock.shape[0], keys=group_stock.index, axis=1).T), axis=1).set_index(new_levels, append=True)\n",
    "        new_stock = pd.concat((new_stock, stock), axis=0)"
   ],
   "metadata": {
    "collapsed": false,
    "pycharm": {
     "name": "#%%\n"
    }
   }
  },
  {
   "cell_type": "code",
   "execution_count": 21,
   "outputs": [
    {
     "name": "stdout",
     "output_type": "stream",
     "text": [
      "                                                                                                                 Stock buildings\n",
      "Housing type  Heating energy Occupancy status Income owner Income tenant Wall Floor Roof Windows Heating system                 \n",
      "Multi-family  Electricity    Owner-occupied   D1           D1            0.2  0.0   0.0  1.3     3.00                2225.100088\n",
      "                                                                         0.3  0.0   0.0  4.5     0.95                5688.251234\n",
      "                                                                         0.5  0.0   0.0  2.4     0.95               10388.296466\n",
      "                                                                         0.6  0.0   0.0  6.7     0.95               15750.031490\n",
      "                                                                         1.2  0.0   0.0  2.9     3.00                5649.117553\n",
      "...                                                                                                                          ...\n",
      "Single-family Wood fuel      Social-housing   D10          D9            0.9  1.4   1.7  1.3     0.75                  10.772910\n",
      "                                                                         1.7  0.4   0.6  3.1     0.75                  44.776096\n",
      "                                                                         2.0  2.2   0.2  5.3     0.75                   6.528044\n",
      "                                                                         2.2  1.4   0.3  4.4     0.85                  10.746958\n",
      "                                                                         2.5  0.5   2.1  4.2     0.75                  12.186275\n",
      "\n",
      "[9720 rows x 1 columns]\n"
     ]
    }
   ],
   "source": [
    "new_stock['Heating system'] = new_stock.index.get_level_values('Efficiency')\n",
    "new_stock['Heating system'].replace({0.9: 'Performance boiler', 0.65: 'Standard boiler', 2: 'Heat pump'}, inplace=True)\n",
    "new_stock.set_index('Heating system', append=True, inplace=True)\n",
    "new_stock = new_stock.droplevel(['Energy performance', 'Efficiency'])\n",
    "new_stock = new_stock.groupby(new_stock.index.names).sum()\n",
    "print(new_stock)\n",
    "\n",
    "new_stock.to_csv(os.path.join(folder_output, 'building_stock_sdes2018.csv'))"
   ],
   "metadata": {
    "collapsed": false,
    "pycharm": {
     "name": "#%%\n"
    }
   }
  },
  {
   "cell_type": "code",
   "execution_count": 22,
   "outputs": [
    {
     "name": "stdout",
     "output_type": "stream",
     "text": [
      "\n",
      " Total number of housings 26,147,807\n"
     ]
    }
   ],
   "source": [
    "print('\\n Total number of housings {:,.0f}'.format(new_stock.squeeze().sum() ))\n"
   ],
   "metadata": {
    "collapsed": false,
    "pycharm": {
     "name": "#%%\n"
    }
   }
  },
  {
   "cell_type": "markdown",
   "metadata": {
    "pycharm": {
     "name": "#%% md\n"
    }
   },
   "source": [
    "## Main - subplots by levels"
   ]
  },
  {
   "cell_type": "code",
   "execution_count": 23,
   "outputs": [
    {
     "ename": "FileNotFoundError",
     "evalue": "[Errno 2] No such file or directory: 'input/colors.json'",
     "output_type": "error",
     "traceback": [
      "\u001B[0;31m---------------------------------------------------------------------------\u001B[0m",
      "\u001B[0;31mFileNotFoundError\u001B[0m                         Traceback (most recent call last)",
      "\u001B[0;32m/var/folders/p9/3r4_fgzd72j7b469xxshgfnh0000gn/T/ipykernel_1541/2186166654.py\u001B[0m in \u001B[0;36m<module>\u001B[0;34m\u001B[0m\n\u001B[1;32m      2\u001B[0m \u001B[0;34m\u001B[0m\u001B[0m\n\u001B[1;32m      3\u001B[0m \u001B[0mname_file\u001B[0m \u001B[0;34m=\u001B[0m \u001B[0mos\u001B[0m\u001B[0;34m.\u001B[0m\u001B[0mpath\u001B[0m\u001B[0;34m.\u001B[0m\u001B[0mjoin\u001B[0m\u001B[0;34m(\u001B[0m\u001B[0;34m'input'\u001B[0m\u001B[0;34m,\u001B[0m \u001B[0;34m'colors.json'\u001B[0m\u001B[0;34m)\u001B[0m\u001B[0;34m\u001B[0m\u001B[0;34m\u001B[0m\u001B[0m\n\u001B[0;32m----> 4\u001B[0;31m \u001B[0;32mwith\u001B[0m \u001B[0mopen\u001B[0m\u001B[0;34m(\u001B[0m\u001B[0mname_file\u001B[0m\u001B[0;34m)\u001B[0m \u001B[0;32mas\u001B[0m \u001B[0mfile\u001B[0m\u001B[0;34m:\u001B[0m\u001B[0;34m\u001B[0m\u001B[0;34m\u001B[0m\u001B[0m\n\u001B[0m\u001B[1;32m      5\u001B[0m     \u001B[0mdict_color\u001B[0m \u001B[0;34m=\u001B[0m \u001B[0mjson\u001B[0m\u001B[0;34m.\u001B[0m\u001B[0mload\u001B[0m\u001B[0;34m(\u001B[0m\u001B[0mfile\u001B[0m\u001B[0;34m)\u001B[0m\u001B[0;34m\u001B[0m\u001B[0;34m\u001B[0m\u001B[0m\n",
      "\u001B[0;31mFileNotFoundError\u001B[0m: [Errno 2] No such file or directory: 'input/colors.json'"
     ]
    }
   ],
   "source": [
    "# Graphs\n",
    "\n",
    "name_file = os.path.join('input', 'colors.json')\n",
    "with open(name_file) as file:\n",
    "    dict_color = json.load(file)"
   ],
   "metadata": {
    "collapsed": false,
    "pycharm": {
     "name": "#%%\n"
    }
   }
  },
  {
   "cell_type": "code",
   "execution_count": null,
   "metadata": {
    "pycharm": {
     "name": "#%%\n"
    }
   },
   "outputs": [],
   "source": [
    "dict_order = {'Income tenant': ['D1', 'D2', 'D3', 'D4', 'D5', 'D6', 'D7', 'D8', 'D9', 'D10'],\n",
    "              'Income owner': ['D1', 'D2', 'D3', 'D4', 'D5', 'D6', 'D7', 'D8', 'D9', 'D10'],\n",
    "              'Heating energy': ['Electricity', 'Natural gas', 'Oil fuel', 'Wood fuel'],\n",
    "              'Energy performance': ['G', 'F', 'E', 'D', 'C', 'B', 'A'],\n",
    "              'Housing type': ['Single-family', 'Multi-family'],\n",
    "              'Occupancy status': ['Owner-occupied', 'Privately rented', 'Social-housing']\n",
    "             }\n",
    "\n",
    "order_attributes = ['Housing type', 'Heating energy', 'Energy performance', 'Occupancy status', 'Income owner', 'Income tenant']\n",
    "stock_buildings = stock_buildings.reorder_levels(order_attributes)\n",
    "\n",
    "subplots_attributes(stock_buildings, dict_order=dict_order, suptitle=None, dict_color=dict_color, option='percent', sharey=True)\n",
    "subplots_attributes(stock_buildings, dict_order=dict_order, suptitle=None, dict_color=dict_color, option='million', sharey=True)"
   ]
  },
  {
   "cell_type": "code",
   "execution_count": null,
   "outputs": [],
   "source": [
    "plot_attribute(stock_buildings, attribute='Energy performance', dict_order=dict_order, suptitle=None, option='million', dict_color=dict_color, width=0.3)"
   ],
   "metadata": {
    "collapsed": false,
    "pycharm": {
     "name": "#%%\n"
    }
   }
  },
  {
   "cell_type": "code",
   "execution_count": null,
   "metadata": {
    "pycharm": {
     "name": "#%%\n"
    }
   },
   "outputs": [],
   "source": [
    "for attribute in stock_buildings.index.names:\n",
    "    print(attribute)\n",
    "    plot_attribute(stock_buildings, attribute=attribute, dict_order=dict_order, suptitle='Buildings stocks', option='million', dict_color=dict_color, width=0.3)\n",
    "    df = stock_buildings.groupby(attribute).sum().loc[dict_order[attribute]]\n",
    "    print(df)\n",
    "    print(df / df.sum())"
   ]
  },
  {
   "cell_type": "code",
   "execution_count": null,
   "metadata": {
    "pycharm": {
     "name": "#%%\n"
    }
   },
   "outputs": [],
   "source": [
    "plot_attribute2attribute(stock_buildings, 'Energy performance', 'Heating energy', dict_order=dict_order, dict_color=dict_color)\n",
    "plot_attribute2attribute(stock_buildings, 'Energy performance', 'Heating energy', dict_order=dict_order, dict_color=dict_color, percent=True)"
   ]
  },
  {
   "cell_type": "code",
   "execution_count": null,
   "outputs": [],
   "source": [],
   "metadata": {
    "collapsed": false,
    "pycharm": {
     "name": "#%%\n"
    }
   }
  },
  {
   "cell_type": "code",
   "execution_count": null,
   "outputs": [],
   "source": [
    "stock_buildings.groupby(['Energy performance', 'Heating energy']).sum().unstack('Heating energy')"
   ],
   "metadata": {
    "collapsed": false,
    "pycharm": {
     "name": "#%%\n"
    }
   }
  },
  {
   "cell_type": "code",
   "execution_count": null,
   "outputs": [],
   "source": [
    "(stock_buildings.groupby(['Energy performance', 'Heating energy']).sum().unstack('Heating energy').T / stock_buildings.groupby(['Energy performance', 'Heating energy']).sum().unstack('Heating energy').sum(axis=1)).T"
   ],
   "metadata": {
    "collapsed": false,
    "pycharm": {
     "name": "#%%\n"
    }
   }
  },
  {
   "cell_type": "code",
   "execution_count": null,
   "outputs": [],
   "source": [],
   "metadata": {
    "collapsed": false,
    "pycharm": {
     "name": "#%%\n"
    }
   }
  }
 ],
 "metadata": {
  "kernelspec": {
   "name": "dataanalysis",
   "language": "python",
   "display_name": "Python (dataanalysis)"
  },
  "language_info": {
   "codemirror_mode": {
    "name": "ipython",
    "version": 3
   },
   "file_extension": ".py",
   "mimetype": "text/x-python",
   "name": "python",
   "nbconvert_exporter": "python",
   "pygments_lexer": "ipython3",
   "version": "3.9.5"
  }
 },
 "nbformat": 4,
 "nbformat_minor": 4
}