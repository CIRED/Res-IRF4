{
 "cells": [
  {
   "cell_type": "markdown",
   "metadata": {},
   "source": [
    "# SDES-2018 Building stock - CONFIDENTIAL"
   ]
  },
  {
   "cell_type": "code",
   "execution_count": 1,
   "outputs": [],
   "source": [
    "import os\n",
    "import pandas as pd\n",
    "from IPython.display import display"
   ],
   "metadata": {
    "collapsed": false
   }
  },
  {
   "cell_type": "code",
   "execution_count": 2,
   "outputs": [],
   "source": [
    "def reindex_mi(df, mi_index, levels=None, axis=0):\n",
    "    \"\"\"Return re-indexed DataFrame based on miindex using only few labels.\n",
    "\n",
    "    Parameters\n",
    "    -----------\n",
    "    df: pd.DataFrame, pd.Series\n",
    "        data to reindex\n",
    "    mi_index: pd.MultiIndex, pd.Index\n",
    "        master to index to reindex df\n",
    "    levels: list, default df.index.names\n",
    "        list of levels to use to reindex df\n",
    "    axis: {0, 1}, default 0\n",
    "        axis to reindex df\n",
    "\n",
    "    Returns\n",
    "    --------\n",
    "    pd.DataFrame, pd.Series\n",
    "\n",
    "    Example\n",
    "    -------\n",
    "        reindex_mi(surface_ds, segments, ['Occupancy status', 'Housing type']))\n",
    "        reindex_mi(cost_invest_ds, segments, ['Heating energy final', 'Heating energy']))\n",
    "    \"\"\"\n",
    "\n",
    "    if isinstance(df, (float, int)):\n",
    "        return pd.Series(df, index=mi_index)\n",
    "\n",
    "    if levels is None:\n",
    "        if axis == 0:\n",
    "            levels = df.index.names\n",
    "        else:\n",
    "            levels = df.columns.names\n",
    "\n",
    "    if len(levels) > 1:\n",
    "        tuple_index = (mi_index.get_level_values(level).tolist() for level in levels)\n",
    "        new_miindex = pd.MultiIndex.from_tuples(list(zip(*tuple_index)))\n",
    "        if axis == 0:\n",
    "            df = df.reorder_levels(levels)\n",
    "        else:\n",
    "            df = df.reorder_levels(levels, axis=1)\n",
    "    else:\n",
    "        new_miindex = mi_index.get_level_values(levels[0])\n",
    "    df_reindex = df.reindex(new_miindex, axis=axis)\n",
    "    if axis == 0:\n",
    "        df_reindex.index = mi_index\n",
    "    elif axis == 1:\n",
    "        df_reindex.columns = mi_index\n",
    "    else:\n",
    "        raise AttributeError('Axis can only be 0 or 1')\n",
    "\n",
    "    return df_reindex\n"
   ],
   "metadata": {
    "collapsed": false
   }
  },
  {
   "cell_type": "code",
   "execution_count": 3,
   "metadata": {
    "collapsed": false,
    "jupyter": {
     "outputs_hidden": false
    }
   },
   "outputs": [],
   "source": [
    "folder_input = 'sdes_2018'\n",
    "folder_output = 'output'\n",
    "if not os.path.isdir(folder_output):\n",
    "    os.mkdir(folder_output)"
   ]
  },
  {
   "cell_type": "markdown",
   "metadata": {},
   "source": [
    "# Main input\n",
    "Sources: SDES-2018\n",
    "Status: Confidential"
   ]
  },
  {
   "cell_type": "code",
   "execution_count": 4,
   "metadata": {
    "collapsed": false,
    "jupyter": {
     "outputs_hidden": false
    }
   },
   "outputs": [],
   "source": [
    "replace_dict = {r'^(P)$': 'Owner-occupied',\n",
    "                'Gaz': 'Natural gas',\n",
    "                'Bois\\*': 'Wood fuel',\n",
    "                'Fioul domestique': 'Oil fuel',\n",
    "                'Gaz de pétrole liquéfié': 'Oil fuel',\n",
    "                'Chauffage urbain': 'Heating',\n",
    "                'MA': 'Single-family',\n",
    "                'Maison': 'Single-family',\n",
    "                'AP': 'Multi-family',\n",
    "                'Appartement': 'Multi-family',\n",
    "                'LP': 'Privately rented',\n",
    "                'Autres.*': 'Others',\n",
    "                'LS': 'Social-housing',\n",
    "                '.?lectricit.*': 'Electricity',}"
   ]
  },
  {
   "cell_type": "markdown",
   "source": [
    "## Cleaning names"
   ],
   "metadata": {
    "collapsed": false
   }
  },
  {
   "cell_type": "code",
   "execution_count": 7,
   "metadata": {
    "collapsed": false,
    "jupyter": {
     "outputs_hidden": false
    }
   },
   "outputs": [
    {
     "data": {
      "text/plain": "<pandas.io.formats.style.Styler at 0x7f803901be20>",
      "text/html": "<style type=\"text/css\">\n</style>\n<table id=\"T_8b40f_\">\n  <thead>\n    <tr>\n      <th class=\"blank\" >&nbsp;</th>\n      <th class=\"blank\" >&nbsp;</th>\n      <th class=\"blank\" >&nbsp;</th>\n      <th class=\"blank\" >&nbsp;</th>\n      <th class=\"blank level0\" >&nbsp;</th>\n      <th class=\"col_heading level0 col0\" >NB_LOG</th>\n    </tr>\n    <tr>\n      <th class=\"index_name level0\" >Housing type</th>\n      <th class=\"index_name level1\" >Occupancy status</th>\n      <th class=\"index_name level2\" >Income tenant</th>\n      <th class=\"index_name level3\" >Heating energy</th>\n      <th class=\"index_name level4\" >Energy performance</th>\n      <th class=\"blank col0\" >&nbsp;</th>\n    </tr>\n  </thead>\n  <tbody>\n    <tr>\n      <th id=\"T_8b40f_level0_row0\" class=\"row_heading level0 row0\" >Multi-family</th>\n      <th id=\"T_8b40f_level1_row0\" class=\"row_heading level1 row0\" >G</th>\n      <th id=\"T_8b40f_level2_row0\" class=\"row_heading level2 row0\" >D1</th>\n      <th id=\"T_8b40f_level3_row0\" class=\"row_heading level3 row0\" >Others</th>\n      <th id=\"T_8b40f_level4_row0\" class=\"row_heading level4 row0\" >A</th>\n      <td id=\"T_8b40f_row0_col0\" class=\"data row0 col0\" >3.4</td>\n    </tr>\n    <tr>\n      <th id=\"T_8b40f_level0_row1\" class=\"row_heading level0 row1\" >Single-family</th>\n      <th id=\"T_8b40f_level1_row1\" class=\"row_heading level1 row1\" >G</th>\n      <th id=\"T_8b40f_level2_row1\" class=\"row_heading level2 row1\" >D1</th>\n      <th id=\"T_8b40f_level3_row1\" class=\"row_heading level3 row1\" >Others</th>\n      <th id=\"T_8b40f_level4_row1\" class=\"row_heading level4 row1\" >A</th>\n      <td id=\"T_8b40f_row1_col0\" class=\"data row1 col0\" >20.0</td>\n    </tr>\n    <tr>\n      <th id=\"T_8b40f_level0_row2\" class=\"row_heading level0 row2\" >Multi-family</th>\n      <th id=\"T_8b40f_level1_row2\" class=\"row_heading level1 row2\" >Privately rented</th>\n      <th id=\"T_8b40f_level2_row2\" class=\"row_heading level2 row2\" >D1</th>\n      <th id=\"T_8b40f_level3_row2\" class=\"row_heading level3 row2\" >Others</th>\n      <th id=\"T_8b40f_level4_row2\" class=\"row_heading level4 row2\" >A</th>\n      <td id=\"T_8b40f_row2_col0\" class=\"data row2 col0\" >282.2</td>\n    </tr>\n    <tr>\n      <th id=\"T_8b40f_level0_row3\" class=\"row_heading level0 row3\" >Single-family</th>\n      <th id=\"T_8b40f_level1_row3\" class=\"row_heading level1 row3\" >Privately rented</th>\n      <th id=\"T_8b40f_level2_row3\" class=\"row_heading level2 row3\" >D1</th>\n      <th id=\"T_8b40f_level3_row3\" class=\"row_heading level3 row3\" >Others</th>\n      <th id=\"T_8b40f_level4_row3\" class=\"row_heading level4 row3\" >A</th>\n      <td id=\"T_8b40f_row3_col0\" class=\"data row3 col0\" >343.9</td>\n    </tr>\n    <tr>\n      <th id=\"T_8b40f_level0_row4\" class=\"row_heading level0 row4\" >Multi-family</th>\n      <th id=\"T_8b40f_level1_row4\" class=\"row_heading level1 row4\" >Social-housing</th>\n      <th id=\"T_8b40f_level2_row4\" class=\"row_heading level2 row4\" >D1</th>\n      <th id=\"T_8b40f_level3_row4\" class=\"row_heading level3 row4\" >Others</th>\n      <th id=\"T_8b40f_level4_row4\" class=\"row_heading level4 row4\" >A</th>\n      <td id=\"T_8b40f_row4_col0\" class=\"data row4 col0\" >887.9</td>\n    </tr>\n  </tbody>\n</table>\n"
     },
     "metadata": {},
     "output_type": "display_data"
    },
    {
     "data": {
      "text/plain": "Heating energy\nElectricity    10.456509\nNatural gas    11.725657\nOthers          6.438182\nName: NB_LOG, dtype: float64"
     },
     "metadata": {},
     "output_type": "display_data"
    },
    {
     "name": "stdout",
     "output_type": "stream",
     "text": [
      "Total number of housing in this study 28,620,348\n"
     ]
    }
   ],
   "source": [
    "name_file = 'comptages_DPE.csv'\n",
    "stock_buildings = pd.read_csv(os.path.join(folder_input, name_file), sep=',', header=[0], encoding='latin-1',\n",
    "                        index_col=[0, 1, 2, 3, 4]).squeeze()\n",
    "index_names = ['Housing type', 'Occupancy status', 'Income tenant', 'Heating energy', 'Energy performance']\n",
    "stock_buildings.index.set_names(index_names, inplace=True)\n",
    "\n",
    "stock_buildings = stock_buildings.reset_index().replace(replace_dict, regex=True).set_index(stock_buildings.index.names).squeeze()\n",
    "\n",
    "display(stock_buildings.head().to_frame().style.format('{:.1f}'))\n",
    "display(stock_buildings.groupby('Heating energy').sum() / 10**6)\n",
    "print('Total number of housing in this study {:,.0f}'.format(stock_buildings.sum()))"
   ]
  },
  {
   "cell_type": "code",
   "execution_count": 8,
   "outputs": [
    {
     "data": {
      "text/plain": "Energy performance\nA    0.519791\nB    1.370423\nC    5.161098\nD    9.791445\nE    6.992731\nF    3.076042\nG    1.708818\nName: NB_LOG, dtype: float64"
     },
     "execution_count": 8,
     "metadata": {},
     "output_type": "execute_result"
    }
   ],
   "source": [
    "stock_buildings.groupby('Energy performance').sum() / 10**6"
   ],
   "metadata": {
    "collapsed": false
   }
  },
  {
   "cell_type": "markdown",
   "metadata": {},
   "source": [
    "## Remove gratuity"
   ]
  },
  {
   "cell_type": "code",
   "execution_count": 9,
   "metadata": {
    "collapsed": false,
    "jupyter": {
     "outputs_hidden": false
    }
   },
   "outputs": [
    {
     "data": {
      "text/plain": "<pandas.io.formats.style.Styler at 0x7f803901feb0>",
      "text/html": "<style type=\"text/css\">\n</style>\n<table id=\"T_3de78_\">\n  <thead>\n    <tr>\n      <th class=\"blank\" >&nbsp;</th>\n      <th class=\"blank\" >&nbsp;</th>\n      <th class=\"blank\" >&nbsp;</th>\n      <th class=\"blank\" >&nbsp;</th>\n      <th class=\"blank level0\" >&nbsp;</th>\n      <th class=\"col_heading level0 col0\" >NB_LOG</th>\n    </tr>\n    <tr>\n      <th class=\"index_name level0\" >Housing type</th>\n      <th class=\"index_name level1\" >Occupancy status</th>\n      <th class=\"index_name level2\" >Income tenant</th>\n      <th class=\"index_name level3\" >Heating energy</th>\n      <th class=\"index_name level4\" >Energy performance</th>\n      <th class=\"blank col0\" >&nbsp;</th>\n    </tr>\n  </thead>\n  <tbody>\n    <tr>\n      <th id=\"T_3de78_level0_row0\" class=\"row_heading level0 row0\" >Multi-family</th>\n      <th id=\"T_3de78_level1_row0\" class=\"row_heading level1 row0\" >Privately rented</th>\n      <th id=\"T_3de78_level2_row0\" class=\"row_heading level2 row0\" >D1</th>\n      <th id=\"T_3de78_level3_row0\" class=\"row_heading level3 row0\" >Others</th>\n      <th id=\"T_3de78_level4_row0\" class=\"row_heading level4 row0\" >A</th>\n      <td id=\"T_3de78_row0_col0\" class=\"data row0 col0\" >282.2</td>\n    </tr>\n    <tr>\n      <th id=\"T_3de78_level0_row1\" class=\"row_heading level0 row1\" >Single-family</th>\n      <th id=\"T_3de78_level1_row1\" class=\"row_heading level1 row1\" >Privately rented</th>\n      <th id=\"T_3de78_level2_row1\" class=\"row_heading level2 row1\" >D1</th>\n      <th id=\"T_3de78_level3_row1\" class=\"row_heading level3 row1\" >Others</th>\n      <th id=\"T_3de78_level4_row1\" class=\"row_heading level4 row1\" >A</th>\n      <td id=\"T_3de78_row1_col0\" class=\"data row1 col0\" >343.9</td>\n    </tr>\n    <tr>\n      <th id=\"T_3de78_level0_row2\" class=\"row_heading level0 row2\" >Multi-family</th>\n      <th id=\"T_3de78_level1_row2\" class=\"row_heading level1 row2\" >Social-housing</th>\n      <th id=\"T_3de78_level2_row2\" class=\"row_heading level2 row2\" >D1</th>\n      <th id=\"T_3de78_level3_row2\" class=\"row_heading level3 row2\" >Others</th>\n      <th id=\"T_3de78_level4_row2\" class=\"row_heading level4 row2\" >A</th>\n      <td id=\"T_3de78_row2_col0\" class=\"data row2 col0\" >887.9</td>\n    </tr>\n    <tr>\n      <th id=\"T_3de78_level0_row3\" class=\"row_heading level0 row3\" >Single-family</th>\n      <th id=\"T_3de78_level1_row3\" class=\"row_heading level1 row3\" >Social-housing</th>\n      <th id=\"T_3de78_level2_row3\" class=\"row_heading level2 row3\" >D1</th>\n      <th id=\"T_3de78_level3_row3\" class=\"row_heading level3 row3\" >Others</th>\n      <th id=\"T_3de78_level4_row3\" class=\"row_heading level4 row3\" >A</th>\n      <td id=\"T_3de78_row3_col0\" class=\"data row3 col0\" >73.4</td>\n    </tr>\n    <tr>\n      <th id=\"T_3de78_level0_row4\" class=\"row_heading level0 row4\" >Multi-family</th>\n      <th id=\"T_3de78_level1_row4\" class=\"row_heading level1 row4\" >Owner-occupied</th>\n      <th id=\"T_3de78_level2_row4\" class=\"row_heading level2 row4\" >D1</th>\n      <th id=\"T_3de78_level3_row4\" class=\"row_heading level3 row4\" >Others</th>\n      <th id=\"T_3de78_level4_row4\" class=\"row_heading level4 row4\" >A</th>\n      <td id=\"T_3de78_row4_col0\" class=\"data row4 col0\" >155.4</td>\n    </tr>\n  </tbody>\n</table>\n"
     },
     "metadata": {},
     "output_type": "display_data"
    },
    {
     "name": "stdout",
     "output_type": "stream",
     "text": [
      "Total number of housing at this point 28,366,454\n"
     ]
    }
   ],
   "source": [
    "stock_buildings = stock_buildings.loc[stock_buildings.index.get_level_values('Occupancy status') != 'G']\n",
    "display(stock_buildings.head().to_frame().style.format('{:.1f}'))\n",
    "print('Total number of housing at this point {:,.0f}'.format(stock_buildings.sum()))"
   ]
  },
  {
   "cell_type": "code",
   "execution_count": 10,
   "outputs": [
    {
     "data": {
      "text/plain": "Energy performance\nA    0.514970\nB    1.357447\nC    5.105653\nD    9.698378\nE    6.933754\nF    3.053258\nG    1.702996\nName: NB_LOG, dtype: float64"
     },
     "execution_count": 10,
     "metadata": {},
     "output_type": "execute_result"
    }
   ],
   "source": [
    "stock_buildings.groupby('Energy performance').sum() / 10**6\n"
   ],
   "metadata": {
    "collapsed": false
   }
  },
  {
   "cell_type": "markdown",
   "source": [
    "# Add owner income as attribute for each building\n",
    "\n",
    "Using another source of data, we add another level (or attribute) to building stocks: income owner.\n",
    "Income owner is useful to determine socio-economic parameters like the interest rate or the investment duration."
   ],
   "metadata": {
    "collapsed": false
   }
  },
  {
   "cell_type": "code",
   "execution_count": 19,
   "outputs": [
    {
     "data": {
      "text/plain": "Occupancy status\nOwner-occupied      1.638218e+07\nPrivately rented    7.331687e+06\nSocial-housing      4.652589e+06\nName: NB_LOG, dtype: float64"
     },
     "metadata": {},
     "output_type": "display_data"
    }
   ],
   "source": [
    "display(stock_buildings.groupby('Occupancy status').sum())"
   ],
   "metadata": {
    "collapsed": false
   }
  },
  {
   "cell_type": "markdown",
   "source": [
    "## Read data income landlord"
   ],
   "metadata": {
    "collapsed": false
   }
  },
  {
   "cell_type": "code",
   "execution_count": 20,
   "outputs": [
    {
     "data": {
      "text/plain": "                                      DATECONST DECILE_PB    NB_LOG\nNATLOC OCC DECILE ENERGIE ETIQUETTE                                \nAP     LP  D1     Autres  A          Après 1948        D1  1.474775\nMA     LP  D1     Autres  A          Après 1948        D1  9.673954\nAP     LP  D2     Autres  A          Après 1948        D1  0.952759\nMA     LP  D2     Autres  A          Après 1948        D1  9.703615\nAP     LP  D3     Autres  A          Après 1948        D1  0.334222",
      "text/html": "<div>\n<style scoped>\n    .dataframe tbody tr th:only-of-type {\n        vertical-align: middle;\n    }\n\n    .dataframe tbody tr th {\n        vertical-align: top;\n    }\n\n    .dataframe thead th {\n        text-align: right;\n    }\n</style>\n<table border=\"1\" class=\"dataframe\">\n  <thead>\n    <tr style=\"text-align: right;\">\n      <th></th>\n      <th></th>\n      <th></th>\n      <th></th>\n      <th></th>\n      <th>DATECONST</th>\n      <th>DECILE_PB</th>\n      <th>NB_LOG</th>\n    </tr>\n    <tr>\n      <th>NATLOC</th>\n      <th>OCC</th>\n      <th>DECILE</th>\n      <th>ENERGIE</th>\n      <th>ETIQUETTE</th>\n      <th></th>\n      <th></th>\n      <th></th>\n    </tr>\n  </thead>\n  <tbody>\n    <tr>\n      <th>AP</th>\n      <th>LP</th>\n      <th>D1</th>\n      <th>Autres</th>\n      <th>A</th>\n      <td>Après 1948</td>\n      <td>D1</td>\n      <td>1.474775</td>\n    </tr>\n    <tr>\n      <th>MA</th>\n      <th>LP</th>\n      <th>D1</th>\n      <th>Autres</th>\n      <th>A</th>\n      <td>Après 1948</td>\n      <td>D1</td>\n      <td>9.673954</td>\n    </tr>\n    <tr>\n      <th>AP</th>\n      <th>LP</th>\n      <th>D2</th>\n      <th>Autres</th>\n      <th>A</th>\n      <td>Après 1948</td>\n      <td>D1</td>\n      <td>0.952759</td>\n    </tr>\n    <tr>\n      <th>MA</th>\n      <th>LP</th>\n      <th>D2</th>\n      <th>Autres</th>\n      <th>A</th>\n      <td>Après 1948</td>\n      <td>D1</td>\n      <td>9.703615</td>\n    </tr>\n    <tr>\n      <th>AP</th>\n      <th>LP</th>\n      <th>D3</th>\n      <th>Autres</th>\n      <th>A</th>\n      <td>Après 1948</td>\n      <td>D1</td>\n      <td>0.334222</td>\n    </tr>\n  </tbody>\n</table>\n</div>"
     },
     "metadata": {},
     "output_type": "display_data"
    }
   ],
   "source": [
    "name_file = 'parclocatifprive_post48_revenusPB.csv'\n",
    "data_income_owner = pd.read_csv(os.path.join(folder_input, name_file), sep=',', header=[0],\n",
    "                                index_col=[2, 0, 3, 5, 6])\n",
    "display(data_income_owner.head())"
   ],
   "metadata": {
    "collapsed": false
   }
  },
  {
   "cell_type": "markdown",
   "source": [
    "## Cleaning"
   ],
   "metadata": {
    "collapsed": false
   }
  },
  {
   "cell_type": "code",
   "execution_count": 21,
   "outputs": [
    {
     "data": {
      "text/plain": "Housing type   Occupancy status  Income tenant  Heating energy  Energy performance  Income owner\nMulti-family   Privately rented  D1             Others          A                   D1              1.474775\nSingle-family  Privately rented  D1             Others          A                   D1              9.673954\nMulti-family   Privately rented  D2             Others          A                   D1              0.952759\nSingle-family  Privately rented  D2             Others          A                   D1              9.703615\nMulti-family   Privately rented  D3             Others          A                   D1              0.334222\nName: NB_LOG, dtype: float64"
     },
     "metadata": {},
     "output_type": "display_data"
    },
    {
     "name": "stdout",
     "output_type": "stream",
     "text": [
      "\n",
      " Total number of housing at this point 2,614,910 - stock with income owner\n"
     ]
    }
   ],
   "source": [
    "index_names = ['Housing type', 'Occupancy status', 'Income tenant', 'Heating energy', 'Energy performance']\n",
    "data_income_owner.index.set_names(index_names, inplace=True)\n",
    "\n",
    "data_income_owner.rename(columns={'DECILE_PB': 'Income owner'}, inplace=True)\n",
    "data_income_owner.reset_index(inplace=True)\n",
    "data_income_owner.set_index(index_names + ['Income owner'], inplace=True)\n",
    "\n",
    "data_income_owner = data_income_owner.reset_index().replace(replace_dict, regex=True).set_index(data_income_owner.index.names).squeeze()\n",
    "\n",
    "data_income_owner = data_income_owner.loc[data_income_owner.index.get_level_values('Income owner') != 'NC']\n",
    "data_income_owner = data_income_owner.loc[:, 'NB_LOG']\n",
    "\n",
    "display(data_income_owner.head())\n",
    "print('\\n Total number of housing at this point {:,.0f} - stock with income owner'.format(data_income_owner.sum()))"
   ],
   "metadata": {
    "collapsed": false
   }
  },
  {
   "cell_type": "markdown",
   "source": [
    "## Merging data"
   ],
   "metadata": {
    "collapsed": false
   }
  },
  {
   "cell_type": "code",
   "execution_count": 22,
   "outputs": [
    {
     "name": "stdout",
     "output_type": "stream",
     "text": [
      "\n",
      " Total number of housing at this point 28,366,454\n",
      "Housing type   Occupancy status  Income tenant  Heating energy  Energy performance  Income owner\n",
      "Multi-family   Privately rented  D1             Others          A                   D1               16.845584\n",
      "                                                                                    D10             110.377148\n",
      "                                                                                    D2                5.923017\n",
      "                                                                                    D3               12.285413\n",
      "                                                                                    D4                7.233046\n",
      "                                                                                                       ...    \n",
      "Single-family  Social-housing    D8             Natural gas     G                   D10              44.677646\n",
      "Multi-family   Social-housing    D9             Natural gas     G                   D10             588.410658\n",
      "Single-family  Social-housing    D9             Natural gas     G                   D10              22.589165\n",
      "Multi-family   Social-housing    D10            Natural gas     G                   D10             513.336530\n",
      "Single-family  Social-housing    D10            Natural gas     G                   D10               7.341262\n",
      "Length: 5040, dtype: float64\n",
      "\n",
      " Total number of housing at this point 28,366,454\n"
     ]
    }
   ],
   "source": [
    "print('\\n Total number of housing at this point {:,.0f}'.format(stock_buildings.sum()))\n",
    "# multiplication will remove other value than Landlords (need to be added back later)\n",
    "share_income_owner = (data_income_owner.unstack('Income owner').T / data_income_owner.unstack('Income owner').sum(axis=1)).T\n",
    "stock_buildings_landlords = (stock_buildings * reindex_mi(share_income_owner, stock_buildings.index).T).T\n",
    "stock_buildings_landlords = stock_buildings_landlords.stack().squeeze()\n",
    "\n",
    "stock_buildings_owners = stock_buildings[stock_buildings.index.get_level_values('Occupancy status') == 'Owner-occupied']\n",
    "stock_buildings_owners = pd.concat((stock_buildings_owners, pd.Series(stock_buildings_owners.index.get_level_values('Income tenant'), index=stock_buildings_owners.index, name='Income owner')), axis=1)\n",
    "stock_buildings_owners = stock_buildings_owners.set_index('Income owner', append=True).squeeze()\n",
    "\n",
    "stock_buildings_social = stock_buildings[stock_buildings.index.get_level_values('Occupancy status') == 'Social-housing']\n",
    "stock_buildings_social = pd.concat((stock_buildings_social, pd.Series('D10', index=stock_buildings_social.index, name='Income owner')), axis=1)\n",
    "stock_buildings_social = stock_buildings_social.set_index('Income owner', append=True).squeeze()\n",
    "\n",
    "stock_buildings = pd.concat((stock_buildings_landlords, stock_buildings_owners, stock_buildings_social))\n",
    "\n",
    "print(stock_buildings)\n",
    "print('\\n Total number of housing at this point {:,.0f}'.format(stock_buildings.sum()))"
   ],
   "metadata": {
    "collapsed": false
   }
  },
  {
   "cell_type": "markdown",
   "metadata": {},
   "source": [
    "# De-aggregate 'Others' to 'Wood fuel', 'Oil fuel' and 'District heating'\n",
    "\n",
    "Using another source of data, we de-aggregate each rows where Heating energy == 'Others' to 'Wood fuel' and 'Oil fuel'.  \n",
    "Rate depends on Housing type"
   ]
  },
  {
   "cell_type": "markdown",
   "metadata": {},
   "source": [
    "## Read data oil fuel and wood fuel"
   ]
  },
  {
   "cell_type": "code",
   "execution_count": 23,
   "metadata": {
    "collapsed": false,
    "jupyter": {
     "outputs_hidden": false
    }
   },
   "outputs": [
    {
     "data": {
      "text/plain": "                                                  Parc en milliers de logements  \\\nEnergie principale de chauffage Type de logement                                  \nAutres énergies                 Appartement                           19.155201   \nBois*                           Appartement                           51.225000   \nChauffage urbain                Appartement                         1234.451978   \nFioul domestique                Appartement                          585.193629   \nGaz de pétrole liquéfié         Appartement                           10.900000   \nAutres énergies                 Maison                               168.656387   \nBois*                           Maison                              1197.667239   \nFioul domestique                Maison                              2867.700000   \nGaz de pétrole liquéfié         Maison                               391.261813   \n\n                                                  Taux du parc en %  \nEnergie principale de chauffage Type de logement                     \nAutres énergies                 Appartement                0.010077  \nBois*                           Appartement                0.026947  \nChauffage urbain                Appartement                0.649395  \nFioul domestique                Appartement                0.307847  \nGaz de pétrole liquéfié         Appartement                0.005734  \nAutres énergies                 Maison                     0.036464  \nBois*                           Maison                     0.258939  \nFioul domestique                Maison                     0.620005  \nGaz de pétrole liquéfié         Maison                     0.084592  ",
      "text/html": "<div>\n<style scoped>\n    .dataframe tbody tr th:only-of-type {\n        vertical-align: middle;\n    }\n\n    .dataframe tbody tr th {\n        vertical-align: top;\n    }\n\n    .dataframe thead th {\n        text-align: right;\n    }\n</style>\n<table border=\"1\" class=\"dataframe\">\n  <thead>\n    <tr style=\"text-align: right;\">\n      <th></th>\n      <th></th>\n      <th>Parc en milliers de logements</th>\n      <th>Taux du parc en %</th>\n    </tr>\n    <tr>\n      <th>Energie principale de chauffage</th>\n      <th>Type de logement</th>\n      <th></th>\n      <th></th>\n    </tr>\n  </thead>\n  <tbody>\n    <tr>\n      <th>Autres énergies</th>\n      <th>Appartement</th>\n      <td>19.155201</td>\n      <td>0.010077</td>\n    </tr>\n    <tr>\n      <th>Bois*</th>\n      <th>Appartement</th>\n      <td>51.225000</td>\n      <td>0.026947</td>\n    </tr>\n    <tr>\n      <th>Chauffage urbain</th>\n      <th>Appartement</th>\n      <td>1234.451978</td>\n      <td>0.649395</td>\n    </tr>\n    <tr>\n      <th>Fioul domestique</th>\n      <th>Appartement</th>\n      <td>585.193629</td>\n      <td>0.307847</td>\n    </tr>\n    <tr>\n      <th>Gaz de pétrole liquéfié</th>\n      <th>Appartement</th>\n      <td>10.900000</td>\n      <td>0.005734</td>\n    </tr>\n    <tr>\n      <th>Autres énergies</th>\n      <th>Maison</th>\n      <td>168.656387</td>\n      <td>0.036464</td>\n    </tr>\n    <tr>\n      <th>Bois*</th>\n      <th>Maison</th>\n      <td>1197.667239</td>\n      <td>0.258939</td>\n    </tr>\n    <tr>\n      <th>Fioul domestique</th>\n      <th>Maison</th>\n      <td>2867.700000</td>\n      <td>0.620005</td>\n    </tr>\n    <tr>\n      <th>Gaz de pétrole liquéfié</th>\n      <th>Maison</th>\n      <td>391.261813</td>\n      <td>0.084592</td>\n    </tr>\n  </tbody>\n</table>\n</div>"
     },
     "metadata": {},
     "output_type": "display_data"
    },
    {
     "data": {
      "text/plain": "<pandas.io.formats.style.Styler at 0x7fc059bc6fd0>",
      "text/html": "<style type=\"text/css\">\n</style>\n<table id=\"T_21eff_\">\n  <thead>\n    <tr>\n      <th class=\"blank\" >&nbsp;</th>\n      <th class=\"blank level0\" >&nbsp;</th>\n      <th class=\"col_heading level0 col0\" >Taux du parc en %</th>\n    </tr>\n    <tr>\n      <th class=\"index_name level0\" >Heating energy</th>\n      <th class=\"index_name level1\" >Housing type</th>\n      <th class=\"blank col0\" >&nbsp;</th>\n    </tr>\n  </thead>\n  <tbody>\n    <tr>\n      <th id=\"T_21eff_level0_row0\" class=\"row_heading level0 row0\" >Wood fuel</th>\n      <th id=\"T_21eff_level1_row0\" class=\"row_heading level1 row0\" >Multi-family</th>\n      <td id=\"T_21eff_row0_col0\" class=\"data row0 col0\" >0.03</td>\n    </tr>\n    <tr>\n      <th id=\"T_21eff_level0_row1\" class=\"row_heading level0 row1\" >Heating</th>\n      <th id=\"T_21eff_level1_row1\" class=\"row_heading level1 row1\" >Multi-family</th>\n      <td id=\"T_21eff_row1_col0\" class=\"data row1 col0\" >0.65</td>\n    </tr>\n    <tr>\n      <th id=\"T_21eff_level0_row2\" class=\"row_heading level0 row2\" >Oil fuel</th>\n      <th id=\"T_21eff_level1_row2\" class=\"row_heading level1 row2\" >Multi-family</th>\n      <td id=\"T_21eff_row2_col0\" class=\"data row2 col0\" >0.31</td>\n    </tr>\n    <tr>\n      <th id=\"T_21eff_level0_row3\" class=\"row_heading level0 row3\" >Wood fuel</th>\n      <th id=\"T_21eff_level1_row3\" class=\"row_heading level1 row3\" >Single-family</th>\n      <td id=\"T_21eff_row3_col0\" class=\"data row3 col0\" >0.26</td>\n    </tr>\n    <tr>\n      <th id=\"T_21eff_level0_row4\" class=\"row_heading level0 row4\" >Oil fuel</th>\n      <th id=\"T_21eff_level1_row4\" class=\"row_heading level1 row4\" >Single-family</th>\n      <td id=\"T_21eff_row4_col0\" class=\"data row4 col0\" >0.62</td>\n    </tr>\n  </tbody>\n</table>\n"
     },
     "metadata": {},
     "output_type": "display_data"
    }
   ],
   "source": [
    "name_file = 'fuel_oil_wood_2018.xlsx'\n",
    "data_fuel = pd.read_excel(os.path.join(folder_input, name_file), header=[0], index_col=[1, 0])\n",
    "display(data_fuel.head(10))\n",
    "\n",
    "data_fuel.index.set_names(['Heating energy', 'Housing type'], inplace=True)\n",
    "data_fuel = data_fuel.reset_index().replace(replace_dict, regex=True).set_index(data_fuel.index.names).squeeze()\n",
    "\n",
    "fuel_list = ['Wood fuel', 'Oil fuel', 'Heating']\n",
    "data_fuel = data_fuel.loc[data_fuel.index.get_level_values('Heating energy').isin(fuel_list), 'Taux du parc en %']\n",
    "display(data_fuel.head(10).to_frame().style.format('{:.2f}'))"
   ]
  },
  {
   "cell_type": "code",
   "execution_count": 24,
   "metadata": {},
   "outputs": [
    {
     "name": "stdout",
     "output_type": "stream",
     "text": [
      "\n",
      " Total number of housing at this point 28,366,454\n",
      "Heating energy\n",
      "Electricity    1.036755e+07\n",
      "Natural gas    1.161841e+07\n",
      "Others         6.380499e+06\n",
      "dtype: float64\n"
     ]
    },
    {
     "data": {
      "text/plain": "<pandas.io.formats.style.Styler at 0x7fc059bb8eb0>",
      "text/html": "<style type=\"text/css\">\n</style>\n<table id=\"T_b8e7a_\">\n  <thead>\n    <tr>\n      <th class=\"blank\" >&nbsp;</th>\n      <th class=\"index_name level0\" >Heating energy</th>\n      <th class=\"col_heading level0 col0\" >Heating</th>\n      <th class=\"col_heading level0 col1\" >Oil fuel</th>\n      <th class=\"col_heading level0 col2\" >Wood fuel</th>\n    </tr>\n    <tr>\n      <th class=\"index_name level0\" >Heating energy</th>\n      <th class=\"index_name level1\" >Housing type</th>\n      <th class=\"blank col0\" >&nbsp;</th>\n      <th class=\"blank col1\" >&nbsp;</th>\n      <th class=\"blank col2\" >&nbsp;</th>\n    </tr>\n  </thead>\n  <tbody>\n    <tr>\n      <th id=\"T_b8e7a_level0_row0\" class=\"row_heading level0 row0\" rowspan=\"2\">Others</th>\n      <th id=\"T_b8e7a_level1_row0\" class=\"row_heading level1 row0\" >Multi-family</th>\n      <td id=\"T_b8e7a_row0_col0\" class=\"data row0 col0\" >65%</td>\n      <td id=\"T_b8e7a_row0_col1\" class=\"data row0 col1\" >31%</td>\n      <td id=\"T_b8e7a_row0_col2\" class=\"data row0 col2\" >3%</td>\n    </tr>\n    <tr>\n      <th id=\"T_b8e7a_level1_row1\" class=\"row_heading level1 row1\" >Single-family</th>\n      <td id=\"T_b8e7a_row1_col0\" class=\"data row1 col0\" >nan%</td>\n      <td id=\"T_b8e7a_row1_col1\" class=\"data row1 col1\" >62%</td>\n      <td id=\"T_b8e7a_row1_col2\" class=\"data row1 col2\" >26%</td>\n    </tr>\n  </tbody>\n</table>\n"
     },
     "metadata": {},
     "output_type": "display_data"
    },
    {
     "data": {
      "text/plain": "Heating energy\nElectricity    1.036755e+07\nHeating        1.068541e+06\nNatural gas    1.161841e+07\nOil fuel       3.442304e+06\nWood fuel      1.270432e+06\ndtype: float64"
     },
     "metadata": {},
     "output_type": "display_data"
    },
    {
     "name": "stdout",
     "output_type": "stream",
     "text": [
      "\n",
      " Total number of housing at this point 27,767,231\n"
     ]
    }
   ],
   "source": [
    "## Merging data_fuel with stock_buildings\n",
    "print('\\n Total number of housing at this point {:,.0f}'.format(stock_buildings.sum()))\n",
    "print(stock_buildings.groupby('Heating energy').sum())\n",
    "\n",
    "data_fuel = data_fuel.to_frame().pivot_table(columns='Heating energy', index='Housing type').droplevel(None, axis=1)\n",
    "data_fuel = pd.concat([data_fuel], keys=['Others'], names=['Heating energy'], axis=0)\n",
    "display(data_fuel.style.format('{:.0%}'))\n",
    "\n",
    "data_fuel = reindex_mi(data_fuel, stock_buildings.index)\n",
    "\n",
    "# multiplication will remove other value than Others (need to be added back later)\n",
    "stock_buildings_others = (stock_buildings * data_fuel.T).T\n",
    "stock_buildings_others = stock_buildings_others.droplevel('Heating energy', axis=0).stack().squeeze()\n",
    "stock_buildings_others.dropna(inplace=True)\n",
    "stock_buildings_others = stock_buildings_others.reorder_levels(stock_buildings.index.names)\n",
    "\n",
    "stock_buildings = pd.concat((stock_buildings.loc[stock_buildings.index.get_level_values('Heating energy') != 'Others'], stock_buildings_others), axis=0)\n",
    "display(stock_buildings.groupby('Heating energy').sum())\n",
    "print('\\n Total number of housing at this point {:,.0f}'.format(stock_buildings.sum()))\n"
   ]
  },
  {
   "cell_type": "code",
   "execution_count": 11,
   "outputs": [
    {
     "data": {
      "text/plain": "Energy performance\nA    5.149695e+05\nB    1.357447e+06\nC    5.105653e+06\nD    9.698378e+06\nE    6.933754e+06\nF    3.053258e+06\nG    1.702996e+06\nName: NB_LOG, dtype: float64"
     },
     "execution_count": 11,
     "metadata": {},
     "output_type": "execute_result"
    }
   ],
   "source": [
    "stock_buildings.groupby('Energy performance').sum()"
   ],
   "metadata": {
    "collapsed": false
   }
  },
  {
   "cell_type": "markdown",
   "source": [
    "# Export results"
   ],
   "metadata": {
    "collapsed": false
   }
  },
  {
   "cell_type": "code",
   "execution_count": 12,
   "outputs": [
    {
     "name": "stdout",
     "output_type": "stream",
     "text": [
      "                                                                                     NB_LOG\n",
      "Housing type  Occupancy status Income tenant Heating energy Energy performance             \n",
      "Multi-family  Privately rented D1            Others         A                    282.158753\n",
      "Single-family Privately rented D1            Others         A                    343.899401\n",
      "Multi-family  Social-housing   D1            Others         A                    887.854956\n",
      "Single-family Social-housing   D1            Others         A                     73.430425\n",
      "Multi-family  Owner-occupied   D1            Others         A                    155.393922\n",
      "...                                                                                     ...\n",
      "Single-family Privately rented D10           Natural gas    G                    378.653117\n",
      "Multi-family  Social-housing   D10           Natural gas    G                    513.336530\n",
      "Single-family Social-housing   D10           Natural gas    G                      7.341262\n",
      "Multi-family  Owner-occupied   D10           Natural gas    G                   4352.329162\n",
      "Single-family Owner-occupied   D10           Natural gas    G                   4483.516424\n",
      "\n",
      "[1260 rows x 1 columns]\n",
      "\n",
      " Total number of housings 28,366,454\n"
     ]
    }
   ],
   "source": [
    "print(stock_buildings.to_frame())\n",
    "print('\\n Total number of housings {:,.0f}'.format(stock_buildings.sum()))\n",
    "stock_buildings.to_csv(os.path.join(folder_output, 'building_stock_sdes2018_aggregated.csv'))"
   ],
   "metadata": {
    "collapsed": false
   }
  },
  {
   "cell_type": "code",
   "execution_count": 13,
   "outputs": [
    {
     "data": {
      "text/plain": "Housing type   Heating energy\nMulti-family   Electricity       4.964876e+06\n               Natural gas       6.274891e+06\n               Others            1.645440e+06\nSingle-family  Electricity       5.402671e+06\n               Natural gas       5.343517e+06\n               Others            4.735059e+06\nName: NB_LOG, dtype: float64"
     },
     "execution_count": 13,
     "metadata": {},
     "output_type": "execute_result"
    }
   ],
   "source": [
    "stock_buildings.groupby(['Housing type', 'Heating energy']).sum()"
   ],
   "metadata": {
    "collapsed": false
   }
  },
  {
   "cell_type": "code",
   "execution_count": 14,
   "outputs": [
    {
     "data": {
      "text/plain": "Energy performance\nA    5.149695e+05\nB    1.357447e+06\nC    5.105653e+06\nD    9.698378e+06\nE    6.933754e+06\nF    3.053258e+06\nG    1.702996e+06\nName: NB_LOG, dtype: float64"
     },
     "execution_count": 14,
     "metadata": {},
     "output_type": "execute_result"
    }
   ],
   "source": [
    "stock_buildings.groupby('Energy performance').sum()"
   ],
   "metadata": {
    "collapsed": false
   }
  },
  {
   "cell_type": "code",
   "execution_count": null,
   "outputs": [],
   "source": [],
   "metadata": {
    "collapsed": false
   }
  }
 ],
 "metadata": {
  "kernelspec": {
   "name": "dataanalysis",
   "language": "python",
   "display_name": "Python (dataanalysis)"
  },
  "language_info": {
   "codemirror_mode": {
    "name": "ipython",
    "version": 3
   },
   "file_extension": ".py",
   "mimetype": "text/x-python",
   "name": "python",
   "nbconvert_exporter": "python",
   "pygments_lexer": "ipython3",
   "version": "3.9.5"
  }
 },
 "nbformat": 4,
 "nbformat_minor": 4
}
