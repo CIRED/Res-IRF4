{
 "cells": [
  {
   "cell_type": "code",
   "execution_count": 12,
   "metadata": {
    "collapsed": true
   },
   "outputs": [],
   "source": [
    "import pandas as pd"
   ]
  },
  {
   "cell_type": "markdown",
   "source": [
    "# Merging SDES database with Profeel to get households information\n",
    "The method is to match the sdes archetypes to a Profeel one according to the values for the three index levels: Housing types, Energy performance, heating energy.\n",
    "And then we calculate among each group the weight of the sdes archetypes in terms of their sdes's size estimate. Finally, this weights allow us to get the size of each lines in terms of Profeel stock.\n",
    "\n",
    "The merging rule is to conserve, from the database of origin (SDES), the proportions of each household characteristics among a group of buildings which have same basic building characteristics."
   ],
   "metadata": {
    "collapsed": false
   }
  },
  {
   "cell_type": "code",
   "execution_count": 13,
   "outputs": [],
   "source": [
    "profeel = pd.read_csv('output/building_stock_profeel_std.csv', index_col='Housing type')\n",
    "sdes = pd.read_csv('building_stock_sdes2018_aggregated.csv', index_col=['Housing type', 'Energy performance', 'Heating energy'])\n",
    "\n",
    "profeel = profeel.rename(columns={'calculated_epc':'Energy performance'})\n",
    "profeel['Heating energy'] = profeel['Heating system'].str.split('-').str[0]\n",
    "profeel = profeel.set_index(['Heating energy', 'Energy performance'], append=True)"
   ],
   "metadata": {
    "collapsed": false
   }
  },
  {
   "cell_type": "code",
   "execution_count": 14,
   "outputs": [
    {
     "data": {
      "text/plain": "                               Heating system  Wall  Floor  Roof  Windows  \\\nHousing type                                                                \nSingle-family       Wood fuel-Standard boiler  2.50   2.00   2.5      2.4   \nSingle-family       Wood fuel-Standard boiler  2.50   2.00   2.5      2.4   \nSingle-family       Wood fuel-Standard boiler  2.50   2.00   2.5      2.4   \nSingle-family       Wood fuel-Standard boiler  2.50   2.00   2.5      2.4   \nSingle-family       Wood fuel-Standard boiler  2.50   2.00   2.5      2.4   \n...                                       ...   ...    ...   ...      ...   \nMulti-family   Electricity-Performance boiler  0.34   0.25   0.2      1.6   \nMulti-family   Electricity-Performance boiler  0.34   0.25   0.2      1.6   \nMulti-family   Electricity-Performance boiler  0.34   0.25   0.2      1.6   \nMulti-family   Electricity-Performance boiler  0.34   0.25   0.2      1.6   \nMulti-family   Electricity-Performance boiler  0.34   0.25   0.2      1.6   \n\n               Occupancy status Income owner Income tenant  Stock buildings  \nHousing type                                                                 \nSingle-family    Social-housing          D10            D1       966.576810  \nSingle-family    Owner-occupied           D1            D1     43705.999858  \nSingle-family    Social-housing          D10            D2      1012.146645  \nSingle-family    Owner-occupied           D2            D2     55337.810299  \nSingle-family    Social-housing          D10            D3       900.817446  \n...                         ...          ...           ...              ...  \nMulti-family   Privately rented           D5           D10      2805.583667  \nMulti-family   Privately rented           D6           D10      3803.898886  \nMulti-family   Privately rented           D7           D10      5325.218225  \nMulti-family   Privately rented           D8           D10      8282.003866  \nMulti-family   Privately rented           D9           D10     15304.059610  \n\n[4680 rows x 9 columns]",
      "text/html": "<div>\n<style scoped>\n    .dataframe tbody tr th:only-of-type {\n        vertical-align: middle;\n    }\n\n    .dataframe tbody tr th {\n        vertical-align: top;\n    }\n\n    .dataframe thead th {\n        text-align: right;\n    }\n</style>\n<table border=\"1\" class=\"dataframe\">\n  <thead>\n    <tr style=\"text-align: right;\">\n      <th></th>\n      <th>Heating system</th>\n      <th>Wall</th>\n      <th>Floor</th>\n      <th>Roof</th>\n      <th>Windows</th>\n      <th>Occupancy status</th>\n      <th>Income owner</th>\n      <th>Income tenant</th>\n      <th>Stock buildings</th>\n    </tr>\n    <tr>\n      <th>Housing type</th>\n      <th></th>\n      <th></th>\n      <th></th>\n      <th></th>\n      <th></th>\n      <th></th>\n      <th></th>\n      <th></th>\n      <th></th>\n    </tr>\n  </thead>\n  <tbody>\n    <tr>\n      <th>Single-family</th>\n      <td>Wood fuel-Standard boiler</td>\n      <td>2.50</td>\n      <td>2.00</td>\n      <td>2.5</td>\n      <td>2.4</td>\n      <td>Social-housing</td>\n      <td>D10</td>\n      <td>D1</td>\n      <td>966.576810</td>\n    </tr>\n    <tr>\n      <th>Single-family</th>\n      <td>Wood fuel-Standard boiler</td>\n      <td>2.50</td>\n      <td>2.00</td>\n      <td>2.5</td>\n      <td>2.4</td>\n      <td>Owner-occupied</td>\n      <td>D1</td>\n      <td>D1</td>\n      <td>43705.999858</td>\n    </tr>\n    <tr>\n      <th>Single-family</th>\n      <td>Wood fuel-Standard boiler</td>\n      <td>2.50</td>\n      <td>2.00</td>\n      <td>2.5</td>\n      <td>2.4</td>\n      <td>Social-housing</td>\n      <td>D10</td>\n      <td>D2</td>\n      <td>1012.146645</td>\n    </tr>\n    <tr>\n      <th>Single-family</th>\n      <td>Wood fuel-Standard boiler</td>\n      <td>2.50</td>\n      <td>2.00</td>\n      <td>2.5</td>\n      <td>2.4</td>\n      <td>Owner-occupied</td>\n      <td>D2</td>\n      <td>D2</td>\n      <td>55337.810299</td>\n    </tr>\n    <tr>\n      <th>Single-family</th>\n      <td>Wood fuel-Standard boiler</td>\n      <td>2.50</td>\n      <td>2.00</td>\n      <td>2.5</td>\n      <td>2.4</td>\n      <td>Social-housing</td>\n      <td>D10</td>\n      <td>D3</td>\n      <td>900.817446</td>\n    </tr>\n    <tr>\n      <th>...</th>\n      <td>...</td>\n      <td>...</td>\n      <td>...</td>\n      <td>...</td>\n      <td>...</td>\n      <td>...</td>\n      <td>...</td>\n      <td>...</td>\n      <td>...</td>\n    </tr>\n    <tr>\n      <th>Multi-family</th>\n      <td>Electricity-Performance boiler</td>\n      <td>0.34</td>\n      <td>0.25</td>\n      <td>0.2</td>\n      <td>1.6</td>\n      <td>Privately rented</td>\n      <td>D5</td>\n      <td>D10</td>\n      <td>2805.583667</td>\n    </tr>\n    <tr>\n      <th>Multi-family</th>\n      <td>Electricity-Performance boiler</td>\n      <td>0.34</td>\n      <td>0.25</td>\n      <td>0.2</td>\n      <td>1.6</td>\n      <td>Privately rented</td>\n      <td>D6</td>\n      <td>D10</td>\n      <td>3803.898886</td>\n    </tr>\n    <tr>\n      <th>Multi-family</th>\n      <td>Electricity-Performance boiler</td>\n      <td>0.34</td>\n      <td>0.25</td>\n      <td>0.2</td>\n      <td>1.6</td>\n      <td>Privately rented</td>\n      <td>D7</td>\n      <td>D10</td>\n      <td>5325.218225</td>\n    </tr>\n    <tr>\n      <th>Multi-family</th>\n      <td>Electricity-Performance boiler</td>\n      <td>0.34</td>\n      <td>0.25</td>\n      <td>0.2</td>\n      <td>1.6</td>\n      <td>Privately rented</td>\n      <td>D8</td>\n      <td>D10</td>\n      <td>8282.003866</td>\n    </tr>\n    <tr>\n      <th>Multi-family</th>\n      <td>Electricity-Performance boiler</td>\n      <td>0.34</td>\n      <td>0.25</td>\n      <td>0.2</td>\n      <td>1.6</td>\n      <td>Privately rented</td>\n      <td>D9</td>\n      <td>D10</td>\n      <td>15304.059610</td>\n    </tr>\n  </tbody>\n</table>\n<p>4680 rows × 9 columns</p>\n</div>"
     },
     "execution_count": 14,
     "metadata": {},
     "output_type": "execute_result"
    }
   ],
   "source": [
    "merged = profeel.merge(sdes, how='inner', on=['Housing type', 'Energy performance', 'Heating energy'])\n",
    "# Adding a row specific index level\n",
    "r_position = pd.Series(range(0,merged.shape[0]), name='r_position')\n",
    "merged = merged.set_index(r_position, append=True)\n",
    "\n",
    "# Weight of each lines in terms of sdes's sizes (y) among a profeel archetype uniquely define by its class label\n",
    "merged = merged.set_index('Class', append=True)\n",
    "merged['Stock buildings_y'] = merged['Stock buildings_y'].T / merged.groupby(level='Class')['Stock buildings_y'].sum()\n",
    "\n",
    "# Multiplying the weights to the profeel's stocks (x)\n",
    "merged['Stock buildings'] = (merged['Stock buildings_y'].T * merged['Stock buildings_x']).T\n",
    "cleaned = merged.reset_index(('Energy performance', 'r_position', 'Class', 'Heating energy'))\n",
    "cleaned = cleaned.drop(labels=['Stock buildings_x', 'Stock buildings_y', 'Energy performance', 'r_position', 'Class', 'Heating energy'], axis=1)\n",
    "cleaned"
   ],
   "metadata": {
    "collapsed": false
   }
  },
  {
   "cell_type": "code",
   "execution_count": 15,
   "outputs": [
    {
     "name": "stdout",
     "output_type": "stream",
     "text": [
      "profeel building stock: 35172600\n",
      "sdes building stock: 26698690.691502385\n",
      "The number of new lines for each profeel archetypes: 120.0\n",
      "merged building stock: 35172600.0\n",
      "output building stock: 35172600.0\n",
      "building stock loss: 0.0\n"
     ]
    }
   ],
   "source": [
    "# Checks\n",
    "print(\"profeel building stock: {}\".format(profeel['Stock buildings'].sum()))\n",
    "print(\"sdes building stock: {}\".format(sdes['Stock buildings'].sum()))\n",
    "print(\"The number of new lines for each profeel archetypes: {}\".format(merged.shape[0]/profeel.shape[0]))\n",
    "print(\"merged building stock: {}\".format(merged['Stock buildings_x'].sum()/(merged.shape[0]/profeel.shape[0])))\n",
    "print(\"output building stock: {}\".format(cleaned['Stock buildings'].sum()))\n",
    "print(\"building stock loss: {}\".format(profeel['Stock buildings'].sum() - cleaned['Stock buildings'].sum()))"
   ],
   "metadata": {
    "collapsed": false
   }
  },
  {
   "cell_type": "code",
   "execution_count": 17,
   "outputs": [],
   "source": [
    "cleaned.to_csv('output/building_stock_profeel_final.csv')"
   ],
   "metadata": {
    "collapsed": false
   }
  }
 ],
 "metadata": {
  "kernelspec": {
   "display_name": "Python 3",
   "language": "python",
   "name": "python3"
  },
  "language_info": {
   "codemirror_mode": {
    "name": "ipython",
    "version": 2
   },
   "file_extension": ".py",
   "mimetype": "text/x-python",
   "name": "python",
   "nbconvert_exporter": "python",
   "pygments_lexer": "ipython2",
   "version": "2.7.6"
  }
 },
 "nbformat": 4,
 "nbformat_minor": 0
}
