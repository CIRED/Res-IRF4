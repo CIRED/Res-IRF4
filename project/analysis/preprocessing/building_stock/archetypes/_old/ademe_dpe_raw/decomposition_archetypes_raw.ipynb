{
 "cells": [
  {
   "cell_type": "code",
   "execution_count": 1,
   "outputs": [],
   "source": [
    "import pandas as pd\n",
    "import os"
   ],
   "metadata": {
    "collapsed": false,
    "pycharm": {
     "name": "#%%\n"
    }
   }
  },
  {
   "cell_type": "markdown",
   "source": [
    "# Decomposition by component and heating system"
   ],
   "metadata": {
    "collapsed": false,
    "pycharm": {
     "name": "#%% md\n"
    }
   }
  },
  {
   "cell_type": "markdown",
   "source": [
    "#### Loading data"
   ],
   "metadata": {
    "collapsed": false,
    "pycharm": {
     "name": "#%% md\n"
    }
   }
  },
  {
   "cell_type": "code",
   "execution_count": 2,
   "outputs": [],
   "source": [
    "stock_buildings = pd.read_csv('../../output/building_stock_sdes2018_aggregated.csv', index_col=[0, 1, 2, 3, 4, 5]).squeeze()"
   ],
   "metadata": {
    "collapsed": false,
    "pycharm": {
     "name": "#%%\n"
    }
   }
  },
  {
   "cell_type": "code",
   "execution_count": 3,
   "outputs": [],
   "source": [
    "idx = stock_buildings.xs('Multi-family', level='Housing type', drop_level=False).xs('Oil fuel', level='Heating energy', drop_level=False).index\n",
    "stock_buildings.drop(idx, inplace=True)\n",
    "\n",
    "idx = stock_buildings.xs('Multi-family', level='Housing type', drop_level=False).xs('Wood fuel', level='Heating energy', drop_level=False).index\n",
    "stock_buildings.drop(idx, inplace=True)"
   ],
   "metadata": {
    "collapsed": false,
    "pycharm": {
     "name": "#%%\n"
    }
   }
  },
  {
   "cell_type": "code",
   "execution_count": 4,
   "outputs": [
    {
     "data": {
      "text/plain": "                                                 Wall  Floor  Roof  Windows  \\\nEnergy performance Housing type  Heating energy                               \nB                  Multi-family  Natural gas      0.2    0.0   0.0      1.3   \n                   Single-family Natural gas      0.2    0.3   0.1      1.3   \n                                 Oil fuel         0.2    0.3   0.1      1.3   \n                                 Wood fuel        0.2    0.3   0.1      1.3   \nC                  Multi-family  Natural gas      0.4    0.0   0.0      2.2   \n...                                               ...    ...   ...      ...   \nG                  Multi-family  Electricity      1.9    0.0   0.0      6.2   \n                                 Electricity      2.5    0.0   0.0      3.3   \n                   Single-family Electricity      1.7    0.5   0.1      6.8   \n                                 Electricity      0.6    2.1   0.3      5.6   \n                                 Electricity      1.6    2.3   0.3     13.7   \n\n                                                 Efficiency     Share  \nEnergy performance Housing type  Heating energy                        \nB                  Multi-family  Natural gas           0.85  1.000000  \n                   Single-family Natural gas           0.85  1.000000  \n                                 Oil fuel              0.85  1.000000  \n                                 Wood fuel             0.85  1.000000  \nC                  Multi-family  Natural gas           0.75  1.000000  \n...                                                     ...       ...  \nG                  Multi-family  Electricity           0.95  0.646274  \n                                 Electricity           0.95  0.353726  \n                   Single-family Electricity           0.95  0.432415  \n                                 Electricity           0.95  0.409536  \n                                 Electricity           0.95  0.158049  \n\n[81 rows x 6 columns]",
      "text/html": "<div>\n<style scoped>\n    .dataframe tbody tr th:only-of-type {\n        vertical-align: middle;\n    }\n\n    .dataframe tbody tr th {\n        vertical-align: top;\n    }\n\n    .dataframe thead th {\n        text-align: right;\n    }\n</style>\n<table border=\"1\" class=\"dataframe\">\n  <thead>\n    <tr style=\"text-align: right;\">\n      <th></th>\n      <th></th>\n      <th></th>\n      <th>Wall</th>\n      <th>Floor</th>\n      <th>Roof</th>\n      <th>Windows</th>\n      <th>Efficiency</th>\n      <th>Share</th>\n    </tr>\n    <tr>\n      <th>Energy performance</th>\n      <th>Housing type</th>\n      <th>Heating energy</th>\n      <th></th>\n      <th></th>\n      <th></th>\n      <th></th>\n      <th></th>\n      <th></th>\n    </tr>\n  </thead>\n  <tbody>\n    <tr>\n      <th rowspan=\"4\" valign=\"top\">B</th>\n      <th>Multi-family</th>\n      <th>Natural gas</th>\n      <td>0.2</td>\n      <td>0.0</td>\n      <td>0.0</td>\n      <td>1.3</td>\n      <td>0.85</td>\n      <td>1.000000</td>\n    </tr>\n    <tr>\n      <th rowspan=\"3\" valign=\"top\">Single-family</th>\n      <th>Natural gas</th>\n      <td>0.2</td>\n      <td>0.3</td>\n      <td>0.1</td>\n      <td>1.3</td>\n      <td>0.85</td>\n      <td>1.000000</td>\n    </tr>\n    <tr>\n      <th>Oil fuel</th>\n      <td>0.2</td>\n      <td>0.3</td>\n      <td>0.1</td>\n      <td>1.3</td>\n      <td>0.85</td>\n      <td>1.000000</td>\n    </tr>\n    <tr>\n      <th>Wood fuel</th>\n      <td>0.2</td>\n      <td>0.3</td>\n      <td>0.1</td>\n      <td>1.3</td>\n      <td>0.85</td>\n      <td>1.000000</td>\n    </tr>\n    <tr>\n      <th>C</th>\n      <th>Multi-family</th>\n      <th>Natural gas</th>\n      <td>0.4</td>\n      <td>0.0</td>\n      <td>0.0</td>\n      <td>2.2</td>\n      <td>0.75</td>\n      <td>1.000000</td>\n    </tr>\n    <tr>\n      <th>...</th>\n      <th>...</th>\n      <th>...</th>\n      <td>...</td>\n      <td>...</td>\n      <td>...</td>\n      <td>...</td>\n      <td>...</td>\n      <td>...</td>\n    </tr>\n    <tr>\n      <th rowspan=\"5\" valign=\"top\">G</th>\n      <th rowspan=\"2\" valign=\"top\">Multi-family</th>\n      <th>Electricity</th>\n      <td>1.9</td>\n      <td>0.0</td>\n      <td>0.0</td>\n      <td>6.2</td>\n      <td>0.95</td>\n      <td>0.646274</td>\n    </tr>\n    <tr>\n      <th>Electricity</th>\n      <td>2.5</td>\n      <td>0.0</td>\n      <td>0.0</td>\n      <td>3.3</td>\n      <td>0.95</td>\n      <td>0.353726</td>\n    </tr>\n    <tr>\n      <th rowspan=\"3\" valign=\"top\">Single-family</th>\n      <th>Electricity</th>\n      <td>1.7</td>\n      <td>0.5</td>\n      <td>0.1</td>\n      <td>6.8</td>\n      <td>0.95</td>\n      <td>0.432415</td>\n    </tr>\n    <tr>\n      <th>Electricity</th>\n      <td>0.6</td>\n      <td>2.1</td>\n      <td>0.3</td>\n      <td>5.6</td>\n      <td>0.95</td>\n      <td>0.409536</td>\n    </tr>\n    <tr>\n      <th>Electricity</th>\n      <td>1.6</td>\n      <td>2.3</td>\n      <td>0.3</td>\n      <td>13.7</td>\n      <td>0.95</td>\n      <td>0.158049</td>\n    </tr>\n  </tbody>\n</table>\n<p>81 rows × 6 columns</p>\n</div>"
     },
     "execution_count": 4,
     "metadata": {},
     "output_type": "execute_result"
    }
   ],
   "source": [
    "archetypes = pd.read_csv(os.path.join('output', 'archetypes.csv'))\n",
    "archetypes.rename(columns={'U_wall': 'Wall', 'U_floor': 'Floor', 'U_roof': 'Roof', 'U_windows': 'Windows', 'Proba': 'Share', 'Performance': 'Energy performance'}, inplace=True)\n",
    "archetypes['Energy performance'].replace({'A': 'B'}, inplace=True)\n",
    "archetypes.set_index(['Energy performance', 'Housing type', 'Heating energy'], inplace=True)\n",
    "archetypes.drop(['Electricity', 'Number'], inplace=True, axis=1)\n",
    "archetypes"
   ],
   "metadata": {
    "collapsed": false,
    "pycharm": {
     "name": "#%%\n"
    }
   }
  },
  {
   "cell_type": "code",
   "execution_count": 5,
   "outputs": [],
   "source": [
    "stock_buildings  = stock_buildings.reset_index('Energy performance').replace({'A': 'B'}).set_index('Energy performance', append=True)"
   ],
   "metadata": {
    "collapsed": false,
    "pycharm": {
     "name": "#%%\n"
    }
   }
  },
  {
   "cell_type": "code",
   "execution_count": 6,
   "outputs": [
    {
     "name": "stderr",
     "output_type": "stream",
     "text": [
      "/Users/lucas/opt/anaconda3/envs/DataAnalysis/lib/python3.8/site-packages/pandas/core/indexing.py:925: PerformanceWarning: indexing past lexsort depth may impact performance.\n",
      "  return self._getitem_tuple(key)\n"
     ]
    }
   ],
   "source": [
    "new_levels = ['Wall', 'Floor', 'Roof', 'Windows', 'Efficiency']\n",
    "new_stock = pd.DataFrame()\n",
    "for idx, group_stock in stock_buildings.groupby(['Energy performance', 'Housing type', 'Heating energy']):\n",
    "    for i, row in archetypes.loc[idx, :].iterrows():\n",
    "        stock = row['Share'] * group_stock\n",
    "        stock = pd.concat((stock, pd.concat([row[new_levels]] * group_stock.shape[0], keys=group_stock.index, axis=1).T), axis=1).set_index(new_levels, append=True)\n",
    "        new_stock = pd.concat((new_stock, stock), axis=0)"
   ],
   "metadata": {
    "collapsed": false,
    "pycharm": {
     "name": "#%%\n"
    }
   }
  },
  {
   "cell_type": "code",
   "execution_count": 7,
   "outputs": [
    {
     "name": "stdout",
     "output_type": "stream",
     "text": [
      "                                                                                                                 Stock buildings\n",
      "Housing type  Heating energy Occupancy status Income owner Income tenant Wall Floor Roof Windows Heating system                 \n",
      "Multi-family  Electricity    Owner-occupied   D1           D1            0.2  0.0   0.0  1.3     3.00                2225.100088\n",
      "                                                                         0.3  0.0   0.0  4.5     0.95                5688.251234\n",
      "                                                                         0.5  0.0   0.0  2.4     0.95               10388.296466\n",
      "                                                                         0.6  0.0   0.0  6.7     0.95               15750.031490\n",
      "                                                                         1.2  0.0   0.0  2.9     3.00                5649.117553\n",
      "...                                                                                                                          ...\n",
      "Single-family Wood fuel      Social-housing   D10          D9            0.9  1.4   1.7  1.3     0.75                  10.772910\n",
      "                                                                         1.7  0.4   0.6  3.1     0.75                  44.776096\n",
      "                                                                         2.0  2.2   0.2  5.3     0.75                   6.528044\n",
      "                                                                         2.2  1.4   0.3  4.4     0.85                  10.746958\n",
      "                                                                         2.5  0.5   2.1  4.2     0.75                  12.186275\n",
      "\n",
      "[9720 rows x 1 columns]\n"
     ]
    }
   ],
   "source": [
    "new_stock['Heating system'] = new_stock.index.get_level_values('Efficiency')\n",
    "new_stock['Heating system'].replace({0.9: 'Performance boiler', 0.65: 'Standard boiler', 2: 'Heat pump'}, inplace=True)\n",
    "new_stock.set_index('Heating system', append=True, inplace=True)\n",
    "new_stock = new_stock.droplevel(['Energy performance', 'Efficiency'])\n",
    "new_stock = new_stock.groupby(new_stock.index.names).sum()\n",
    "print(new_stock)\n"
   ],
   "metadata": {
    "collapsed": false,
    "pycharm": {
     "name": "#%%\n"
    }
   }
  },
  {
   "cell_type": "code",
   "execution_count": 8,
   "outputs": [
    {
     "name": "stdout",
     "output_type": "stream",
     "text": [
      "\n",
      " Total number of housings 26,147,807\n"
     ]
    }
   ],
   "source": [
    "print('\\n Total number of housings {:,.0f}'.format(new_stock.squeeze().sum() ))"
   ],
   "metadata": {
    "collapsed": false,
    "pycharm": {
     "name": "#%%\n"
    }
   }
  },
  {
   "cell_type": "code",
   "execution_count": 9,
   "outputs": [],
   "source": [
    "new_stock = new_stock.reset_index(level=['Heating energy', 'Heating system'])\n",
    "new_stock['Heating system'].replace({3: 'Heat pump'}, inplace=True)\n",
    "new_stock['Heating system'].replace({0.95: 'Performance boiler'}, inplace=True)\n",
    "new_stock['Heating system'].replace({0.85: 'Performance boiler'}, inplace=True)\n",
    "new_stock['Heating system'].replace({0.75: 'Standard boiler'}, inplace=True)\n",
    "\n",
    "new_stock['Heating system'] = new_stock['Heating energy'] + '-' + new_stock['Heating system']\n",
    "new_stock = new_stock.set_index(['Heating system'], append=True).loc[:, 'Stock buildings']"
   ],
   "metadata": {
    "collapsed": false,
    "pycharm": {
     "name": "#%%\n"
    }
   }
  },
  {
   "cell_type": "code",
   "execution_count": 10,
   "outputs": [],
   "source": [
    "new_stock.to_csv(os.path.join('output', 'building_stock_sdes2018.csv'))"
   ],
   "metadata": {
    "collapsed": false,
    "pycharm": {
     "name": "#%%\n"
    }
   }
  },
  {
   "cell_type": "code",
   "execution_count": 10,
   "outputs": [],
   "source": [],
   "metadata": {
    "collapsed": false,
    "pycharm": {
     "name": "#%%\n"
    }
   }
  }
 ],
 "metadata": {
  "kernelspec": {
   "display_name": "Python 3",
   "language": "python",
   "name": "python3"
  },
  "language_info": {
   "codemirror_mode": {
    "name": "ipython",
    "version": 2
   },
   "file_extension": ".py",
   "mimetype": "text/x-python",
   "name": "python",
   "nbconvert_exporter": "python",
   "pygments_lexer": "ipython2",
   "version": "2.7.6"
  }
 },
 "nbformat": 4,
 "nbformat_minor": 0
}