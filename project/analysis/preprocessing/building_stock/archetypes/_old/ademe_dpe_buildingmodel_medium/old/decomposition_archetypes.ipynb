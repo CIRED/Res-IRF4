{
 "cells": [
  {
   "cell_type": "code",
   "execution_count": 66,
   "outputs": [],
   "source": [
    "import pandas as pd\n",
    "import os"
   ],
   "metadata": {
    "collapsed": false,
    "pycharm": {
     "name": "#%%\n"
    }
   }
  },
  {
   "cell_type": "markdown",
   "source": [
    "# Decomposition by component and heating system"
   ],
   "metadata": {
    "collapsed": false,
    "pycharm": {
     "name": "#%% md\n"
    }
   }
  },
  {
   "cell_type": "markdown",
   "source": [
    "#### Loading data"
   ],
   "metadata": {
    "collapsed": false,
    "pycharm": {
     "name": "#%% md\n"
    }
   }
  },
  {
   "cell_type": "code",
   "execution_count": 67,
   "outputs": [
    {
     "name": "stdout",
     "output_type": "stream",
     "text": [
      "Stock buildings    2.669869e+07\n",
      "dtype: float64\n"
     ]
    },
    {
     "data": {
      "text/plain": "                                                                                   Stock buildings\nHousing type  Performance Energy      Occupancy status Income owner Income tenant                 \nMulti-family  A           Electricity Social-housing   D10          D1                 4162.321113\nSingle-family A           Electricity Social-housing   D10          D1                 1618.652411\nMulti-family  A           Electricity Owner-occupied   D1           D1                 1154.718085\nSingle-family A           Electricity Owner-occupied   D1           D1                 5032.777538\nMulti-family  A           Electricity Social-housing   D10          D2                 4298.192125\n...                                                                                            ...\nSingle-family G           Wood fuel   Privately rented D5           D10                  20.603479\n                                                       D6           D10                  25.586547\n                                                       D7           D10                  34.844713\n                                                       D8           D10                  63.545738\n                                                       D9           D10                 110.578082\n\n[6720 rows x 1 columns]",
      "text/html": "<div>\n<style scoped>\n    .dataframe tbody tr th:only-of-type {\n        vertical-align: middle;\n    }\n\n    .dataframe tbody tr th {\n        vertical-align: top;\n    }\n\n    .dataframe thead th {\n        text-align: right;\n    }\n</style>\n<table border=\"1\" class=\"dataframe\">\n  <thead>\n    <tr style=\"text-align: right;\">\n      <th></th>\n      <th></th>\n      <th></th>\n      <th></th>\n      <th></th>\n      <th></th>\n      <th>Stock buildings</th>\n    </tr>\n    <tr>\n      <th>Housing type</th>\n      <th>Performance</th>\n      <th>Energy</th>\n      <th>Occupancy status</th>\n      <th>Income owner</th>\n      <th>Income tenant</th>\n      <th></th>\n    </tr>\n  </thead>\n  <tbody>\n    <tr>\n      <th>Multi-family</th>\n      <th>A</th>\n      <th>Electricity</th>\n      <th>Social-housing</th>\n      <th>D10</th>\n      <th>D1</th>\n      <td>4162.321113</td>\n    </tr>\n    <tr>\n      <th>Single-family</th>\n      <th>A</th>\n      <th>Electricity</th>\n      <th>Social-housing</th>\n      <th>D10</th>\n      <th>D1</th>\n      <td>1618.652411</td>\n    </tr>\n    <tr>\n      <th>Multi-family</th>\n      <th>A</th>\n      <th>Electricity</th>\n      <th>Owner-occupied</th>\n      <th>D1</th>\n      <th>D1</th>\n      <td>1154.718085</td>\n    </tr>\n    <tr>\n      <th>Single-family</th>\n      <th>A</th>\n      <th>Electricity</th>\n      <th>Owner-occupied</th>\n      <th>D1</th>\n      <th>D1</th>\n      <td>5032.777538</td>\n    </tr>\n    <tr>\n      <th>Multi-family</th>\n      <th>A</th>\n      <th>Electricity</th>\n      <th>Social-housing</th>\n      <th>D10</th>\n      <th>D2</th>\n      <td>4298.192125</td>\n    </tr>\n    <tr>\n      <th>...</th>\n      <th>...</th>\n      <th>...</th>\n      <th>...</th>\n      <th>...</th>\n      <th>...</th>\n      <td>...</td>\n    </tr>\n    <tr>\n      <th rowspan=\"5\" valign=\"top\">Single-family</th>\n      <th rowspan=\"5\" valign=\"top\">G</th>\n      <th rowspan=\"5\" valign=\"top\">Wood fuel</th>\n      <th rowspan=\"5\" valign=\"top\">Privately rented</th>\n      <th>D5</th>\n      <th>D10</th>\n      <td>20.603479</td>\n    </tr>\n    <tr>\n      <th>D6</th>\n      <th>D10</th>\n      <td>25.586547</td>\n    </tr>\n    <tr>\n      <th>D7</th>\n      <th>D10</th>\n      <td>34.844713</td>\n    </tr>\n    <tr>\n      <th>D8</th>\n      <th>D10</th>\n      <td>63.545738</td>\n    </tr>\n    <tr>\n      <th>D9</th>\n      <th>D10</th>\n      <td>110.578082</td>\n    </tr>\n  </tbody>\n</table>\n<p>6720 rows × 1 columns</p>\n</div>"
     },
     "execution_count": 67,
     "metadata": {},
     "output_type": "execute_result"
    }
   ],
   "source": [
    "stock_buildings = pd.read_csv('output/building_stock_sdes2018_aggregated.csv')\n",
    "stock_buildings = stock_buildings.rename(columns={'Heating energy': 'Energy', 'Energy performance': 'Performance'}).set_index(['Housing type', 'Performance', 'Energy', 'Occupancy status', 'Income owner', 'Income tenant'])\n",
    "print(stock_buildings.sum())\n",
    "stock_buildings"
   ],
   "metadata": {
    "collapsed": false,
    "pycharm": {
     "name": "#%%\n"
    }
   }
  },
  {
   "cell_type": "code",
   "execution_count": 68,
   "outputs": [
    {
     "data": {
      "text/plain": "                                                     Heating system  Wall  \\\nHousing type  Performance Energy                                            \nMulti-family  A           Electricity         Electricity-Heat pump   0.2   \n                          Electricity         Electricity-Heat pump   0.4   \n                          Electricity         Electricity-Heat pump   0.2   \n              B           Electricity         Electricity-Heat pump   0.4   \n                          Electricity         Electricity-Heat pump   0.4   \n...                                                             ...   ...   \nSingle-family F           Wood fuel    Wood fuel-Performance boiler   2.5   \n                          Wood fuel       Wood fuel-Standard boiler   1.0   \n              G           Wood fuel       Wood fuel-Standard boiler   2.5   \n                          Wood fuel    Wood fuel-Performance boiler   2.5   \n                          Wood fuel       Wood fuel-Standard boiler   2.5   \n\n                                       Floor  Roof  Windows    Weight  \nHousing type  Performance Energy                                       \nMulti-family  A           Electricity    0.3   0.2      2.6  0.643678  \n                          Electricity    0.3   0.2      1.3  0.275862  \n                          Electricity    0.9   0.2      1.3  0.080460  \n              B           Electricity    0.3   0.3      2.6  0.602687  \n                          Electricity    2.0   0.3      2.6  0.261036  \n...                                      ...   ...      ...       ...  \nSingle-family F           Wood fuel      0.9   0.5      3.0  0.311051  \n                          Wood fuel      0.9   2.5      3.0  0.079655  \n              G           Wood fuel      0.9   2.5      3.0  0.828087  \n                          Wood fuel      2.0   2.5      4.3  0.114286  \n                          Wood fuel      2.0   0.5      4.3  0.057627  \n\n[139 rows x 6 columns]",
      "text/html": "<div>\n<style scoped>\n    .dataframe tbody tr th:only-of-type {\n        vertical-align: middle;\n    }\n\n    .dataframe tbody tr th {\n        vertical-align: top;\n    }\n\n    .dataframe thead th {\n        text-align: right;\n    }\n</style>\n<table border=\"1\" class=\"dataframe\">\n  <thead>\n    <tr style=\"text-align: right;\">\n      <th></th>\n      <th></th>\n      <th></th>\n      <th>Heating system</th>\n      <th>Wall</th>\n      <th>Floor</th>\n      <th>Roof</th>\n      <th>Windows</th>\n      <th>Weight</th>\n    </tr>\n    <tr>\n      <th>Housing type</th>\n      <th>Performance</th>\n      <th>Energy</th>\n      <th></th>\n      <th></th>\n      <th></th>\n      <th></th>\n      <th></th>\n      <th></th>\n    </tr>\n  </thead>\n  <tbody>\n    <tr>\n      <th rowspan=\"5\" valign=\"top\">Multi-family</th>\n      <th rowspan=\"3\" valign=\"top\">A</th>\n      <th>Electricity</th>\n      <td>Electricity-Heat pump</td>\n      <td>0.2</td>\n      <td>0.3</td>\n      <td>0.2</td>\n      <td>2.6</td>\n      <td>0.643678</td>\n    </tr>\n    <tr>\n      <th>Electricity</th>\n      <td>Electricity-Heat pump</td>\n      <td>0.4</td>\n      <td>0.3</td>\n      <td>0.2</td>\n      <td>1.3</td>\n      <td>0.275862</td>\n    </tr>\n    <tr>\n      <th>Electricity</th>\n      <td>Electricity-Heat pump</td>\n      <td>0.2</td>\n      <td>0.9</td>\n      <td>0.2</td>\n      <td>1.3</td>\n      <td>0.080460</td>\n    </tr>\n    <tr>\n      <th rowspan=\"2\" valign=\"top\">B</th>\n      <th>Electricity</th>\n      <td>Electricity-Heat pump</td>\n      <td>0.4</td>\n      <td>0.3</td>\n      <td>0.3</td>\n      <td>2.6</td>\n      <td>0.602687</td>\n    </tr>\n    <tr>\n      <th>Electricity</th>\n      <td>Electricity-Heat pump</td>\n      <td>0.4</td>\n      <td>2.0</td>\n      <td>0.3</td>\n      <td>2.6</td>\n      <td>0.261036</td>\n    </tr>\n    <tr>\n      <th>...</th>\n      <th>...</th>\n      <th>...</th>\n      <td>...</td>\n      <td>...</td>\n      <td>...</td>\n      <td>...</td>\n      <td>...</td>\n      <td>...</td>\n    </tr>\n    <tr>\n      <th rowspan=\"5\" valign=\"top\">Single-family</th>\n      <th rowspan=\"2\" valign=\"top\">F</th>\n      <th>Wood fuel</th>\n      <td>Wood fuel-Performance boiler</td>\n      <td>2.5</td>\n      <td>0.9</td>\n      <td>0.5</td>\n      <td>3.0</td>\n      <td>0.311051</td>\n    </tr>\n    <tr>\n      <th>Wood fuel</th>\n      <td>Wood fuel-Standard boiler</td>\n      <td>1.0</td>\n      <td>0.9</td>\n      <td>2.5</td>\n      <td>3.0</td>\n      <td>0.079655</td>\n    </tr>\n    <tr>\n      <th rowspan=\"3\" valign=\"top\">G</th>\n      <th>Wood fuel</th>\n      <td>Wood fuel-Standard boiler</td>\n      <td>2.5</td>\n      <td>0.9</td>\n      <td>2.5</td>\n      <td>3.0</td>\n      <td>0.828087</td>\n    </tr>\n    <tr>\n      <th>Wood fuel</th>\n      <td>Wood fuel-Performance boiler</td>\n      <td>2.5</td>\n      <td>2.0</td>\n      <td>2.5</td>\n      <td>4.3</td>\n      <td>0.114286</td>\n    </tr>\n    <tr>\n      <th>Wood fuel</th>\n      <td>Wood fuel-Standard boiler</td>\n      <td>2.5</td>\n      <td>2.0</td>\n      <td>0.5</td>\n      <td>4.3</td>\n      <td>0.057627</td>\n    </tr>\n  </tbody>\n</table>\n<p>139 rows × 6 columns</p>\n</div>"
     },
     "execution_count": 68,
     "metadata": {},
     "output_type": "execute_result"
    }
   ],
   "source": [
    "archetypes = pd.read_csv(os.path.join('archetypes', 'ademe_dpe_buildingmodel', 'archetypes_3.csv'))\n",
    "archetypes = archetypes.rename(columns={'DPE': 'Performance'}).set_index(['Housing type', 'Performance', 'Energy'])\n",
    "archetypes = archetypes.drop(['Efficiency', 'clusters'], axis=1)\n",
    "archetypes"
   ],
   "metadata": {
    "collapsed": false,
    "pycharm": {
     "name": "#%%\n"
    }
   }
  },
  {
   "cell_type": "markdown",
   "source": [
    "### Missing archetypes ?\n",
    "Looking for index that are in stock but not in archetypes"
   ],
   "metadata": {
    "collapsed": false,
    "pycharm": {
     "name": "#%% md\n"
    }
   }
  },
  {
   "cell_type": "code",
   "execution_count": 69,
   "outputs": [],
   "source": [
    "columns = ['Housing type', 'Performance', 'Energy']\n",
    "archetypes_columns = ['Wall', 'Floor', 'Roof', 'Windows', 'Heating system']"
   ],
   "metadata": {
    "collapsed": false,
    "pycharm": {
     "name": "#%%\n"
    }
   }
  },
  {
   "cell_type": "code",
   "execution_count": 70,
   "outputs": [],
   "source": [
    "idx_stock = pd.MultiIndex.from_frame(stock_buildings.reset_index()[columns]).unique().sort_values()\n",
    "idx_archetypes = archetypes.index.unique().sort_values()"
   ],
   "metadata": {
    "collapsed": false,
    "pycharm": {
     "name": "#%%\n"
    }
   }
  },
  {
   "cell_type": "code",
   "execution_count": 71,
   "outputs": [
    {
     "data": {
      "text/plain": "MultiIndex([( 'Multi-family', 'A', 'Natural gas'),\n            ( 'Multi-family', 'A',    'Oil fuel'),\n            ( 'Multi-family', 'A',   'Wood fuel'),\n            ( 'Multi-family', 'G', 'Natural gas'),\n            ( 'Multi-family', 'G',    'Oil fuel'),\n            ( 'Multi-family', 'G',   'Wood fuel'),\n            ('Single-family', 'A', 'Natural gas'),\n            ('Single-family', 'A',    'Oil fuel'),\n            ('Single-family', 'A',   'Wood fuel')],\n           names=['Housing type', 'Performance', 'Energy'])"
     },
     "execution_count": 71,
     "metadata": {},
     "output_type": "execute_result"
    }
   ],
   "source": [
    "idx_missing = idx_stock.drop(idx_stock.intersection(idx_archetypes))\n",
    "idx_missing"
   ],
   "metadata": {
    "collapsed": false,
    "pycharm": {
     "name": "#%%\n"
    }
   }
  },
  {
   "cell_type": "markdown",
   "source": [
    "We miss extreme values in Multi-family dwelling due to use of average values.\n",
    "We set 'A' and 'G' as best and worst possible archetypes."
   ],
   "metadata": {
    "collapsed": false,
    "pycharm": {
     "name": "#%% md\n"
    }
   }
  },
  {
   "cell_type": "code",
   "execution_count": 76,
   "outputs": [
    {
     "data": {
      "text/plain": "                                          Heating system Wall Floor Roof  \\\nMulti-family  A Natural gas  Natural gas-Standard boiler  0.2   0.3  0.2   \n                Oil fuel        Oil fuel-Standard boiler  0.2   0.3  0.2   \n                Wood fuel      Wood fuel-Standard boiler  0.2   0.3  0.2   \n              G Natural gas  Natural gas-Standard boiler  2.5   2.0  2.5   \n                Oil fuel        Oil fuel-Standard boiler  2.5   2.0  2.5   \n                Wood fuel      Wood fuel-Standard boiler  2.5   2.0  2.5   \nSingle-family A Natural gas  Natural gas-Standard boiler  0.2   0.3  0.2   \n                Oil fuel        Oil fuel-Standard boiler  0.2   0.3  0.2   \n                Wood fuel      Wood fuel-Standard boiler  0.2   0.3  0.2   \n\n                            Windows Weight  \nMulti-family  A Natural gas     1.3      1  \n                Oil fuel        1.3      1  \n                Wood fuel       1.3      1  \n              G Natural gas     4.3      1  \n                Oil fuel        4.3      1  \n                Wood fuel       4.3      1  \nSingle-family A Natural gas     1.3      1  \n                Oil fuel        1.3      1  \n                Wood fuel       1.3      1  ",
      "text/html": "<div>\n<style scoped>\n    .dataframe tbody tr th:only-of-type {\n        vertical-align: middle;\n    }\n\n    .dataframe tbody tr th {\n        vertical-align: top;\n    }\n\n    .dataframe thead th {\n        text-align: right;\n    }\n</style>\n<table border=\"1\" class=\"dataframe\">\n  <thead>\n    <tr style=\"text-align: right;\">\n      <th></th>\n      <th></th>\n      <th></th>\n      <th>Heating system</th>\n      <th>Wall</th>\n      <th>Floor</th>\n      <th>Roof</th>\n      <th>Windows</th>\n      <th>Weight</th>\n    </tr>\n  </thead>\n  <tbody>\n    <tr>\n      <th rowspan=\"6\" valign=\"top\">Multi-family</th>\n      <th rowspan=\"3\" valign=\"top\">A</th>\n      <th>Natural gas</th>\n      <td>Natural gas-Standard boiler</td>\n      <td>0.2</td>\n      <td>0.3</td>\n      <td>0.2</td>\n      <td>1.3</td>\n      <td>1</td>\n    </tr>\n    <tr>\n      <th>Oil fuel</th>\n      <td>Oil fuel-Standard boiler</td>\n      <td>0.2</td>\n      <td>0.3</td>\n      <td>0.2</td>\n      <td>1.3</td>\n      <td>1</td>\n    </tr>\n    <tr>\n      <th>Wood fuel</th>\n      <td>Wood fuel-Standard boiler</td>\n      <td>0.2</td>\n      <td>0.3</td>\n      <td>0.2</td>\n      <td>1.3</td>\n      <td>1</td>\n    </tr>\n    <tr>\n      <th rowspan=\"3\" valign=\"top\">G</th>\n      <th>Natural gas</th>\n      <td>Natural gas-Standard boiler</td>\n      <td>2.5</td>\n      <td>2.0</td>\n      <td>2.5</td>\n      <td>4.3</td>\n      <td>1</td>\n    </tr>\n    <tr>\n      <th>Oil fuel</th>\n      <td>Oil fuel-Standard boiler</td>\n      <td>2.5</td>\n      <td>2.0</td>\n      <td>2.5</td>\n      <td>4.3</td>\n      <td>1</td>\n    </tr>\n    <tr>\n      <th>Wood fuel</th>\n      <td>Wood fuel-Standard boiler</td>\n      <td>2.5</td>\n      <td>2.0</td>\n      <td>2.5</td>\n      <td>4.3</td>\n      <td>1</td>\n    </tr>\n    <tr>\n      <th rowspan=\"3\" valign=\"top\">Single-family</th>\n      <th rowspan=\"3\" valign=\"top\">A</th>\n      <th>Natural gas</th>\n      <td>Natural gas-Standard boiler</td>\n      <td>0.2</td>\n      <td>0.3</td>\n      <td>0.2</td>\n      <td>1.3</td>\n      <td>1</td>\n    </tr>\n    <tr>\n      <th>Oil fuel</th>\n      <td>Oil fuel-Standard boiler</td>\n      <td>0.2</td>\n      <td>0.3</td>\n      <td>0.2</td>\n      <td>1.3</td>\n      <td>1</td>\n    </tr>\n    <tr>\n      <th>Wood fuel</th>\n      <td>Wood fuel-Standard boiler</td>\n      <td>0.2</td>\n      <td>0.3</td>\n      <td>0.2</td>\n      <td>1.3</td>\n      <td>1</td>\n    </tr>\n  </tbody>\n</table>\n</div>"
     },
     "execution_count": 76,
     "metadata": {},
     "output_type": "execute_result"
    }
   ],
   "source": [
    "missing = {}\n",
    "for i in idx_missing:\n",
    "    if i[1] == 'A':\n",
    "        missing.update({i: [archetypes['Wall'].min(), archetypes['Floor'].min(), archetypes['Roof'].min(), archetypes['Windows'].min(), '{}-Standard boiler'.format(i[2]), 1]})\n",
    "    if i[1] == 'G':\n",
    "        missing.update({i: [archetypes['Wall'].max(), archetypes['Floor'].max(), archetypes['Roof'].max(), archetypes['Windows'].max(), '{}-Standard boiler'.format(i[2]), 1]})\n",
    "missing = pd.DataFrame(missing).T.set_axis(['Wall', 'Floor', 'Roof', 'Windows', 'Heating system', 'Weight'], axis=1)\n",
    "missing = missing[archetypes.columns]\n",
    "missing"
   ],
   "metadata": {
    "collapsed": false,
    "pycharm": {
     "name": "#%%\n"
    }
   }
  },
  {
   "cell_type": "code",
   "execution_count": 79,
   "outputs": [
    {
     "data": {
      "text/plain": "                                           Heating system Wall Floor Roof  \\\nMulti-family  A Natural gas   Natural gas-Standard boiler  0.2   0.3  0.2   \n                Oil fuel         Oil fuel-Standard boiler  0.2   0.3  0.2   \n                Wood fuel       Wood fuel-Standard boiler  0.2   0.3  0.2   \n              G Natural gas   Natural gas-Standard boiler  2.5   2.0  2.5   \n                Oil fuel         Oil fuel-Standard boiler  2.5   2.0  2.5   \n...                                                   ...  ...   ...  ...   \nSingle-family F Wood fuel    Wood fuel-Performance boiler  2.5   0.9  0.5   \n                Wood fuel       Wood fuel-Standard boiler  1.0   0.9  2.5   \n              G Wood fuel       Wood fuel-Standard boiler  2.5   0.9  2.5   \n                Wood fuel    Wood fuel-Performance boiler  2.5   2.0  2.5   \n                Wood fuel       Wood fuel-Standard boiler  2.5   2.0  0.5   \n\n                            Windows    Weight  \nMulti-family  A Natural gas     1.3         1  \n                Oil fuel        1.3         1  \n                Wood fuel       1.3         1  \n              G Natural gas     4.3         1  \n                Oil fuel        4.3         1  \n...                             ...       ...  \nSingle-family F Wood fuel       3.0  0.311051  \n                Wood fuel       3.0  0.079655  \n              G Wood fuel       3.0  0.828087  \n                Wood fuel       4.3  0.114286  \n                Wood fuel       4.3  0.057627  \n\n[157 rows x 6 columns]",
      "text/html": "<div>\n<style scoped>\n    .dataframe tbody tr th:only-of-type {\n        vertical-align: middle;\n    }\n\n    .dataframe tbody tr th {\n        vertical-align: top;\n    }\n\n    .dataframe thead th {\n        text-align: right;\n    }\n</style>\n<table border=\"1\" class=\"dataframe\">\n  <thead>\n    <tr style=\"text-align: right;\">\n      <th></th>\n      <th></th>\n      <th></th>\n      <th>Heating system</th>\n      <th>Wall</th>\n      <th>Floor</th>\n      <th>Roof</th>\n      <th>Windows</th>\n      <th>Weight</th>\n    </tr>\n  </thead>\n  <tbody>\n    <tr>\n      <th rowspan=\"5\" valign=\"top\">Multi-family</th>\n      <th rowspan=\"3\" valign=\"top\">A</th>\n      <th>Natural gas</th>\n      <td>Natural gas-Standard boiler</td>\n      <td>0.2</td>\n      <td>0.3</td>\n      <td>0.2</td>\n      <td>1.3</td>\n      <td>1</td>\n    </tr>\n    <tr>\n      <th>Oil fuel</th>\n      <td>Oil fuel-Standard boiler</td>\n      <td>0.2</td>\n      <td>0.3</td>\n      <td>0.2</td>\n      <td>1.3</td>\n      <td>1</td>\n    </tr>\n    <tr>\n      <th>Wood fuel</th>\n      <td>Wood fuel-Standard boiler</td>\n      <td>0.2</td>\n      <td>0.3</td>\n      <td>0.2</td>\n      <td>1.3</td>\n      <td>1</td>\n    </tr>\n    <tr>\n      <th rowspan=\"2\" valign=\"top\">G</th>\n      <th>Natural gas</th>\n      <td>Natural gas-Standard boiler</td>\n      <td>2.5</td>\n      <td>2.0</td>\n      <td>2.5</td>\n      <td>4.3</td>\n      <td>1</td>\n    </tr>\n    <tr>\n      <th>Oil fuel</th>\n      <td>Oil fuel-Standard boiler</td>\n      <td>2.5</td>\n      <td>2.0</td>\n      <td>2.5</td>\n      <td>4.3</td>\n      <td>1</td>\n    </tr>\n    <tr>\n      <th>...</th>\n      <th>...</th>\n      <th>...</th>\n      <td>...</td>\n      <td>...</td>\n      <td>...</td>\n      <td>...</td>\n      <td>...</td>\n      <td>...</td>\n    </tr>\n    <tr>\n      <th rowspan=\"5\" valign=\"top\">Single-family</th>\n      <th rowspan=\"2\" valign=\"top\">F</th>\n      <th>Wood fuel</th>\n      <td>Wood fuel-Performance boiler</td>\n      <td>2.5</td>\n      <td>0.9</td>\n      <td>0.5</td>\n      <td>3.0</td>\n      <td>0.311051</td>\n    </tr>\n    <tr>\n      <th>Wood fuel</th>\n      <td>Wood fuel-Standard boiler</td>\n      <td>1.0</td>\n      <td>0.9</td>\n      <td>2.5</td>\n      <td>3.0</td>\n      <td>0.079655</td>\n    </tr>\n    <tr>\n      <th rowspan=\"3\" valign=\"top\">G</th>\n      <th>Wood fuel</th>\n      <td>Wood fuel-Standard boiler</td>\n      <td>2.5</td>\n      <td>0.9</td>\n      <td>2.5</td>\n      <td>3.0</td>\n      <td>0.828087</td>\n    </tr>\n    <tr>\n      <th>Wood fuel</th>\n      <td>Wood fuel-Performance boiler</td>\n      <td>2.5</td>\n      <td>2.0</td>\n      <td>2.5</td>\n      <td>4.3</td>\n      <td>0.114286</td>\n    </tr>\n    <tr>\n      <th>Wood fuel</th>\n      <td>Wood fuel-Standard boiler</td>\n      <td>2.5</td>\n      <td>2.0</td>\n      <td>0.5</td>\n      <td>4.3</td>\n      <td>0.057627</td>\n    </tr>\n  </tbody>\n</table>\n<p>157 rows × 6 columns</p>\n</div>"
     },
     "execution_count": 79,
     "metadata": {},
     "output_type": "execute_result"
    }
   ],
   "source": [
    "archetypes_completed = pd.concat((missing, archetypes), axis=0)\n",
    "archetypes_completed"
   ],
   "metadata": {
    "collapsed": false,
    "pycharm": {
     "name": "#%%\n"
    }
   }
  },
  {
   "cell_type": "markdown",
   "source": [
    "## Merging dataset"
   ],
   "metadata": {
    "collapsed": false,
    "pycharm": {
     "name": "#%% md\n"
    }
   }
  },
  {
   "cell_type": "code",
   "execution_count": 80,
   "outputs": [
    {
     "name": "stderr",
     "output_type": "stream",
     "text": [
      "/Users/lucas/opt/anaconda3/envs/DataAnalysis/lib/python3.8/site-packages/pandas/core/indexing.py:925: PerformanceWarning: indexing past lexsort depth may impact performance.\n",
      "  return self._getitem_tuple(key)\n"
     ]
    }
   ],
   "source": [
    "new_stock = pd.DataFrame()\n",
    "for idx, group_stock in stock_buildings.groupby(columns):\n",
    "    for i, row in archetypes_completed.loc[idx, :].iterrows():\n",
    "        stock = row['Weight'] * group_stock\n",
    "        stock = pd.concat((stock, pd.concat([row[archetypes_columns]] * group_stock.shape[0], keys=group_stock.index, axis=1).T), axis=1).set_index(archetypes_columns, append=True)\n",
    "        new_stock = pd.concat((new_stock, stock), axis=0)"
   ],
   "metadata": {
    "collapsed": false,
    "pycharm": {
     "name": "#%%\n"
    }
   }
  },
  {
   "cell_type": "code",
   "execution_count": 81,
   "outputs": [
    {
     "data": {
      "text/plain": "                                                                                                                                     Stock buildings\nHousing type  Performance Energy      Occupancy status Income owner Income tenant Wall Floor Roof Windows Heating system                            \nMulti-family  A           Electricity Social-housing   D10          D1            0.2  0.3   0.2  2.6     Electricity-Heat pump          2679.195199\n                                      Owner-occupied   D1           D1            0.2  0.3   0.2  2.6     Electricity-Heat pump           743.266813\n                                      Social-housing   D10          D2            0.2  0.3   0.2  2.6     Electricity-Heat pump          2766.652402\n                                      Owner-occupied   D2           D2            0.2  0.3   0.2  2.6     Electricity-Heat pump           983.638915\n                                      Social-housing   D10          D3            0.2  0.3   0.2  2.6     Electricity-Heat pump          2046.869583\n...                                                                                                                                              ...\nSingle-family G           Wood fuel   Privately rented D5           D10           2.5  2.0   0.5  4.3     Wood fuel-Standard boiler         1.187319\n                                                       D6           D10           2.5  2.0   0.5  4.3     Wood fuel-Standard boiler         1.474479\n                                                       D7           D10           2.5  2.0   0.5  4.3     Wood fuel-Standard boiler         2.008000\n                                                       D8           D10           2.5  2.0   0.5  4.3     Wood fuel-Standard boiler         3.661958\n                                                       D9           D10           2.5  2.0   0.5  4.3     Wood fuel-Standard boiler         6.372296\n\n[18840 rows x 1 columns]",
      "text/html": "<div>\n<style scoped>\n    .dataframe tbody tr th:only-of-type {\n        vertical-align: middle;\n    }\n\n    .dataframe tbody tr th {\n        vertical-align: top;\n    }\n\n    .dataframe thead th {\n        text-align: right;\n    }\n</style>\n<table border=\"1\" class=\"dataframe\">\n  <thead>\n    <tr style=\"text-align: right;\">\n      <th></th>\n      <th></th>\n      <th></th>\n      <th></th>\n      <th></th>\n      <th></th>\n      <th></th>\n      <th></th>\n      <th></th>\n      <th></th>\n      <th></th>\n      <th>Stock buildings</th>\n    </tr>\n    <tr>\n      <th>Housing type</th>\n      <th>Performance</th>\n      <th>Energy</th>\n      <th>Occupancy status</th>\n      <th>Income owner</th>\n      <th>Income tenant</th>\n      <th>Wall</th>\n      <th>Floor</th>\n      <th>Roof</th>\n      <th>Windows</th>\n      <th>Heating system</th>\n      <th></th>\n    </tr>\n  </thead>\n  <tbody>\n    <tr>\n      <th rowspan=\"5\" valign=\"top\">Multi-family</th>\n      <th rowspan=\"5\" valign=\"top\">A</th>\n      <th rowspan=\"5\" valign=\"top\">Electricity</th>\n      <th>Social-housing</th>\n      <th>D10</th>\n      <th>D1</th>\n      <th>0.2</th>\n      <th>0.3</th>\n      <th>0.2</th>\n      <th>2.6</th>\n      <th>Electricity-Heat pump</th>\n      <td>2679.195199</td>\n    </tr>\n    <tr>\n      <th>Owner-occupied</th>\n      <th>D1</th>\n      <th>D1</th>\n      <th>0.2</th>\n      <th>0.3</th>\n      <th>0.2</th>\n      <th>2.6</th>\n      <th>Electricity-Heat pump</th>\n      <td>743.266813</td>\n    </tr>\n    <tr>\n      <th>Social-housing</th>\n      <th>D10</th>\n      <th>D2</th>\n      <th>0.2</th>\n      <th>0.3</th>\n      <th>0.2</th>\n      <th>2.6</th>\n      <th>Electricity-Heat pump</th>\n      <td>2766.652402</td>\n    </tr>\n    <tr>\n      <th>Owner-occupied</th>\n      <th>D2</th>\n      <th>D2</th>\n      <th>0.2</th>\n      <th>0.3</th>\n      <th>0.2</th>\n      <th>2.6</th>\n      <th>Electricity-Heat pump</th>\n      <td>983.638915</td>\n    </tr>\n    <tr>\n      <th>Social-housing</th>\n      <th>D10</th>\n      <th>D3</th>\n      <th>0.2</th>\n      <th>0.3</th>\n      <th>0.2</th>\n      <th>2.6</th>\n      <th>Electricity-Heat pump</th>\n      <td>2046.869583</td>\n    </tr>\n    <tr>\n      <th>...</th>\n      <th>...</th>\n      <th>...</th>\n      <th>...</th>\n      <th>...</th>\n      <th>...</th>\n      <th>...</th>\n      <th>...</th>\n      <th>...</th>\n      <th>...</th>\n      <th>...</th>\n      <td>...</td>\n    </tr>\n    <tr>\n      <th rowspan=\"5\" valign=\"top\">Single-family</th>\n      <th rowspan=\"5\" valign=\"top\">G</th>\n      <th rowspan=\"5\" valign=\"top\">Wood fuel</th>\n      <th rowspan=\"5\" valign=\"top\">Privately rented</th>\n      <th>D5</th>\n      <th>D10</th>\n      <th>2.5</th>\n      <th>2.0</th>\n      <th>0.5</th>\n      <th>4.3</th>\n      <th>Wood fuel-Standard boiler</th>\n      <td>1.187319</td>\n    </tr>\n    <tr>\n      <th>D6</th>\n      <th>D10</th>\n      <th>2.5</th>\n      <th>2.0</th>\n      <th>0.5</th>\n      <th>4.3</th>\n      <th>Wood fuel-Standard boiler</th>\n      <td>1.474479</td>\n    </tr>\n    <tr>\n      <th>D7</th>\n      <th>D10</th>\n      <th>2.5</th>\n      <th>2.0</th>\n      <th>0.5</th>\n      <th>4.3</th>\n      <th>Wood fuel-Standard boiler</th>\n      <td>2.008000</td>\n    </tr>\n    <tr>\n      <th>D8</th>\n      <th>D10</th>\n      <th>2.5</th>\n      <th>2.0</th>\n      <th>0.5</th>\n      <th>4.3</th>\n      <th>Wood fuel-Standard boiler</th>\n      <td>3.661958</td>\n    </tr>\n    <tr>\n      <th>D9</th>\n      <th>D10</th>\n      <th>2.5</th>\n      <th>2.0</th>\n      <th>0.5</th>\n      <th>4.3</th>\n      <th>Wood fuel-Standard boiler</th>\n      <td>6.372296</td>\n    </tr>\n  </tbody>\n</table>\n<p>18840 rows × 1 columns</p>\n</div>"
     },
     "execution_count": 81,
     "metadata": {},
     "output_type": "execute_result"
    }
   ],
   "source": [
    "new_stock"
   ],
   "metadata": {
    "collapsed": false,
    "pycharm": {
     "name": "#%%\n"
    }
   }
  },
  {
   "cell_type": "code",
   "execution_count": null,
   "outputs": [],
   "source": [],
   "metadata": {
    "collapsed": false,
    "pycharm": {
     "name": "#%%\n"
    }
   }
  }
 ],
 "metadata": {
  "kernelspec": {
   "display_name": "Python 3",
   "language": "python",
   "name": "python3"
  },
  "language_info": {
   "codemirror_mode": {
    "name": "ipython",
    "version": 2
   },
   "file_extension": ".py",
   "mimetype": "text/x-python",
   "name": "python",
   "nbconvert_exporter": "python",
   "pygments_lexer": "ipython2",
   "version": "2.7.6"
  }
 },
 "nbformat": 4,
 "nbformat_minor": 0
}