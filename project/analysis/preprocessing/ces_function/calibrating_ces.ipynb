{
 "cells": [
  {
   "cell_type": "markdown",
   "source": [
    "The objective is to calibrate parameters $\\rho$ and $\\alpha$ of the CES utility function:\n",
    "\n",
    "\n",
    "$$u(x,T) = [\\alpha T_{int}^\\rho + (1 - \\alpha) x^\\rho ]^{1\\rho}$$\n",
    "\n",
    "\n",
    "We know rel"
   ],
   "metadata": {
    "collapsed": false,
    "pycharm": {
     "name": "#%% md\n"
    }
   }
  },
  {
   "cell_type": "code",
   "execution_count": null,
   "outputs": [],
   "source": [
    "import os\n",
    "import pandas as pd\n",
    "import numpy as np\n",
    "\n",
    "from numpy import log\n",
    "from scipy.optimize import curve_fit, root\n",
    "from project.model import get_inputs\n",
    "from project.thermal import heat_intensity\n",
    "from project.utils import reindex_mi, make_plot"
   ],
   "metadata": {
    "collapsed": false,
    "pycharm": {
     "name": "#%%\n"
    }
   }
  },
  {
   "cell_type": "markdown",
   "source": [
    "## Data\n",
    "Phebus 2012\n",
    "Logisitic curve from Allibe 2012"
   ],
   "metadata": {
    "collapsed": false,
    "pycharm": {
     "name": "#%% md\n"
    }
   }
  },
  {
   "cell_type": "code",
   "execution_count": null,
   "outputs": [],
   "source": [
    "budget = pd.Series([i / 100 for i in range(1, 50, 1)])\n",
    "intensity = heat_intensity(budget)\n",
    "intensity.index = budget\n",
    "intensity"
   ],
   "metadata": {
    "collapsed": false,
    "pycharm": {
     "name": "#%%\n"
    }
   }
  },
  {
   "cell_type": "code",
   "execution_count": null,
   "outputs": [],
   "source": [
    "make_plot(intensity, 'Heating intensity (%)', integer=False, legend=False)"
   ],
   "metadata": {
    "collapsed": false,
    "pycharm": {
     "name": "#%%\n"
    }
   }
  },
  {
   "cell_type": "code",
   "execution_count": null,
   "outputs": [],
   "source": [
    "# 'buildingstock_example.csv'\n",
    "resirf_inputs = get_inputs(variables=['buildings', 'income', 'energy_prices'],\n",
    "                           building_stock=os.path.join('project', 'input', 'stock', 'buildingstock_sdes2018_simple_1.csv'))\n",
    "buildings = resirf_inputs['buildings']\n",
    "income = resirf_inputs['income']\n",
    "income.index.names = ['Income tenant']\n",
    "price = resirf_inputs['energy_prices'].iloc[0, :]\n"
   ],
   "metadata": {
    "collapsed": false,
    "pycharm": {
     "name": "#%%\n"
    }
   }
  },
  {
   "cell_type": "code",
   "execution_count": null,
   "outputs": [],
   "source": [
    "heat_consumption = buildings.heating_consumption() * buildings.surface\n",
    "energy_bill = buildings.energy_bill(price, heat_consumption)\n",
    "income = reindex_mi(income, energy_bill.index)\n",
    "budget_share = energy_bill / income\n",
    "heating_intensity = heat_intensity(budget_share)"
   ],
   "metadata": {
    "collapsed": false,
    "pycharm": {
     "name": "#%%\n"
    }
   }
  },
  {
   "cell_type": "code",
   "execution_count": null,
   "outputs": [],
   "source": [
    "heating_intensity.describe()"
   ],
   "metadata": {
    "collapsed": false,
    "pycharm": {
     "name": "#%%\n"
    }
   }
  },
  {
   "cell_type": "code",
   "execution_count": null,
   "outputs": [],
   "source": [
    "def demand_ces_homogenous(X, sigma):\n",
    "    \"\"\"Demand function derived from ces utility function.\n",
    "\n",
    "\n",
    "    Represents the tradeoff between thermal comfort and energy expenditure.\n",
    "\n",
    "    Parameters\n",
    "    ----------\n",
    "    X: tuple\n",
    "        Income, Price\n",
    "    sigma: elasticity of subsitution\n",
    "    alpha\n",
    "\n",
    "    Returns\n",
    "    -------\n",
    "\n",
    "    \"\"\"\n",
    "    income, energy_bill = X\n",
    "    return energy_bill**(sigma - 1) * income / (energy_bill**sigma + 1)\n",
    "\n",
    "\n",
    "def rho_ces(income, energy_bill, s):\n",
    "    P = income / 1\n",
    "    X = s / (income - energy_bill * s)\n",
    "    return log(P) / log(X) + 1\n",
    "\n"
   ],
   "metadata": {
    "collapsed": false,
    "pycharm": {
     "name": "#%%\n"
    }
   }
  },
  {
   "cell_type": "code",
   "execution_count": null,
   "outputs": [],
   "source": [
    "def demand_ces_sigma(X, sigma, alpha):\n",
    "    \"\"\"Demand function derived from ces utility function.\n",
    "\n",
    "\n",
    "    Represents the tradeoff between thermal comfort and energy expenditure.\n",
    "\n",
    "    Parameters\n",
    "    ----------\n",
    "    X: tuple\n",
    "        Income, Price\n",
    "    sigma: elasticity of subsitution\n",
    "    alpha\n",
    "\n",
    "    Returns\n",
    "    -------\n",
    "\n",
    "    \"\"\"\n",
    "    income, energy_bill = X\n",
    "    s = (alpha / energy_bill)**sigma * income / (alpha**sigma * energy_bill**(1 -sigma) +  (1 - alpha)**sigma)\n",
    "    x = (1 - alpha)**sigma *  income / (alpha**sigma * energy_bill**(1 - sigma) + (1 - alpha)**sigma)\n",
    "    return s"
   ],
   "metadata": {
    "collapsed": false,
    "pycharm": {
     "name": "#%%\n"
    }
   }
  },
  {
   "cell_type": "code",
   "execution_count": null,
   "outputs": [],
   "source": [
    "best_vals, covar = curve_fit(demand_ces_sigma, (income, energy_bill), heating_intensity, p0=(0.9, 0.1), method='dogbox', bounds=((-np.inf, 0.0001),(1, 0.9999)))\n",
    "print(best_vals)\n",
    "intensity_calc = demand_ces_sigma((income, energy_bill), best_vals[0], best_vals[1])"
   ],
   "metadata": {
    "collapsed": false,
    "pycharm": {
     "name": "#%%\n"
    }
   }
  },
  {
   "cell_type": "code",
   "execution_count": null,
   "outputs": [],
   "source": [
    "pd.concat((intensity_calc, heating_intensity, energy_bill), axis=1)"
   ],
   "metadata": {
    "collapsed": false,
    "pycharm": {
     "name": "#%%\n"
    }
   }
  },
  {
   "cell_type": "code",
   "execution_count": null,
   "outputs": [],
   "source": [
    "df = intensity_calc.copy()\n",
    "df.index = heating_intensity\n",
    "make_plot(df, 'Heating intensity (%)', integer=False)"
   ],
   "metadata": {
    "collapsed": false,
    "pycharm": {
     "name": "#%%\n"
    }
   }
  },
  {
   "cell_type": "code",
   "execution_count": null,
   "outputs": [],
   "source": [],
   "metadata": {
    "collapsed": false,
    "pycharm": {
     "name": "#%%\n"
    }
   }
  },
  {
   "cell_type": "code",
   "execution_count": null,
   "outputs": [],
   "source": [
    "a"
   ],
   "metadata": {
    "collapsed": false,
    "pycharm": {
     "name": "#%%\n"
    }
   }
  },
  {
   "cell_type": "code",
   "execution_count": null,
   "outputs": [],
   "source": [
    "b"
   ],
   "metadata": {
    "collapsed": false,
    "pycharm": {
     "name": "#%%\n"
    }
   }
  },
  {
   "cell_type": "code",
   "execution_count": 105,
   "outputs": [
    {
     "name": "stdout",
     "output_type": "stream",
     "text": [
      "[7.33387472e-01 1.00000000e-04]\n"
     ]
    }
   ],
   "source": [
    "best_vals, covar = curve_fit(demand_ces_sigma, (income, energy_bill), heating_intensity, p0=(0.9, 0.1), method='dogbox', bounds=((-np.inf, 0.0001),(1, 0.9999)))\n",
    "print(best_vals)\n",
    "intensity_calc = demand_ces_sigma((income, energy_bill), best_vals[0], best_vals[1])"
   ],
   "metadata": {
    "collapsed": false,
    "pycharm": {
     "name": "#%%\n"
    }
   }
  },
  {
   "cell_type": "code",
   "execution_count": 106,
   "outputs": [
    {
     "data": {
      "text/plain": "                                                                                                                                  0  \\\nExisting Occupancy status Income owner Income tenant Housing type  Heating system                 Wall Floor Roof Windows             \nTrue     Owner-occupied   D1           D1            Multi-family  Natural gas-Performance boiler 0.1  0.2   0.1  1.6      0.237640   \n                                                                   Oil fuel-Performance boiler    0.1  0.2   0.1  1.6      0.213313   \n                                                                   Wood fuel-Performance boiler   0.1  0.2   0.1  1.6      0.282089   \n                                                                   Electricity-Heat pump water    0.1  0.5   0.1  1.6      0.312259   \n                                                                   Natural gas-Performance boiler 0.1  0.5   0.1  1.6      0.225716   \n...                                                                                                                             ...   \n         Social-housing   D10          D9            Single-family Natural gas-Performance boiler 2.5  2.0   0.5  3.0      0.243629   \n                                                                   Oil fuel-Performance boiler    2.5  2.0   0.5  3.0      0.218653   \n                                                                   Natural gas-Performance boiler 2.5  2.0   2.5  3.0      0.202735   \n                                                                   Oil fuel-Performance boiler    2.5  2.0   2.5  3.0      0.181947   \n                                                                   Wood fuel-Standard boiler      2.5  2.0   2.5  3.0      0.202291   \n\n                                                                                                                                  1  \\\nExisting Occupancy status Income owner Income tenant Housing type  Heating system                 Wall Floor Roof Windows             \nTrue     Owner-occupied   D1           D1            Multi-family  Natural gas-Performance boiler 0.1  0.2   0.1  1.6      0.856926   \n                                                                   Oil fuel-Performance boiler    0.1  0.2   0.1  1.6      0.828849   \n                                                                   Wood fuel-Performance boiler   0.1  0.2   0.1  1.6      0.901507   \n                                                                   Electricity-Heat pump water    0.1  0.5   0.1  1.6      0.927927   \n                                                                   Natural gas-Performance boiler 0.1  0.5   0.1  1.6      0.843542   \n...                                                                                                                             ...   \n         Social-housing   D10          D9            Single-family Natural gas-Performance boiler 2.5  2.0   0.5  3.0      0.743557   \n                                                                   Oil fuel-Performance boiler    2.5  2.0   0.5  3.0      0.715481   \n                                                                   Natural gas-Performance boiler 2.5  2.0   2.5  3.0      0.695862   \n                                                                   Oil fuel-Performance boiler    2.5  2.0   2.5  3.0      0.667785   \n                                                                   Wood fuel-Standard boiler      2.5  2.0   2.5  3.0      0.695293   \n\n                                                                                                                                     2  \nExisting Occupancy status Income owner Income tenant Housing type  Heating system                 Wall Floor Roof Windows               \nTrue     Owner-occupied   D1           D1            Multi-family  Natural gas-Performance boiler 0.1  0.2   0.1  1.6       201.411230  \n                                                                   Oil fuel-Performance boiler    0.1  0.2   0.1  1.6       233.304828  \n                                                                   Wood fuel-Performance boiler   0.1  0.2   0.1  1.6       159.483255  \n                                                                   Electricity-Heat pump water    0.1  0.5   0.1  1.6       138.880232  \n                                                                   Natural gas-Performance boiler 0.1  0.5   0.1  1.6       216.030295  \n...                                                                                                                                ...  \n         Social-housing   D10          D9            Single-family Natural gas-Performance boiler 2.5  2.0   0.5  3.0      2080.572154  \n                                                                   Oil fuel-Performance boiler    2.5  2.0   0.5  3.0      2410.032093  \n                                                                   Natural gas-Performance boiler 2.5  2.0   2.5  3.0      2670.743953  \n                                                                   Oil fuel-Performance boiler    2.5  2.0   2.5  3.0      3093.657977  \n                                                                   Wood fuel-Standard boiler      2.5  2.0   2.5  3.0      2678.711888  \n\n[5880 rows x 3 columns]",
      "text/html": "<div>\n<style scoped>\n    .dataframe tbody tr th:only-of-type {\n        vertical-align: middle;\n    }\n\n    .dataframe tbody tr th {\n        vertical-align: top;\n    }\n\n    .dataframe thead th {\n        text-align: right;\n    }\n</style>\n<table border=\"1\" class=\"dataframe\">\n  <thead>\n    <tr style=\"text-align: right;\">\n      <th></th>\n      <th></th>\n      <th></th>\n      <th></th>\n      <th></th>\n      <th></th>\n      <th></th>\n      <th></th>\n      <th></th>\n      <th></th>\n      <th>0</th>\n      <th>1</th>\n      <th>2</th>\n    </tr>\n    <tr>\n      <th>Existing</th>\n      <th>Occupancy status</th>\n      <th>Income owner</th>\n      <th>Income tenant</th>\n      <th>Housing type</th>\n      <th>Heating system</th>\n      <th>Wall</th>\n      <th>Floor</th>\n      <th>Roof</th>\n      <th>Windows</th>\n      <th></th>\n      <th></th>\n      <th></th>\n    </tr>\n  </thead>\n  <tbody>\n    <tr>\n      <th rowspan=\"11\" valign=\"top\">True</th>\n      <th rowspan=\"5\" valign=\"top\">Owner-occupied</th>\n      <th rowspan=\"5\" valign=\"top\">D1</th>\n      <th rowspan=\"5\" valign=\"top\">D1</th>\n      <th rowspan=\"5\" valign=\"top\">Multi-family</th>\n      <th>Natural gas-Performance boiler</th>\n      <th>0.1</th>\n      <th>0.2</th>\n      <th>0.1</th>\n      <th>1.6</th>\n      <td>0.237640</td>\n      <td>0.856926</td>\n      <td>201.411230</td>\n    </tr>\n    <tr>\n      <th>Oil fuel-Performance boiler</th>\n      <th>0.1</th>\n      <th>0.2</th>\n      <th>0.1</th>\n      <th>1.6</th>\n      <td>0.213313</td>\n      <td>0.828849</td>\n      <td>233.304828</td>\n    </tr>\n    <tr>\n      <th>Wood fuel-Performance boiler</th>\n      <th>0.1</th>\n      <th>0.2</th>\n      <th>0.1</th>\n      <th>1.6</th>\n      <td>0.282089</td>\n      <td>0.901507</td>\n      <td>159.483255</td>\n    </tr>\n    <tr>\n      <th>Electricity-Heat pump water</th>\n      <th>0.1</th>\n      <th>0.5</th>\n      <th>0.1</th>\n      <th>1.6</th>\n      <td>0.312259</td>\n      <td>0.927927</td>\n      <td>138.880232</td>\n    </tr>\n    <tr>\n      <th>Natural gas-Performance boiler</th>\n      <th>0.1</th>\n      <th>0.5</th>\n      <th>0.1</th>\n      <th>1.6</th>\n      <td>0.225716</td>\n      <td>0.843542</td>\n      <td>216.030295</td>\n    </tr>\n    <tr>\n      <th>...</th>\n      <th>...</th>\n      <th>...</th>\n      <th>...</th>\n      <th>...</th>\n      <th>...</th>\n      <th>...</th>\n      <th>...</th>\n      <th>...</th>\n      <td>...</td>\n      <td>...</td>\n      <td>...</td>\n    </tr>\n    <tr>\n      <th rowspan=\"5\" valign=\"top\">Social-housing</th>\n      <th rowspan=\"5\" valign=\"top\">D10</th>\n      <th rowspan=\"5\" valign=\"top\">D9</th>\n      <th rowspan=\"5\" valign=\"top\">Single-family</th>\n      <th>Natural gas-Performance boiler</th>\n      <th>2.5</th>\n      <th>2.0</th>\n      <th>0.5</th>\n      <th>3.0</th>\n      <td>0.243629</td>\n      <td>0.743557</td>\n      <td>2080.572154</td>\n    </tr>\n    <tr>\n      <th>Oil fuel-Performance boiler</th>\n      <th>2.5</th>\n      <th>2.0</th>\n      <th>0.5</th>\n      <th>3.0</th>\n      <td>0.218653</td>\n      <td>0.715481</td>\n      <td>2410.032093</td>\n    </tr>\n    <tr>\n      <th>Natural gas-Performance boiler</th>\n      <th>2.5</th>\n      <th>2.0</th>\n      <th>2.5</th>\n      <th>3.0</th>\n      <td>0.202735</td>\n      <td>0.695862</td>\n      <td>2670.743953</td>\n    </tr>\n    <tr>\n      <th>Oil fuel-Performance boiler</th>\n      <th>2.5</th>\n      <th>2.0</th>\n      <th>2.5</th>\n      <th>3.0</th>\n      <td>0.181947</td>\n      <td>0.667785</td>\n      <td>3093.657977</td>\n    </tr>\n    <tr>\n      <th>Wood fuel-Standard boiler</th>\n      <th>2.5</th>\n      <th>2.0</th>\n      <th>2.5</th>\n      <th>3.0</th>\n      <td>0.202291</td>\n      <td>0.695293</td>\n      <td>2678.711888</td>\n    </tr>\n  </tbody>\n</table>\n<p>5880 rows × 3 columns</p>\n</div>"
     },
     "execution_count": 106,
     "metadata": {},
     "output_type": "execute_result"
    }
   ],
   "source": [
    "pd.concat((intensity_calc, heating_intensity, energy_bill), axis=1)"
   ],
   "metadata": {
    "collapsed": false,
    "pycharm": {
     "name": "#%%\n"
    }
   }
  },
  {
   "cell_type": "code",
   "execution_count": 107,
   "outputs": [
    {
     "data": {
      "text/plain": "<Figure size 921.6x691.2 with 1 Axes>",
      "image/png": "[encoded data removed]"
     },
     "metadata": {
      "needs_background": "light"
     },
     "output_type": "display_data"
    }
   ],
   "source": [
    "df = intensity_calc.copy()\n",
    "df.index = heating_intensity\n",
    "make_plot(df, 'Heating intensity (%)', integer=False)"
   ],
   "metadata": {
    "collapsed": false,
    "pycharm": {
     "name": "#%%\n"
    }
   }
  },
  {
   "cell_type": "code",
   "execution_count": 74,
   "outputs": [
    {
     "data": {
      "text/plain": "Existing  Occupancy status  Income owner  Income tenant  Housing type   Heating system                  Wall  Floor  Roof  Windows\nTrue      Owner-occupied    D1            D1             Multi-family   Natural gas-Performance boiler  0.1   0.2    0.1   1.6        0.856926\n                                                                        Natural gas-Standard boiler     2.5   2.5    2.5   4.5        0.434843\n                                                         Single-family  Natural gas-Standard boiler     2.5   2.5    2.5   4.5        0.241043\n                                                                        Natural gas-Performance boiler  0.1   0.2    0.1   1.6        0.706972\n                            D10           D10            Multi-family   Natural gas-Performance boiler  0.1   0.2    0.1   1.6        1.301570\n                                                                        Natural gas-Standard boiler     2.5   2.5    2.5   4.5        0.879487\n                                                         Single-family  Natural gas-Standard boiler     2.5   2.5    2.5   4.5        0.685687\n                                                                        Natural gas-Performance boiler  0.1   0.2    0.1   1.6        1.151616\ndtype: float64"
     },
     "execution_count": 74,
     "metadata": {},
     "output_type": "execute_result"
    }
   ],
   "source": [],
   "metadata": {
    "collapsed": false,
    "pycharm": {
     "name": "#%%\n"
    }
   }
  },
  {
   "cell_type": "code",
   "execution_count": 69,
   "outputs": [
    {
     "data": {
      "text/plain": "array([7.57826395e-01, 1.00000000e-04])"
     },
     "execution_count": 69,
     "metadata": {},
     "output_type": "execute_result"
    }
   ],
   "source": [
    "a"
   ],
   "metadata": {
    "collapsed": false,
    "pycharm": {
     "name": "#%%\n"
    }
   }
  },
  {
   "cell_type": "code",
   "execution_count": 70,
   "outputs": [
    {
     "data": {
      "text/plain": "array([[3.06188160e-01, 5.96609720e-04],\n       [5.96609720e-04, 1.16387919e-06]])"
     },
     "execution_count": 70,
     "metadata": {},
     "output_type": "execute_result"
    }
   ],
   "source": [
    "b"
   ],
   "metadata": {
    "collapsed": false,
    "pycharm": {
     "name": "#%%\n"
    }
   }
  },
  {
   "cell_type": "code",
   "execution_count": 57,
   "outputs": [
    {
     "name": "stdout",
     "output_type": "stream",
     "text": [
      "Existing  Occupancy status  Income owner  Income tenant  Housing type   Heating system                  Wall  Floor  Roof  Windows\n",
      "True      Owner-occupied    D1            D1             Multi-family   Natural gas-Performance boiler  0.1   0.2    0.1   1.6        0.856926\n",
      "                                                                        Natural gas-Standard boiler     2.5   2.5    2.5   4.5        0.434843\n",
      "                                                         Single-family  Natural gas-Standard boiler     2.5   2.5    2.5   4.5        0.241043\n",
      "                                                                        Natural gas-Performance boiler  0.1   0.2    0.1   1.6        0.706972\n",
      "                            D10           D10            Multi-family   Natural gas-Performance boiler  0.1   0.2    0.1   1.6        1.301570\n",
      "                                                                        Natural gas-Standard boiler     2.5   2.5    2.5   4.5        0.879487\n",
      "                                                         Single-family  Natural gas-Standard boiler     2.5   2.5    2.5   4.5        0.685687\n",
      "                                                                        Natural gas-Performance boiler  0.1   0.2    0.1   1.6        1.151616\n",
      "dtype: float64\n",
      "Both actual and predicted relative reductions in the sum of squares\n",
      "  are at most 0.000000\n",
      "[0.52100733] [-1.08771463]\n",
      "-1.0877146264903323\n"
     ]
    }
   ],
   "source": [
    "P = energy_bill / 1\n",
    "X = heating_intensity / (income - energy_bill * heating_intensity)\n",
    "rho = log(P) / log(X) + 1\n",
    "sigma = rho / (rho - 1)\n",
    "print(demand_ces_homogenous((income, energy_bill), sigma))\n",
    "p0 = sigma.mean()\n",
    "sigma_fit, _, _, msg, _ = curve_fit(demand_ces_homogenous, (income, energy_bill), heating_intensity, p0=p0, method='lm', full_output=True)\n",
    "print(msg)\n",
    "rho_fit =  sigma_fit / (sigma_fit - 1)\n",
    "print(rho_fit, sigma_fit)\n",
    "print(sigma_fit[0])"
   ],
   "metadata": {
    "collapsed": false,
    "pycharm": {
     "name": "#%%\n"
    }
   }
  },
  {
   "cell_type": "code",
   "execution_count": null,
   "outputs": [],
   "source": [
    "sigma"
   ],
   "metadata": {
    "collapsed": false,
    "pycharm": {
     "name": "#%%\n"
    }
   }
  },
  {
   "cell_type": "code",
   "execution_count": null,
   "outputs": [],
   "source": [
    "s, x = demand_ces((income, energy_bill), -0.5, 0.001)\n",
    "print(s, x)\n",
    "print(energy_bill * s + x, income)"
   ],
   "metadata": {
    "collapsed": false,
    "pycharm": {
     "name": "#%%\n"
    }
   }
  },
  {
   "cell_type": "code",
   "execution_count": null,
   "outputs": [],
   "source": [
    "s, x = demand_ces((income, energy_bill), 0.5, 0.1)\n",
    "print(s, x)\n",
    "print(energy_bill * s + x, income)"
   ],
   "metadata": {
    "collapsed": false,
    "pycharm": {
     "name": "#%%\n"
    }
   }
  },
  {
   "cell_type": "code",
   "execution_count": null,
   "outputs": [],
   "source": [
    "heating_intensity_fit = demand_ces_homogenous((income, energy_bill), sigma_fit[0])\n",
    "heating_intensity_fit"
   ],
   "metadata": {
    "collapsed": false,
    "pycharm": {
     "name": "#%%\n"
    }
   }
  },
  {
   "cell_type": "code",
   "execution_count": null,
   "outputs": [],
   "source": [
    "pd.concat((heating_intensity, heating_intensity_fit), axis=1)"
   ],
   "metadata": {
    "collapsed": false,
    "pycharm": {
     "name": "#%%\n"
    }
   }
  },
  {
   "cell_type": "code",
   "execution_count": null,
   "outputs": [],
   "source": [
    "demand_ces((income, energy_bill), rho_fit[0], 0.5)\n"
   ],
   "metadata": {
    "collapsed": false,
    "pycharm": {
     "name": "#%%\n"
    }
   }
  },
  {
   "cell_type": "code",
   "execution_count": null,
   "outputs": [],
   "source": [
    "demand_ces((income, energy_bill), sigma_fit[0], 0.5)"
   ],
   "metadata": {
    "collapsed": false,
    "pycharm": {
     "name": "#%%\n"
    }
   }
  },
  {
   "cell_type": "code",
   "execution_count": null,
   "outputs": [],
   "source": [
    "p0 = (0.5, 0.5)\n",
    "demand_ces((income, energy_bill), p0[0], p0[1])"
   ],
   "metadata": {
    "collapsed": false,
    "pycharm": {
     "name": "#%%\n"
    }
   }
  },
  {
   "cell_type": "code",
   "execution_count": null,
   "outputs": [],
   "source": [
    "curve_fit(demand_ces, (income, energy_bill), heating_intensity, p0=p0, method='lm', full_output=True)\n"
   ],
   "metadata": {
    "collapsed": false,
    "pycharm": {
     "name": "#%%\n"
    }
   }
  },
  {
   "cell_type": "code",
   "execution_count": null,
   "outputs": [],
   "source": [
    "curve_fit(demand_ces, (income, energy_bill), heating_intensity, p0=p0, method='trf')"
   ],
   "metadata": {
    "collapsed": false,
    "pycharm": {
     "name": "#%%\n"
    }
   }
  },
  {
   "cell_type": "code",
   "execution_count": null,
   "outputs": [],
   "source": [
    "curve_fit(demand_ces, (income, energy_bill), heating_intensity, p0=p0, method='dogbox')"
   ],
   "metadata": {
    "collapsed": false,
    "pycharm": {
     "name": "#%%\n"
    }
   }
  },
  {
   "cell_type": "code",
   "execution_count": null,
   "outputs": [],
   "source": [],
   "metadata": {
    "collapsed": false,
    "pycharm": {
     "name": "#%%\n"
    }
   }
  }
 ],
 "metadata": {
  "kernelspec": {
   "display_name": "Python 3",
   "language": "python",
   "name": "python3"
  },
  "language_info": {
   "codemirror_mode": {
    "name": "ipython",
    "version": 2
   },
   "file_extension": ".py",
   "mimetype": "text/x-python",
   "name": "python",
   "nbconvert_exporter": "python",
   "pygments_lexer": "ipython2",
   "version": "2.7.6"
  }
 },
 "nbformat": 4,
 "nbformat_minor": 0
}