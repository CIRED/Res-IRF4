{
 "cells": [
  {
   "cell_type": "markdown",
   "source": [
    "The objective is to calibrate parameters $\\rho$ and $\\alpha$ of the CES utility function:\n",
    "\n",
    "\n",
    "$$u(x,T) = [\\alpha T_{int}^\\rho + (1 - \\alpha) x^\\rho ]^{1\\rho}$$\n",
    "\n",
    "\n",
    "We know rel"
   ],
   "metadata": {
    "collapsed": false,
    "pycharm": {
     "name": "#%% md\n"
    }
   }
  },
  {
   "cell_type": "code",
   "execution_count": 2,
   "outputs": [],
   "source": [
    "import os\n",
    "import pandas as pd\n",
    "from numpy import log\n",
    "from scipy.optimize import curve_fit\n",
    "from project.model import get_inputs\n",
    "from project.thermal import heat_intensity\n",
    "from project.utils import reindex_mi"
   ],
   "metadata": {
    "collapsed": false,
    "pycharm": {
     "name": "#%%\n"
    }
   }
  },
  {
   "cell_type": "code",
   "execution_count": 3,
   "outputs": [
    {
     "name": "stderr",
     "output_type": "stream",
     "text": [
      "2022-12-20 19:31:12,645 - 50565 - log_ - INFO - Creating AgentBuildings object\n"
     ]
    }
   ],
   "source": [
    "# 'buildingstock_sdes2018_simple_1.csv'\n",
    "resirf_inputs = get_inputs(variables=['buildings', 'income', 'energy_prices'],\n",
    "                           building_stock=os.path.join('project', 'input', 'stock', 'buildingstock_example.csv'))\n",
    "buildings = resirf_inputs['buildings']\n",
    "income = resirf_inputs['income']\n",
    "income.index.names = ['Income tenant']\n",
    "price = resirf_inputs['energy_prices'].iloc[0, :]\n"
   ],
   "metadata": {
    "collapsed": false,
    "pycharm": {
     "name": "#%%\n"
    }
   }
  },
  {
   "cell_type": "code",
   "execution_count": 4,
   "outputs": [],
   "source": [
    "heat_consumption = buildings.heating_consumption() * buildings.surface\n",
    "energy_bill = buildings.energy_bill(price, heat_consumption)\n",
    "income = reindex_mi(income, energy_bill.index)\n",
    "budget_share = energy_bill / income\n",
    "heating_intensity = heat_intensity(budget_share)"
   ],
   "metadata": {
    "collapsed": false,
    "pycharm": {
     "name": "#%%\n"
    }
   }
  },
  {
   "cell_type": "code",
   "execution_count": 5,
   "outputs": [],
   "source": [
    "def demand_ces(X, sigma, alpha):\n",
    "    \"\"\"Demand function derived from ces utility function.\n",
    "\n",
    "\n",
    "    Represents the tradeoff between thermal comfort and energy expenditure.\n",
    "\n",
    "    Parameters\n",
    "    ----------\n",
    "    X: tuple\n",
    "        Income, Price\n",
    "    sigma: elasticity of subsitution\n",
    "    alpha\n",
    "\n",
    "    Returns\n",
    "    -------\n",
    "\n",
    "    \"\"\"\n",
    "    income, energy_bill = X\n",
    "    s = ((alpha / energy_bill) ** sigma) * (income / (alpha**sigma * energy_bill ** (1 - sigma) + (1 - alpha) ** sigma))\n",
    "    x = ((1 - alpha) ** sigma) * (income / (alpha**sigma * energy_bill**(1 - sigma) + (1 - alpha)**sigma))\n",
    "    return s, x\n"
   ],
   "metadata": {
    "collapsed": false,
    "pycharm": {
     "name": "#%%\n"
    }
   }
  },
  {
   "cell_type": "code",
   "execution_count": 6,
   "outputs": [],
   "source": [
    "def demand_ces_homogenous(X, sigma):\n",
    "    \"\"\"Demand function derived from ces utility function.\n",
    "\n",
    "\n",
    "    Represents the tradeoff between thermal comfort and energy expenditure.\n",
    "\n",
    "    Parameters\n",
    "    ----------\n",
    "    X: tuple\n",
    "        Income, Price\n",
    "    sigma: elasticity of subsitution\n",
    "    alpha\n",
    "\n",
    "    Returns\n",
    "    -------\n",
    "\n",
    "    \"\"\"\n",
    "    income, energy_bill = X\n",
    "    return energy_bill**(sigma - 1) * income / (energy_bill**sigma + 1)\n",
    "\n",
    "\n",
    "def rho_ces(income, energy_bill, s):\n",
    "    P = income / 1\n",
    "    X = s / (income - energy_bill * s)\n",
    "    return log(P) / log(X) + 1\n",
    "\n"
   ],
   "metadata": {
    "collapsed": false,
    "pycharm": {
     "name": "#%%\n"
    }
   }
  },
  {
   "cell_type": "code",
   "execution_count": 27,
   "outputs": [
    {
     "data": {
      "text/plain": "1.593133365791219"
     },
     "execution_count": 27,
     "metadata": {},
     "output_type": "execute_result"
    }
   ],
   "source": [
    "demand_ces_homogenous((10000, 2000), -0.1)"
   ],
   "metadata": {
    "collapsed": false,
    "pycharm": {
     "name": "#%%\n"
    }
   }
  },
  {
   "cell_type": "code",
   "execution_count": 28,
   "outputs": [
    {
     "data": {
      "text/plain": "1.0329644230181068"
     },
     "execution_count": 28,
     "metadata": {},
     "output_type": "execute_result"
    }
   ],
   "source": [
    "demand_ces_homogenous((10000, 3000), -0.1)"
   ],
   "metadata": {
    "collapsed": false,
    "pycharm": {
     "name": "#%%\n"
    }
   }
  },
  {
   "cell_type": "code",
   "execution_count": 20,
   "outputs": [
    {
     "data": {
      "text/plain": "Existing  Occupancy status  Income owner  Income tenant  Housing type   Heating system                  Wall  Floor  Roof  Windows\nTrue      Owner-occupied    D1            D1             Multi-family   Natural gas-Performance boiler  0.1   0.2    0.1   1.6         201.411230\n                                                                        Natural gas-Standard boiler     2.5   2.5    2.5   4.5        1835.747981\n                                                         Single-family  Natural gas-Standard boiler     2.5   2.5    2.5   4.5        5063.773049\n                                                                        Natural gas-Performance boiler  0.1   0.2    0.1   1.6         441.618745\n                            D10           D10            Multi-family   Natural gas-Performance boiler  0.1   0.2    0.1   1.6         201.411230\n                                                                        Natural gas-Standard boiler     2.5   2.5    2.5   4.5        1835.747981\n                                                         Single-family  Natural gas-Standard boiler     2.5   2.5    2.5   4.5        5063.773049\n                                                                        Natural gas-Performance boiler  0.1   0.2    0.1   1.6         441.618745\ndtype: float64"
     },
     "execution_count": 20,
     "metadata": {},
     "output_type": "execute_result"
    }
   ],
   "source": [
    "energy_bill"
   ],
   "metadata": {
    "collapsed": false,
    "pycharm": {
     "name": "#%%\n"
    }
   }
  },
  {
   "cell_type": "code",
   "execution_count": 21,
   "outputs": [
    {
     "data": {
      "text/plain": "Existing  Occupancy status  Income owner  Income tenant  Housing type   Heating system                  Wall  Floor  Roof  Windows\nTrue      Owner-occupied    D1            D1             Multi-family   Natural gas-Performance boiler  0.1   0.2    0.1   1.6       -0.762444\n                                                                        Natural gas-Standard boiler     2.5   2.5    2.5   4.5       -0.325735\n                                                         Single-family  Natural gas-Standard boiler     2.5   2.5    2.5   4.5       -0.231714\n                                                                        Natural gas-Performance boiler  0.1   0.2    0.1   1.6       -0.564496\n                            D10           D10            Multi-family   Natural gas-Performance boiler  0.1   0.2    0.1   1.6       -1.125251\n                                                                        Natural gas-Standard boiler     2.5   2.5    2.5   4.5       -0.550711\n                                                         Single-family  Natural gas-Standard boiler     2.5   2.5    2.5   4.5       -0.393260\n                                                                        Natural gas-Performance boiler  0.1   0.2    0.1   1.6       -0.870995\ndtype: float64"
     },
     "execution_count": 21,
     "metadata": {},
     "output_type": "execute_result"
    }
   ],
   "source": [
    "sigma"
   ],
   "metadata": {
    "collapsed": false,
    "pycharm": {
     "name": "#%%\n"
    }
   }
  },
  {
   "cell_type": "code",
   "execution_count": 19,
   "outputs": [
    {
     "name": "stdout",
     "output_type": "stream",
     "text": [
      "Existing  Occupancy status  Income owner  Income tenant  Housing type   Heating system                  Wall  Floor  Roof  Windows\n",
      "True      Owner-occupied    D1            D1             Multi-family   Natural gas-Performance boiler  0.1   0.2    0.1   1.6        0.856926\n",
      "                                                                        Natural gas-Standard boiler     2.5   2.5    2.5   4.5        0.434843\n",
      "                                                         Single-family  Natural gas-Standard boiler     2.5   2.5    2.5   4.5        0.241043\n",
      "                                                                        Natural gas-Performance boiler  0.1   0.2    0.1   1.6        0.706972\n",
      "                            D10           D10            Multi-family   Natural gas-Performance boiler  0.1   0.2    0.1   1.6        1.301570\n",
      "                                                                        Natural gas-Standard boiler     2.5   2.5    2.5   4.5        0.879487\n",
      "                                                         Single-family  Natural gas-Standard boiler     2.5   2.5    2.5   4.5        0.685687\n",
      "                                                                        Natural gas-Performance boiler  0.1   0.2    0.1   1.6        1.151616\n",
      "dtype: float64\n",
      "Both actual and predicted relative reductions in the sum of squares\n",
      "  are at most 0.000000\n",
      "[0.52100733] [-1.08771463]\n",
      "-1.0877146264903323\n"
     ]
    }
   ],
   "source": [
    "P = energy_bill / 1\n",
    "X = heating_intensity / (income - energy_bill * heating_intensity)\n",
    "rho = log(P) / log(X) + 1\n",
    "sigma = rho / (rho - 1)\n",
    "print(demand_ces_homogenous((income, energy_bill), sigma))\n",
    "p0 = sigma.mean()\n",
    "sigma_fit, _, _, msg, _ = curve_fit(demand_ces_homogenous, (income, energy_bill), heating_intensity, p0=p0, method='lm', full_output=True)\n",
    "print(msg)\n",
    "rho_fit =  sigma_fit / (sigma_fit - 1)\n",
    "print(rho_fit, sigma_fit)\n",
    "print(sigma_fit[0])"
   ],
   "metadata": {
    "collapsed": false,
    "pycharm": {
     "name": "#%%\n"
    }
   }
  },
  {
   "cell_type": "code",
   "execution_count": 8,
   "outputs": [
    {
     "data": {
      "text/plain": "Existing  Occupancy status  Income owner  Income tenant  Housing type   Heating system                  Wall  Floor  Roof  Windows\nTrue      Owner-occupied    D1            D1             Multi-family   Natural gas-Performance boiler  0.1   0.2    0.1   1.6       -0.762444\n                                                                        Natural gas-Standard boiler     2.5   2.5    2.5   4.5       -0.325735\n                                                         Single-family  Natural gas-Standard boiler     2.5   2.5    2.5   4.5       -0.231714\n                                                                        Natural gas-Performance boiler  0.1   0.2    0.1   1.6       -0.564496\n                            D10           D10            Multi-family   Natural gas-Performance boiler  0.1   0.2    0.1   1.6       -1.125251\n                                                                        Natural gas-Standard boiler     2.5   2.5    2.5   4.5       -0.550711\n                                                         Single-family  Natural gas-Standard boiler     2.5   2.5    2.5   4.5       -0.393260\n                                                                        Natural gas-Performance boiler  0.1   0.2    0.1   1.6       -0.870995\ndtype: float64"
     },
     "execution_count": 8,
     "metadata": {},
     "output_type": "execute_result"
    }
   ],
   "source": [
    "sigma"
   ],
   "metadata": {
    "collapsed": false,
    "pycharm": {
     "name": "#%%\n"
    }
   }
  },
  {
   "cell_type": "code",
   "execution_count": 17,
   "outputs": [
    {
     "name": "stdout",
     "output_type": "stream",
     "text": [
      "Existing  Occupancy status  Income owner  Income tenant  Housing type   Heating system                  Wall  Floor  Roof  Windows\n",
      "True      Owner-occupied    D1            D1             Multi-family   Natural gas-Performance boiler  0.1   0.2    0.1   1.6         49.798062\n",
      "                                                                        Natural gas-Standard boiler     2.5   2.5    2.5   4.5          5.463711\n",
      "                                                         Single-family  Natural gas-Standard boiler     2.5   2.5    2.5   4.5          1.980736\n",
      "                                                                        Natural gas-Performance boiler  0.1   0.2    0.1   1.6         22.711821\n",
      "                            D10           D10            Multi-family   Natural gas-Performance boiler  0.1   0.2    0.1   1.6        510.790095\n",
      "                                                                        Natural gas-Standard boiler     2.5   2.5    2.5   4.5         56.042529\n",
      "                                                         Single-family  Natural gas-Standard boiler     2.5   2.5    2.5   4.5         20.316865\n",
      "                                                                        Natural gas-Performance boiler  0.1   0.2    0.1   1.6        232.960331\n",
      "dtype: float64 Existing  Occupancy status  Income owner  Income tenant  Housing type   Heating system                  Wall  Floor  Roof  Windows\n",
      "True      Owner-occupied    D1            D1             Multi-family   Natural gas-Performance boiler  0.1   0.2    0.1   1.6        0.111017\n",
      "                                                                        Natural gas-Standard boiler     2.5   2.5    2.5   4.5        0.004035\n",
      "                                                         Single-family  Natural gas-Standard boiler     2.5   2.5    2.5   4.5        0.000881\n",
      "                                                                        Natural gas-Performance boiler  0.1   0.2    0.1   1.6        0.034194\n",
      "                            D10           D10            Multi-family   Natural gas-Performance boiler  0.1   0.2    0.1   1.6        1.138722\n",
      "                                                                        Natural gas-Standard boiler     2.5   2.5    2.5   4.5        0.041384\n",
      "                                                         Single-family  Natural gas-Standard boiler     2.5   2.5    2.5   4.5        0.009033\n",
      "                                                                        Natural gas-Performance boiler  0.1   0.2    0.1   1.6        0.350732\n",
      "dtype: float64\n",
      "Existing  Occupancy status  Income owner  Income tenant  Housing type   Heating system                  Wall  Floor  Roof  Windows\n",
      "True      Owner-occupied    D1            D1             Multi-family   Natural gas-Performance boiler  0.1   0.2    0.1   1.6         10030.0\n",
      "                                                                        Natural gas-Standard boiler     2.5   2.5    2.5   4.5         10030.0\n",
      "                                                         Single-family  Natural gas-Standard boiler     2.5   2.5    2.5   4.5         10030.0\n",
      "                                                                        Natural gas-Performance boiler  0.1   0.2    0.1   1.6         10030.0\n",
      "                            D10           D10            Multi-family   Natural gas-Performance boiler  0.1   0.2    0.1   1.6        102880.0\n",
      "                                                                        Natural gas-Standard boiler     2.5   2.5    2.5   4.5        102880.0\n",
      "                                                         Single-family  Natural gas-Standard boiler     2.5   2.5    2.5   4.5        102880.0\n",
      "                                                                        Natural gas-Performance boiler  0.1   0.2    0.1   1.6        102880.0\n",
      "dtype: float64 Existing  Occupancy status  Income owner  Income tenant  Housing type   Heating system                  Wall  Floor  Roof  Windows\n",
      "True      Owner-occupied    D1            D1             Multi-family   Natural gas-Performance boiler  0.1   0.2    0.1   1.6         10030\n",
      "                                                                        Natural gas-Standard boiler     2.5   2.5    2.5   4.5         10030\n",
      "                                                         Single-family  Natural gas-Standard boiler     2.5   2.5    2.5   4.5         10030\n",
      "                                                                        Natural gas-Performance boiler  0.1   0.2    0.1   1.6         10030\n",
      "                            D10           D10            Multi-family   Natural gas-Performance boiler  0.1   0.2    0.1   1.6        102880\n",
      "                                                                        Natural gas-Standard boiler     2.5   2.5    2.5   4.5        102880\n",
      "                                                         Single-family  Natural gas-Standard boiler     2.5   2.5    2.5   4.5        102880\n",
      "                                                                        Natural gas-Performance boiler  0.1   0.2    0.1   1.6        102880\n",
      "dtype: int64\n"
     ]
    }
   ],
   "source": [
    "s, x = demand_ces((income, energy_bill), -0.5, 0.001)\n",
    "print(s, x)\n",
    "print(energy_bill * s + x, income)"
   ],
   "metadata": {
    "collapsed": false,
    "pycharm": {
     "name": "#%%\n"
    }
   }
  },
  {
   "cell_type": "code",
   "execution_count": 18,
   "outputs": [
    {
     "name": "stdout",
     "output_type": "stream",
     "text": [
      "Existing  Occupancy status  Income owner  Income tenant  Housing type   Heating system                  Wall  Floor  Roof  Windows\n",
      "True      Owner-occupied    D1            D1             Multi-family   Natural gas-Performance boiler  0.1   0.2    0.1   1.6         41.108738\n",
      "                                                                        Natural gas-Standard boiler     2.5   2.5    2.5   4.5          5.106184\n",
      "                                                         Single-family  Natural gas-Standard boiler     2.5   2.5    2.5   4.5          1.900610\n",
      "                                                                        Natural gas-Performance boiler  0.1   0.2    0.1   1.6         19.874652\n",
      "                            D10           D10            Multi-family   Natural gas-Performance boiler  0.1   0.2    0.1   1.6        421.661711\n",
      "                                                                        Natural gas-Standard boiler     2.5   2.5    2.5   4.5         52.375295\n",
      "                                                         Single-family  Natural gas-Standard boiler     2.5   2.5    2.5   4.5         19.494989\n",
      "                                                                        Natural gas-Performance boiler  0.1   0.2    0.1   1.6        203.858843\n",
      "dtype: float64 Existing  Occupancy status  Income owner  Income tenant  Housing type   Heating system                  Wall  Floor  Roof  Windows\n",
      "True      Owner-occupied    D1            D1             Multi-family   Natural gas-Performance boiler  0.1   0.2    0.1   1.6         1750.238528\n",
      "                                                                        Natural gas-Standard boiler     2.5   2.5    2.5   4.5          656.333008\n",
      "                                                         Single-family  Natural gas-Standard boiler     2.5   2.5    2.5   4.5          405.743281\n",
      "                                                                        Natural gas-Performance boiler  0.1   0.2    0.1   1.6         1252.981146\n",
      "                            D10           D10            Multi-family   Natural gas-Performance boiler  0.1   0.2    0.1   1.6        17952.596185\n",
      "                                                                        Natural gas-Standard boiler     2.5   2.5    2.5   4.5         6732.157510\n",
      "                                                         Single-family  Natural gas-Standard boiler     2.5   2.5    2.5   4.5         4161.801474\n",
      "                                                                        Natural gas-Performance boiler  0.1   0.2    0.1   1.6        12852.113693\n",
      "dtype: float64\n",
      "Existing  Occupancy status  Income owner  Income tenant  Housing type   Heating system                  Wall  Floor  Roof  Windows\n",
      "True      Owner-occupied    D1            D1             Multi-family   Natural gas-Performance boiler  0.1   0.2    0.1   1.6         10030.0\n",
      "                                                                        Natural gas-Standard boiler     2.5   2.5    2.5   4.5         10030.0\n",
      "                                                         Single-family  Natural gas-Standard boiler     2.5   2.5    2.5   4.5         10030.0\n",
      "                                                                        Natural gas-Performance boiler  0.1   0.2    0.1   1.6         10030.0\n",
      "                            D10           D10            Multi-family   Natural gas-Performance boiler  0.1   0.2    0.1   1.6        102880.0\n",
      "                                                                        Natural gas-Standard boiler     2.5   2.5    2.5   4.5        102880.0\n",
      "                                                         Single-family  Natural gas-Standard boiler     2.5   2.5    2.5   4.5        102880.0\n",
      "                                                                        Natural gas-Performance boiler  0.1   0.2    0.1   1.6        102880.0\n",
      "dtype: float64 Existing  Occupancy status  Income owner  Income tenant  Housing type   Heating system                  Wall  Floor  Roof  Windows\n",
      "True      Owner-occupied    D1            D1             Multi-family   Natural gas-Performance boiler  0.1   0.2    0.1   1.6         10030\n",
      "                                                                        Natural gas-Standard boiler     2.5   2.5    2.5   4.5         10030\n",
      "                                                         Single-family  Natural gas-Standard boiler     2.5   2.5    2.5   4.5         10030\n",
      "                                                                        Natural gas-Performance boiler  0.1   0.2    0.1   1.6         10030\n",
      "                            D10           D10            Multi-family   Natural gas-Performance boiler  0.1   0.2    0.1   1.6        102880\n",
      "                                                                        Natural gas-Standard boiler     2.5   2.5    2.5   4.5        102880\n",
      "                                                         Single-family  Natural gas-Standard boiler     2.5   2.5    2.5   4.5        102880\n",
      "                                                                        Natural gas-Performance boiler  0.1   0.2    0.1   1.6        102880\n",
      "dtype: int64\n"
     ]
    }
   ],
   "source": [
    "s, x = demand_ces((income, energy_bill), 0.5, 0.1)\n",
    "print(s, x)\n",
    "print(energy_bill * s + x, income)"
   ],
   "metadata": {
    "collapsed": false,
    "pycharm": {
     "name": "#%%\n"
    }
   }
  },
  {
   "cell_type": "code",
   "execution_count": 11,
   "outputs": [
    {
     "data": {
      "text/plain": "Existing  Occupancy status  Income owner  Income tenant  Housing type   Heating system                  Wall  Floor  Roof  Windows\nTrue      Owner-occupied    D1            D1             Multi-family   Natural gas-Performance boiler  0.1   0.2    0.1   1.6        0.154768\n                                                                        Natural gas-Standard boiler     2.5   2.5    2.5   4.5        0.001539\n                                                         Single-family  Natural gas-Standard boiler     2.5   2.5    2.5   4.5        0.000185\n                                                                        Natural gas-Performance boiler  0.1   0.2    0.1   1.6        0.030104\n                            D10           D10            Multi-family   Natural gas-Performance boiler  0.1   0.2    0.1   1.6        1.587486\n                                                                        Natural gas-Standard boiler     2.5   2.5    2.5   4.5        0.015787\n                                                         Single-family  Natural gas-Standard boiler     2.5   2.5    2.5   4.5        0.001898\n                                                                        Natural gas-Performance boiler  0.1   0.2    0.1   1.6        0.308781\ndtype: float64"
     },
     "execution_count": 11,
     "metadata": {},
     "output_type": "execute_result"
    }
   ],
   "source": [
    "heating_intensity_fit = demand_ces_homogenous((income, energy_bill), sigma_fit[0])\n",
    "heating_intensity_fit"
   ],
   "metadata": {
    "collapsed": false,
    "pycharm": {
     "name": "#%%\n"
    }
   }
  },
  {
   "cell_type": "code",
   "execution_count": 12,
   "outputs": [
    {
     "data": {
      "text/plain": "                                                                                                                                  0  \\\nExisting Occupancy status Income owner Income tenant Housing type  Heating system                 Wall Floor Roof Windows             \nTrue     Owner-occupied   D1           D1            Multi-family  Natural gas-Performance boiler 0.1  0.2   0.1  1.6      0.856926   \n                                                                   Natural gas-Standard boiler    2.5  2.5   2.5  4.5      0.434843   \n                                                     Single-family Natural gas-Standard boiler    2.5  2.5   2.5  4.5      0.241043   \n                                                                   Natural gas-Performance boiler 0.1  0.2   0.1  1.6      0.706972   \n                          D10          D10           Multi-family  Natural gas-Performance boiler 0.1  0.2   0.1  1.6      1.301570   \n                                                                   Natural gas-Standard boiler    2.5  2.5   2.5  4.5      0.879487   \n                                                     Single-family Natural gas-Standard boiler    2.5  2.5   2.5  4.5      0.685687   \n                                                                   Natural gas-Performance boiler 0.1  0.2   0.1  1.6      1.151616   \n\n                                                                                                                                  1  \nExisting Occupancy status Income owner Income tenant Housing type  Heating system                 Wall Floor Roof Windows            \nTrue     Owner-occupied   D1           D1            Multi-family  Natural gas-Performance boiler 0.1  0.2   0.1  1.6      0.154768  \n                                                                   Natural gas-Standard boiler    2.5  2.5   2.5  4.5      0.001539  \n                                                     Single-family Natural gas-Standard boiler    2.5  2.5   2.5  4.5      0.000185  \n                                                                   Natural gas-Performance boiler 0.1  0.2   0.1  1.6      0.030104  \n                          D10          D10           Multi-family  Natural gas-Performance boiler 0.1  0.2   0.1  1.6      1.587486  \n                                                                   Natural gas-Standard boiler    2.5  2.5   2.5  4.5      0.015787  \n                                                     Single-family Natural gas-Standard boiler    2.5  2.5   2.5  4.5      0.001898  \n                                                                   Natural gas-Performance boiler 0.1  0.2   0.1  1.6      0.308781  ",
      "text/html": "<div>\n<style scoped>\n    .dataframe tbody tr th:only-of-type {\n        vertical-align: middle;\n    }\n\n    .dataframe tbody tr th {\n        vertical-align: top;\n    }\n\n    .dataframe thead th {\n        text-align: right;\n    }\n</style>\n<table border=\"1\" class=\"dataframe\">\n  <thead>\n    <tr style=\"text-align: right;\">\n      <th></th>\n      <th></th>\n      <th></th>\n      <th></th>\n      <th></th>\n      <th></th>\n      <th></th>\n      <th></th>\n      <th></th>\n      <th></th>\n      <th>0</th>\n      <th>1</th>\n    </tr>\n    <tr>\n      <th>Existing</th>\n      <th>Occupancy status</th>\n      <th>Income owner</th>\n      <th>Income tenant</th>\n      <th>Housing type</th>\n      <th>Heating system</th>\n      <th>Wall</th>\n      <th>Floor</th>\n      <th>Roof</th>\n      <th>Windows</th>\n      <th></th>\n      <th></th>\n    </tr>\n  </thead>\n  <tbody>\n    <tr>\n      <th rowspan=\"8\" valign=\"top\">True</th>\n      <th rowspan=\"8\" valign=\"top\">Owner-occupied</th>\n      <th rowspan=\"4\" valign=\"top\">D1</th>\n      <th rowspan=\"4\" valign=\"top\">D1</th>\n      <th rowspan=\"2\" valign=\"top\">Multi-family</th>\n      <th>Natural gas-Performance boiler</th>\n      <th>0.1</th>\n      <th>0.2</th>\n      <th>0.1</th>\n      <th>1.6</th>\n      <td>0.856926</td>\n      <td>0.154768</td>\n    </tr>\n    <tr>\n      <th>Natural gas-Standard boiler</th>\n      <th>2.5</th>\n      <th>2.5</th>\n      <th>2.5</th>\n      <th>4.5</th>\n      <td>0.434843</td>\n      <td>0.001539</td>\n    </tr>\n    <tr>\n      <th rowspan=\"2\" valign=\"top\">Single-family</th>\n      <th>Natural gas-Standard boiler</th>\n      <th>2.5</th>\n      <th>2.5</th>\n      <th>2.5</th>\n      <th>4.5</th>\n      <td>0.241043</td>\n      <td>0.000185</td>\n    </tr>\n    <tr>\n      <th>Natural gas-Performance boiler</th>\n      <th>0.1</th>\n      <th>0.2</th>\n      <th>0.1</th>\n      <th>1.6</th>\n      <td>0.706972</td>\n      <td>0.030104</td>\n    </tr>\n    <tr>\n      <th rowspan=\"4\" valign=\"top\">D10</th>\n      <th rowspan=\"4\" valign=\"top\">D10</th>\n      <th rowspan=\"2\" valign=\"top\">Multi-family</th>\n      <th>Natural gas-Performance boiler</th>\n      <th>0.1</th>\n      <th>0.2</th>\n      <th>0.1</th>\n      <th>1.6</th>\n      <td>1.301570</td>\n      <td>1.587486</td>\n    </tr>\n    <tr>\n      <th>Natural gas-Standard boiler</th>\n      <th>2.5</th>\n      <th>2.5</th>\n      <th>2.5</th>\n      <th>4.5</th>\n      <td>0.879487</td>\n      <td>0.015787</td>\n    </tr>\n    <tr>\n      <th rowspan=\"2\" valign=\"top\">Single-family</th>\n      <th>Natural gas-Standard boiler</th>\n      <th>2.5</th>\n      <th>2.5</th>\n      <th>2.5</th>\n      <th>4.5</th>\n      <td>0.685687</td>\n      <td>0.001898</td>\n    </tr>\n    <tr>\n      <th>Natural gas-Performance boiler</th>\n      <th>0.1</th>\n      <th>0.2</th>\n      <th>0.1</th>\n      <th>1.6</th>\n      <td>1.151616</td>\n      <td>0.308781</td>\n    </tr>\n  </tbody>\n</table>\n</div>"
     },
     "execution_count": 12,
     "metadata": {},
     "output_type": "execute_result"
    }
   ],
   "source": [
    "pd.concat((heating_intensity, heating_intensity_fit), axis=1)"
   ],
   "metadata": {
    "collapsed": false,
    "pycharm": {
     "name": "#%%\n"
    }
   }
  },
  {
   "cell_type": "code",
   "execution_count": 13,
   "outputs": [
    {
     "data": {
      "text/plain": "(Existing  Occupancy status  Income owner  Income tenant  Housing type   Heating system                  Wall  Floor  Roof  Windows\n True      Owner-occupied    D1            D1             Multi-family   Natural gas-Performance boiler  0.1   0.2    0.1   1.6         46.162402\n                                                                         Natural gas-Standard boiler     2.5   2.5    2.5   4.5          5.318356\n                                                          Single-family  Natural gas-Standard boiler     2.5   2.5    2.5   4.5          1.947990\n                                                                         Natural gas-Performance boiler  0.1   0.2    0.1   1.6         21.546643\n                             D10           D10            Multi-family   Natural gas-Performance boiler  0.1   0.2    0.1   1.6        473.498292\n                                                                         Natural gas-Standard boiler     2.5   2.5    2.5   4.5         54.551595\n                                                          Single-family  Natural gas-Standard boiler     2.5   2.5    2.5   4.5         19.980974\n                                                                         Natural gas-Performance boiler  0.1   0.2    0.1   1.6        221.008832\n dtype: float64,\n Existing  Occupancy status  Income owner  Income tenant  Housing type   Heating system                  Wall  Floor  Roof  Windows\n True      Owner-occupied    D1            D1             Multi-family   Natural gas-Performance boiler  0.1   0.2    0.1   1.6         732.373943\n                                                                         Natural gas-Standard boiler     2.5   2.5    2.5   4.5         266.838175\n                                                          Single-family  Natural gas-Standard boiler     2.5   2.5    2.5   4.5         165.823034\n                                                                         Natural gas-Performance boiler  0.1   0.2    0.1   1.6         514.598772\n                             D10           D10            Multi-family   Natural gas-Performance boiler  0.1   0.2    0.1   1.6        7512.126747\n                                                                         Natural gas-Standard boiler     2.5   2.5    2.5   4.5        2737.020081\n                                                          Single-family  Natural gas-Standard boiler     2.5   2.5    2.5   4.5        1700.884719\n                                                                         Natural gas-Performance boiler  0.1   0.2    0.1   1.6        5278.357095\n dtype: float64)"
     },
     "execution_count": 13,
     "metadata": {},
     "output_type": "execute_result"
    }
   ],
   "source": [
    "demand_ces((income, energy_bill), rho_fit[0], 0.5)\n"
   ],
   "metadata": {
    "collapsed": false,
    "pycharm": {
     "name": "#%%\n"
    }
   }
  },
  {
   "cell_type": "code",
   "execution_count": 14,
   "outputs": [
    {
     "data": {
      "text/plain": "(Existing  Occupancy status  Income owner  Income tenant  Housing type   Heating system                  Wall  Floor  Roof  Windows\n True      Owner-occupied    D1            D1             Multi-family   Natural gas-Performance boiler  0.1   0.2    0.1   1.6         49.797843\n                                                                         Natural gas-Standard boiler     2.5   2.5    2.5   4.5          5.463712\n                                                          Single-family  Natural gas-Standard boiler     2.5   2.5    2.5   4.5          1.980736\n                                                                         Natural gas-Performance boiler  0.1   0.2    0.1   1.6         22.711830\n                             D10           D10            Multi-family   Natural gas-Performance boiler  0.1   0.2    0.1   1.6        510.787843\n                                                                         Natural gas-Standard boiler     2.5   2.5    2.5   4.5         56.042542\n                                                          Single-family  Natural gas-Standard boiler     2.5   2.5    2.5   4.5         20.316866\n                                                                         Natural gas-Performance boiler  0.1   0.2    0.1   1.6        232.960426\n dtype: float64,\n Existing  Occupancy status  Income owner  Income tenant  Housing type   Heating system                  Wall  Floor  Roof  Windows\n True      Owner-occupied    D1            D1             Multi-family   Natural gas-Performance boiler  0.1   0.2    0.1   1.6        0.155248\n                                                                         Natural gas-Standard boiler     2.5   2.5    2.5   4.5        0.001540\n                                                          Single-family  Natural gas-Standard boiler     2.5   2.5    2.5   4.5        0.000185\n                                                                         Natural gas-Performance boiler  0.1   0.2    0.1   1.6        0.030144\n                             D10           D10            Multi-family   Natural gas-Performance boiler  0.1   0.2    0.1   1.6        1.592410\n                                                                         Natural gas-Standard boiler     2.5   2.5    2.5   4.5        0.015791\n                                                          Single-family  Natural gas-Standard boiler     2.5   2.5    2.5   4.5        0.001899\n                                                                         Natural gas-Performance boiler  0.1   0.2    0.1   1.6        0.309190\n dtype: float64)"
     },
     "execution_count": 14,
     "metadata": {},
     "output_type": "execute_result"
    }
   ],
   "source": [
    "demand_ces((income, energy_bill), sigma_fit[0], 0.5)"
   ],
   "metadata": {
    "collapsed": false,
    "pycharm": {
     "name": "#%%\n"
    }
   }
  },
  {
   "cell_type": "code",
   "execution_count": 15,
   "outputs": [
    {
     "data": {
      "text/plain": "(Existing  Occupancy status  Income owner  Income tenant  Housing type   Heating system                  Wall  Floor  Roof  Windows\n True      Owner-occupied    D1            D1             Multi-family   Natural gas-Performance boiler  0.1   0.2    0.1   1.6         46.520651\n                                                                         Natural gas-Standard boiler     2.5   2.5    2.5   4.5          5.339100\n                                                          Single-family  Natural gas-Standard boiler     2.5   2.5    2.5   4.5          1.953287\n                                                                         Natural gas-Performance boiler  0.1   0.2    0.1   1.6         21.680230\n                             D10           D10            Multi-family   Natural gas-Performance boiler  0.1   0.2    0.1   1.6        477.172942\n                                                                         Natural gas-Standard boiler     2.5   2.5    2.5   4.5         54.764372\n                                                          Single-family  Natural gas-Standard boiler     2.5   2.5    2.5   4.5         20.035314\n                                                                         Natural gas-Performance boiler  0.1   0.2    0.1   1.6        222.379067\n dtype: float64,\n Existing  Occupancy status  Income owner  Income tenant  Housing type   Heating system                  Wall  Floor  Roof  Windows\n True      Owner-occupied    D1            D1             Multi-family   Natural gas-Performance boiler  0.1   0.2    0.1   1.6         660.218405\n                                                                         Natural gas-Standard boiler     2.5   2.5    2.5   4.5         228.757121\n                                                          Single-family  Natural gas-Standard boiler     2.5   2.5    2.5   4.5         138.996303\n                                                                         Natural gas-Performance boiler  0.1   0.2    0.1   1.6         455.604108\n                             D10           D10            Multi-family   Natural gas-Performance boiler  0.1   0.2    0.1   1.6        6772.010920\n                                                                         Natural gas-Standard boiler     2.5   2.5    2.5   4.5        2346.414017\n                                                          Single-family  Natural gas-Standard boiler     2.5   2.5    2.5   4.5        1425.716810\n                                                                         Natural gas-Performance boiler  0.1   0.2    0.1   1.6        4673.235359\n dtype: float64)"
     },
     "execution_count": 15,
     "metadata": {},
     "output_type": "execute_result"
    }
   ],
   "source": [
    "p0 = (0.5, 0.5)\n",
    "demand_ces((income, energy_bill), p0[0], p0[1])"
   ],
   "metadata": {
    "collapsed": false,
    "pycharm": {
     "name": "#%%\n"
    }
   }
  },
  {
   "cell_type": "code",
   "execution_count": 16,
   "outputs": [
    {
     "ename": "ValueError",
     "evalue": "object too deep for desired array",
     "output_type": "error",
     "traceback": [
      "\u001B[0;31m---------------------------------------------------------------------------\u001B[0m",
      "\u001B[0;31mValueError\u001B[0m                                Traceback (most recent call last)",
      "\u001B[0;31mValueError\u001B[0m: object too deep for desired array"
     ]
    },
    {
     "ename": "error",
     "evalue": "Result from function call is not a proper array of floats.",
     "output_type": "error",
     "traceback": [
      "\u001B[0;31m---------------------------------------------------------------------------\u001B[0m",
      "\u001B[0;31merror\u001B[0m                                     Traceback (most recent call last)",
      "\u001B[0;32m/var/folders/p9/3r4_fgzd72j7b469xxshgfnh0000gn/T/ipykernel_50565/2839469756.py\u001B[0m in \u001B[0;36m<module>\u001B[0;34m\u001B[0m\n\u001B[0;32m----> 1\u001B[0;31m \u001B[0mcurve_fit\u001B[0m\u001B[0;34m(\u001B[0m\u001B[0mdemand_ces\u001B[0m\u001B[0;34m,\u001B[0m \u001B[0;34m(\u001B[0m\u001B[0mincome\u001B[0m\u001B[0;34m,\u001B[0m \u001B[0menergy_bill\u001B[0m\u001B[0;34m)\u001B[0m\u001B[0;34m,\u001B[0m \u001B[0mheating_intensity\u001B[0m\u001B[0;34m,\u001B[0m \u001B[0mp0\u001B[0m\u001B[0;34m=\u001B[0m\u001B[0mp0\u001B[0m\u001B[0;34m,\u001B[0m \u001B[0mmethod\u001B[0m\u001B[0;34m=\u001B[0m\u001B[0;34m'lm'\u001B[0m\u001B[0;34m,\u001B[0m \u001B[0mfull_output\u001B[0m\u001B[0;34m=\u001B[0m\u001B[0;32mTrue\u001B[0m\u001B[0;34m)\u001B[0m\u001B[0;34m\u001B[0m\u001B[0;34m\u001B[0m\u001B[0m\n\u001B[0m\u001B[1;32m      2\u001B[0m \u001B[0;34m\u001B[0m\u001B[0m\n",
      "\u001B[0;32m~/opt/anaconda3/envs/DataAnalysis/lib/python3.8/site-packages/scipy/optimize/minpack.py\u001B[0m in \u001B[0;36mcurve_fit\u001B[0;34m(f, xdata, ydata, p0, sigma, absolute_sigma, check_finite, bounds, method, jac, **kwargs)\u001B[0m\n\u001B[1;32m    787\u001B[0m         \u001B[0;31m# Remove full_output from kwargs, otherwise we're passing it in twice.\u001B[0m\u001B[0;34m\u001B[0m\u001B[0;34m\u001B[0m\u001B[0;34m\u001B[0m\u001B[0m\n\u001B[1;32m    788\u001B[0m         \u001B[0mreturn_full\u001B[0m \u001B[0;34m=\u001B[0m \u001B[0mkwargs\u001B[0m\u001B[0;34m.\u001B[0m\u001B[0mpop\u001B[0m\u001B[0;34m(\u001B[0m\u001B[0;34m'full_output'\u001B[0m\u001B[0;34m,\u001B[0m \u001B[0;32mFalse\u001B[0m\u001B[0;34m)\u001B[0m\u001B[0;34m\u001B[0m\u001B[0;34m\u001B[0m\u001B[0m\n\u001B[0;32m--> 789\u001B[0;31m         \u001B[0mres\u001B[0m \u001B[0;34m=\u001B[0m \u001B[0mleastsq\u001B[0m\u001B[0;34m(\u001B[0m\u001B[0mfunc\u001B[0m\u001B[0;34m,\u001B[0m \u001B[0mp0\u001B[0m\u001B[0;34m,\u001B[0m \u001B[0mDfun\u001B[0m\u001B[0;34m=\u001B[0m\u001B[0mjac\u001B[0m\u001B[0;34m,\u001B[0m \u001B[0mfull_output\u001B[0m\u001B[0;34m=\u001B[0m\u001B[0;36m1\u001B[0m\u001B[0;34m,\u001B[0m \u001B[0;34m**\u001B[0m\u001B[0mkwargs\u001B[0m\u001B[0;34m)\u001B[0m\u001B[0;34m\u001B[0m\u001B[0;34m\u001B[0m\u001B[0m\n\u001B[0m\u001B[1;32m    790\u001B[0m         \u001B[0mpopt\u001B[0m\u001B[0;34m,\u001B[0m \u001B[0mpcov\u001B[0m\u001B[0;34m,\u001B[0m \u001B[0minfodict\u001B[0m\u001B[0;34m,\u001B[0m \u001B[0merrmsg\u001B[0m\u001B[0;34m,\u001B[0m \u001B[0mier\u001B[0m \u001B[0;34m=\u001B[0m \u001B[0mres\u001B[0m\u001B[0;34m\u001B[0m\u001B[0;34m\u001B[0m\u001B[0m\n\u001B[1;32m    791\u001B[0m         \u001B[0mysize\u001B[0m \u001B[0;34m=\u001B[0m \u001B[0mlen\u001B[0m\u001B[0;34m(\u001B[0m\u001B[0minfodict\u001B[0m\u001B[0;34m[\u001B[0m\u001B[0;34m'fvec'\u001B[0m\u001B[0;34m]\u001B[0m\u001B[0;34m)\u001B[0m\u001B[0;34m\u001B[0m\u001B[0;34m\u001B[0m\u001B[0m\n",
      "\u001B[0;32m~/opt/anaconda3/envs/DataAnalysis/lib/python3.8/site-packages/scipy/optimize/minpack.py\u001B[0m in \u001B[0;36mleastsq\u001B[0;34m(func, x0, args, Dfun, full_output, col_deriv, ftol, xtol, gtol, maxfev, epsfcn, factor, diag)\u001B[0m\n\u001B[1;32m    421\u001B[0m         \u001B[0;32mif\u001B[0m \u001B[0mmaxfev\u001B[0m \u001B[0;34m==\u001B[0m \u001B[0;36m0\u001B[0m\u001B[0;34m:\u001B[0m\u001B[0;34m\u001B[0m\u001B[0;34m\u001B[0m\u001B[0m\n\u001B[1;32m    422\u001B[0m             \u001B[0mmaxfev\u001B[0m \u001B[0;34m=\u001B[0m \u001B[0;36m200\u001B[0m\u001B[0;34m*\u001B[0m\u001B[0;34m(\u001B[0m\u001B[0mn\u001B[0m \u001B[0;34m+\u001B[0m \u001B[0;36m1\u001B[0m\u001B[0;34m)\u001B[0m\u001B[0;34m\u001B[0m\u001B[0;34m\u001B[0m\u001B[0m\n\u001B[0;32m--> 423\u001B[0;31m         retval = _minpack._lmdif(func, x0, args, full_output, ftol, xtol,\n\u001B[0m\u001B[1;32m    424\u001B[0m                                  gtol, maxfev, epsfcn, factor, diag)\n\u001B[1;32m    425\u001B[0m     \u001B[0;32melse\u001B[0m\u001B[0;34m:\u001B[0m\u001B[0;34m\u001B[0m\u001B[0;34m\u001B[0m\u001B[0m\n",
      "\u001B[0;31merror\u001B[0m: Result from function call is not a proper array of floats."
     ]
    }
   ],
   "source": [
    "curve_fit(demand_ces, (income, energy_bill), heating_intensity, p0=p0, method='lm', full_output=True)\n"
   ],
   "metadata": {
    "collapsed": false,
    "pycharm": {
     "name": "#%%\n"
    }
   }
  },
  {
   "cell_type": "code",
   "execution_count": null,
   "outputs": [],
   "source": [
    "curve_fit(demand_ces, (income, energy_bill), heating_intensity, p0=p0, method='trf')"
   ],
   "metadata": {
    "collapsed": false,
    "pycharm": {
     "name": "#%%\n"
    }
   }
  },
  {
   "cell_type": "code",
   "execution_count": null,
   "outputs": [],
   "source": [
    "curve_fit(demand_ces, (income, energy_bill), heating_intensity, p0=p0, method='dogbox')"
   ],
   "metadata": {
    "collapsed": false,
    "pycharm": {
     "name": "#%%\n"
    }
   }
  },
  {
   "cell_type": "code",
   "execution_count": null,
   "outputs": [],
   "source": [],
   "metadata": {
    "collapsed": false,
    "pycharm": {
     "name": "#%%\n"
    }
   }
  }
 ],
 "metadata": {
  "kernelspec": {
   "display_name": "Python 3",
   "language": "python",
   "name": "python3"
  },
  "language_info": {
   "codemirror_mode": {
    "name": "ipython",
    "version": 2
   },
   "file_extension": ".py",
   "mimetype": "text/x-python",
   "name": "python",
   "nbconvert_exporter": "python",
   "pygments_lexer": "ipython2",
   "version": "2.7.6"
  }
 },
 "nbformat": 4,
 "nbformat_minor": 0
}