{
 "cells": [
  {
   "cell_type": "markdown",
   "source": [
    "# Climatic data\n",
    "\n",
    "https://www.renewables.ninja/\n",
    "Country/Weather data weighted by population.\n",
    "\n"
   ],
   "metadata": {
    "collapsed": false,
    "pycharm": {
     "name": "#%% md\n"
    }
   }
  },
  {
   "cell_type": "code",
   "execution_count": 1,
   "outputs": [],
   "source": [
    "import pandas as pd\n",
    "from project.thermal import TEMP_BASE, ORIENTATION_FACTOR"
   ],
   "metadata": {
    "collapsed": false,
    "pycharm": {
     "name": "#%%\n"
    }
   }
  },
  {
   "cell_type": "code",
   "execution_count": 2,
   "outputs": [],
   "source": [
    "data = pd.read_csv('ninja_weather_country_FR_merra-2_population_weighted.csv', skiprows=[0, 1], index_col=[0], parse_dates=[0])"
   ],
   "metadata": {
    "collapsed": false,
    "pycharm": {
     "name": "#%%\n"
    }
   }
  },
  {
   "cell_type": "code",
   "execution_count": 3,
   "outputs": [
    {
     "name": "stdout",
     "output_type": "stream",
     "text": [
      "<class 'pandas.core.frame.DataFrame'>\n",
      "DatetimeIndex: 350640 entries, 1980-01-01 00:00:00 to 2019-12-31 23:00:00\n",
      "Data columns (total 8 columns):\n",
      " #   Column              Non-Null Count   Dtype  \n",
      "---  ------              --------------   -----  \n",
      " 0   precipitation       350640 non-null  float64\n",
      " 1   temperature         350640 non-null  float64\n",
      " 2   irradiance_surface  350640 non-null  float64\n",
      " 3   irradiance_toa      350640 non-null  float64\n",
      " 4   snowfall            350640 non-null  float64\n",
      " 5   snow_mass           350640 non-null  float64\n",
      " 6   cloud_cover         350640 non-null  float64\n",
      " 7   air_density         350640 non-null  float64\n",
      "dtypes: float64(8)\n",
      "memory usage: 24.1 MB\n"
     ]
    }
   ],
   "source": [
    "data.info()"
   ],
   "metadata": {
    "collapsed": false,
    "pycharm": {
     "name": "#%%\n"
    }
   }
  },
  {
   "cell_type": "code",
   "execution_count": 4,
   "outputs": [],
   "source": [
    "variables = ['temperature', 'irradiance_surface']"
   ],
   "metadata": {
    "collapsed": false,
    "pycharm": {
     "name": "#%%\n"
    }
   }
  },
  {
   "cell_type": "markdown",
   "source": [
    "## Calculation"
   ],
   "metadata": {
    "collapsed": false,
    "pycharm": {
     "name": "#%% md\n"
    }
   }
  },
  {
   "cell_type": "code",
   "execution_count": 5,
   "outputs": [],
   "source": [
    "d_hs_yr, temp_hs_yr, irr_hs_yr = dict(), dict(), dict()\n",
    "d_hs_month, temp_hs_month, irr_hs_month = dict(), dict(), dict()\n",
    "d_hs_day, temp_hs_day, irr_hs_day = dict(), dict(), dict()\n",
    "\n",
    "for year in data.index.year.unique():\n",
    "\n",
    "    d = data.loc[data.index.year == year, variables]\n",
    "    d = d.groupby([d.index.month, d.index.day]).agg({'temperature': 'mean', 'irradiance_surface': 'sum'})\n",
    "    d.index.names = ['month', 'day']\n",
    "\n",
    "    hs = d['temperature'] < TEMP_BASE\n",
    "\n",
    "    # yearly data\n",
    "    d_hs_yr.update({year: hs.sum()})\n",
    "    temp_hs_yr.update({year: (hs * d['temperature']).sum() / d_hs_yr[year]})\n",
    "    irr_hs_yr.update({year:  (hs * d['irradiance_surface']).sum() / 1000})\n",
    "\n",
    "    # monthly data\n",
    "    d_hs_month.update({year: hs.groupby('month').sum()})\n",
    "    temp_hs_month.update({year: (hs * d['temperature']).groupby('month').sum() / d_hs_month[year]})\n",
    "    irr_hs_month.update({year: (hs * d['irradiance_surface']).groupby('month').sum() / 1000})\n",
    "\n",
    "    # dayly data\n",
    "    d_hs_day.update({year: hs.groupby(['month', 'day']).sum()})\n",
    "    temp_hs_day.update({year: (hs * d['temperature']).groupby(['month', 'day']).sum() / d_hs_month[year]})\n",
    "    irr_hs_day.update({year: (hs * d['irradiance_surface']).groupby(['month', 'day']).sum() / 1000})\n",
    "\n",
    "result_year = pd.concat((pd.Series(d_hs_yr), pd.Series(temp_hs_yr), pd.Series(irr_hs_yr)), axis=1, keys=['d_hs', 'temp_hs', 'irr_hs (kWh/m2)'])\n",
    "result_month = pd.concat((pd.DataFrame(d_hs_month).rename_axis('year', axis=1).stack(), pd.DataFrame(temp_hs_month).rename_axis('year', axis=1).stack(), pd.DataFrame(irr_hs_month).rename_axis('year', axis=1).stack()), axis=1, keys=['d_hs', 'temp_hs', 'irr_hs (kWh/m2)'])\n",
    "result_day = pd.concat((pd.DataFrame(d_hs_day).rename_axis('year', axis=1).stack(), pd.DataFrame(temp_hs_day).rename_axis('year', axis=1).stack(), pd.DataFrame(irr_hs_day).rename_axis('year', axis=1).stack()), axis=1, keys=['d_hs', 'temp_hs', 'irr_hs (kWh/m2)'])"
   ],
   "metadata": {
    "collapsed": false,
    "pycharm": {
     "name": "#%%\n"
    }
   }
  },
  {
   "cell_type": "code",
   "execution_count": 6,
   "outputs": [],
   "source": [
    "var = 'irr_hs (kWh/m2)'\n",
    "for key, factor in ORIENTATION_FACTOR.items():\n",
    "    result_year['{} {}'.format(var, key)] = result_year[var] * factor\n",
    "    result_month['{} {}'.format(var, key)] = result_month[var] * factor\n",
    "    result_day['{} {}'.format(var, key)] = result_day[var] * factor"
   ],
   "metadata": {
    "collapsed": false,
    "pycharm": {
     "name": "#%%\n"
    }
   }
  },
  {
   "cell_type": "code",
   "execution_count": 7,
   "outputs": [],
   "source": [
    "# exporting data yearly\n",
    "variables = ['d_hs', 'temp_hs', 'irr_hs (kWh/m2) Mean']\n",
    "export_resirf = result_year[variables]\n",
    "export_resirf.columns = ['DAYS_HEATING_SEASON', 'TEMP_EXT', 'SOLAR_RADIATION']\n",
    "export_resirf.to_csv('output/climatic_data.csv')"
   ],
   "metadata": {
    "collapsed": false,
    "pycharm": {
     "name": "#%%\n"
    }
   }
  },
  {
   "cell_type": "code",
   "execution_count": 8,
   "outputs": [
    {
     "data": {
      "text/plain": "d_hs                     199.600000\ntemp_hs                    5.952009\nirr_hs (kWh/m2)          501.011548\nirr_hs (kWh/m2) South    551.112703\nirr_hs (kWh/m2) West     285.576583\nirr_hs (kWh/m2) Est      285.576583\nirr_hs (kWh/m2) North    100.202310\nirr_hs (kWh/m2) Mean     305.617044\ndtype: float64"
     },
     "execution_count": 8,
     "metadata": {},
     "output_type": "execute_result"
    }
   ],
   "source": [
    "result_year.mean()"
   ],
   "metadata": {
    "collapsed": false,
    "pycharm": {
     "name": "#%%\n"
    }
   }
  },
  {
   "cell_type": "code",
   "execution_count": 9,
   "outputs": [],
   "source": [
    "years = (2014, 2015, 2016)"
   ],
   "metadata": {
    "collapsed": false,
    "pycharm": {
     "name": "#%%\n"
    }
   }
  },
  {
   "cell_type": "code",
   "execution_count": 10,
   "outputs": [],
   "source": [
    "export_resirf_daily = result_day.xs(2006, level='year').loc[:, variables].fillna(0)\n",
    "export_resirf_daily.columns = ['DAYS_HEATING_SEASON', 'TEMP_EXT', 'SOLAR_RADIATION']\n",
    "export_resirf_daily.to_csv('output/climatic_data_daily.csv')"
   ],
   "metadata": {
    "collapsed": false,
    "pycharm": {
     "name": "#%%\n"
    }
   }
  }
 ],
 "metadata": {
  "kernelspec": {
   "display_name": "Python 3",
   "language": "python",
   "name": "python3"
  },
  "language_info": {
   "codemirror_mode": {
    "name": "ipython",
    "version": 2
   },
   "file_extension": ".py",
   "mimetype": "text/x-python",
   "name": "python",
   "nbconvert_exporter": "python",
   "pygments_lexer": "ipython2",
   "version": "2.7.6"
  }
 },
 "nbformat": 4,
 "nbformat_minor": 0
}