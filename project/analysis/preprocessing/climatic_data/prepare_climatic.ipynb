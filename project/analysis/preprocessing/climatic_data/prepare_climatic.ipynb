{
 "cells": [
  {
   "cell_type": "markdown",
   "source": [
    "# Climatic data\n",
    "\n",
    "https://www.renewables.ninja/\n",
    "Country/Weather data"
   ],
   "metadata": {
    "collapsed": false,
    "pycharm": {
     "name": "#%% md\n"
    }
   }
  },
  {
   "cell_type": "code",
   "execution_count": 1,
   "outputs": [],
   "source": [
    "import pandas as pd\n",
    "from project.thermal import TEMP_BASE, ORIENTATION_FACTOR"
   ],
   "metadata": {
    "collapsed": false,
    "pycharm": {
     "name": "#%%\n"
    }
   }
  },
  {
   "cell_type": "code",
   "execution_count": 3,
   "outputs": [],
   "source": [
    "data = pd.read_csv('ninja_weather_country_FR_merra-2_population_weighted.csv', skiprows=[0, 1], index_col=[0], parse_dates=[0])"
   ],
   "metadata": {
    "collapsed": false,
    "pycharm": {
     "name": "#%%\n"
    }
   }
  },
  {
   "cell_type": "code",
   "execution_count": 4,
   "outputs": [
    {
     "name": "stdout",
     "output_type": "stream",
     "text": [
      "<class 'pandas.core.frame.DataFrame'>\n",
      "DatetimeIndex: 350640 entries, 1980-01-01 00:00:00 to 2019-12-31 23:00:00\n",
      "Data columns (total 8 columns):\n",
      " #   Column              Non-Null Count   Dtype  \n",
      "---  ------              --------------   -----  \n",
      " 0   precipitation       350640 non-null  float64\n",
      " 1   temperature         350640 non-null  float64\n",
      " 2   irradiance_surface  350640 non-null  float64\n",
      " 3   irradiance_toa      350640 non-null  float64\n",
      " 4   snowfall            350640 non-null  float64\n",
      " 5   snow_mass           350640 non-null  float64\n",
      " 6   cloud_cover         350640 non-null  float64\n",
      " 7   air_density         350640 non-null  float64\n",
      "dtypes: float64(8)\n",
      "memory usage: 24.1 MB\n"
     ]
    }
   ],
   "source": [
    "data.info()"
   ],
   "metadata": {
    "collapsed": false,
    "pycharm": {
     "name": "#%%\n"
    }
   }
  },
  {
   "cell_type": "code",
   "execution_count": 5,
   "outputs": [],
   "source": [
    "variables = ['temperature', 'irradiance_surface']"
   ],
   "metadata": {
    "collapsed": false,
    "pycharm": {
     "name": "#%%\n"
    }
   }
  },
  {
   "cell_type": "markdown",
   "source": [
    "## Calculation"
   ],
   "metadata": {
    "collapsed": false,
    "pycharm": {
     "name": "#%% md\n"
    }
   }
  },
  {
   "cell_type": "code",
   "execution_count": 6,
   "outputs": [],
   "source": [
    "d_hs_yr, temp_hs_yr, irr_hs_yr = dict(), dict(), dict()\n",
    "d_hs_month, temp_hs_month, irr_hs_month = dict(), dict(), dict()\n",
    "d_hs_day, temp_hs_day, irr_hs_day = dict(), dict(), dict()\n",
    "\n",
    "for year in data.index.year.unique():\n",
    "\n",
    "    d = data.loc[data.index.year == year, variables]\n",
    "    d = d.groupby([d.index.month, d.index.day]).agg({'temperature': 'mean', 'irradiance_surface': 'sum'})\n",
    "    d.index.names = ['month', 'day']\n",
    "\n",
    "    hs = d['temperature'] < TEMP_BASE\n",
    "\n",
    "    # yearly data\n",
    "    d_hs_yr.update({year: hs.sum()})\n",
    "    temp_hs_yr.update({year: (hs * d['temperature']).sum() / d_hs_yr[year]})\n",
    "    irr_hs_yr.update({year:  (hs * d['irradiance_surface']).sum() / 1000})\n",
    "\n",
    "    # monthly data\n",
    "    d_hs_month.update({year: hs.groupby('month').sum()})\n",
    "    temp_hs_month.update({year: (hs * d['temperature']).groupby('month').sum() / d_hs_month[year]})\n",
    "    irr_hs_month.update({year: (hs * d['irradiance_surface']).groupby('month').sum() / 1000})\n",
    "\n",
    "    # dayly data\n",
    "    d_hs_day.update({year: hs.groupby(['month', 'day']).sum()})\n",
    "    temp_hs_day.update({year: (hs * d['temperature']).groupby(['month', 'day']).sum() / d_hs_month[year]})\n",
    "    irr_hs_day.update({year: (hs * d['irradiance_surface']).groupby(['month', 'day']).sum() / 1000})\n",
    "\n",
    "result_year = pd.concat((pd.Series(d_hs_yr), pd.Series(temp_hs_yr), pd.Series(irr_hs_yr)), axis=1, keys=['d_hs', 'temp_hs', 'irr_hs (kWh/m2)'])\n",
    "result_month = pd.concat((pd.DataFrame(d_hs_month).rename_axis('year', axis=1).stack(), pd.DataFrame(temp_hs_month).rename_axis('year', axis=1).stack(), pd.DataFrame(irr_hs_month).rename_axis('year', axis=1).stack()), axis=1, keys=['d_hs', 'temp_hs', 'irr_hs (kWh/m2)'])\n",
    "result_day = pd.concat((pd.DataFrame(d_hs_day).rename_axis('year', axis=1).stack(), pd.DataFrame(temp_hs_day).rename_axis('year', axis=1).stack(), pd.DataFrame(irr_hs_day).rename_axis('year', axis=1).stack()), axis=1, keys=['d_hs', 'temp_hs', 'irr_hs (kWh/m2)'])"
   ],
   "metadata": {
    "collapsed": false,
    "pycharm": {
     "name": "#%%\n"
    }
   }
  },
  {
   "cell_type": "code",
   "execution_count": 7,
   "outputs": [],
   "source": [
    "var = 'irr_hs (kWh/m2)'\n",
    "for key, factor in ORIENTATION_FACTOR.items():\n",
    "    result_year['{} {}'.format(var, key)] = result_year[var] * factor\n",
    "    result_month['{} {}'.format(var, key)] = result_month[var] * factor\n",
    "    result_day['{} {}'.format(var, key)] = result_day[var] * factor"
   ],
   "metadata": {
    "collapsed": false,
    "pycharm": {
     "name": "#%%\n"
    }
   }
  },
  {
   "cell_type": "code",
   "execution_count": 20,
   "outputs": [],
   "source": [
    "# exporting data\n",
    "export_resirf = result_year[['d_hs', 'temp_hs', 'irr_hs (kWh/m2) Mean']]\n",
    "export_resirf.columns = ['TEMP_EXT', 'DAYS_HEATING_SEASON', 'SOLAR_RADIATION']\n",
    "export_resirf.to_csv('output/climatic_data.csv')"
   ],
   "metadata": {
    "collapsed": false,
    "pycharm": {
     "name": "#%%\n"
    }
   }
  },
  {
   "cell_type": "code",
   "execution_count": 17,
   "outputs": [
    {
     "data": {
      "text/plain": "      d_hs   temp_hs  irr_hs (kWh/m2) Mean\n1980   222  5.516114            445.150005\n1981   202  5.472071            368.429845\n1982   216  6.298965            424.871092\n1983   219  5.981987            431.223989\n1984   228  6.217092            473.712847\n1985   207  4.276391            407.562637\n1986   205  4.910095            380.507676\n1987   207  4.846042            405.583265\n1988   195  6.379806            360.396069\n1989   191  6.396070            373.657812\n1990   188  6.479416            343.054086\n1991   209  5.557314            419.512193\n1992   209  6.091405            379.777457\n1993   203  5.800682            368.660608\n1994   198  6.939846            346.558436\n1995   197  6.082238            380.384913\n1996   216  5.597910            438.531422\n1997   200  6.248067            410.930141\n1998   204  5.967341            375.809599\n1999   192  5.976808            332.234231\n2000   196  6.611544            335.512554\n2001   190  5.587410            349.535099\n2002   196  7.192250            364.837490\n2003   191  5.437574            350.913625\n2004   201  5.783211            381.892425\n2005   188  5.112687            368.484779\n2006   179  5.233679            345.723695\n2007   186  6.393252            323.609107\n2008   204  6.112276            368.797878\n2009   193  5.608193            351.760611\n2010   212  4.585531            429.111901\n2011   174  6.558616            303.257322\n2012   200  5.900414            385.453108\n2013   204  5.181893            402.449496\n2014   185  7.220713            353.335044\n2015   190  6.708960            354.849095\n2016   209  6.487117            408.078899\n2017   198  6.371504            389.469831\n2018   186  6.267253            304.422239\n2019   194  6.690634            392.506237",
      "text/html": "<div>\n<style scoped>\n    .dataframe tbody tr th:only-of-type {\n        vertical-align: middle;\n    }\n\n    .dataframe tbody tr th {\n        vertical-align: top;\n    }\n\n    .dataframe thead th {\n        text-align: right;\n    }\n</style>\n<table border=\"1\" class=\"dataframe\">\n  <thead>\n    <tr style=\"text-align: right;\">\n      <th></th>\n      <th>d_hs</th>\n      <th>temp_hs</th>\n      <th>irr_hs (kWh/m2) Mean</th>\n    </tr>\n  </thead>\n  <tbody>\n    <tr>\n      <th>1980</th>\n      <td>222</td>\n      <td>5.516114</td>\n      <td>445.150005</td>\n    </tr>\n    <tr>\n      <th>1981</th>\n      <td>202</td>\n      <td>5.472071</td>\n      <td>368.429845</td>\n    </tr>\n    <tr>\n      <th>1982</th>\n      <td>216</td>\n      <td>6.298965</td>\n      <td>424.871092</td>\n    </tr>\n    <tr>\n      <th>1983</th>\n      <td>219</td>\n      <td>5.981987</td>\n      <td>431.223989</td>\n    </tr>\n    <tr>\n      <th>1984</th>\n      <td>228</td>\n      <td>6.217092</td>\n      <td>473.712847</td>\n    </tr>\n    <tr>\n      <th>1985</th>\n      <td>207</td>\n      <td>4.276391</td>\n      <td>407.562637</td>\n    </tr>\n    <tr>\n      <th>1986</th>\n      <td>205</td>\n      <td>4.910095</td>\n      <td>380.507676</td>\n    </tr>\n    <tr>\n      <th>1987</th>\n      <td>207</td>\n      <td>4.846042</td>\n      <td>405.583265</td>\n    </tr>\n    <tr>\n      <th>1988</th>\n      <td>195</td>\n      <td>6.379806</td>\n      <td>360.396069</td>\n    </tr>\n    <tr>\n      <th>1989</th>\n      <td>191</td>\n      <td>6.396070</td>\n      <td>373.657812</td>\n    </tr>\n    <tr>\n      <th>1990</th>\n      <td>188</td>\n      <td>6.479416</td>\n      <td>343.054086</td>\n    </tr>\n    <tr>\n      <th>1991</th>\n      <td>209</td>\n      <td>5.557314</td>\n      <td>419.512193</td>\n    </tr>\n    <tr>\n      <th>1992</th>\n      <td>209</td>\n      <td>6.091405</td>\n      <td>379.777457</td>\n    </tr>\n    <tr>\n      <th>1993</th>\n      <td>203</td>\n      <td>5.800682</td>\n      <td>368.660608</td>\n    </tr>\n    <tr>\n      <th>1994</th>\n      <td>198</td>\n      <td>6.939846</td>\n      <td>346.558436</td>\n    </tr>\n    <tr>\n      <th>1995</th>\n      <td>197</td>\n      <td>6.082238</td>\n      <td>380.384913</td>\n    </tr>\n    <tr>\n      <th>1996</th>\n      <td>216</td>\n      <td>5.597910</td>\n      <td>438.531422</td>\n    </tr>\n    <tr>\n      <th>1997</th>\n      <td>200</td>\n      <td>6.248067</td>\n      <td>410.930141</td>\n    </tr>\n    <tr>\n      <th>1998</th>\n      <td>204</td>\n      <td>5.967341</td>\n      <td>375.809599</td>\n    </tr>\n    <tr>\n      <th>1999</th>\n      <td>192</td>\n      <td>5.976808</td>\n      <td>332.234231</td>\n    </tr>\n    <tr>\n      <th>2000</th>\n      <td>196</td>\n      <td>6.611544</td>\n      <td>335.512554</td>\n    </tr>\n    <tr>\n      <th>2001</th>\n      <td>190</td>\n      <td>5.587410</td>\n      <td>349.535099</td>\n    </tr>\n    <tr>\n      <th>2002</th>\n      <td>196</td>\n      <td>7.192250</td>\n      <td>364.837490</td>\n    </tr>\n    <tr>\n      <th>2003</th>\n      <td>191</td>\n      <td>5.437574</td>\n      <td>350.913625</td>\n    </tr>\n    <tr>\n      <th>2004</th>\n      <td>201</td>\n      <td>5.783211</td>\n      <td>381.892425</td>\n    </tr>\n    <tr>\n      <th>2005</th>\n      <td>188</td>\n      <td>5.112687</td>\n      <td>368.484779</td>\n    </tr>\n    <tr>\n      <th>2006</th>\n      <td>179</td>\n      <td>5.233679</td>\n      <td>345.723695</td>\n    </tr>\n    <tr>\n      <th>2007</th>\n      <td>186</td>\n      <td>6.393252</td>\n      <td>323.609107</td>\n    </tr>\n    <tr>\n      <th>2008</th>\n      <td>204</td>\n      <td>6.112276</td>\n      <td>368.797878</td>\n    </tr>\n    <tr>\n      <th>2009</th>\n      <td>193</td>\n      <td>5.608193</td>\n      <td>351.760611</td>\n    </tr>\n    <tr>\n      <th>2010</th>\n      <td>212</td>\n      <td>4.585531</td>\n      <td>429.111901</td>\n    </tr>\n    <tr>\n      <th>2011</th>\n      <td>174</td>\n      <td>6.558616</td>\n      <td>303.257322</td>\n    </tr>\n    <tr>\n      <th>2012</th>\n      <td>200</td>\n      <td>5.900414</td>\n      <td>385.453108</td>\n    </tr>\n    <tr>\n      <th>2013</th>\n      <td>204</td>\n      <td>5.181893</td>\n      <td>402.449496</td>\n    </tr>\n    <tr>\n      <th>2014</th>\n      <td>185</td>\n      <td>7.220713</td>\n      <td>353.335044</td>\n    </tr>\n    <tr>\n      <th>2015</th>\n      <td>190</td>\n      <td>6.708960</td>\n      <td>354.849095</td>\n    </tr>\n    <tr>\n      <th>2016</th>\n      <td>209</td>\n      <td>6.487117</td>\n      <td>408.078899</td>\n    </tr>\n    <tr>\n      <th>2017</th>\n      <td>198</td>\n      <td>6.371504</td>\n      <td>389.469831</td>\n    </tr>\n    <tr>\n      <th>2018</th>\n      <td>186</td>\n      <td>6.267253</td>\n      <td>304.422239</td>\n    </tr>\n    <tr>\n      <th>2019</th>\n      <td>194</td>\n      <td>6.690634</td>\n      <td>392.506237</td>\n    </tr>\n  </tbody>\n</table>\n</div>"
     },
     "execution_count": 17,
     "metadata": {},
     "output_type": "execute_result"
    }
   ],
   "source": [
    "result_year[['d_hs', 'temp_hs', 'irr_hs (kWh/m2) Mean']].set"
   ],
   "metadata": {
    "collapsed": false,
    "pycharm": {
     "name": "#%%\n"
    }
   }
  },
  {
   "cell_type": "code",
   "execution_count": 10,
   "outputs": [
    {
     "data": {
      "text/plain": "            d_hs   temp_hs  irr_hs (kWh/m2)  irr_hs (kWh/m2) South  \\\nmonth year                                                           \n1     1980    31  1.143880        39.232040              47.078448   \n      1981    31  2.292302        42.152691              50.583229   \n      1982    31  3.562700        37.523820              45.028584   \n      1983    31  4.660469        39.602662              47.523194   \n      1984    31  3.434234        33.456170              40.147404   \n...          ...       ...              ...                    ...   \n12    2015    31  7.824118        36.849436              44.219323   \n      2016    31  4.078780        40.049761              48.059713   \n      2017    31  4.093655        30.156358              36.187629   \n      2018    31  5.896011        31.823411              38.188093   \n      2019    31  6.039973        34.179842              41.015811   \n\n            irr_hs (kWh/m2) West  irr_hs (kWh/m2) Est  irr_hs (kWh/m2) North  \\\nmonth year                                                                     \n1     1980             29.424030            29.424030              12.554253   \n      1981             31.614518            31.614518              13.488861   \n      1982             28.142865            28.142865              12.007622   \n      1983             29.701996            29.701996              12.672852   \n      1984             25.092128            25.092128              10.705974   \n...                          ...                  ...                    ...   \n12    2015             27.637077            27.637077              11.791820   \n      2016             30.037321            30.037321              12.815923   \n      2017             22.617268            22.617268               9.650034   \n      2018             23.867558            23.867558              10.183492   \n      2019             25.634882            25.634882              10.937550   \n\n            irr_hs (kWh/m2) Mean  \nmonth year                        \n1     1980             29.620190  \n      1981             31.825282  \n      1982             28.330484  \n      1983             29.900010  \n      1984             25.259409  \n...                          ...  \n12    2015             27.821324  \n      2016             30.237569  \n      2017             22.768050  \n      2018             24.026675  \n      2019             25.805781  \n\n[480 rows x 8 columns]",
      "text/html": "<div>\n<style scoped>\n    .dataframe tbody tr th:only-of-type {\n        vertical-align: middle;\n    }\n\n    .dataframe tbody tr th {\n        vertical-align: top;\n    }\n\n    .dataframe thead th {\n        text-align: right;\n    }\n</style>\n<table border=\"1\" class=\"dataframe\">\n  <thead>\n    <tr style=\"text-align: right;\">\n      <th></th>\n      <th></th>\n      <th>d_hs</th>\n      <th>temp_hs</th>\n      <th>irr_hs (kWh/m2)</th>\n      <th>irr_hs (kWh/m2) South</th>\n      <th>irr_hs (kWh/m2) West</th>\n      <th>irr_hs (kWh/m2) Est</th>\n      <th>irr_hs (kWh/m2) North</th>\n      <th>irr_hs (kWh/m2) Mean</th>\n    </tr>\n    <tr>\n      <th>month</th>\n      <th>year</th>\n      <th></th>\n      <th></th>\n      <th></th>\n      <th></th>\n      <th></th>\n      <th></th>\n      <th></th>\n      <th></th>\n    </tr>\n  </thead>\n  <tbody>\n    <tr>\n      <th rowspan=\"5\" valign=\"top\">1</th>\n      <th>1980</th>\n      <td>31</td>\n      <td>1.143880</td>\n      <td>39.232040</td>\n      <td>47.078448</td>\n      <td>29.424030</td>\n      <td>29.424030</td>\n      <td>12.554253</td>\n      <td>29.620190</td>\n    </tr>\n    <tr>\n      <th>1981</th>\n      <td>31</td>\n      <td>2.292302</td>\n      <td>42.152691</td>\n      <td>50.583229</td>\n      <td>31.614518</td>\n      <td>31.614518</td>\n      <td>13.488861</td>\n      <td>31.825282</td>\n    </tr>\n    <tr>\n      <th>1982</th>\n      <td>31</td>\n      <td>3.562700</td>\n      <td>37.523820</td>\n      <td>45.028584</td>\n      <td>28.142865</td>\n      <td>28.142865</td>\n      <td>12.007622</td>\n      <td>28.330484</td>\n    </tr>\n    <tr>\n      <th>1983</th>\n      <td>31</td>\n      <td>4.660469</td>\n      <td>39.602662</td>\n      <td>47.523194</td>\n      <td>29.701996</td>\n      <td>29.701996</td>\n      <td>12.672852</td>\n      <td>29.900010</td>\n    </tr>\n    <tr>\n      <th>1984</th>\n      <td>31</td>\n      <td>3.434234</td>\n      <td>33.456170</td>\n      <td>40.147404</td>\n      <td>25.092128</td>\n      <td>25.092128</td>\n      <td>10.705974</td>\n      <td>25.259409</td>\n    </tr>\n    <tr>\n      <th>...</th>\n      <th>...</th>\n      <td>...</td>\n      <td>...</td>\n      <td>...</td>\n      <td>...</td>\n      <td>...</td>\n      <td>...</td>\n      <td>...</td>\n      <td>...</td>\n    </tr>\n    <tr>\n      <th rowspan=\"5\" valign=\"top\">12</th>\n      <th>2015</th>\n      <td>31</td>\n      <td>7.824118</td>\n      <td>36.849436</td>\n      <td>44.219323</td>\n      <td>27.637077</td>\n      <td>27.637077</td>\n      <td>11.791820</td>\n      <td>27.821324</td>\n    </tr>\n    <tr>\n      <th>2016</th>\n      <td>31</td>\n      <td>4.078780</td>\n      <td>40.049761</td>\n      <td>48.059713</td>\n      <td>30.037321</td>\n      <td>30.037321</td>\n      <td>12.815923</td>\n      <td>30.237569</td>\n    </tr>\n    <tr>\n      <th>2017</th>\n      <td>31</td>\n      <td>4.093655</td>\n      <td>30.156358</td>\n      <td>36.187629</td>\n      <td>22.617268</td>\n      <td>22.617268</td>\n      <td>9.650034</td>\n      <td>22.768050</td>\n    </tr>\n    <tr>\n      <th>2018</th>\n      <td>31</td>\n      <td>5.896011</td>\n      <td>31.823411</td>\n      <td>38.188093</td>\n      <td>23.867558</td>\n      <td>23.867558</td>\n      <td>10.183492</td>\n      <td>24.026675</td>\n    </tr>\n    <tr>\n      <th>2019</th>\n      <td>31</td>\n      <td>6.039973</td>\n      <td>34.179842</td>\n      <td>41.015811</td>\n      <td>25.634882</td>\n      <td>25.634882</td>\n      <td>10.937550</td>\n      <td>25.805781</td>\n    </tr>\n  </tbody>\n</table>\n<p>480 rows × 8 columns</p>\n</div>"
     },
     "execution_count": 10,
     "metadata": {},
     "output_type": "execute_result"
    }
   ],
   "source": [
    "result_month"
   ],
   "metadata": {
    "collapsed": false,
    "pycharm": {
     "name": "#%%\n"
    }
   }
  },
  {
   "cell_type": "code",
   "execution_count": 11,
   "outputs": [
    {
     "data": {
      "text/plain": "month  day  Year\n1      1    1980    1.0\n            1981    1.0\n            1982    1.0\n            1983    1.0\n            1984    1.0\n                   ... \n12     31   2015    1.0\n            2016    1.0\n            2017    1.0\n            2018    1.0\n            2019    1.0\nLength: 14610, dtype: float64"
     },
     "execution_count": 11,
     "metadata": {},
     "output_type": "execute_result"
    }
   ],
   "source": [
    "pd.DataFrame(d_hs_day).rename_axis('Year', axis=1).stack()"
   ],
   "metadata": {
    "collapsed": false,
    "pycharm": {
     "name": "#%%\n"
    }
   }
  },
  {
   "cell_type": "code",
   "execution_count": 12,
   "outputs": [
    {
     "data": {
      "text/plain": "            d_hs   temp_hs  irr_hs (kWh/m2)  irr_hs (kWh/m2) South  \\\nmonth year                                                           \n1     1980    31  1.143880        39.232040              47.078448   \n      1981    31  2.292302        42.152691              50.583229   \n      1982    31  3.562700        37.523820              45.028584   \n      1983    31  4.660469        39.602662              47.523194   \n      1984    31  3.434234        33.456170              40.147404   \n...          ...       ...              ...                    ...   \n12    2015    31  7.824118        36.849436              44.219323   \n      2016    31  4.078780        40.049761              48.059713   \n      2017    31  4.093655        30.156358              36.187629   \n      2018    31  5.896011        31.823411              38.188093   \n      2019    31  6.039973        34.179842              41.015811   \n\n            irr_hs (kWh/m2) West  irr_hs (kWh/m2) Est  irr_hs (kWh/m2) North  \\\nmonth year                                                                     \n1     1980             29.424030            29.424030              12.554253   \n      1981             31.614518            31.614518              13.488861   \n      1982             28.142865            28.142865              12.007622   \n      1983             29.701996            29.701996              12.672852   \n      1984             25.092128            25.092128              10.705974   \n...                          ...                  ...                    ...   \n12    2015             27.637077            27.637077              11.791820   \n      2016             30.037321            30.037321              12.815923   \n      2017             22.617268            22.617268               9.650034   \n      2018             23.867558            23.867558              10.183492   \n      2019             25.634882            25.634882              10.937550   \n\n            irr_hs (kWh/m2) Mean  \nmonth year                        \n1     1980             29.620190  \n      1981             31.825282  \n      1982             28.330484  \n      1983             29.900010  \n      1984             25.259409  \n...                          ...  \n12    2015             27.821324  \n      2016             30.237569  \n      2017             22.768050  \n      2018             24.026675  \n      2019             25.805781  \n\n[480 rows x 8 columns]",
      "text/html": "<div>\n<style scoped>\n    .dataframe tbody tr th:only-of-type {\n        vertical-align: middle;\n    }\n\n    .dataframe tbody tr th {\n        vertical-align: top;\n    }\n\n    .dataframe thead th {\n        text-align: right;\n    }\n</style>\n<table border=\"1\" class=\"dataframe\">\n  <thead>\n    <tr style=\"text-align: right;\">\n      <th></th>\n      <th></th>\n      <th>d_hs</th>\n      <th>temp_hs</th>\n      <th>irr_hs (kWh/m2)</th>\n      <th>irr_hs (kWh/m2) South</th>\n      <th>irr_hs (kWh/m2) West</th>\n      <th>irr_hs (kWh/m2) Est</th>\n      <th>irr_hs (kWh/m2) North</th>\n      <th>irr_hs (kWh/m2) Mean</th>\n    </tr>\n    <tr>\n      <th>month</th>\n      <th>year</th>\n      <th></th>\n      <th></th>\n      <th></th>\n      <th></th>\n      <th></th>\n      <th></th>\n      <th></th>\n      <th></th>\n    </tr>\n  </thead>\n  <tbody>\n    <tr>\n      <th rowspan=\"5\" valign=\"top\">1</th>\n      <th>1980</th>\n      <td>31</td>\n      <td>1.143880</td>\n      <td>39.232040</td>\n      <td>47.078448</td>\n      <td>29.424030</td>\n      <td>29.424030</td>\n      <td>12.554253</td>\n      <td>29.620190</td>\n    </tr>\n    <tr>\n      <th>1981</th>\n      <td>31</td>\n      <td>2.292302</td>\n      <td>42.152691</td>\n      <td>50.583229</td>\n      <td>31.614518</td>\n      <td>31.614518</td>\n      <td>13.488861</td>\n      <td>31.825282</td>\n    </tr>\n    <tr>\n      <th>1982</th>\n      <td>31</td>\n      <td>3.562700</td>\n      <td>37.523820</td>\n      <td>45.028584</td>\n      <td>28.142865</td>\n      <td>28.142865</td>\n      <td>12.007622</td>\n      <td>28.330484</td>\n    </tr>\n    <tr>\n      <th>1983</th>\n      <td>31</td>\n      <td>4.660469</td>\n      <td>39.602662</td>\n      <td>47.523194</td>\n      <td>29.701996</td>\n      <td>29.701996</td>\n      <td>12.672852</td>\n      <td>29.900010</td>\n    </tr>\n    <tr>\n      <th>1984</th>\n      <td>31</td>\n      <td>3.434234</td>\n      <td>33.456170</td>\n      <td>40.147404</td>\n      <td>25.092128</td>\n      <td>25.092128</td>\n      <td>10.705974</td>\n      <td>25.259409</td>\n    </tr>\n    <tr>\n      <th>...</th>\n      <th>...</th>\n      <td>...</td>\n      <td>...</td>\n      <td>...</td>\n      <td>...</td>\n      <td>...</td>\n      <td>...</td>\n      <td>...</td>\n      <td>...</td>\n    </tr>\n    <tr>\n      <th rowspan=\"5\" valign=\"top\">12</th>\n      <th>2015</th>\n      <td>31</td>\n      <td>7.824118</td>\n      <td>36.849436</td>\n      <td>44.219323</td>\n      <td>27.637077</td>\n      <td>27.637077</td>\n      <td>11.791820</td>\n      <td>27.821324</td>\n    </tr>\n    <tr>\n      <th>2016</th>\n      <td>31</td>\n      <td>4.078780</td>\n      <td>40.049761</td>\n      <td>48.059713</td>\n      <td>30.037321</td>\n      <td>30.037321</td>\n      <td>12.815923</td>\n      <td>30.237569</td>\n    </tr>\n    <tr>\n      <th>2017</th>\n      <td>31</td>\n      <td>4.093655</td>\n      <td>30.156358</td>\n      <td>36.187629</td>\n      <td>22.617268</td>\n      <td>22.617268</td>\n      <td>9.650034</td>\n      <td>22.768050</td>\n    </tr>\n    <tr>\n      <th>2018</th>\n      <td>31</td>\n      <td>5.896011</td>\n      <td>31.823411</td>\n      <td>38.188093</td>\n      <td>23.867558</td>\n      <td>23.867558</td>\n      <td>10.183492</td>\n      <td>24.026675</td>\n    </tr>\n    <tr>\n      <th>2019</th>\n      <td>31</td>\n      <td>6.039973</td>\n      <td>34.179842</td>\n      <td>41.015811</td>\n      <td>25.634882</td>\n      <td>25.634882</td>\n      <td>10.937550</td>\n      <td>25.805781</td>\n    </tr>\n  </tbody>\n</table>\n<p>480 rows × 8 columns</p>\n</div>"
     },
     "execution_count": 12,
     "metadata": {},
     "output_type": "execute_result"
    }
   ],
   "source": [
    "result_month"
   ],
   "metadata": {
    "collapsed": false,
    "pycharm": {
     "name": "#%%\n"
    }
   }
  },
  {
   "cell_type": "code",
   "execution_count": 12,
   "outputs": [],
   "source": [],
   "metadata": {
    "collapsed": false,
    "pycharm": {
     "name": "#%%\n"
    }
   }
  },
  {
   "cell_type": "code",
   "execution_count": 13,
   "outputs": [
    {
     "data": {
      "text/plain": "            d_hs   temp_hs  irr_hs (kWh/m2)  irr_hs (kWh/m2) South  \\\nmonth year                                                           \n1     1980    31  1.143880        39.232040              47.078448   \n      1981    31  2.292302        42.152691              50.583229   \n      1982    31  3.562700        37.523820              45.028584   \n      1983    31  4.660469        39.602662              47.523194   \n      1984    31  3.434234        33.456170              40.147404   \n...          ...       ...              ...                    ...   \n12    2015    31  7.824118        36.849436              44.219323   \n      2016    31  4.078780        40.049761              48.059713   \n      2017    31  4.093655        30.156358              36.187629   \n      2018    31  5.896011        31.823411              38.188093   \n      2019    31  6.039973        34.179842              41.015811   \n\n            irr_hs (kWh/m2) West  irr_hs (kWh/m2) Est  irr_hs (kWh/m2) North  \\\nmonth year                                                                     \n1     1980             29.424030            29.424030              12.554253   \n      1981             31.614518            31.614518              13.488861   \n      1982             28.142865            28.142865              12.007622   \n      1983             29.701996            29.701996              12.672852   \n      1984             25.092128            25.092128              10.705974   \n...                          ...                  ...                    ...   \n12    2015             27.637077            27.637077              11.791820   \n      2016             30.037321            30.037321              12.815923   \n      2017             22.617268            22.617268               9.650034   \n      2018             23.867558            23.867558              10.183492   \n      2019             25.634882            25.634882              10.937550   \n\n            irr_hs (kWh/m2) Mean  \nmonth year                        \n1     1980             29.620190  \n      1981             31.825282  \n      1982             28.330484  \n      1983             29.900010  \n      1984             25.259409  \n...                          ...  \n12    2015             27.821324  \n      2016             30.237569  \n      2017             22.768050  \n      2018             24.026675  \n      2019             25.805781  \n\n[480 rows x 8 columns]",
      "text/html": "<div>\n<style scoped>\n    .dataframe tbody tr th:only-of-type {\n        vertical-align: middle;\n    }\n\n    .dataframe tbody tr th {\n        vertical-align: top;\n    }\n\n    .dataframe thead th {\n        text-align: right;\n    }\n</style>\n<table border=\"1\" class=\"dataframe\">\n  <thead>\n    <tr style=\"text-align: right;\">\n      <th></th>\n      <th></th>\n      <th>d_hs</th>\n      <th>temp_hs</th>\n      <th>irr_hs (kWh/m2)</th>\n      <th>irr_hs (kWh/m2) South</th>\n      <th>irr_hs (kWh/m2) West</th>\n      <th>irr_hs (kWh/m2) Est</th>\n      <th>irr_hs (kWh/m2) North</th>\n      <th>irr_hs (kWh/m2) Mean</th>\n    </tr>\n    <tr>\n      <th>month</th>\n      <th>year</th>\n      <th></th>\n      <th></th>\n      <th></th>\n      <th></th>\n      <th></th>\n      <th></th>\n      <th></th>\n      <th></th>\n    </tr>\n  </thead>\n  <tbody>\n    <tr>\n      <th rowspan=\"5\" valign=\"top\">1</th>\n      <th>1980</th>\n      <td>31</td>\n      <td>1.143880</td>\n      <td>39.232040</td>\n      <td>47.078448</td>\n      <td>29.424030</td>\n      <td>29.424030</td>\n      <td>12.554253</td>\n      <td>29.620190</td>\n    </tr>\n    <tr>\n      <th>1981</th>\n      <td>31</td>\n      <td>2.292302</td>\n      <td>42.152691</td>\n      <td>50.583229</td>\n      <td>31.614518</td>\n      <td>31.614518</td>\n      <td>13.488861</td>\n      <td>31.825282</td>\n    </tr>\n    <tr>\n      <th>1982</th>\n      <td>31</td>\n      <td>3.562700</td>\n      <td>37.523820</td>\n      <td>45.028584</td>\n      <td>28.142865</td>\n      <td>28.142865</td>\n      <td>12.007622</td>\n      <td>28.330484</td>\n    </tr>\n    <tr>\n      <th>1983</th>\n      <td>31</td>\n      <td>4.660469</td>\n      <td>39.602662</td>\n      <td>47.523194</td>\n      <td>29.701996</td>\n      <td>29.701996</td>\n      <td>12.672852</td>\n      <td>29.900010</td>\n    </tr>\n    <tr>\n      <th>1984</th>\n      <td>31</td>\n      <td>3.434234</td>\n      <td>33.456170</td>\n      <td>40.147404</td>\n      <td>25.092128</td>\n      <td>25.092128</td>\n      <td>10.705974</td>\n      <td>25.259409</td>\n    </tr>\n    <tr>\n      <th>...</th>\n      <th>...</th>\n      <td>...</td>\n      <td>...</td>\n      <td>...</td>\n      <td>...</td>\n      <td>...</td>\n      <td>...</td>\n      <td>...</td>\n      <td>...</td>\n    </tr>\n    <tr>\n      <th rowspan=\"5\" valign=\"top\">12</th>\n      <th>2015</th>\n      <td>31</td>\n      <td>7.824118</td>\n      <td>36.849436</td>\n      <td>44.219323</td>\n      <td>27.637077</td>\n      <td>27.637077</td>\n      <td>11.791820</td>\n      <td>27.821324</td>\n    </tr>\n    <tr>\n      <th>2016</th>\n      <td>31</td>\n      <td>4.078780</td>\n      <td>40.049761</td>\n      <td>48.059713</td>\n      <td>30.037321</td>\n      <td>30.037321</td>\n      <td>12.815923</td>\n      <td>30.237569</td>\n    </tr>\n    <tr>\n      <th>2017</th>\n      <td>31</td>\n      <td>4.093655</td>\n      <td>30.156358</td>\n      <td>36.187629</td>\n      <td>22.617268</td>\n      <td>22.617268</td>\n      <td>9.650034</td>\n      <td>22.768050</td>\n    </tr>\n    <tr>\n      <th>2018</th>\n      <td>31</td>\n      <td>5.896011</td>\n      <td>31.823411</td>\n      <td>38.188093</td>\n      <td>23.867558</td>\n      <td>23.867558</td>\n      <td>10.183492</td>\n      <td>24.026675</td>\n    </tr>\n    <tr>\n      <th>2019</th>\n      <td>31</td>\n      <td>6.039973</td>\n      <td>34.179842</td>\n      <td>41.015811</td>\n      <td>25.634882</td>\n      <td>25.634882</td>\n      <td>10.937550</td>\n      <td>25.805781</td>\n    </tr>\n  </tbody>\n</table>\n<p>480 rows × 8 columns</p>\n</div>"
     },
     "execution_count": 13,
     "metadata": {},
     "output_type": "execute_result"
    }
   ],
   "source": [
    "result_month"
   ],
   "metadata": {
    "collapsed": false,
    "pycharm": {
     "name": "#%%\n"
    }
   }
  },
  {
   "cell_type": "code",
   "execution_count": 14,
   "outputs": [
    {
     "ename": "NameError",
     "evalue": "name 'result' is not defined",
     "output_type": "error",
     "traceback": [
      "\u001B[0;31m---------------------------------------------------------------------------\u001B[0m",
      "\u001B[0;31mNameError\u001B[0m                                 Traceback (most recent call last)",
      "\u001B[0;32m/var/folders/p9/3r4_fgzd72j7b469xxshgfnh0000gn/T/ipykernel_36129/1057666337.py\u001B[0m in \u001B[0;36m<module>\u001B[0;34m\u001B[0m\n\u001B[0;32m----> 1\u001B[0;31m \u001B[0mresult\u001B[0m\u001B[0;34m\u001B[0m\u001B[0;34m\u001B[0m\u001B[0m\n\u001B[0m",
      "\u001B[0;31mNameError\u001B[0m: name 'result' is not defined"
     ]
    }
   ],
   "source": [
    "result"
   ],
   "metadata": {
    "collapsed": false,
    "pycharm": {
     "name": "#%%\n"
    }
   }
  },
  {
   "cell_type": "code",
   "execution_count": null,
   "outputs": [],
   "source": [
    "data.loc[data.index.year == year, variables]"
   ],
   "metadata": {
    "collapsed": false,
    "pycharm": {
     "name": "#%%\n"
    }
   }
  },
  {
   "cell_type": "code",
   "execution_count": null,
   "outputs": [],
   "source": [],
   "metadata": {
    "collapsed": false,
    "pycharm": {
     "name": "#%%\n"
    }
   }
  },
  {
   "cell_type": "code",
   "execution_count": null,
   "outputs": [],
   "source": [
    "result"
   ],
   "metadata": {
    "collapsed": false,
    "pycharm": {
     "name": "#%%\n"
    }
   }
  },
  {
   "cell_type": "code",
   "execution_count": null,
   "outputs": [],
   "source": [
    "d"
   ],
   "metadata": {
    "collapsed": false,
    "pycharm": {
     "name": "#%%\n"
    }
   }
  },
  {
   "cell_type": "code",
   "execution_count": null,
   "outputs": [],
   "source": [],
   "metadata": {
    "collapsed": false,
    "pycharm": {
     "name": "#%%\n"
    }
   }
  },
  {
   "cell_type": "code",
   "execution_count": null,
   "outputs": [],
   "source": [
    "duration"
   ],
   "metadata": {
    "collapsed": false,
    "pycharm": {
     "name": "#%%\n"
    }
   }
  },
  {
   "cell_type": "code",
   "execution_count": null,
   "outputs": [],
   "source": [
    "data.index"
   ],
   "metadata": {
    "collapsed": false,
    "pycharm": {
     "name": "#%%\n"
    }
   }
  },
  {
   "cell_type": "code",
   "execution_count": null,
   "outputs": [],
   "source": [],
   "metadata": {
    "collapsed": false,
    "pycharm": {
     "name": "#%%\n"
    }
   }
  }
 ],
 "metadata": {
  "kernelspec": {
   "display_name": "Python 3",
   "language": "python",
   "name": "python3"
  },
  "language_info": {
   "codemirror_mode": {
    "name": "ipython",
    "version": 2
   },
   "file_extension": ".py",
   "mimetype": "text/x-python",
   "name": "python",
   "nbconvert_exporter": "python",
   "pygments_lexer": "ipython2",
   "version": "2.7.6"
  }
 },
 "nbformat": 4,
 "nbformat_minor": 0
}