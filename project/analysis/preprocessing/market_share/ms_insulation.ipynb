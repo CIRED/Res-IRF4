{
 "cells": [
  {
   "cell_type": "markdown",
   "source": [
    "## Iterative Proportional fitting"
   ],
   "metadata": {
    "collapsed": false,
    "pycharm": {
     "name": "#%% md\n"
    }
   }
  },
  {
   "cell_type": "code",
   "execution_count": 2,
   "outputs": [],
   "source": [
    "import pandas as pd\n",
    "import numpy as np\n"
   ],
   "metadata": {
    "collapsed": false,
    "pycharm": {
     "name": "#%%\n"
    }
   }
  },
  {
   "cell_type": "code",
   "execution_count": 3,
   "outputs": [
    {
     "data": {
      "text/plain": "Wall   Floor  Roof   Windows\nTrue   True   True   False       35145.246407\nFalse  True   True   False        3356.056566\nTrue   True   False  False        1559.094204\n       False  True   False       88720.495408\n              False  False       82471.917883\nFalse  False  True   False      782532.284906\n       True   False  False        1685.144509\nTrue   True   True   True        32147.673467\nFalse  True   True   True        42110.446978\nTrue   True   False  True        11086.666583\n       False  True   True         5717.938288\n              False  True         2876.939109\nFalse  False  True   True         8821.088307\n       True   False  True        60009.792006\n       False  False  True        43791.891007\nName: 0, dtype: float64"
     },
     "execution_count": 3,
     "metadata": {},
     "output_type": "execute_result"
    }
   ],
   "source": [
    "data_tremi = pd.read_csv('insulation.csv', index_col=[0, 1, 2, 3]).squeeze()\n",
    "data_tremi"
   ],
   "metadata": {
    "collapsed": false,
    "pycharm": {
     "name": "#%%\n"
    }
   }
  },
  {
   "cell_type": "code",
   "execution_count": 4,
   "outputs": [
    {
     "data": {
      "text/plain": "Wall   Floor  Roof   Windows\nTrue   True   True   False      0.029238\nFalse  True   True   False      0.002792\nTrue   True   False  False      0.001297\n       False  True   False      0.073809\n              False  False      0.068610\nFalse  False  True   False      0.651007\n       True   False  False      0.001402\nTrue   True   True   True       0.026744\nFalse  True   True   True       0.035033\nTrue   True   False  True       0.009223\n       False  True   True       0.004757\n              False  True       0.002393\nFalse  False  True   True       0.007338\n       True   False  True       0.049924\n       False  False  True       0.036432\ndtype: float64"
     },
     "execution_count": 4,
     "metadata": {},
     "output_type": "execute_result"
    }
   ],
   "source": [
    "market_share = pd.read_csv('market_share_insulation_tremi.csv', index_col=[0, 1, 2, 3]).squeeze().rename(None)\n",
    "market_share"
   ],
   "metadata": {
    "collapsed": false,
    "pycharm": {
     "name": "#%%\n"
    }
   }
  },
  {
   "cell_type": "code",
   "execution_count": 5,
   "outputs": [
    {
     "data": {
      "text/plain": "{'Wall': Wall\n True     102.1\n False    897.9\n dtype: float64,\n 'Floor': Floor\n True     303.8\n False    696.2\n dtype: float64,\n 'Roof': Roof\n True     497.2\n False    502.8\n dtype: float64,\n 'Windows': Windows\n True      96.9\n False    903.1\n dtype: float64}"
     },
     "execution_count": 5,
     "metadata": {},
     "output_type": "execute_result"
    }
   ],
   "source": [
    "ms_cee = dict()\n",
    "ms_cee['Wall'] = pd.Series([0.1021, 1 - 0.1021], index=pd.Index([True, False], name='Wall')) * 1_000\n",
    "ms_cee['Floor'] = pd.Series([0.3038, 1 - 0.3038], index=pd.Index([True, False], name='Floor')) * 1_000\n",
    "ms_cee['Roof'] = pd.Series([0.4972, 1 - 0.4972], index=pd.Index([True, False], name='Roof')) * 1_000\n",
    "ms_cee['Windows'] = pd.Series([0.0969, 1 - 0.0969], index=pd.Index([True, False], name='Windows')) * 1_000\n",
    "ms_cee"
   ],
   "metadata": {
    "collapsed": false,
    "pycharm": {
     "name": "#%%\n"
    }
   }
  },
  {
   "cell_type": "code",
   "execution_count": 6,
   "outputs": [],
   "source": [
    "def ipf_update(M, ms_cee):\n",
    "    for i in M.index.names:\n",
    "        M = ms_cee[i] * M / M.groupby(i).sum()\n",
    "\n",
    "    d = {i: np.linalg.norm(ms_cee[i] - M.groupby(i).sum(), 2) for i in M.index.names}\n",
    "    return M, d"
   ],
   "metadata": {
    "collapsed": false,
    "pycharm": {
     "name": "#%%\n"
    }
   }
  },
  {
   "cell_type": "code",
   "execution_count": 7,
   "outputs": [
    {
     "name": "stdout",
     "output_type": "stream",
     "text": [
      "{'Wall': 138.3583167135311, 'Floor': 222.02490953143857, 'Roof': 398.6193437468762, 'Windows': 1.4210854715202004e-14}\n",
      "{'Wall': 133.50707626953027, 'Floor': 42.526154578684405, 'Roof': 232.52221224127044, 'Windows': 1.4210854715202004e-14}\n",
      "{'Wall': 68.0931835419668, 'Floor': 112.31053023224167, 'Roof': 68.24021444208763, 'Windows': 1.4210854715202004e-14}\n",
      "{'Wall': 55.0568247603812, 'Floor': 125.97726623787538, 'Roof': 10.932318582700045, 'Windows': 1.1368683772161603e-13}\n",
      "{'Wall': 53.388777529953416, 'Floor': 101.54528222728653, 'Roof': 3.203913571650475, 'Windows': 1.4210854715202004e-14}\n",
      "{'Wall': 48.1657593941225, 'Floor': 83.86525781711907, 'Roof': 4.139774883749001, 'Windows': 1.1368683772161603e-13}\n",
      "{'Wall': 42.92803527067386, 'Floor': 72.0101587231646, 'Roof': 5.234198959607468, 'Windows': 0.0}\n",
      "{'Wall': 38.327999469533054, 'Floor': 63.043781536529735, 'Roof': 5.9477319769905606, 'Windows': 1.1368683772161603e-13}\n",
      "{'Wall': 34.25851971699842, 'Floor': 55.779327221625415, 'Roof': 6.399483954797862, 'Windows': 0.0}\n",
      "{'Wall': 30.649720194986546, 'Floor': 49.72515139620876, 'Roof': 6.640970439837706, 'Windows': 1.1457157353758233e-13}\n"
     ]
    }
   ],
   "source": [
    "M = data_tremi.copy()\n",
    "for _ in range(10):\n",
    "    M, d = ipf_update(M, ms_cee)\n",
    "    print(d)"
   ],
   "metadata": {
    "collapsed": false,
    "pycharm": {
     "name": "#%%\n"
    }
   }
  },
  {
   "cell_type": "code",
   "execution_count": 8,
   "outputs": [
    {
     "data": {
      "text/plain": "Wall   Floor  Roof   Windows\nTrue   True   True   False      1.960728e-04\nFalse  True   True   False      2.126667e-03\nTrue   True   False  False      2.267890e-03\n       False  True   False      4.979769e-04\n              False  False      1.206952e-01\nFalse  False  True   False      4.988925e-01\n       True   False  False      2.784237e-01\nTrue   True   True   True       1.007638e-06\nFalse  True   True   True       1.499216e-04\nTrue   True   False  True       9.060551e-05\n       False  True   True       1.803137e-07\n              False  True       2.365477e-05\nFalse  False  True   True       3.159591e-05\n       True   False  True       5.570512e-02\n       False  False  True       4.089791e-02\ndtype: float64"
     },
     "execution_count": 8,
     "metadata": {},
     "output_type": "execute_result"
    }
   ],
   "source": [
    "weight_m = M / M.sum()\n",
    "weight_m"
   ],
   "metadata": {
    "collapsed": false,
    "pycharm": {
     "name": "#%%\n"
    }
   }
  },
  {
   "cell_type": "code",
   "execution_count": 9,
   "outputs": [
    {
     "data": {
      "text/plain": "                                 0        1\nWall  Floor Roof  Windows                  \nTrue  True  True  False   0.000196 0.029238\nFalse True  True  False   0.002127 0.002792\nTrue  True  False False   0.002268 0.001297\n      False True  False   0.000498 0.073809\n            False False   0.120695 0.068610\nFalse False True  False   0.498892 0.651007\n      True  False False   0.278424 0.001402\nTrue  True  True  True    0.000001 0.026744\nFalse True  True  True    0.000150 0.035033\nTrue  True  False True    0.000091 0.009223\n      False True  True    0.000000 0.004757\n            False True    0.000024 0.002393\nFalse False True  True    0.000032 0.007338\n      True  False True    0.055705 0.049924\n      False False True    0.040898 0.036432",
      "text/html": "<div>\n<style scoped>\n    .dataframe tbody tr th:only-of-type {\n        vertical-align: middle;\n    }\n\n    .dataframe tbody tr th {\n        vertical-align: top;\n    }\n\n    .dataframe thead th {\n        text-align: right;\n    }\n</style>\n<table border=\"1\" class=\"dataframe\">\n  <thead>\n    <tr style=\"text-align: right;\">\n      <th></th>\n      <th></th>\n      <th></th>\n      <th></th>\n      <th>0</th>\n      <th>1</th>\n    </tr>\n    <tr>\n      <th>Wall</th>\n      <th>Floor</th>\n      <th>Roof</th>\n      <th>Windows</th>\n      <th></th>\n      <th></th>\n    </tr>\n  </thead>\n  <tbody>\n    <tr>\n      <th>True</th>\n      <th>True</th>\n      <th>True</th>\n      <th>False</th>\n      <td>0.000196</td>\n      <td>0.029238</td>\n    </tr>\n    <tr>\n      <th>False</th>\n      <th>True</th>\n      <th>True</th>\n      <th>False</th>\n      <td>0.002127</td>\n      <td>0.002792</td>\n    </tr>\n    <tr>\n      <th rowspan=\"3\" valign=\"top\">True</th>\n      <th>True</th>\n      <th>False</th>\n      <th>False</th>\n      <td>0.002268</td>\n      <td>0.001297</td>\n    </tr>\n    <tr>\n      <th rowspan=\"2\" valign=\"top\">False</th>\n      <th>True</th>\n      <th>False</th>\n      <td>0.000498</td>\n      <td>0.073809</td>\n    </tr>\n    <tr>\n      <th>False</th>\n      <th>False</th>\n      <td>0.120695</td>\n      <td>0.068610</td>\n    </tr>\n    <tr>\n      <th rowspan=\"2\" valign=\"top\">False</th>\n      <th>False</th>\n      <th>True</th>\n      <th>False</th>\n      <td>0.498892</td>\n      <td>0.651007</td>\n    </tr>\n    <tr>\n      <th>True</th>\n      <th>False</th>\n      <th>False</th>\n      <td>0.278424</td>\n      <td>0.001402</td>\n    </tr>\n    <tr>\n      <th>True</th>\n      <th>True</th>\n      <th>True</th>\n      <th>True</th>\n      <td>0.000001</td>\n      <td>0.026744</td>\n    </tr>\n    <tr>\n      <th>False</th>\n      <th>True</th>\n      <th>True</th>\n      <th>True</th>\n      <td>0.000150</td>\n      <td>0.035033</td>\n    </tr>\n    <tr>\n      <th rowspan=\"3\" valign=\"top\">True</th>\n      <th>True</th>\n      <th>False</th>\n      <th>True</th>\n      <td>0.000091</td>\n      <td>0.009223</td>\n    </tr>\n    <tr>\n      <th rowspan=\"2\" valign=\"top\">False</th>\n      <th>True</th>\n      <th>True</th>\n      <td>0.000000</td>\n      <td>0.004757</td>\n    </tr>\n    <tr>\n      <th>False</th>\n      <th>True</th>\n      <td>0.000024</td>\n      <td>0.002393</td>\n    </tr>\n    <tr>\n      <th rowspan=\"3\" valign=\"top\">False</th>\n      <th>False</th>\n      <th>True</th>\n      <th>True</th>\n      <td>0.000032</td>\n      <td>0.007338</td>\n    </tr>\n    <tr>\n      <th>True</th>\n      <th>False</th>\n      <th>True</th>\n      <td>0.055705</td>\n      <td>0.049924</td>\n    </tr>\n    <tr>\n      <th>False</th>\n      <th>False</th>\n      <th>True</th>\n      <td>0.040898</td>\n      <td>0.036432</td>\n    </tr>\n  </tbody>\n</table>\n</div>"
     },
     "execution_count": 9,
     "metadata": {},
     "output_type": "execute_result"
    }
   ],
   "source": [
    "pd.set_option('display.float_format', lambda x: '%.6f' % x)\n",
    "df = pd.concat((weight_m, market_share), axis=1)\n",
    "df"
   ],
   "metadata": {
    "collapsed": false,
    "pycharm": {
     "name": "#%%\n"
    }
   }
  },
  {
   "cell_type": "code",
   "execution_count": 10,
   "outputs": [],
   "source": [
    "weight_m.to_csv('market_share_insulation_cee.csv')"
   ],
   "metadata": {
    "collapsed": false,
    "pycharm": {
     "name": "#%%\n"
    }
   }
  },
  {
   "cell_type": "markdown",
   "source": [
    "## Ad hoc method\n",
    "\n",
    "We calibrate only number of work with the technology"
   ],
   "metadata": {
    "collapsed": false,
    "pycharm": {
     "name": "#%% md\n"
    }
   }
  },
  {
   "cell_type": "code",
   "execution_count": 46,
   "outputs": [],
   "source": [
    "from scipy.optimize import fsolve\n",
    "from project.utils import reindex_mi"
   ],
   "metadata": {
    "collapsed": false,
    "pycharm": {
     "name": "#%%\n"
    }
   }
  },
  {
   "cell_type": "code",
   "execution_count": 51,
   "outputs": [],
   "source": [
    "def func(coeff, ms, target):\n",
    "    names = ['Wall', 'Floor', 'Roof', 'Windows']\n",
    "    coeff = pd.Series(coeff, index=pd.MultiIndex.from_tuples(((True, False, False, False),\n",
    "                                                              (False, True, False, False),\n",
    "                                                              (False, False, True, False),\n",
    "                                                              (False, False, False, True),\n",
    "                                                                 ), names=names))\n",
    "    ms = reindex_mi(coeff, ms.index).fillna(1) * ms\n",
    "\n",
    "    return np.array([ms.xs(True, level='Wall').sum() / ms.sum() - target[i] for i in names])\n",
    "\n",
    "\n",
    "\n"
   ],
   "metadata": {
    "collapsed": false,
    "pycharm": {
     "name": "#%%\n"
    }
   }
  },
  {
   "cell_type": "code",
   "execution_count": 53,
   "outputs": [],
   "source": [
    "names = ['Wall', 'Floor', 'Roof', 'Windows']\n",
    "coeff = pd.Series(coeff, index=pd.MultiIndex.from_tuples(((True, False, False, False),\n",
    "                                                          (False, True, False, False),\n",
    "                                                          (False, False, True, False),\n",
    "                                                          (False, False, False, True),\n",
    "                                                             ), names=names))\n",
    "ms = reindex_mi(coeff, ms.index).fillna(1) * ms"
   ],
   "metadata": {
    "collapsed": false,
    "pycharm": {
     "name": "#%%\n"
    }
   }
  },
  {
   "cell_type": "code",
   "execution_count": 55,
   "outputs": [
    {
     "data": {
      "text/plain": "Wall   Floor  Roof   Windows\nTrue   True   True   False     0.029238\nFalse  True   True   False     0.002792\nTrue   True   False  False     0.001297\n       False  True   False     0.073809\n              False  False     0.068610\nFalse  False  True   False     0.651007\n       True   False  False     0.001402\nTrue   True   True   True      0.026744\nFalse  True   True   True      0.035033\nTrue   True   False  True      0.009223\n       False  True   True      0.004757\n              False  True      0.002393\nFalse  False  True   True      0.007338\n       True   False  True      0.049924\n       False  False  True      0.036432\ndtype: float64"
     },
     "execution_count": 55,
     "metadata": {},
     "output_type": "execute_result"
    }
   ],
   "source": [
    "ms"
   ],
   "metadata": {
    "collapsed": false,
    "pycharm": {
     "name": "#%%\n"
    }
   }
  },
  {
   "cell_type": "code",
   "execution_count": 52,
   "outputs": [
    {
     "data": {
      "text/plain": "array([ 0.11397231, -0.08772769, -0.28112769,  0.11917231])"
     },
     "execution_count": 52,
     "metadata": {},
     "output_type": "execute_result"
    }
   ],
   "source": [
    "func(x0, ms, target)"
   ],
   "metadata": {
    "collapsed": false,
    "pycharm": {
     "name": "#%%\n"
    }
   }
  },
  {
   "cell_type": "code",
   "execution_count": 50,
   "outputs": [
    {
     "name": "stderr",
     "output_type": "stream",
     "text": [
      "/Users/lucas/opt/anaconda3/envs/DataAnalysis/lib/python3.8/site-packages/scipy/optimize/minpack.py:175: RuntimeWarning: The iteration is not making good progress, as measured by the \n",
      "  improvement from the last ten iterations.\n",
      "  warnings.warn(msg, RuntimeWarning)\n"
     ]
    },
    {
     "data": {
      "text/plain": "array([  227.738232  , 28199.78788353,    49.34108093,  -670.63097305])"
     },
     "execution_count": 50,
     "metadata": {},
     "output_type": "execute_result"
    }
   ],
   "source": [
    "x0 = np.array([1, 1, 1, 1])\n",
    "ms = market_share.copy()\n",
    "target = {'Wall': 0.1021, 'Floor': 0.3038, 'Roof': 0.4972, 'Windows':0.0969 }\n"
   ],
   "metadata": {
    "collapsed": false,
    "pycharm": {
     "name": "#%%\n"
    }
   }
  },
  {
   "cell_type": "code",
   "execution_count": null,
   "outputs": [],
   "source": [],
   "metadata": {
    "collapsed": false,
    "pycharm": {
     "name": "#%%\n"
    }
   }
  }
 ],
 "metadata": {
  "kernelspec": {
   "display_name": "Python 3",
   "language": "python",
   "name": "python3"
  },
  "language_info": {
   "codemirror_mode": {
    "name": "ipython",
    "version": 2
   },
   "file_extension": ".py",
   "mimetype": "text/x-python",
   "name": "python",
   "nbconvert_exporter": "python",
   "pygments_lexer": "ipython2",
   "version": "2.7.6"
  }
 },
 "nbformat": 4,
 "nbformat_minor": 0
}