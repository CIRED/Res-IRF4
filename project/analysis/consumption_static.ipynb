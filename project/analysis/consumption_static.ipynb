{
 "cells": [
  {
   "cell_type": "code",
   "execution_count": 20,
   "outputs": [],
   "source": [
    "import os\n",
    "from pandas import concat\n",
    "from project.model import get_config, config2inputs, initialize"
   ],
   "metadata": {
    "collapsed": false,
    "pycharm": {
     "name": "#%%\n"
    }
   }
  },
  {
   "cell_type": "code",
   "execution_count": 13,
   "outputs": [],
   "source": [
    "path = 'output/static'\n",
    "if not os.path.isdir(path):\n",
    "    os.mkdir(path)"
   ],
   "metadata": {
    "collapsed": false,
    "pycharm": {
     "name": "#%%\n"
    }
   }
  },
  {
   "cell_type": "code",
   "execution_count": 14,
   "outputs": [],
   "source": [
    "config = get_config()\n",
    "inputs, stock, year, policies_heater, policies_insulation, taxes = config2inputs(config)"
   ],
   "metadata": {
    "collapsed": false,
    "pycharm": {
     "name": "#%%\n"
    }
   }
  },
  {
   "cell_type": "code",
   "execution_count": 24,
   "outputs": [
    {
     "name": "stderr",
     "output_type": "stream",
     "text": [
      "2022-09-12 11:27:15,991 - 82727 - log_static - INFO - Creating AgentBuildings object\n",
      "2022-09-12 11:27:15,991 - 82727 - log_static - INFO - Creating AgentBuildings object\n",
      "2022-09-12 11:27:15,991 - 82727 - log_static - INFO - Creating AgentBuildings object\n",
      "2022-09-12 11:27:15,991 - 82727 - log_static - INFO - Creating AgentBuildings object\n"
     ]
    }
   ],
   "source": [
    "buildings, energy_prices, taxes, post_inputs, cost_heater, ms_heater, cost_insulation, ms_intensive, renovation_rate_ini, policies_heater, policies_insulation, flow_built = initialize(inputs, stock, year, policies_heater, policies_insulation, taxes, config, path)"
   ],
   "metadata": {
    "collapsed": false,
    "pycharm": {
     "name": "#%%\n"
    }
   }
  },
  {
   "cell_type": "markdown",
   "source": [
    "Calibration consumption first year"
   ],
   "metadata": {
    "collapsed": false,
    "pycharm": {
     "name": "#%% md\n"
    }
   }
  },
  {
   "cell_type": "code",
   "execution_count": 16,
   "outputs": [],
   "source": [
    "buildings.calculate(energy_prices.loc[buildings.first_year, :], taxes)"
   ],
   "metadata": {
    "collapsed": false,
    "pycharm": {
     "name": "#%%\n"
    }
   }
  },
  {
   "cell_type": "code",
   "execution_count": 17,
   "outputs": [
    {
     "data": {
      "text/plain": "Occupancy status\nOwner-occupied      215.859215\nPrivately rented     43.930221\nSocial-housing       24.210564\ndtype: float64"
     },
     "execution_count": 17,
     "metadata": {},
     "output_type": "execute_result"
    }
   ],
   "source": [
    "buildings.heat_consumption_calib.groupby('Occupancy status').sum() / 10**9"
   ],
   "metadata": {
    "collapsed": false,
    "pycharm": {
     "name": "#%%\n"
    }
   }
  },
  {
   "cell_type": "code",
   "execution_count": 18,
   "outputs": [
    {
     "data": {
      "text/plain": "Income tenant\nD1     15.032809\nD10    40.617638\nD2     18.636928\nD3     23.022021\nD4     26.095221\nD5     28.031194\nD6     29.837408\nD7     31.832969\nD8     34.237591\nD9     36.656221\ndtype: float64"
     },
     "execution_count": 18,
     "metadata": {},
     "output_type": "execute_result"
    }
   ],
   "source": [
    "buildings.heat_consumption_calib.groupby('Income tenant').sum() / 10**9"
   ],
   "metadata": {
    "collapsed": false,
    "pycharm": {
     "name": "#%%\n"
    }
   }
  },
  {
   "cell_type": "code",
   "execution_count": 19,
   "outputs": [
    {
     "data": {
      "text/plain": "Existing  Occupancy status  Income owner  Income tenant  Housing type   Heating system                  Wall  Floor  Roof  Windows\nTrue      Owner-occupied    D1            D1             Multi-family   Electricity-Heat pump           0.2   0.0    0.0   1.3        1.864209e+06\n                                                                        Electricity-Performance boiler  0.3   0.0    0.0   4.5        3.221438e+07\n                                                                                                        0.5   0.0    0.0   2.4        5.104295e+07\n                                                                                                        0.6   0.0    0.0   6.7        1.402981e+08\n                                                                        Electricity-Heat pump           1.2   0.0    0.0   2.9        1.713163e+07\n                                                                                                                                          ...     \n          Social-housing    D10           D9             Single-family  Wood fuel-Standard boiler       0.9   1.4    1.7   1.3        2.602119e+05\n                                                                                                        1.7   0.4    0.6   3.1        8.891915e+05\n                                                                                                        2.0   2.2    0.2   5.3        1.957733e+05\n                                                                        Wood fuel-Performance boiler    2.2   1.4    0.3   4.4        2.611369e+05\n                                                                        Wood fuel-Standard boiler       2.5   0.5    2.1   4.2        4.125359e+05\nLength: 9720, dtype: float64"
     },
     "execution_count": 19,
     "metadata": {},
     "output_type": "execute_result"
    }
   ],
   "source": [
    "buildings.heat_consumption_sd"
   ],
   "metadata": {
    "collapsed": false,
    "pycharm": {
     "name": "#%%\n"
    }
   }
  },
  {
   "cell_type": "code",
   "execution_count": 21,
   "outputs": [],
   "source": [
    "buildings.cost_insulation_indiv"
   ],
   "metadata": {
    "collapsed": false,
    "pycharm": {
     "name": "#%%\n"
    }
   }
  },
  {
   "cell_type": "code",
   "execution_count": 22,
   "outputs": [
    {
     "data": {
      "text/plain": "Existing  Occupancy status  Income owner  Income tenant  Housing type   Heating system                  Wall  Floor  Roof  Windows\nTrue      Owner-occupied    D1            D1             Multi-family   Electricity-Heat pump           0.2   0.0    0.0   1.3        1.733187e+06\n                                                                        Electricity-Performance boiler  0.3   0.0    0.0   4.5        1.819214e+07\n                                                                                                        0.5   0.0    0.0   2.4        3.020963e+07\n                                                                                                        0.6   0.0    0.0   6.7        6.709251e+07\n                                                                        Electricity-Heat pump           1.2   0.0    0.0   2.9        1.171832e+07\n                                                                                                                                          ...     \n          Social-housing    D10           D9             Single-family  Wood fuel-Standard boiler       0.9   1.4    1.7   1.3        2.102346e+05\n                                                                                                        1.7   0.4    0.6   3.1        7.516676e+05\n                                                                                                        2.0   2.2    0.2   5.3        1.500809e+05\n                                                                        Wood fuel-Performance boiler    2.2   1.4    0.3   4.4        2.106846e+05\n                                                                        Wood fuel-Standard boiler       2.5   0.5    2.1   4.2        3.067055e+05\nLength: 9720, dtype: float64"
     },
     "execution_count": 22,
     "metadata": {},
     "output_type": "execute_result"
    }
   ],
   "source": [
    "buildings.heat_consumption"
   ],
   "metadata": {
    "collapsed": false,
    "pycharm": {
     "name": "#%%\n"
    }
   }
  },
  {
   "cell_type": "code",
   "execution_count": null,
   "outputs": [],
   "source": [],
   "metadata": {
    "collapsed": false,
    "pycharm": {
     "name": "#%%\n"
    }
   }
  }
 ],
 "metadata": {
  "kernelspec": {
   "display_name": "Python 3",
   "language": "python",
   "name": "python3"
  },
  "language_info": {
   "codemirror_mode": {
    "name": "ipython",
    "version": 2
   },
   "file_extension": ".py",
   "mimetype": "text/x-python",
   "name": "python",
   "nbconvert_exporter": "python",
   "pygments_lexer": "ipython2",
   "version": "2.7.6"
  }
 },
 "nbformat": 4,
 "nbformat_minor": 0
}