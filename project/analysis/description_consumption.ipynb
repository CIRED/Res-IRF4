{
 "cells": [
  {
   "cell_type": "code",
   "execution_count": 25,
   "outputs": [],
   "source": [
    "import os\n",
    "\n",
    "from project.model import get_inputs"
   ],
   "metadata": {
    "collapsed": false,
    "pycharm": {
     "name": "#%%\n"
    }
   }
  },
  {
   "cell_type": "code",
   "execution_count": 3,
   "outputs": [],
   "source": [
    "path = 'output/static'\n",
    "if not os.path.isdir(path):\n",
    "    os.mkdir(path)"
   ],
   "metadata": {
    "collapsed": false,
    "pycharm": {
     "name": "#%%\n"
    }
   }
  },
  {
   "cell_type": "code",
   "execution_count": 4,
   "outputs": [],
   "source": [
    "output = 'output/description_stock'\n",
    "if not os.path.isdir(output):\n",
    "    os.mkdir(output)"
   ],
   "metadata": {
    "collapsed": false,
    "pycharm": {
     "name": "#%%\n"
    }
   }
  },
  {
   "cell_type": "markdown",
   "source": [
    "## Loading inputs\n",
    "Inputs come from the reference scenario."
   ],
   "metadata": {
    "collapsed": false,
    "pycharm": {
     "name": "#%% md\n"
    }
   }
  },
  {
   "cell_type": "code",
   "execution_count": 5,
   "outputs": [
    {
     "name": "stderr",
     "output_type": "stream",
     "text": [
      "2022-09-30 15:55:53,368 - 25179 - log_static - INFO - Creating AgentBuildings object\n"
     ]
    }
   ],
   "source": [
    "output = get_inputs(path)"
   ],
   "metadata": {
    "collapsed": false,
    "pycharm": {
     "name": "#%%\n"
    }
   }
  },
  {
   "cell_type": "code",
   "execution_count": 11,
   "outputs": [],
   "source": [
    "buildings = output['buildings']\n",
    "energy_prices = output['energy_prices']\n",
    "cost_insulation = output['cost_insulation']\n",
    "carbon_emission = output['carbon_emission']\n",
    "carbon_value_kwh = output['carbon_value_kwh']"
   ],
   "metadata": {
    "collapsed": false,
    "pycharm": {
     "name": "#%%\n"
    }
   }
  },
  {
   "cell_type": "code",
   "execution_count": 7,
   "outputs": [],
   "source": [
    "stock = buildings.simplified_stock()"
   ],
   "metadata": {
    "collapsed": false,
    "pycharm": {
     "name": "#%%\n"
    }
   }
  },
  {
   "cell_type": "code",
   "execution_count": 12,
   "outputs": [],
   "source": [
    "output = buildings.mitigation_potential(energy_prices, cost_insulation, carbon_emission, carbon_value_kwh)"
   ],
   "metadata": {
    "collapsed": false,
    "pycharm": {
     "name": "#%%\n"
    }
   }
  },
  {
   "cell_type": "markdown",
   "source": [
    "## Consumption"
   ],
   "metadata": {
    "collapsed": false,
    "pycharm": {
     "name": "#%% md\n"
    }
   }
  },
  {
   "cell_type": "code",
   "execution_count": 15,
   "outputs": [
    {
     "name": "stdout",
     "output_type": "stream",
     "text": [
      "Surface of the building stock: 2,263 Million m2\n"
     ]
    }
   ],
   "source": [
    "total_surface = (buildings.surface * buildings.stock).sum()\n",
    "print('Surface of the building stock: {:,.0f} Million m2'.format(total_surface / 10**6))"
   ],
   "metadata": {
    "collapsed": false,
    "pycharm": {
     "name": "#%%\n"
    }
   }
  },
  {
   "cell_type": "code",
   "execution_count": 16,
   "outputs": [
    {
     "name": "stdout",
     "output_type": "stream",
     "text": [
      "Actual space heating consumption (Res-IRF scope): 234 TWh\n",
      "Conventional space heating consumption: 338 TWh\n"
     ]
    }
   ],
   "source": [
    "consumption_total_before = output['Consumption actual before (kWh/segment)'].sum()\n",
    "print('Actual space heating consumption (Res-IRF scope): {:,.0f} TWh'.format(consumption_total_before / 10**9))\n",
    "\n",
    "consumption_standard_before = output['Consumption before (kWh/segment)'].sum()\n",
    "print('Conventional space heating consumption: {:,.0f} TWh'.format(consumption_standard_before / 10**9))"
   ],
   "metadata": {
    "collapsed": false,
    "pycharm": {
     "name": "#%%\n"
    }
   }
  },
  {
   "cell_type": "markdown",
   "source": [
    "##### kWh/m2 distribution by building"
   ],
   "metadata": {
    "collapsed": false,
    "pycharm": {
     "name": "#%% md\n"
    }
   }
  },
  {
   "cell_type": "code",
   "execution_count": 20,
   "outputs": [
    {
     "name": "stdout",
     "output_type": "stream",
     "text": [
      "Average actual space heating consumption 103 kWh/m2\n",
      "Average conventional space heating consumption 149 kWh/m2\n"
     ]
    }
   ],
   "source": [
    "print('Average actual space heating consumption: {:.0f} kWh/m2'.format(output['Consumption actual before (kWh/segment)'].sum() / total_surface))\n",
    "\n",
    "print('Average conventional space heating consumption: {:.0f} kWh/m2'.format(output['Consumption before (kWh/segment)'].sum() / total_surface))"
   ],
   "metadata": {
    "collapsed": false,
    "pycharm": {
     "name": "#%%\n"
    }
   }
  },
  {
   "cell_type": "code",
   "execution_count": 22,
   "outputs": [
    {
     "data": {
      "text/plain": "count    9720.000000\nmean      215.701190\nstd       124.129797\nmin        11.276028\n25%       116.377269\n50%       179.741310\n75%       312.322340\nmax       555.769712\ndtype: float64"
     },
     "execution_count": 22,
     "metadata": {},
     "output_type": "execute_result"
    }
   ],
   "source": [
    "(output['Consumption before (kWh/dwelling)'] / buildings.surface).describe()"
   ],
   "metadata": {
    "collapsed": false,
    "pycharm": {
     "name": "#%%\n"
    }
   }
  },
  {
   "cell_type": "markdown",
   "source": [
    "##### kWh/building distribution"
   ],
   "metadata": {
    "collapsed": false,
    "pycharm": {
     "name": "#%% md\n"
    }
   }
  },
  {
   "cell_type": "code",
   "execution_count": 24,
   "outputs": [
    {
     "name": "stdout",
     "output_type": "stream",
     "text": [
      "count     9720.000000\n",
      "mean     11413.793317\n",
      "std       6413.162606\n",
      "min        598.711227\n",
      "25%       6357.366932\n",
      "50%      10269.719646\n",
      "75%      15796.531419\n",
      "max      37649.856234\n",
      "dtype: float64\n"
     ]
    }
   ],
   "source": [
    "print(output['Consumption actual before (kWh/dwelling)'].describe())\n",
    "# output['Consumption actual before (kWh/dwelling)'].rename('Consumption (kWh/dwelling)').plot.box()"
   ],
   "metadata": {
    "collapsed": false,
    "pycharm": {
     "name": "#%%\n"
    }
   }
  },
  {
   "cell_type": "code",
   "execution_count": null,
   "outputs": [],
   "source": [],
   "metadata": {
    "collapsed": false,
    "pycharm": {
     "name": "#%%\n"
    }
   }
  }
 ],
 "metadata": {
  "kernelspec": {
   "display_name": "Python 3 (ipykernel)",
   "language": "python",
   "name": "python3"
  },
  "language_info": {
   "codemirror_mode": {
    "name": "ipython",
    "version": 3
   },
   "file_extension": ".py",
   "mimetype": "text/x-python",
   "name": "python",
   "nbconvert_exporter": "python",
   "pygments_lexer": "ipython3",
   "version": "3.8.13"
  },
  "toc": {
   "base_numbering": 1,
   "nav_menu": {},
   "number_sections": true,
   "sideBar": true,
   "skip_h1_title": false,
   "title_cell": "Table of Contents",
   "title_sidebar": "Contents",
   "toc_cell": false,
   "toc_position": {},
   "toc_section_display": true,
   "toc_window_display": false
  },
  "varInspector": {
   "cols": {
    "lenName": 16,
    "lenType": 16,
    "lenVar": 40
   },
   "kernels_config": {
    "python": {
     "delete_cmd_postfix": "",
     "delete_cmd_prefix": "del ",
     "library": "var_list.py",
     "varRefreshCmd": "print(var_dic_list())"
    },
    "r": {
     "delete_cmd_postfix": ") ",
     "delete_cmd_prefix": "rm(",
     "library": "var_list.r",
     "varRefreshCmd": "cat(var_dic_list()) "
    }
   },
   "types_to_exclude": [
    "module",
    "function",
    "builtin_function_or_method",
    "instance",
    "_Feature"
   ],
   "window_display": false
  }
 },
 "nbformat": 4,
 "nbformat_minor": 1
}