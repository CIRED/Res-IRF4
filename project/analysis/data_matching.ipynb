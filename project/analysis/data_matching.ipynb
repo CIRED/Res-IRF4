{
 "cells": [
  {
   "cell_type": "code",
   "execution_count": 135,
   "metadata": {
    "collapsed": true
   },
   "outputs": [],
   "source": [
    "from project.utils import get_pandas\n",
    "import pandas as pd\n",
    "import os"
   ]
  },
  {
   "cell_type": "markdown",
   "source": [
    "# Merging SDES database with Profeel to get households information\n",
    "The method is to match the sdes archetypes to a Profeel one according to the values for the three index levels: Housing types, Energy performance, heating energy.\n",
    "And then we calculate among a group the weight of the sdes archetypes in terms of their sdes's size estimate. Finally, this weights allow us to get the size of each lines in terms of Profeel stock.\n",
    "\n",
    "The merging rule is to conserve, from the database of origin (SDES), the proportions of each household characteristics among a group of buildings which have same basic building characteristics.\n",
    "\n",
    "To be change:\n",
    "- We can choose another profeel database, with no ventilation or with other energy performance estimates for example\n",
    "- We can put the output in another place than analysis/preprocessing/building stock/output"
   ],
   "metadata": {
    "collapsed": false
   }
  },
  {
   "cell_type": "code",
   "execution_count": 136,
   "outputs": [],
   "source": [
    "profeel = get_pandas('project/input/stock/building_stock_profeel_vent.csv', lambda x: pd.read_csv(x, index_col=[1]).squeeze())\n",
    "sdes = get_pandas('project/input/stock/building_stock_sdes2018_aggregated.csv', lambda x: pd.read_csv(x, index_col=[0, 1, 2]).squeeze())\n",
    "\n",
    "profeel = profeel.rename(columns={'calculated_epc':'Energy performance'})\n",
    "profeel['Heating energy'] = profeel['Heating system'].str.split('-').str[0]\n",
    "profeel = profeel.set_index(['Heating energy', 'Energy performance'], append=True)"
   ],
   "metadata": {
    "collapsed": false
   }
  },
  {
   "cell_type": "code",
   "execution_count": 137,
   "outputs": [
    {
     "data": {
      "text/plain": "                                                                                  Heating system  \\\nHousing type  Energy performance Heating energy r_position Class                                   \nSingle-family F                  Wood fuel      0          MI-1        Wood fuel-Standard boiler   \n                                                1          MI-1        Wood fuel-Standard boiler   \n                                                2          MI-1        Wood fuel-Standard boiler   \n                                                3          MI-1        Wood fuel-Standard boiler   \n                                                4          MI-1        Wood fuel-Standard boiler   \n...                                                                                          ...   \nMulti-family  B                  Electricity    4675       LC24   Electricity-Performance boiler   \n                                                4676       LC24   Electricity-Performance boiler   \n                                                4677       LC24   Electricity-Performance boiler   \n                                                4678       LC24   Electricity-Performance boiler   \n                                                4679       LC24   Electricity-Performance boiler   \n\n                                                                  Wall  Floor  \\\nHousing type  Energy performance Heating energy r_position Class                \nSingle-family F                  Wood fuel      0          MI-1   2.50   2.00   \n                                                1          MI-1   2.50   2.00   \n                                                2          MI-1   2.50   2.00   \n                                                3          MI-1   2.50   2.00   \n                                                4          MI-1   2.50   2.00   \n...                                                                ...    ...   \nMulti-family  B                  Electricity    4675       LC24   0.34   0.25   \n                                                4676       LC24   0.34   0.25   \n                                                4677       LC24   0.34   0.25   \n                                                4678       LC24   0.34   0.25   \n                                                4679       LC24   0.34   0.25   \n\n                                                                  Roof  \\\nHousing type  Energy performance Heating energy r_position Class         \nSingle-family F                  Wood fuel      0          MI-1    2.5   \n                                                1          MI-1    2.5   \n                                                2          MI-1    2.5   \n                                                3          MI-1    2.5   \n                                                4          MI-1    2.5   \n...                                                                ...   \nMulti-family  B                  Electricity    4675       LC24    0.2   \n                                                4676       LC24    0.2   \n                                                4677       LC24    0.2   \n                                                4678       LC24    0.2   \n                                                4679       LC24    0.2   \n\n                                                                  Windows  \\\nHousing type  Energy performance Heating energy r_position Class            \nSingle-family F                  Wood fuel      0          MI-1       2.4   \n                                                1          MI-1       2.4   \n                                                2          MI-1       2.4   \n                                                3          MI-1       2.4   \n                                                4          MI-1       2.4   \n...                                                                   ...   \nMulti-family  B                  Electricity    4675       LC24       1.6   \n                                                4676       LC24       1.6   \n                                                4677       LC24       1.6   \n                                                4678       LC24       1.6   \n                                                4679       LC24       1.6   \n\n                                                                  Ventilation  \\\nHousing type  Energy performance Heating energy r_position Class                \nSingle-family F                  Wood fuel      0          MI-1           0.4   \n                                                1          MI-1           0.4   \n                                                2          MI-1           0.4   \n                                                3          MI-1           0.4   \n                                                4          MI-1           0.4   \n...                                                                       ...   \nMulti-family  B                  Electricity    4675       LC24           0.2   \n                                                4676       LC24           0.2   \n                                                4677       LC24           0.2   \n                                                4678       LC24           0.2   \n                                                4679       LC24           0.2   \n\n                                                                  Efficiency  \\\nHousing type  Energy performance Heating energy r_position Class               \nSingle-family F                  Wood fuel      0          MI-1         0.75   \n                                                1          MI-1         0.75   \n                                                2          MI-1         0.75   \n                                                3          MI-1         0.75   \n                                                4          MI-1         0.75   \n...                                                                      ...   \nMulti-family  B                  Electricity    4675       LC24         0.95   \n                                                4676       LC24         0.95   \n                                                4677       LC24         0.95   \n                                                4678       LC24         0.95   \n                                                4679       LC24         0.95   \n\n                                                                  energy_primary  \\\nHousing type  Energy performance Heating energy r_position Class                   \nSingle-family F                  Wood fuel      0          MI-1       423.726894   \n                                                1          MI-1       423.726894   \n                                                2          MI-1       423.726894   \n                                                3          MI-1       423.726894   \n                                                4          MI-1       423.726894   \n...                                                                          ...   \nMulti-family  B                  Electricity    4675       LC24        88.607812   \n                                                4676       LC24        88.607812   \n                                                4677       LC24        88.607812   \n                                                4678       LC24        88.607812   \n                                                4679       LC24        88.607812   \n\n                                                                  Occupancy status  \\\nHousing type  Energy performance Heating energy r_position Class                     \nSingle-family F                  Wood fuel      0          MI-1     Social-housing   \n                                                1          MI-1     Owner-occupied   \n                                                2          MI-1     Social-housing   \n                                                3          MI-1     Owner-occupied   \n                                                4          MI-1     Social-housing   \n...                                                                            ...   \nMulti-family  B                  Electricity    4675       LC24   Privately rented   \n                                                4676       LC24   Privately rented   \n                                                4677       LC24   Privately rented   \n                                                4678       LC24   Privately rented   \n                                                4679       LC24   Privately rented   \n\n                                                                 Income owner  \\\nHousing type  Energy performance Heating energy r_position Class                \nSingle-family F                  Wood fuel      0          MI-1           D10   \n                                                1          MI-1            D1   \n                                                2          MI-1           D10   \n                                                3          MI-1            D2   \n                                                4          MI-1           D10   \n...                                                                       ...   \nMulti-family  B                  Electricity    4675       LC24            D5   \n                                                4676       LC24            D6   \n                                                4677       LC24            D7   \n                                                4678       LC24            D8   \n                                                4679       LC24            D9   \n\n                                                                 Income tenant  \\\nHousing type  Energy performance Heating energy r_position Class                 \nSingle-family F                  Wood fuel      0          MI-1             D1   \n                                                1          MI-1             D1   \n                                                2          MI-1             D2   \n                                                3          MI-1             D2   \n                                                4          MI-1             D3   \n...                                                                        ...   \nMulti-family  B                  Electricity    4675       LC24            D10   \n                                                4676       LC24            D10   \n                                                4677       LC24            D10   \n                                                4678       LC24            D10   \n                                                4679       LC24            D10   \n\n                                                                  Stock buildings  \nHousing type  Energy performance Heating energy r_position Class                   \nSingle-family F                  Wood fuel      0          MI-1        957.121031  \n                                                1          MI-1      35153.671754  \n                                                2          MI-1       1189.894764  \n                                                3          MI-1      45195.093973  \n                                                4          MI-1       1012.741570  \n...                                                                           ...  \nMulti-family  B                  Electricity    4675       LC24       2483.498169  \n                                                4676       LC24       3367.205202  \n                                                4677       LC24       4713.874646  \n                                                4678       LC24       7331.216560  \n                                                4679       LC24      13547.129060  \n\n[4680 rows x 12 columns]",
      "text/html": "<div>\n<style scoped>\n    .dataframe tbody tr th:only-of-type {\n        vertical-align: middle;\n    }\n\n    .dataframe tbody tr th {\n        vertical-align: top;\n    }\n\n    .dataframe thead th {\n        text-align: right;\n    }\n</style>\n<table border=\"1\" class=\"dataframe\">\n  <thead>\n    <tr style=\"text-align: right;\">\n      <th></th>\n      <th></th>\n      <th></th>\n      <th></th>\n      <th></th>\n      <th>Heating system</th>\n      <th>Wall</th>\n      <th>Floor</th>\n      <th>Roof</th>\n      <th>Windows</th>\n      <th>Ventilation</th>\n      <th>Efficiency</th>\n      <th>energy_primary</th>\n      <th>Occupancy status</th>\n      <th>Income owner</th>\n      <th>Income tenant</th>\n      <th>Stock buildings</th>\n    </tr>\n    <tr>\n      <th>Housing type</th>\n      <th>Energy performance</th>\n      <th>Heating energy</th>\n      <th>r_position</th>\n      <th>Class</th>\n      <th></th>\n      <th></th>\n      <th></th>\n      <th></th>\n      <th></th>\n      <th></th>\n      <th></th>\n      <th></th>\n      <th></th>\n      <th></th>\n      <th></th>\n      <th></th>\n    </tr>\n  </thead>\n  <tbody>\n    <tr>\n      <th rowspan=\"5\" valign=\"top\">Single-family</th>\n      <th rowspan=\"5\" valign=\"top\">F</th>\n      <th rowspan=\"5\" valign=\"top\">Wood fuel</th>\n      <th>0</th>\n      <th>MI-1</th>\n      <td>Wood fuel-Standard boiler</td>\n      <td>2.50</td>\n      <td>2.00</td>\n      <td>2.5</td>\n      <td>2.4</td>\n      <td>0.4</td>\n      <td>0.75</td>\n      <td>423.726894</td>\n      <td>Social-housing</td>\n      <td>D10</td>\n      <td>D1</td>\n      <td>957.121031</td>\n    </tr>\n    <tr>\n      <th>1</th>\n      <th>MI-1</th>\n      <td>Wood fuel-Standard boiler</td>\n      <td>2.50</td>\n      <td>2.00</td>\n      <td>2.5</td>\n      <td>2.4</td>\n      <td>0.4</td>\n      <td>0.75</td>\n      <td>423.726894</td>\n      <td>Owner-occupied</td>\n      <td>D1</td>\n      <td>D1</td>\n      <td>35153.671754</td>\n    </tr>\n    <tr>\n      <th>2</th>\n      <th>MI-1</th>\n      <td>Wood fuel-Standard boiler</td>\n      <td>2.50</td>\n      <td>2.00</td>\n      <td>2.5</td>\n      <td>2.4</td>\n      <td>0.4</td>\n      <td>0.75</td>\n      <td>423.726894</td>\n      <td>Social-housing</td>\n      <td>D10</td>\n      <td>D2</td>\n      <td>1189.894764</td>\n    </tr>\n    <tr>\n      <th>3</th>\n      <th>MI-1</th>\n      <td>Wood fuel-Standard boiler</td>\n      <td>2.50</td>\n      <td>2.00</td>\n      <td>2.5</td>\n      <td>2.4</td>\n      <td>0.4</td>\n      <td>0.75</td>\n      <td>423.726894</td>\n      <td>Owner-occupied</td>\n      <td>D2</td>\n      <td>D2</td>\n      <td>45195.093973</td>\n    </tr>\n    <tr>\n      <th>4</th>\n      <th>MI-1</th>\n      <td>Wood fuel-Standard boiler</td>\n      <td>2.50</td>\n      <td>2.00</td>\n      <td>2.5</td>\n      <td>2.4</td>\n      <td>0.4</td>\n      <td>0.75</td>\n      <td>423.726894</td>\n      <td>Social-housing</td>\n      <td>D10</td>\n      <td>D3</td>\n      <td>1012.741570</td>\n    </tr>\n    <tr>\n      <th>...</th>\n      <th>...</th>\n      <th>...</th>\n      <th>...</th>\n      <th>...</th>\n      <td>...</td>\n      <td>...</td>\n      <td>...</td>\n      <td>...</td>\n      <td>...</td>\n      <td>...</td>\n      <td>...</td>\n      <td>...</td>\n      <td>...</td>\n      <td>...</td>\n      <td>...</td>\n      <td>...</td>\n    </tr>\n    <tr>\n      <th rowspan=\"5\" valign=\"top\">Multi-family</th>\n      <th rowspan=\"5\" valign=\"top\">B</th>\n      <th rowspan=\"5\" valign=\"top\">Electricity</th>\n      <th>4675</th>\n      <th>LC24</th>\n      <td>Electricity-Performance boiler</td>\n      <td>0.34</td>\n      <td>0.25</td>\n      <td>0.2</td>\n      <td>1.6</td>\n      <td>0.2</td>\n      <td>0.95</td>\n      <td>88.607812</td>\n      <td>Privately rented</td>\n      <td>D5</td>\n      <td>D10</td>\n      <td>2483.498169</td>\n    </tr>\n    <tr>\n      <th>4676</th>\n      <th>LC24</th>\n      <td>Electricity-Performance boiler</td>\n      <td>0.34</td>\n      <td>0.25</td>\n      <td>0.2</td>\n      <td>1.6</td>\n      <td>0.2</td>\n      <td>0.95</td>\n      <td>88.607812</td>\n      <td>Privately rented</td>\n      <td>D6</td>\n      <td>D10</td>\n      <td>3367.205202</td>\n    </tr>\n    <tr>\n      <th>4677</th>\n      <th>LC24</th>\n      <td>Electricity-Performance boiler</td>\n      <td>0.34</td>\n      <td>0.25</td>\n      <td>0.2</td>\n      <td>1.6</td>\n      <td>0.2</td>\n      <td>0.95</td>\n      <td>88.607812</td>\n      <td>Privately rented</td>\n      <td>D7</td>\n      <td>D10</td>\n      <td>4713.874646</td>\n    </tr>\n    <tr>\n      <th>4678</th>\n      <th>LC24</th>\n      <td>Electricity-Performance boiler</td>\n      <td>0.34</td>\n      <td>0.25</td>\n      <td>0.2</td>\n      <td>1.6</td>\n      <td>0.2</td>\n      <td>0.95</td>\n      <td>88.607812</td>\n      <td>Privately rented</td>\n      <td>D8</td>\n      <td>D10</td>\n      <td>7331.216560</td>\n    </tr>\n    <tr>\n      <th>4679</th>\n      <th>LC24</th>\n      <td>Electricity-Performance boiler</td>\n      <td>0.34</td>\n      <td>0.25</td>\n      <td>0.2</td>\n      <td>1.6</td>\n      <td>0.2</td>\n      <td>0.95</td>\n      <td>88.607812</td>\n      <td>Privately rented</td>\n      <td>D9</td>\n      <td>D10</td>\n      <td>13547.129060</td>\n    </tr>\n  </tbody>\n</table>\n<p>4680 rows × 12 columns</p>\n</div>"
     },
     "execution_count": 137,
     "metadata": {},
     "output_type": "execute_result"
    }
   ],
   "source": [
    "merged = profeel.merge(sdes, how='inner', on=['Housing type', 'Energy performance', 'Heating energy'])\n",
    "# Adding a row specific index level\n",
    "r_position = pd.Series(range(0,merged.shape[0]), name='r_position')\n",
    "merged = merged.set_index(r_position, append=True)\n",
    "\n",
    "# Weight of each lines in terms of sdes's sizes (y) among a profeel archetype uniquely define by its class label\n",
    "merged = merged.set_index('Class', append=True)\n",
    "merged['Stock buildings_y'] = merged['Stock buildings_y'].T / merged.groupby(level='Class')['Stock buildings_y'].sum()\n",
    "\n",
    "# Multiplying the weights to the profeel's stocks (x)\n",
    "merged['Stock buildings'] = (merged['Stock buildings_y'].T * merged['Stock buildings_x']).T\n",
    "cleaned = merged.drop(labels=['Stock buildings_x', 'Stock buildings_y'], axis=1)\n",
    "cleaned"
   ],
   "metadata": {
    "collapsed": false
   }
  },
  {
   "cell_type": "code",
   "execution_count": 138,
   "outputs": [
    {
     "name": "stdout",
     "output_type": "stream",
     "text": [
      "profeel building stock: 35172600\n",
      "sdes building stock: 26698690.691502385\n",
      "The number of new lines for each profeel archetypes: 120.0\n",
      "merged building stock: 35172600.0\n",
      "output building stock: 35172600.0\n",
      "building stock loss: 0.0\n"
     ]
    }
   ],
   "source": [
    "# Checks\n",
    "print(\"profeel building stock: {}\".format(profeel['Stock buildings'].sum()))\n",
    "print(\"sdes building stock: {}\".format(sdes['Stock buildings'].sum()))\n",
    "print(\"The number of new lines for each profeel archetypes: {}\".format(merged.shape[0]/profeel.shape[0]))\n",
    "print(\"merged building stock: {}\".format(merged['Stock buildings_x'].sum()/(merged.shape[0]/profeel.shape[0])))\n",
    "print(\"output building stock: {}\".format(cleaned['Stock buildings'].sum()))\n",
    "print(\"building stock loss: {}\".format(profeel['Stock buildings'].sum() - cleaned['Stock buildings'].sum()))"
   ],
   "metadata": {
    "collapsed": false
   }
  },
  {
   "cell_type": "code",
   "execution_count": 139,
   "outputs": [],
   "source": [
    "path_output = os.path.join(os.getcwd(), 'preprocessing/building_stock/output')\n",
    "cleaned.to_csv(os.path.join(path_output, 'building_stock_profeel_hhdata.csv'))"
   ],
   "metadata": {
    "collapsed": false
   }
  }
 ],
 "metadata": {
  "kernelspec": {
   "display_name": "Python 3",
   "language": "python",
   "name": "python3"
  },
  "language_info": {
   "codemirror_mode": {
    "name": "ipython",
    "version": 2
   },
   "file_extension": ".py",
   "mimetype": "text/x-python",
   "name": "python",
   "nbconvert_exporter": "python",
   "pygments_lexer": "ipython2",
   "version": "2.7.6"
  }
 },
 "nbformat": 4,
 "nbformat_minor": 0
}
