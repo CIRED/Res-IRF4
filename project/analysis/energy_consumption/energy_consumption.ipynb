{
 "cells": [
  {
   "cell_type": "markdown",
   "source": [
    "Comparing conventional energy consumption for different building stock"
   ],
   "metadata": {
    "collapsed": false,
    "pycharm": {
     "name": "#%% md\n"
    }
   }
  },
  {
   "cell_type": "code",
   "execution_count": 2,
   "outputs": [],
   "source": [
    "import pandas as pd\n",
    "\n",
    "from project.model import get_inputs\n"
   ],
   "metadata": {
    "collapsed": false,
    "pycharm": {
     "name": "#%%\n"
    }
   }
  },
  {
   "cell_type": "code",
   "execution_count": 12,
   "outputs": [
    {
     "name": "stderr",
     "output_type": "stream",
     "text": [
      "2022-11-16 14:09:33,256 - 94404 - log_ - INFO - Creating AgentBuildings object\n",
      "2022-11-16 14:09:33,256 - 94404 - log_ - INFO - Creating AgentBuildings object\n",
      "2022-11-16 14:09:33,885 - 94404 - log_ - INFO - Creating AgentBuildings object\n",
      "2022-11-16 14:09:33,885 - 94404 - log_ - INFO - Creating AgentBuildings object\n",
      "2022-11-16 14:09:33,885 - 94404 - log_ - INFO - Creating AgentBuildings object\n",
      "2022-11-16 14:09:34,407 - 94404 - log_ - INFO - Creating AgentBuildings object\n",
      "2022-11-16 14:09:34,407 - 94404 - log_ - INFO - Creating AgentBuildings object\n",
      "2022-11-16 14:09:34,407 - 94404 - log_ - INFO - Creating AgentBuildings object\n",
      "2022-11-16 14:09:34,407 - 94404 - log_ - INFO - Creating AgentBuildings object\n",
      "2022-11-16 14:09:34,912 - 94404 - log_ - INFO - Creating AgentBuildings object\n",
      "2022-11-16 14:09:34,912 - 94404 - log_ - INFO - Creating AgentBuildings object\n",
      "2022-11-16 14:09:34,912 - 94404 - log_ - INFO - Creating AgentBuildings object\n",
      "2022-11-16 14:09:34,912 - 94404 - log_ - INFO - Creating AgentBuildings object\n",
      "2022-11-16 14:09:34,912 - 94404 - log_ - INFO - Creating AgentBuildings object\n",
      "2022-11-16 14:09:35,311 - 94404 - log_ - INFO - Creating AgentBuildings object\n",
      "2022-11-16 14:09:35,311 - 94404 - log_ - INFO - Creating AgentBuildings object\n",
      "2022-11-16 14:09:35,311 - 94404 - log_ - INFO - Creating AgentBuildings object\n",
      "2022-11-16 14:09:35,311 - 94404 - log_ - INFO - Creating AgentBuildings object\n",
      "2022-11-16 14:09:35,311 - 94404 - log_ - INFO - Creating AgentBuildings object\n",
      "2022-11-16 14:09:35,311 - 94404 - log_ - INFO - Creating AgentBuildings object\n",
      "2022-11-16 14:09:35,797 - 94404 - log_ - INFO - Creating AgentBuildings object\n",
      "2022-11-16 14:09:35,797 - 94404 - log_ - INFO - Creating AgentBuildings object\n",
      "2022-11-16 14:09:35,797 - 94404 - log_ - INFO - Creating AgentBuildings object\n",
      "2022-11-16 14:09:35,797 - 94404 - log_ - INFO - Creating AgentBuildings object\n",
      "2022-11-16 14:09:35,797 - 94404 - log_ - INFO - Creating AgentBuildings object\n",
      "2022-11-16 14:09:35,797 - 94404 - log_ - INFO - Creating AgentBuildings object\n",
      "2022-11-16 14:09:35,797 - 94404 - log_ - INFO - Creating AgentBuildings object\n"
     ]
    }
   ],
   "source": [
    "stocks = ['project/input/stock/buildingstock_sdes2018_medium_{}.csv'.format(i) for i in [1, 3, 5]]\n",
    "stocks += ['project/input/stock/buildingstock_sdes2018_simple_{}.csv'.format(i) for i in [1, 3, 5]]\n",
    "\n",
    "consumptions = {}\n",
    "k = 0\n",
    "for path in stocks:\n",
    "    output = get_inputs(variables=['buildings'], building_stock=path)\n",
    "    buildings = output['buildings']\n",
    "    consumption = buildings.consumption_standard(indexes=buildings.stock.index)[0]\n",
    "    stock = buildings.stock.groupby(consumption.index.names).sum()\n",
    "    consumptions[k] = consumption\n",
    "    k += 1"
   ],
   "metadata": {
    "collapsed": false,
    "pycharm": {
     "name": "#%%\n"
    }
   }
  },
  {
   "cell_type": "code",
   "execution_count": 15,
   "outputs": [
    {
     "data": {
      "text/plain": "<AxesSubplot:>"
     },
     "execution_count": 15,
     "metadata": {},
     "output_type": "execute_result"
    },
    {
     "data": {
      "text/plain": "<Figure size 432x288 with 1 Axes>",
      "image/png": "[encoded data removed]"
     },
     "metadata": {
      "needs_background": "light"
     },
     "output_type": "display_data"
    }
   ],
   "source": [
    "pd.DataFrame(consumptions).boxplot()"
   ],
   "metadata": {
    "collapsed": false,
    "pycharm": {
     "name": "#%%\n"
    }
   }
  },
  {
   "cell_type": "code",
   "execution_count": null,
   "outputs": [],
   "source": [],
   "metadata": {
    "collapsed": false,
    "pycharm": {
     "name": "#%%\n"
    }
   }
  }
 ],
 "metadata": {
  "kernelspec": {
   "display_name": "Python 3",
   "language": "python",
   "name": "python3"
  },
  "language_info": {
   "codemirror_mode": {
    "name": "ipython",
    "version": 2
   },
   "file_extension": ".py",
   "mimetype": "text/x-python",
   "name": "python",
   "nbconvert_exporter": "python",
   "pygments_lexer": "ipython2",
   "version": "2.7.6"
  }
 },
 "nbformat": 4,
 "nbformat_minor": 0
}