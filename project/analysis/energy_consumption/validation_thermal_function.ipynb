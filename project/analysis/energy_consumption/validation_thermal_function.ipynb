{
 "cells": [
  {
   "cell_type": "code",
   "execution_count": 1,
   "outputs": [],
   "source": [
    "import pandas as pd\n",
    "\n",
    "from project.thermal import conventional_energy_3uses\n",
    "from project.input.param import generic_input\n",
    "from project.model import get_inputs"
   ],
   "metadata": {
    "collapsed": false,
    "pycharm": {
     "name": "#%%\n"
    }
   }
  },
  {
   "cell_type": "markdown",
   "source": [
    "Average losses area for envelope components."
   ],
   "metadata": {
    "collapsed": false,
    "pycharm": {
     "name": "#%% md\n"
    }
   }
  },
  {
   "cell_type": "code",
   "execution_count": 2,
   "outputs": [],
   "source": [
    "ratio_surface = generic_input['ratio_surface']"
   ],
   "metadata": {
    "collapsed": false,
    "pycharm": {
     "name": "#%%\n"
    }
   }
  },
  {
   "cell_type": "code",
   "execution_count": 3,
   "outputs": [
    {
     "name": "stderr",
     "output_type": "stream",
     "text": [
      "2022-11-16 17:12:31,465 - 98045 - log_ - INFO - Creating AgentBuildings object\n"
     ]
    }
   ],
   "source": [
    "output = get_inputs(variables=['buildings', 'efficiency', 'performance_insulation'], building_stock='project/input/stock/buildingstock_sdes2018_medium_3.csv')\n",
    "buildings, eff, performance_insulation = output['buildings'], output['efficiency'], output['performance_insulation']"
   ],
   "metadata": {
    "collapsed": false,
    "pycharm": {
     "name": "#%%\n"
    }
   }
  },
  {
   "cell_type": "code",
   "execution_count": 4,
   "outputs": [
    {
     "data": {
      "text/plain": "<project.building.AgentBuildings at 0x7fcbcb7fa2b0>"
     },
     "execution_count": 4,
     "metadata": {},
     "output_type": "execute_result"
    }
   ],
   "source": [
    "buildings"
   ],
   "metadata": {
    "collapsed": false,
    "pycharm": {
     "name": "#%%\n"
    }
   }
  },
  {
   "cell_type": "code",
   "execution_count": 19,
   "outputs": [
    {
     "name": "stdout",
     "output_type": "stream",
     "text": [
      "{'Wall': 2.5, 'Roof': 2.5, 'Floor': 2.0, 'Windows': 4.3, 'Ventilation': 0.8}\n",
      "{'Wall': 0.2, 'Roof': 0.2, 'Floor': 0.3, 'Windows': 1.3}\n",
      "{'Wall': 0.2, 'Floor': 0.3, 'Roof': 0.1, 'Windows': 1.3, 'Ventilation': 0.4}\n"
     ]
    }
   ],
   "source": [
    "worst_insulation = {i : max(output['buildings'].stock.index.get_level_values(i)) for i in ['Wall', 'Roof', 'Floor', 'Windows']}\n",
    "worst_insulation.update({'Ventilation': 0.8})\n",
    "print(worst_insulation)\n",
    "best_insulation = {i : min(output['buildings'].stock.index.get_level_values(i)) for i in ['Wall', 'Roof', 'Floor', 'Windows']}\n",
    "print(best_insulation)\n",
    "performance_insulation.update({'Ventilation': 0.4})\n",
    "print(performance_insulation)"
   ],
   "metadata": {
    "collapsed": false,
    "pycharm": {
     "name": "#%%\n"
    }
   }
  },
  {
   "cell_type": "markdown",
   "source": [
    "# Validation thermal function\n",
    "\n",
    "This notebook tests the dispersion of space heating consumption and energy performance for best and worst performance building archetypes.\n",
    "\n",
    "Defining boundaries building archetypes:"
   ],
   "metadata": {
    "collapsed": false,
    "pycharm": {
     "name": "#%% md\n"
    }
   }
  },
  {
   "cell_type": "code",
   "execution_count": 27,
   "outputs": [
    {
     "data": {
      "text/plain": "                                                          Wall  Roof  Floor  \\\nHousing type  Heating system                 Energy                           \nSingle-family Electricity-Performance boiler Electricity   2.5   2.5    2.0   \n              Electricity-Heat pump water    Electricity   0.2   0.3    0.1   \n              Electricity-Heat pump air      Electricity   0.2   0.3    0.1   \n              Natural gas-Standard boiler    Natural gas   2.5   2.5    2.0   \n              Natural gas-Performance boiler Natural gas   0.2   0.3    0.1   \nMulti-family  Electricity-Performance boiler Electricity   2.5   2.5    2.0   \n              Electricity-Heat pump water    Electricity   0.2   0.3    0.1   \n              Electricity-Heat pump air      Electricity   0.2   0.3    0.1   \n              Natural gas-Standard boiler    Natural gas   2.5   2.5    2.0   \n              Natural gas-Performance boiler Natural gas   0.2   0.3    0.1   \n\n                                                          Windows  \\\nHousing type  Heating system                 Energy                 \nSingle-family Electricity-Performance boiler Electricity      4.3   \n              Electricity-Heat pump water    Electricity      1.3   \n              Electricity-Heat pump air      Electricity      1.3   \n              Natural gas-Standard boiler    Natural gas      4.3   \n              Natural gas-Performance boiler Natural gas      1.3   \nMulti-family  Electricity-Performance boiler Electricity      4.3   \n              Electricity-Heat pump water    Electricity      1.3   \n              Electricity-Heat pump air      Electricity      1.3   \n              Natural gas-Standard boiler    Natural gas      4.3   \n              Natural gas-Performance boiler Natural gas      1.3   \n\n                                                          Ventilation  \\\nHousing type  Heating system                 Energy                     \nSingle-family Electricity-Performance boiler Electricity          0.8   \n              Electricity-Heat pump water    Electricity          0.4   \n              Electricity-Heat pump air      Electricity          0.4   \n              Natural gas-Standard boiler    Natural gas          0.8   \n              Natural gas-Performance boiler Natural gas          0.4   \nMulti-family  Electricity-Performance boiler Electricity          0.8   \n              Electricity-Heat pump water    Electricity          0.4   \n              Electricity-Heat pump air      Electricity          0.4   \n              Natural gas-Standard boiler    Natural gas          0.8   \n              Natural gas-Performance boiler Natural gas          0.4   \n\n                                                          Efficiency  \nHousing type  Heating system                 Energy                   \nSingle-family Electricity-Performance boiler Electricity        0.95  \n              Electricity-Heat pump water    Electricity        2.50  \n              Electricity-Heat pump air      Electricity        2.50  \n              Natural gas-Standard boiler    Natural gas        0.60  \n              Natural gas-Performance boiler Natural gas        0.76  \nMulti-family  Electricity-Performance boiler Electricity        0.95  \n              Electricity-Heat pump water    Electricity        2.50  \n              Electricity-Heat pump air      Electricity        2.50  \n              Natural gas-Standard boiler    Natural gas        0.60  \n              Natural gas-Performance boiler Natural gas        0.76  ",
      "text/html": "<div>\n<style scoped>\n    .dataframe tbody tr th:only-of-type {\n        vertical-align: middle;\n    }\n\n    .dataframe tbody tr th {\n        vertical-align: top;\n    }\n\n    .dataframe thead th {\n        text-align: right;\n    }\n</style>\n<table border=\"1\" class=\"dataframe\">\n  <thead>\n    <tr style=\"text-align: right;\">\n      <th></th>\n      <th></th>\n      <th></th>\n      <th>Wall</th>\n      <th>Roof</th>\n      <th>Floor</th>\n      <th>Windows</th>\n      <th>Ventilation</th>\n      <th>Efficiency</th>\n    </tr>\n    <tr>\n      <th>Housing type</th>\n      <th>Heating system</th>\n      <th>Energy</th>\n      <th></th>\n      <th></th>\n      <th></th>\n      <th></th>\n      <th></th>\n      <th></th>\n    </tr>\n  </thead>\n  <tbody>\n    <tr>\n      <th rowspan=\"5\" valign=\"top\">Single-family</th>\n      <th>Electricity-Performance boiler</th>\n      <th>Electricity</th>\n      <td>2.5</td>\n      <td>2.5</td>\n      <td>2.0</td>\n      <td>4.3</td>\n      <td>0.8</td>\n      <td>0.95</td>\n    </tr>\n    <tr>\n      <th>Electricity-Heat pump water</th>\n      <th>Electricity</th>\n      <td>0.2</td>\n      <td>0.3</td>\n      <td>0.1</td>\n      <td>1.3</td>\n      <td>0.4</td>\n      <td>2.50</td>\n    </tr>\n    <tr>\n      <th>Electricity-Heat pump air</th>\n      <th>Electricity</th>\n      <td>0.2</td>\n      <td>0.3</td>\n      <td>0.1</td>\n      <td>1.3</td>\n      <td>0.4</td>\n      <td>2.50</td>\n    </tr>\n    <tr>\n      <th>Natural gas-Standard boiler</th>\n      <th>Natural gas</th>\n      <td>2.5</td>\n      <td>2.5</td>\n      <td>2.0</td>\n      <td>4.3</td>\n      <td>0.8</td>\n      <td>0.60</td>\n    </tr>\n    <tr>\n      <th>Natural gas-Performance boiler</th>\n      <th>Natural gas</th>\n      <td>0.2</td>\n      <td>0.3</td>\n      <td>0.1</td>\n      <td>1.3</td>\n      <td>0.4</td>\n      <td>0.76</td>\n    </tr>\n    <tr>\n      <th rowspan=\"5\" valign=\"top\">Multi-family</th>\n      <th>Electricity-Performance boiler</th>\n      <th>Electricity</th>\n      <td>2.5</td>\n      <td>2.5</td>\n      <td>2.0</td>\n      <td>4.3</td>\n      <td>0.8</td>\n      <td>0.95</td>\n    </tr>\n    <tr>\n      <th>Electricity-Heat pump water</th>\n      <th>Electricity</th>\n      <td>0.2</td>\n      <td>0.3</td>\n      <td>0.1</td>\n      <td>1.3</td>\n      <td>0.4</td>\n      <td>2.50</td>\n    </tr>\n    <tr>\n      <th>Electricity-Heat pump air</th>\n      <th>Electricity</th>\n      <td>0.2</td>\n      <td>0.3</td>\n      <td>0.1</td>\n      <td>1.3</td>\n      <td>0.4</td>\n      <td>2.50</td>\n    </tr>\n    <tr>\n      <th>Natural gas-Standard boiler</th>\n      <th>Natural gas</th>\n      <td>2.5</td>\n      <td>2.5</td>\n      <td>2.0</td>\n      <td>4.3</td>\n      <td>0.8</td>\n      <td>0.60</td>\n    </tr>\n    <tr>\n      <th>Natural gas-Performance boiler</th>\n      <th>Natural gas</th>\n      <td>0.2</td>\n      <td>0.3</td>\n      <td>0.1</td>\n      <td>1.3</td>\n      <td>0.4</td>\n      <td>0.76</td>\n    </tr>\n  </tbody>\n</table>\n</div>"
     },
     "execution_count": 27,
     "metadata": {},
     "output_type": "execute_result"
    }
   ],
   "source": [
    "# Wall, Roof, Floor, Windows, Air rate (ventilation), Heating system\n",
    "archetypes = {'Worst electricity': [i for i in worst_insulation.values()] + ['Electricity-Performance boiler'],\n",
    "              'Best electricity water': [i for i in performance_insulation.values()] + ['Electricity-Heat pump water'],\n",
    "            'Best electricity air': [i for i in performance_insulation.values()] + ['Electricity-Heat pump air'],\n",
    "\n",
    "              'Worst gas': [i for i in worst_insulation.values()] + ['Natural gas-Standard boiler'],\n",
    "              'Best gas': [i for i in performance_insulation.values()] + ['Natural gas-Performance boiler'],\n",
    "              }\n",
    "\n",
    "archetypes = pd.DataFrame(archetypes, index=['Wall', 'Roof', 'Floor', 'Windows', 'Ventilation', 'Heating system']).T\n",
    "archetypes['Energy'] = archetypes['Heating system'].str.split('-').str[0].rename('Energy')\n",
    "\n",
    "archetypes = pd.concat([archetypes, archetypes], keys=['Single-family', 'Multi-family'], names=['Housing type'])\n",
    "#efficiency = pd.Series(envelope.index.get_level_values('Heating system')).replace(replace).set_axis(envelope.index)\n",
    "efficiency = archetypes['Heating system'].replace(eff.to_dict()).set_axis(archetypes.index)\n",
    "\n",
    "archetypes = pd.concat((archetypes, efficiency.rename('Efficiency')), axis=1)\n",
    "archetypes = archetypes.set_index(['Heating system', 'Energy'], append=True)\n",
    "\n",
    "archetypes = archetypes.droplevel(None)\n",
    "archetypes = archetypes.astype({\n",
    "    'Wall': 'float',\n",
    "    'Roof': 'float', 'Floor': 'float', 'Windows': 'float', 'Ventilation': 'float', 'Efficiency': 'float'\n",
    "})\n",
    "\n",
    "archetypes"
   ],
   "metadata": {
    "collapsed": false,
    "pycharm": {
     "name": "#%%\n"
    }
   }
  },
  {
   "cell_type": "markdown",
   "source": [
    "#### Calculating energy dispersion without ventilation"
   ],
   "metadata": {
    "collapsed": false,
    "pycharm": {
     "name": "#%% md\n"
    }
   }
  },
  {
   "cell_type": "code",
   "execution_count": 34,
   "outputs": [
    {
     "data": {
      "text/plain": "                                                          Wall  Roof  Floor  \\\nHousing type  Heating system                 Energy                           \nMulti-family  Electricity-Heat pump air      Electricity   0.2   0.3    0.1   \n              Electricity-Heat pump water    Electricity   0.2   0.3    0.1   \n              Electricity-Performance boiler Electricity   2.5   2.5    2.0   \n              Natural gas-Performance boiler Natural gas   0.2   0.3    0.1   \n              Natural gas-Standard boiler    Natural gas   2.5   2.5    2.0   \nSingle-family Electricity-Heat pump air      Electricity   0.2   0.3    0.1   \n              Electricity-Heat pump water    Electricity   0.2   0.3    0.1   \n              Electricity-Performance boiler Electricity   2.5   2.5    2.0   \n              Natural gas-Performance boiler Natural gas   0.2   0.3    0.1   \n              Natural gas-Standard boiler    Natural gas   2.5   2.5    2.0   \n\n                                                          Windows  \\\nHousing type  Heating system                 Energy                 \nMulti-family  Electricity-Heat pump air      Electricity      1.3   \n              Electricity-Heat pump water    Electricity      1.3   \n              Electricity-Performance boiler Electricity      4.3   \n              Natural gas-Performance boiler Natural gas      1.3   \n              Natural gas-Standard boiler    Natural gas      4.3   \nSingle-family Electricity-Heat pump air      Electricity      1.3   \n              Electricity-Heat pump water    Electricity      1.3   \n              Electricity-Performance boiler Electricity      4.3   \n              Natural gas-Performance boiler Natural gas      1.3   \n              Natural gas-Standard boiler    Natural gas      4.3   \n\n                                                          Ventilation  \\\nHousing type  Heating system                 Energy                     \nMulti-family  Electricity-Heat pump air      Electricity          0.4   \n              Electricity-Heat pump water    Electricity          0.4   \n              Electricity-Performance boiler Electricity          0.8   \n              Natural gas-Performance boiler Natural gas          0.4   \n              Natural gas-Standard boiler    Natural gas          0.8   \nSingle-family Electricity-Heat pump air      Electricity          0.4   \n              Electricity-Heat pump water    Electricity          0.4   \n              Electricity-Performance boiler Electricity          0.8   \n              Natural gas-Performance boiler Natural gas          0.4   \n              Natural gas-Standard boiler    Natural gas          0.8   \n\n                                                          Efficiency  \\\nHousing type  Heating system                 Energy                    \nMulti-family  Electricity-Heat pump air      Electricity        2.50   \n              Electricity-Heat pump water    Electricity        2.50   \n              Electricity-Performance boiler Electricity        0.95   \n              Natural gas-Performance boiler Natural gas        0.76   \n              Natural gas-Standard boiler    Natural gas        0.60   \nSingle-family Electricity-Heat pump air      Electricity        2.50   \n              Electricity-Heat pump water    Electricity        2.50   \n              Electricity-Performance boiler Electricity        0.95   \n              Natural gas-Performance boiler Natural gas        0.76   \n              Natural gas-Standard boiler    Natural gas        0.60   \n\n                                                         Performance  \\\nHousing type  Heating system                 Energy                    \nMulti-family  Electricity-Heat pump air      Electricity           C   \n              Electricity-Heat pump water    Electricity           A   \n              Electricity-Performance boiler Electricity           G   \n              Natural gas-Performance boiler Natural gas           B   \n              Natural gas-Standard boiler    Natural gas           E   \nSingle-family Electricity-Heat pump air      Electricity           C   \n              Electricity-Heat pump water    Electricity           B   \n              Electricity-Performance boiler Electricity           G   \n              Natural gas-Performance boiler Natural gas           B   \n              Natural gas-Standard boiler    Natural gas           G   \n\n                                                              Energy  \nHousing type  Heating system                 Energy                   \nMulti-family  Electricity-Heat pump air      Electricity   91.098774  \n              Electricity-Heat pump water    Electricity   44.257631  \n              Electricity-Performance boiler Electricity  482.545049  \n              Natural gas-Performance boiler Natural gas   70.244895  \n              Natural gas-Standard boiler    Natural gas  320.401095  \nSingle-family Electricity-Heat pump air      Electricity   92.542215  \n              Electricity-Heat pump water    Electricity   56.346787  \n              Electricity-Performance boiler Electricity  803.272270  \n              Natural gas-Performance boiler Natural gas   85.955930  \n              Natural gas-Standard boiler    Natural gas  543.870144  ",
      "text/html": "<div>\n<style scoped>\n    .dataframe tbody tr th:only-of-type {\n        vertical-align: middle;\n    }\n\n    .dataframe tbody tr th {\n        vertical-align: top;\n    }\n\n    .dataframe thead th {\n        text-align: right;\n    }\n</style>\n<table border=\"1\" class=\"dataframe\">\n  <thead>\n    <tr style=\"text-align: right;\">\n      <th></th>\n      <th></th>\n      <th></th>\n      <th>Wall</th>\n      <th>Roof</th>\n      <th>Floor</th>\n      <th>Windows</th>\n      <th>Ventilation</th>\n      <th>Efficiency</th>\n      <th>Performance</th>\n      <th>Energy</th>\n    </tr>\n    <tr>\n      <th>Housing type</th>\n      <th>Heating system</th>\n      <th>Energy</th>\n      <th></th>\n      <th></th>\n      <th></th>\n      <th></th>\n      <th></th>\n      <th></th>\n      <th></th>\n      <th></th>\n    </tr>\n  </thead>\n  <tbody>\n    <tr>\n      <th rowspan=\"5\" valign=\"top\">Multi-family</th>\n      <th>Electricity-Heat pump air</th>\n      <th>Electricity</th>\n      <td>0.2</td>\n      <td>0.3</td>\n      <td>0.1</td>\n      <td>1.3</td>\n      <td>0.4</td>\n      <td>2.50</td>\n      <td>C</td>\n      <td>91.098774</td>\n    </tr>\n    <tr>\n      <th>Electricity-Heat pump water</th>\n      <th>Electricity</th>\n      <td>0.2</td>\n      <td>0.3</td>\n      <td>0.1</td>\n      <td>1.3</td>\n      <td>0.4</td>\n      <td>2.50</td>\n      <td>A</td>\n      <td>44.257631</td>\n    </tr>\n    <tr>\n      <th>Electricity-Performance boiler</th>\n      <th>Electricity</th>\n      <td>2.5</td>\n      <td>2.5</td>\n      <td>2.0</td>\n      <td>4.3</td>\n      <td>0.8</td>\n      <td>0.95</td>\n      <td>G</td>\n      <td>482.545049</td>\n    </tr>\n    <tr>\n      <th>Natural gas-Performance boiler</th>\n      <th>Natural gas</th>\n      <td>0.2</td>\n      <td>0.3</td>\n      <td>0.1</td>\n      <td>1.3</td>\n      <td>0.4</td>\n      <td>0.76</td>\n      <td>B</td>\n      <td>70.244895</td>\n    </tr>\n    <tr>\n      <th>Natural gas-Standard boiler</th>\n      <th>Natural gas</th>\n      <td>2.5</td>\n      <td>2.5</td>\n      <td>2.0</td>\n      <td>4.3</td>\n      <td>0.8</td>\n      <td>0.60</td>\n      <td>E</td>\n      <td>320.401095</td>\n    </tr>\n    <tr>\n      <th rowspan=\"5\" valign=\"top\">Single-family</th>\n      <th>Electricity-Heat pump air</th>\n      <th>Electricity</th>\n      <td>0.2</td>\n      <td>0.3</td>\n      <td>0.1</td>\n      <td>1.3</td>\n      <td>0.4</td>\n      <td>2.50</td>\n      <td>C</td>\n      <td>92.542215</td>\n    </tr>\n    <tr>\n      <th>Electricity-Heat pump water</th>\n      <th>Electricity</th>\n      <td>0.2</td>\n      <td>0.3</td>\n      <td>0.1</td>\n      <td>1.3</td>\n      <td>0.4</td>\n      <td>2.50</td>\n      <td>B</td>\n      <td>56.346787</td>\n    </tr>\n    <tr>\n      <th>Electricity-Performance boiler</th>\n      <th>Electricity</th>\n      <td>2.5</td>\n      <td>2.5</td>\n      <td>2.0</td>\n      <td>4.3</td>\n      <td>0.8</td>\n      <td>0.95</td>\n      <td>G</td>\n      <td>803.272270</td>\n    </tr>\n    <tr>\n      <th>Natural gas-Performance boiler</th>\n      <th>Natural gas</th>\n      <td>0.2</td>\n      <td>0.3</td>\n      <td>0.1</td>\n      <td>1.3</td>\n      <td>0.4</td>\n      <td>0.76</td>\n      <td>B</td>\n      <td>85.955930</td>\n    </tr>\n    <tr>\n      <th>Natural gas-Standard boiler</th>\n      <th>Natural gas</th>\n      <td>2.5</td>\n      <td>2.5</td>\n      <td>2.0</td>\n      <td>4.3</td>\n      <td>0.8</td>\n      <td>0.60</td>\n      <td>G</td>\n      <td>543.870144</td>\n    </tr>\n  </tbody>\n</table>\n</div>"
     },
     "execution_count": 34,
     "metadata": {},
     "output_type": "execute_result"
    }
   ],
   "source": [
    "dpe, energy_primary = conventional_energy_3uses(archetypes['Wall'], archetypes['Floor'], archetypes['Roof'], archetypes['Windows'], ratio_surface, archetypes['Efficiency'], archetypes.index)\n",
    "result = pd.concat((archetypes, dpe.rename('Performance'), energy_primary.rename('Energy')), axis=1).sort_index()\n",
    "result"
   ],
   "metadata": {
    "collapsed": false,
    "pycharm": {
     "name": "#%%\n"
    }
   }
  },
  {
   "cell_type": "markdown",
   "source": [
    "- The performance of the building archetypes ranges from A to G, which is the necessary range to address the policy in France\n",
    "- The worst performing fossil fuel-fired multifamily buildings are not G. This is explained by using the average loss surface for each component. In a building, the first and last floors would get more and the other floors less. Here archetypes represent an average apartment in the building. This assumption centers the distribution around the mean."
   ],
   "metadata": {
    "collapsed": false,
    "pycharm": {
     "name": "#%% md\n"
    }
   }
  },
  {
   "cell_type": "markdown",
   "source": [
    "#### Calculating energy dispersion with ventilation"
   ],
   "metadata": {
    "collapsed": false,
    "pycharm": {
     "name": "#%% md\n"
    }
   }
  },
  {
   "cell_type": "code",
   "execution_count": 35,
   "outputs": [
    {
     "data": {
      "text/plain": "                                                          Wall  Roof  Floor  \\\nHousing type  Heating system                 Energy                           \nMulti-family  Electricity-Heat pump air      Electricity   0.2   0.3    0.1   \n              Electricity-Heat pump water    Electricity   0.2   0.3    0.1   \n              Electricity-Performance boiler Electricity   2.5   2.5    2.0   \n              Natural gas-Performance boiler Natural gas   0.2   0.3    0.1   \n              Natural gas-Standard boiler    Natural gas   2.5   2.5    2.0   \nSingle-family Electricity-Heat pump air      Electricity   0.2   0.3    0.1   \n              Electricity-Heat pump water    Electricity   0.2   0.3    0.1   \n              Electricity-Performance boiler Electricity   2.5   2.5    2.0   \n              Natural gas-Performance boiler Natural gas   0.2   0.3    0.1   \n              Natural gas-Standard boiler    Natural gas   2.5   2.5    2.0   \n\n                                                          Windows  \\\nHousing type  Heating system                 Energy                 \nMulti-family  Electricity-Heat pump air      Electricity      1.3   \n              Electricity-Heat pump water    Electricity      1.3   \n              Electricity-Performance boiler Electricity      4.3   \n              Natural gas-Performance boiler Natural gas      1.3   \n              Natural gas-Standard boiler    Natural gas      4.3   \nSingle-family Electricity-Heat pump air      Electricity      1.3   \n              Electricity-Heat pump water    Electricity      1.3   \n              Electricity-Performance boiler Electricity      4.3   \n              Natural gas-Performance boiler Natural gas      1.3   \n              Natural gas-Standard boiler    Natural gas      4.3   \n\n                                                          Ventilation  \\\nHousing type  Heating system                 Energy                     \nMulti-family  Electricity-Heat pump air      Electricity          0.4   \n              Electricity-Heat pump water    Electricity          0.4   \n              Electricity-Performance boiler Electricity          0.8   \n              Natural gas-Performance boiler Natural gas          0.4   \n              Natural gas-Standard boiler    Natural gas          0.8   \nSingle-family Electricity-Heat pump air      Electricity          0.4   \n              Electricity-Heat pump water    Electricity          0.4   \n              Electricity-Performance boiler Electricity          0.8   \n              Natural gas-Performance boiler Natural gas          0.4   \n              Natural gas-Standard boiler    Natural gas          0.8   \n\n                                                          Efficiency  \\\nHousing type  Heating system                 Energy                    \nMulti-family  Electricity-Heat pump air      Electricity        2.50   \n              Electricity-Heat pump water    Electricity        2.50   \n              Electricity-Performance boiler Electricity        0.95   \n              Natural gas-Performance boiler Natural gas        0.76   \n              Natural gas-Standard boiler    Natural gas        0.60   \nSingle-family Electricity-Heat pump air      Electricity        2.50   \n              Electricity-Heat pump water    Electricity        2.50   \n              Electricity-Performance boiler Electricity        0.95   \n              Natural gas-Performance boiler Natural gas        0.76   \n              Natural gas-Standard boiler    Natural gas        0.60   \n\n                                                         Performance  \\\nHousing type  Heating system                 Energy                    \nMulti-family  Electricity-Heat pump air      Electricity           B   \n              Electricity-Heat pump water    Electricity           A   \n              Electricity-Performance boiler Electricity           G   \n              Natural gas-Performance boiler Natural gas           B   \n              Natural gas-Standard boiler    Natural gas           F   \nSingle-family Electricity-Heat pump air      Electricity           B   \n              Electricity-Heat pump water    Electricity           A   \n              Electricity-Performance boiler Electricity           G   \n              Natural gas-Performance boiler Natural gas           B   \n              Natural gas-Standard boiler    Natural gas           G   \n\n                                                              Energy  \nHousing type  Heating system                 Energy                   \nMulti-family  Electricity-Heat pump air      Electricity   83.971803  \n              Electricity-Heat pump water    Electricity   37.130661  \n              Electricity-Performance boiler Electricity  501.275385  \n              Natural gas-Performance boiler Natural gas   60.051860  \n              Natural gas-Standard boiler    Natural gas  333.295167  \nSingle-family Electricity-Heat pump air      Electricity   85.063818  \n              Electricity-Heat pump water    Electricity   48.868389  \n              Electricity-Performance boiler Electricity  820.243743  \n              Natural gas-Performance boiler Natural gas   75.260282  \n              Natural gas-Standard boiler    Natural gas  555.553405  ",
      "text/html": "<div>\n<style scoped>\n    .dataframe tbody tr th:only-of-type {\n        vertical-align: middle;\n    }\n\n    .dataframe tbody tr th {\n        vertical-align: top;\n    }\n\n    .dataframe thead th {\n        text-align: right;\n    }\n</style>\n<table border=\"1\" class=\"dataframe\">\n  <thead>\n    <tr style=\"text-align: right;\">\n      <th></th>\n      <th></th>\n      <th></th>\n      <th>Wall</th>\n      <th>Roof</th>\n      <th>Floor</th>\n      <th>Windows</th>\n      <th>Ventilation</th>\n      <th>Efficiency</th>\n      <th>Performance</th>\n      <th>Energy</th>\n    </tr>\n    <tr>\n      <th>Housing type</th>\n      <th>Heating system</th>\n      <th>Energy</th>\n      <th></th>\n      <th></th>\n      <th></th>\n      <th></th>\n      <th></th>\n      <th></th>\n      <th></th>\n      <th></th>\n    </tr>\n  </thead>\n  <tbody>\n    <tr>\n      <th rowspan=\"5\" valign=\"top\">Multi-family</th>\n      <th>Electricity-Heat pump air</th>\n      <th>Electricity</th>\n      <td>0.2</td>\n      <td>0.3</td>\n      <td>0.1</td>\n      <td>1.3</td>\n      <td>0.4</td>\n      <td>2.50</td>\n      <td>B</td>\n      <td>83.971803</td>\n    </tr>\n    <tr>\n      <th>Electricity-Heat pump water</th>\n      <th>Electricity</th>\n      <td>0.2</td>\n      <td>0.3</td>\n      <td>0.1</td>\n      <td>1.3</td>\n      <td>0.4</td>\n      <td>2.50</td>\n      <td>A</td>\n      <td>37.130661</td>\n    </tr>\n    <tr>\n      <th>Electricity-Performance boiler</th>\n      <th>Electricity</th>\n      <td>2.5</td>\n      <td>2.5</td>\n      <td>2.0</td>\n      <td>4.3</td>\n      <td>0.8</td>\n      <td>0.95</td>\n      <td>G</td>\n      <td>501.275385</td>\n    </tr>\n    <tr>\n      <th>Natural gas-Performance boiler</th>\n      <th>Natural gas</th>\n      <td>0.2</td>\n      <td>0.3</td>\n      <td>0.1</td>\n      <td>1.3</td>\n      <td>0.4</td>\n      <td>0.76</td>\n      <td>B</td>\n      <td>60.051860</td>\n    </tr>\n    <tr>\n      <th>Natural gas-Standard boiler</th>\n      <th>Natural gas</th>\n      <td>2.5</td>\n      <td>2.5</td>\n      <td>2.0</td>\n      <td>4.3</td>\n      <td>0.8</td>\n      <td>0.60</td>\n      <td>F</td>\n      <td>333.295167</td>\n    </tr>\n    <tr>\n      <th rowspan=\"5\" valign=\"top\">Single-family</th>\n      <th>Electricity-Heat pump air</th>\n      <th>Electricity</th>\n      <td>0.2</td>\n      <td>0.3</td>\n      <td>0.1</td>\n      <td>1.3</td>\n      <td>0.4</td>\n      <td>2.50</td>\n      <td>B</td>\n      <td>85.063818</td>\n    </tr>\n    <tr>\n      <th>Electricity-Heat pump water</th>\n      <th>Electricity</th>\n      <td>0.2</td>\n      <td>0.3</td>\n      <td>0.1</td>\n      <td>1.3</td>\n      <td>0.4</td>\n      <td>2.50</td>\n      <td>A</td>\n      <td>48.868389</td>\n    </tr>\n    <tr>\n      <th>Electricity-Performance boiler</th>\n      <th>Electricity</th>\n      <td>2.5</td>\n      <td>2.5</td>\n      <td>2.0</td>\n      <td>4.3</td>\n      <td>0.8</td>\n      <td>0.95</td>\n      <td>G</td>\n      <td>820.243743</td>\n    </tr>\n    <tr>\n      <th>Natural gas-Performance boiler</th>\n      <th>Natural gas</th>\n      <td>0.2</td>\n      <td>0.3</td>\n      <td>0.1</td>\n      <td>1.3</td>\n      <td>0.4</td>\n      <td>0.76</td>\n      <td>B</td>\n      <td>75.260282</td>\n    </tr>\n    <tr>\n      <th>Natural gas-Standard boiler</th>\n      <th>Natural gas</th>\n      <td>2.5</td>\n      <td>2.5</td>\n      <td>2.0</td>\n      <td>4.3</td>\n      <td>0.8</td>\n      <td>0.60</td>\n      <td>G</td>\n      <td>555.553405</td>\n    </tr>\n  </tbody>\n</table>\n</div>"
     },
     "execution_count": 35,
     "metadata": {},
     "output_type": "execute_result"
    }
   ],
   "source": [
    "dpe, energy_primary = conventional_energy_3uses(archetypes['Wall'], archetypes['Floor'], archetypes['Roof'], archetypes['Windows'], ratio_surface, archetypes['Efficiency'], archetypes.index, air_rate=archetypes['Ventilation'])\n",
    "result = pd.concat((archetypes, dpe.rename('Performance'), energy_primary.rename('Energy')), axis=1).sort_index()\n",
    "result"
   ],
   "metadata": {
    "collapsed": false,
    "pycharm": {
     "name": "#%%\n"
    }
   }
  },
  {
   "cell_type": "markdown",
   "source": [
    "Adding ventilation does not change a lot the dispersion"
   ],
   "metadata": {
    "collapsed": false,
    "pycharm": {
     "name": "#%% md\n"
    }
   }
  },
  {
   "cell_type": "markdown",
   "source": [
    "#### Testing rounded value"
   ],
   "metadata": {
    "collapsed": false,
    "pycharm": {
     "name": "#%% md\n"
    }
   }
  },
  {
   "cell_type": "code",
   "execution_count": 8,
   "outputs": [
    {
     "data": {
      "text/plain": "                                                          Wall  Roof  Floor  \\\nHousing type  Heating system                 Energy                           \nMulti-family  Electricity-Heat pump          Electricity   0.2   0.3    0.1   \n                                             Electricity   0.1   0.2    0.1   \n              Electricity-Performance boiler Electricity   2.5   2.5    2.0   \n              Natural gas-Performance boiler Natural gas   0.2   0.3    0.1   \n                                             Natural gas   0.1   0.2    0.1   \n              Natural gas-Standard boiler    Natural gas   2.5   2.5    2.0   \nSingle-family Electricity-Heat pump          Electricity   0.2   0.3    0.1   \n                                             Electricity   0.1   0.2    0.1   \n              Electricity-Performance boiler Electricity   2.5   2.5    2.0   \n              Natural gas-Performance boiler Natural gas   0.2   0.3    0.1   \n                                             Natural gas   0.1   0.2    0.1   \n              Natural gas-Standard boiler    Natural gas   2.5   2.5    2.0   \n\n                                                          Windows  \\\nHousing type  Heating system                 Energy                 \nMulti-family  Electricity-Heat pump          Electricity      1.3   \n                                             Electricity      0.8   \n              Electricity-Performance boiler Electricity      3.0   \n              Natural gas-Performance boiler Natural gas      1.3   \n                                             Natural gas      0.8   \n              Natural gas-Standard boiler    Natural gas      3.0   \nSingle-family Electricity-Heat pump          Electricity      1.3   \n                                             Electricity      0.8   \n              Electricity-Performance boiler Electricity      3.0   \n              Natural gas-Performance boiler Natural gas      1.3   \n                                             Natural gas      0.8   \n              Natural gas-Standard boiler    Natural gas      3.0   \n\n                                                          Ventilation  \\\nHousing type  Heating system                 Energy                     \nMulti-family  Electricity-Heat pump          Electricity          0.4   \n                                             Electricity          0.4   \n              Electricity-Performance boiler Electricity          0.8   \n              Natural gas-Performance boiler Natural gas          0.4   \n                                             Natural gas          0.4   \n              Natural gas-Standard boiler    Natural gas          0.8   \nSingle-family Electricity-Heat pump          Electricity          0.4   \n                                             Electricity          0.4   \n              Electricity-Performance boiler Electricity          0.8   \n              Natural gas-Performance boiler Natural gas          0.4   \n                                             Natural gas          0.4   \n              Natural gas-Standard boiler    Natural gas          0.8   \n\n                                                          Efficiency  0  \\\nHousing type  Heating system                 Energy                       \nMulti-family  Electricity-Heat pump          Electricity         2.5  A   \n                                             Electricity         2.5  A   \n              Electricity-Performance boiler Electricity         1.0  G   \n              Natural gas-Performance boiler Natural gas         0.8  B   \n                                             Natural gas         0.8  A   \n              Natural gas-Standard boiler    Natural gas         0.6  E   \nSingle-family Electricity-Heat pump          Electricity         2.5  A   \n                                             Electricity         2.5  A   \n              Electricity-Performance boiler Electricity         1.0  G   \n              Natural gas-Performance boiler Natural gas         0.8  B   \n                                             Natural gas         0.8  B   \n              Natural gas-Standard boiler    Natural gas         0.6  G   \n\n                                                                   1  \nHousing type  Heating system                 Energy                   \nMulti-family  Electricity-Heat pump          Electricity   37.238312  \n                                             Electricity   29.238496  \n              Electricity-Performance boiler Electricity  455.184644  \n              Natural gas-Performance boiler Natural gas   58.845533  \n                                             Natural gas   47.976217  \n              Natural gas-Standard boiler    Natural gas  315.701088  \nSingle-family Electricity-Heat pump          Electricity   49.172267  \n                                             Electricity   36.195262  \n              Electricity-Performance boiler Electricity  765.424704  \n              Natural gas-Performance boiler Natural gas   73.185145  \n                                             Natural gas   55.553345  \n              Natural gas-Standard boiler    Natural gas  543.727011  ",
      "text/html": "<div>\n<style scoped>\n    .dataframe tbody tr th:only-of-type {\n        vertical-align: middle;\n    }\n\n    .dataframe tbody tr th {\n        vertical-align: top;\n    }\n\n    .dataframe thead th {\n        text-align: right;\n    }\n</style>\n<table border=\"1\" class=\"dataframe\">\n  <thead>\n    <tr style=\"text-align: right;\">\n      <th></th>\n      <th></th>\n      <th></th>\n      <th>Wall</th>\n      <th>Roof</th>\n      <th>Floor</th>\n      <th>Windows</th>\n      <th>Ventilation</th>\n      <th>Efficiency</th>\n      <th>0</th>\n      <th>1</th>\n    </tr>\n    <tr>\n      <th>Housing type</th>\n      <th>Heating system</th>\n      <th>Energy</th>\n      <th></th>\n      <th></th>\n      <th></th>\n      <th></th>\n      <th></th>\n      <th></th>\n      <th></th>\n      <th></th>\n    </tr>\n  </thead>\n  <tbody>\n    <tr>\n      <th rowspan=\"6\" valign=\"top\">Multi-family</th>\n      <th rowspan=\"2\" valign=\"top\">Electricity-Heat pump</th>\n      <th>Electricity</th>\n      <td>0.2</td>\n      <td>0.3</td>\n      <td>0.1</td>\n      <td>1.3</td>\n      <td>0.4</td>\n      <td>2.5</td>\n      <td>A</td>\n      <td>37.238312</td>\n    </tr>\n    <tr>\n      <th>Electricity</th>\n      <td>0.1</td>\n      <td>0.2</td>\n      <td>0.1</td>\n      <td>0.8</td>\n      <td>0.4</td>\n      <td>2.5</td>\n      <td>A</td>\n      <td>29.238496</td>\n    </tr>\n    <tr>\n      <th>Electricity-Performance boiler</th>\n      <th>Electricity</th>\n      <td>2.5</td>\n      <td>2.5</td>\n      <td>2.0</td>\n      <td>3.0</td>\n      <td>0.8</td>\n      <td>1.0</td>\n      <td>G</td>\n      <td>455.184644</td>\n    </tr>\n    <tr>\n      <th rowspan=\"2\" valign=\"top\">Natural gas-Performance boiler</th>\n      <th>Natural gas</th>\n      <td>0.2</td>\n      <td>0.3</td>\n      <td>0.1</td>\n      <td>1.3</td>\n      <td>0.4</td>\n      <td>0.8</td>\n      <td>B</td>\n      <td>58.845533</td>\n    </tr>\n    <tr>\n      <th>Natural gas</th>\n      <td>0.1</td>\n      <td>0.2</td>\n      <td>0.1</td>\n      <td>0.8</td>\n      <td>0.4</td>\n      <td>0.8</td>\n      <td>A</td>\n      <td>47.976217</td>\n    </tr>\n    <tr>\n      <th>Natural gas-Standard boiler</th>\n      <th>Natural gas</th>\n      <td>2.5</td>\n      <td>2.5</td>\n      <td>2.0</td>\n      <td>3.0</td>\n      <td>0.8</td>\n      <td>0.6</td>\n      <td>E</td>\n      <td>315.701088</td>\n    </tr>\n    <tr>\n      <th rowspan=\"6\" valign=\"top\">Single-family</th>\n      <th rowspan=\"2\" valign=\"top\">Electricity-Heat pump</th>\n      <th>Electricity</th>\n      <td>0.2</td>\n      <td>0.3</td>\n      <td>0.1</td>\n      <td>1.3</td>\n      <td>0.4</td>\n      <td>2.5</td>\n      <td>A</td>\n      <td>49.172267</td>\n    </tr>\n    <tr>\n      <th>Electricity</th>\n      <td>0.1</td>\n      <td>0.2</td>\n      <td>0.1</td>\n      <td>0.8</td>\n      <td>0.4</td>\n      <td>2.5</td>\n      <td>A</td>\n      <td>36.195262</td>\n    </tr>\n    <tr>\n      <th>Electricity-Performance boiler</th>\n      <th>Electricity</th>\n      <td>2.5</td>\n      <td>2.5</td>\n      <td>2.0</td>\n      <td>3.0</td>\n      <td>0.8</td>\n      <td>1.0</td>\n      <td>G</td>\n      <td>765.424704</td>\n    </tr>\n    <tr>\n      <th rowspan=\"2\" valign=\"top\">Natural gas-Performance boiler</th>\n      <th>Natural gas</th>\n      <td>0.2</td>\n      <td>0.3</td>\n      <td>0.1</td>\n      <td>1.3</td>\n      <td>0.4</td>\n      <td>0.8</td>\n      <td>B</td>\n      <td>73.185145</td>\n    </tr>\n    <tr>\n      <th>Natural gas</th>\n      <td>0.1</td>\n      <td>0.2</td>\n      <td>0.1</td>\n      <td>0.8</td>\n      <td>0.4</td>\n      <td>0.8</td>\n      <td>B</td>\n      <td>55.553345</td>\n    </tr>\n    <tr>\n      <th>Natural gas-Standard boiler</th>\n      <th>Natural gas</th>\n      <td>2.5</td>\n      <td>2.5</td>\n      <td>2.0</td>\n      <td>3.0</td>\n      <td>0.8</td>\n      <td>0.6</td>\n      <td>G</td>\n      <td>543.727011</td>\n    </tr>\n  </tbody>\n</table>\n</div>"
     },
     "execution_count": 8,
     "metadata": {},
     "output_type": "execute_result"
    }
   ],
   "source": [
    "buildings_round = buildings.copy()\n",
    "buildings_round['Wall'] = buildings_round['Wall'].round(1)\n",
    "buildings_round['Floor'] = buildings_round['Floor'].round(1)\n",
    "buildings_round['Roof'] = buildings_round['Roof'].round(1)\n",
    "buildings_round['Windows'] = buildings_round['Windows'].round(1)\n",
    "buildings_round['Efficiency'] = buildings_round['Efficiency'].round(1)\n",
    "\n",
    "dpe, energy_primary = conventional_energy_3uses(buildings_round['Wall'], buildings_round['Floor'], buildings_round['Roof'], buildings_round['Windows'], ratio_surface, buildings_round['Efficiency'], buildings_round.index, air_rate=buildings['Ventilation'])\n",
    "result = pd.concat((buildings_round, dpe, energy_primary), axis=1).sort_index()\n",
    "result"
   ],
   "metadata": {
    "collapsed": false,
    "pycharm": {
     "name": "#%%\n"
    }
   }
  },
  {
   "cell_type": "code",
   "execution_count": 7,
   "outputs": [
    {
     "data": {
      "text/plain": "Housing type   Heating system                  Energy     \nSingle-family  Electricity-Performance boiler  Electricity    2.5\n               Electricity-Heat pump           Electricity    0.2\n                                               Electricity    0.1\n               Natural gas-Standard boiler     Natural gas    2.5\n               Natural gas-Performance boiler  Natural gas    0.2\n                                               Natural gas    0.1\nMulti-family   Electricity-Performance boiler  Electricity    2.5\n               Electricity-Heat pump           Electricity    0.2\n                                               Electricity    0.1\n               Natural gas-Standard boiler     Natural gas    2.5\n               Natural gas-Performance boiler  Natural gas    0.2\n                                               Natural gas    0.1\nName: Wall, dtype: float64"
     },
     "execution_count": 7,
     "metadata": {},
     "output_type": "execute_result"
    }
   ],
   "source": [
    "buildings_round['Wall'].astype('float').round(1)"
   ],
   "metadata": {
    "collapsed": false,
    "pycharm": {
     "name": "#%%\n"
    }
   }
  }
 ],
 "metadata": {
  "kernelspec": {
   "display_name": "Python 3",
   "language": "python",
   "name": "python3"
  },
  "language_info": {
   "codemirror_mode": {
    "name": "ipython",
    "version": 2
   },
   "file_extension": ".py",
   "mimetype": "text/x-python",
   "name": "python",
   "nbconvert_exporter": "python",
   "pygments_lexer": "ipython2",
   "version": "2.7.6"
  }
 },
 "nbformat": 4,
 "nbformat_minor": 0
}