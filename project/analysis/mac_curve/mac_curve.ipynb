{
 "cells": [
  {
   "cell_type": "code",
   "execution_count": 1,
   "outputs": [],
   "source": [
    "import os\n",
    "from pandas import concat, Series, DataFrame, options\n",
    "from numpy import inf\n",
    "import matplotlib.pyplot as plt\n",
    "\n",
    "from project.model import get_inputs\n",
    "from project.utils import cumulated_plot, cumulated_plots"
   ],
   "metadata": {
    "collapsed": false,
    "pycharm": {
     "name": "#%%\n"
    }
   }
  },
  {
   "cell_type": "code",
   "execution_count": 2,
   "outputs": [
    {
     "data": {
      "text/plain": "'/Users/lucas/PycharmProjects/Res-IRF4/project/analysis/mac_curve'"
     },
     "execution_count": 2,
     "metadata": {},
     "output_type": "execute_result"
    }
   ],
   "source": [
    "os.getcwd()"
   ],
   "metadata": {
    "collapsed": false,
    "pycharm": {
     "name": "#%%\n"
    }
   }
  },
  {
   "cell_type": "code",
   "execution_count": 2,
   "outputs": [],
   "source": [
    "path = 'output/static'\n",
    "if not os.path.isdir(path):\n",
    "    os.mkdir(path)"
   ],
   "metadata": {
    "collapsed": false,
    "pycharm": {
     "name": "#%%\n"
    }
   }
  },
  {
   "cell_type": "code",
   "execution_count": 3,
   "outputs": [],
   "source": [
    "insulation = {'Wall': (True, False, False, False), 'Floor': (False, True, False, False), 'Roof': (False, False, True, False), 'Windows': (False, False, False, True), 'Global': (True, True, True, True)}"
   ],
   "metadata": {
    "collapsed": false,
    "pycharm": {
     "name": "#%%\n"
    }
   }
  },
  {
   "cell_type": "markdown",
   "source": [
    "### Loading inputs"
   ],
   "metadata": {
    "collapsed": false,
    "pycharm": {
     "name": "#%% md\n"
    }
   }
  },
  {
   "cell_type": "code",
   "execution_count": 4,
   "outputs": [
    {
     "name": "stderr",
     "output_type": "stream",
     "text": [
      "2022-11-10 14:47:08,256 - 56552 - log_static - INFO - Creating AgentBuildings object\n"
     ]
    }
   ],
   "source": [
    "output = get_inputs(path)\n",
    "buildings = output['buildings']\n",
    "energy_prices = output['energy_prices']\n",
    "cost_insulation = output['cost_insulation']\n",
    "carbon_emission = output['carbon_emission']\n",
    "carbon_value_kwh = output['carbon_value_kwh']\n",
    "health_cost = output['health_cost']"
   ],
   "metadata": {
    "collapsed": false,
    "pycharm": {
     "name": "#%%\n"
    }
   }
  },
  {
   "cell_type": "code",
   "execution_count": 5,
   "outputs": [
    {
     "data": {
      "text/plain": "dict_keys(['buildings', 'energy_prices', 'cost_insulation', 'carbon_emission', 'carbon_value_kwh', 'health_cost'])"
     },
     "execution_count": 5,
     "metadata": {},
     "output_type": "execute_result"
    }
   ],
   "source": [
    "output.keys()"
   ],
   "metadata": {
    "collapsed": false,
    "pycharm": {
     "name": "#%%\n"
    }
   }
  },
  {
   "cell_type": "markdown",
   "source": [
    "## Calculating potential\n",
    "1. Initial consumption of the building stock\n",
    "2. Potential energy reduction after insulation measures\n",
    "3. Cost of insulation measures\n",
    "4. Cost-efficiency of potential measures\n",
    "5. Marginal Abatement Cost (MAC) curve"
   ],
   "metadata": {
    "collapsed": false,
    "pycharm": {
     "name": "#%% md\n"
    }
   }
  },
  {
   "cell_type": "code",
   "execution_count": 6,
   "outputs": [],
   "source": [
    "output = buildings.mitigation_potential(energy_prices, cost_insulation, carbon_emission, carbon_value_kwh)"
   ],
   "metadata": {
    "collapsed": false,
    "pycharm": {
     "name": "#%%\n"
    }
   }
  },
  {
   "cell_type": "code",
   "execution_count": 7,
   "outputs": [
    {
     "data": {
      "text/plain": "dict_keys(['Stock (dwellings)', 'Consumption before (kWh/dwelling)', 'Consumption before (kWh/segment)', 'Consumption actual before (kWh/dwelling)', 'Consumption actual before (kWh/segment)', 'Consumption actual after (kWh/dwelling)', 'Consumption actual after (kWh/segment)', 'Consumption saved (kWh/dwelling)', 'Consumption saved (kWh/segment)', 'Consumption actual saved (kWh/dwelling)', 'Consumption actual saved (kWh/segment)', 'Emission before (gCO2/dwelling)', 'Emission after (gCO2/dwelling)', 'Emission saved (gCO2/dwelling)', 'Emission value before (euro/dwelling)', 'Emission value after (euro/dwelling)', 'Emission value saved (euro/dwelling)', 'Cost insulation (euro/dwelling)', 'Cost insulation (euro/segment)', 'Bill before (euro/dwelling)', 'Bill after (euro/dwelling)', 'Bill saved (euro/dwelling)', 'Best NPV', 'Max consumption saved'])"
     },
     "execution_count": 7,
     "metadata": {},
     "output_type": "execute_result"
    }
   ],
   "source": [
    "output.keys()"
   ],
   "metadata": {
    "collapsed": false,
    "pycharm": {
     "name": "#%%\n"
    }
   }
  },
  {
   "cell_type": "code",
   "execution_count": 8,
   "outputs": [
    {
     "name": "stdout",
     "output_type": "stream",
     "text": [
      "15.372451026882842\n"
     ]
    }
   ],
   "source": [
    "discount_rate, lifetime = 0.05, 30\n",
    "discount_factor = (1 - (1 + discount_rate) ** -lifetime) / discount_rate\n",
    "print(discount_factor)"
   ],
   "metadata": {
    "collapsed": false,
    "pycharm": {
     "name": "#%%\n"
    }
   }
  },
  {
   "cell_type": "code",
   "execution_count": 9,
   "outputs": [],
   "source": [
    "result = dict()"
   ],
   "metadata": {
    "collapsed": false,
    "pycharm": {
     "name": "#%%\n"
    }
   }
  },
  {
   "cell_type": "code",
   "execution_count": 10,
   "outputs": [
    {
     "name": "stdout",
     "output_type": "stream",
     "text": [
      "Index(['bill_saved', 'cost', 'consumption_saved', 'consumption_saved_agg',\n",
      "       'consumption_actual_saved_agg', 'criteria', 'columns',\n",
      "       'consumption_saved_sum', 'consumption_saved_agg_sum',\n",
      "       'cost_consumption'],\n",
      "      dtype='object')\n"
     ]
    },
    {
     "data": {
      "text/plain": "<Figure size 921.6x691.2 with 1 Axes>",
      "image/png": "[encoded data removed]"
     },
     "metadata": {
      "needs_background": "light"
     },
     "output_type": "display_data"
    },
    {
     "name": "stdout",
     "output_type": "stream",
     "text": [
      "Consumption conventional initial: 351 TWh/a\n",
      "Existing  Occupancy status  Income owner  Income tenant  Housing type  Heating system               Wall  Floor  Roof  Windows\n",
      "True      Owner-occupied    C1            C1             Multi-family  Electricity-Heat pump water  0.1   0.5    0.1   1.6        1.253313\n",
      "          Privately rented  C3            C3             Multi-family  Electricity-Heat pump water  0.1   0.5    0.1   1.6        1.253313\n",
      "                            C5            C4             Multi-family  Electricity-Heat pump water  0.1   0.5    0.1   1.6        1.253313\n",
      "                            C3            C1             Multi-family  Electricity-Heat pump water  0.1   0.5    0.1   1.6        1.253313\n",
      "                            C4            C2             Multi-family  Electricity-Heat pump water  0.1   0.5    0.1   1.6        1.253313\n",
      "          Owner-occupied    C3            C3             Multi-family  Electricity-Heat pump water  0.1   0.5    0.1   1.6        1.253313\n",
      "          Privately rented  C5            C3             Multi-family  Electricity-Heat pump water  0.1   0.5    0.1   1.6        1.253313\n",
      "                            C3            C2             Multi-family  Electricity-Heat pump water  0.1   0.5    0.1   1.6        1.253313\n",
      "                            C5            C2             Multi-family  Electricity-Heat pump water  0.1   0.5    0.1   1.6        1.253313\n",
      "                            C1            C1             Multi-family  Electricity-Heat pump water  0.1   0.5    0.1   1.6        1.253313\n",
      "Name: cost_consumption, dtype: float64\n"
     ]
    }
   ],
   "source": [
    "df = output['Best NPV']\n",
    "df.drop(df[df['bill_saved'] == 0].index, inplace=True)\n",
    "df['consumption_saved_sum'] = df['consumption_saved'] * discount_factor\n",
    "df['consumption_saved_agg_sum'] = df['consumption_saved_agg'] * discount_factor\n",
    "df['cost_consumption'] = df['cost'] / df['consumption_saved_sum']\n",
    "print(df.columns)\n",
    "\n",
    "x = (df['consumption_saved_agg'] / 10**9).rename('Consumption saved (TWh/a)')\n",
    "y = df['cost_consumption'].rename('Cost insulation (euro/kWh)')\n",
    "cumulated_plot(x, y, plot=True, format_y=lambda y, _: '{:,.1f}'.format(y))\n",
    "result.update({'Max NPV': cumulated_plot(x, y, plot=False, format_y=lambda y, _: '{:,.1f}'.format(y))})\n",
    "print('Consumption conventional initial: {:,.0f} TWh/a'.format(output['Consumption before (kWh/segment)'].sum() / 10**9))\n",
    "\n",
    "print(df['cost_consumption'].sort_values(ascending=False).head(10))"
   ],
   "metadata": {
    "collapsed": false,
    "pycharm": {
     "name": "#%%\n"
    }
   }
  },
  {
   "cell_type": "code",
   "execution_count": 11,
   "outputs": [
    {
     "name": "stdout",
     "output_type": "stream",
     "text": [
      "Index(['bill_saved', 'cost', 'consumption_saved', 'consumption_saved_agg',\n",
      "       'consumption_actual_saved_agg', 'criteria', 'columns',\n",
      "       'consumption_saved_sum', 'consumption_saved_agg_sum',\n",
      "       'cost_consumption'],\n",
      "      dtype='object')\n"
     ]
    },
    {
     "data": {
      "text/plain": "<Figure size 921.6x691.2 with 1 Axes>",
      "image/png": "[encoded data removed]"
     },
     "metadata": {
      "needs_background": "light"
     },
     "output_type": "display_data"
    },
    {
     "name": "stdout",
     "output_type": "stream",
     "text": [
      "Consumption conventional initial: 351 TWh/a\n",
      "Existing  Occupancy status  Income owner  Income tenant  Housing type   Heating system               Wall  Floor  Roof  Windows\n",
      "True      Privately rented  C3            C3             Single-family  Electricity-Heat pump water  0.5   0.5    0.1   1.6        1.584408\n",
      "                                          C4             Single-family  Electricity-Heat pump water  0.5   0.5    0.1   1.6        1.584408\n",
      "                            C5            C3             Single-family  Electricity-Heat pump water  0.5   0.5    0.1   1.6        1.584408\n",
      "                            C2            C2             Single-family  Electricity-Heat pump water  0.5   0.5    0.1   1.6        1.584408\n",
      "                            C5            C2             Single-family  Electricity-Heat pump water  0.5   0.5    0.1   1.6        1.584408\n",
      "          Owner-occupied    C1            C1             Single-family  Electricity-Heat pump water  0.5   0.5    0.1   1.6        1.584408\n",
      "          Privately rented  C2            C3             Single-family  Electricity-Heat pump water  0.5   0.5    0.1   1.6        1.584408\n",
      "                            C5            C1             Single-family  Electricity-Heat pump water  0.5   0.5    0.1   1.6        1.584408\n",
      "                            C2            C4             Single-family  Electricity-Heat pump water  0.5   0.5    0.1   1.6        1.584408\n",
      "                            C4            C5             Single-family  Electricity-Heat pump water  0.5   0.5    0.1   1.6        1.584408\n",
      "Name: cost_consumption, dtype: float64\n"
     ]
    }
   ],
   "source": [
    "df = output['Max consumption saved']\n",
    "df.drop(df[df['bill_saved'] == 0].index, inplace=True)\n",
    "df['consumption_saved_sum'] = df['consumption_saved'] * discount_factor\n",
    "df['consumption_saved_agg_sum'] = df['consumption_saved_agg'] * discount_factor\n",
    "df['cost_consumption'] = df['cost'] / df['consumption_saved_sum']\n",
    "print(df.columns)\n",
    "\n",
    "x = (df['consumption_saved_agg'] / 10**9).rename('Consumption saved (TWh/a)')\n",
    "y = df['cost_consumption'].rename('Cost insulation (euro/kWh)')\n",
    "cumulated_plot(x, y, plot=True, format_y=lambda y, _: '{:,.1f}'.format(y))\n",
    "result.update({'Max saving': cumulated_plot(x, y, plot=False, format_y=lambda y, _: '{:,.1f}'.format(y))})\n",
    "print('Consumption conventional initial: {:,.0f} TWh/a'.format(output['Consumption before (kWh/segment)'].sum() / 10**9))\n",
    "\n",
    "print(df['cost_consumption'].sort_values(ascending=False).head(10))"
   ],
   "metadata": {
    "collapsed": false,
    "pycharm": {
     "name": "#%%\n"
    }
   }
  },
  {
   "cell_type": "code",
   "execution_count": 12,
   "outputs": [
    {
     "data": {
      "text/plain": "<Figure size 921.6x691.2 with 1 Axes>",
      "image/png": "[encoded data removed]"
     },
     "metadata": {
      "needs_background": "light"
     },
     "output_type": "display_data"
    }
   ],
   "source": [
    "cumulated_plots(result, 'Cost insulation (euro/kWh)')"
   ],
   "metadata": {
    "collapsed": false,
    "pycharm": {
     "name": "#%%\n"
    }
   }
  },
  {
   "cell_type": "code",
   "execution_count": 13,
   "outputs": [
    {
     "data": {
      "text/plain": "{'Max NPV': Consumption saved (TWh/a) cumulated\n 0.054330      0.044773\n 0.141832      0.044773\n 0.271579      0.044773\n 0.481949      0.044773\n 0.508898      0.044773\n                 ...   \n 146.544310    1.253313\n 146.544334    1.253313\n 146.544361    1.253313\n 146.544375    1.253313\n 146.544528    1.253313\n Name: Cost insulation (euro/kWh), Length: 1400, dtype: float64,\n 'Max saving': Consumption saved (TWh/a) cumulated\n 0.000858      0.054851\n 0.065500      0.054851\n 0.094430      0.054851\n 0.135384      0.054851\n 0.211390      0.054851\n                 ...   \n 268.651543    1.584408\n 268.653583    1.584408\n 268.653909    1.584408\n 268.657291    1.584408\n 268.658743    1.584408\n Name: Cost insulation (euro/kWh), Length: 1715, dtype: float64}"
     },
     "execution_count": 13,
     "metadata": {},
     "output_type": "execute_result"
    }
   ],
   "source": [
    "result"
   ],
   "metadata": {
    "collapsed": false,
    "pycharm": {
     "name": "#%%\n"
    }
   }
  },
  {
   "cell_type": "code",
   "execution_count": 14,
   "outputs": [
    {
     "data": {
      "text/plain": "<Figure size 921.6x691.2 with 1 Axes>",
      "image/png": "[encoded data removed]"
     },
     "metadata": {
      "needs_background": "light"
     },
     "output_type": "display_data"
    }
   ],
   "source": [
    "temp = dict()\n",
    "for i in ['Wall', 'Floor', 'Roof', 'Windows']:\n",
    "    y = Series(buildings.stock.index.get_level_values(i), index=buildings.stock.index, name='{} insulation (W/m2.K)'.format(i)).astype('float')\n",
    "    x = buildings.stock / 10**6\n",
    "    temp.update({i: cumulated_plot(x, y, plot=False)})\n",
    "cumulated_plots(temp, 'Thermal transmittance U (W/m2.K)', ylim=3)\n"
   ],
   "metadata": {
    "collapsed": false,
    "pycharm": {
     "name": "#%%\n"
    }
   }
  },
  {
   "cell_type": "markdown",
   "source": [
    "### Cost-efficiency of renovation measures"
   ],
   "metadata": {
    "collapsed": false,
    "pycharm": {
     "name": "#%% md\n"
    }
   }
  },
  {
   "cell_type": "code",
   "execution_count": 15,
   "outputs": [
    {
     "name": "stdout",
     "output_type": "stream",
     "text": [
      "17.29203330066449\n"
     ]
    }
   ],
   "source": [
    "discount_rate = 0.04\n",
    "discount_factor = (1 - (1 + discount_rate) ** -30) / discount_rate\n",
    "print(discount_factor)"
   ],
   "metadata": {
    "collapsed": false,
    "pycharm": {
     "name": "#%%\n"
    }
   }
  },
  {
   "cell_type": "code",
   "execution_count": 16,
   "outputs": [],
   "source": [
    "consumption_saved = output['Consumption saved (kWh/segment)']\n",
    "cost_efficiency = output['Cost insulation (euro/dwelling)'] / (output['Consumption saved (kWh/dwelling)'] * discount_factor)\n",
    "cost_efficiency.replace([inf, -inf], 0, inplace=True)\n",
    "cost_efficiency.fillna(0, inplace=True)"
   ],
   "metadata": {
    "collapsed": false,
    "pycharm": {
     "name": "#%%\n"
    }
   }
  },
  {
   "cell_type": "code",
   "execution_count": 17,
   "outputs": [
    {
     "ename": "NameError",
     "evalue": "name 'consumption_standard_before' is not defined",
     "output_type": "error",
     "traceback": [
      "\u001B[0;31m---------------------------------------------------------------------------\u001B[0m",
      "\u001B[0;31mNameError\u001B[0m                                 Traceback (most recent call last)",
      "\u001B[0;32m/var/folders/p9/3r4_fgzd72j7b469xxshgfnh0000gn/T/ipykernel_56552/3101520249.py\u001B[0m in \u001B[0;36m<module>\u001B[0;34m\u001B[0m\n\u001B[1;32m      2\u001B[0m \u001B[0;32mfor\u001B[0m \u001B[0mkey\u001B[0m\u001B[0;34m,\u001B[0m \u001B[0mitem\u001B[0m \u001B[0;32min\u001B[0m \u001B[0minsulation\u001B[0m\u001B[0;34m.\u001B[0m\u001B[0mitems\u001B[0m\u001B[0;34m(\u001B[0m\u001B[0;34m)\u001B[0m\u001B[0;34m:\u001B[0m\u001B[0;34m\u001B[0m\u001B[0;34m\u001B[0m\u001B[0m\n\u001B[1;32m      3\u001B[0m     \u001B[0mx\u001B[0m \u001B[0;34m=\u001B[0m \u001B[0mconsumption_saved\u001B[0m\u001B[0;34m.\u001B[0m\u001B[0mloc\u001B[0m\u001B[0;34m[\u001B[0m\u001B[0;34m:\u001B[0m\u001B[0;34m,\u001B[0m \u001B[0mitem\u001B[0m\u001B[0;34m]\u001B[0m\u001B[0;34m.\u001B[0m\u001B[0mrename\u001B[0m\u001B[0;34m(\u001B[0m\u001B[0;34m'Consumption saved (TWh)'\u001B[0m\u001B[0;34m)\u001B[0m \u001B[0;34m/\u001B[0m \u001B[0;36m10\u001B[0m\u001B[0;34m**\u001B[0m\u001B[0;36m9\u001B[0m\u001B[0;34m\u001B[0m\u001B[0;34m\u001B[0m\u001B[0m\n\u001B[0;32m----> 4\u001B[0;31m     \u001B[0mx_percent\u001B[0m \u001B[0;34m=\u001B[0m \u001B[0;34m(\u001B[0m\u001B[0mconsumption_saved\u001B[0m\u001B[0;34m.\u001B[0m\u001B[0mloc\u001B[0m\u001B[0;34m[\u001B[0m\u001B[0;34m:\u001B[0m\u001B[0;34m,\u001B[0m \u001B[0mitem\u001B[0m\u001B[0;34m]\u001B[0m \u001B[0;34m/\u001B[0m \u001B[0mconsumption_standard_before\u001B[0m\u001B[0;34m)\u001B[0m\u001B[0;34m.\u001B[0m\u001B[0mrename\u001B[0m\u001B[0;34m(\u001B[0m\u001B[0;34m'Consumption saved (%)'\u001B[0m\u001B[0;34m)\u001B[0m\u001B[0;34m\u001B[0m\u001B[0;34m\u001B[0m\u001B[0m\n\u001B[0m\u001B[1;32m      5\u001B[0m     \u001B[0mx_stock\u001B[0m \u001B[0;34m=\u001B[0m \u001B[0mbuildings\u001B[0m\u001B[0;34m.\u001B[0m\u001B[0mstock\u001B[0m \u001B[0;34m/\u001B[0m \u001B[0;36m10\u001B[0m\u001B[0;34m**\u001B[0m\u001B[0;36m6\u001B[0m\u001B[0;34m\u001B[0m\u001B[0;34m\u001B[0m\u001B[0m\n\u001B[1;32m      6\u001B[0m \u001B[0;34m\u001B[0m\u001B[0m\n",
      "\u001B[0;31mNameError\u001B[0m: name 'consumption_standard_before' is not defined"
     ]
    }
   ],
   "source": [
    "temp, temp_percent, temp_stock = dict(), dict(), dict()\n",
    "for key, item in insulation.items():\n",
    "    x = consumption_saved.loc[:, item].rename('Consumption saved (TWh)') / 10**9\n",
    "    x_percent = (consumption_saved.loc[:, item] / consumption_standard_before).rename('Consumption saved (%)')\n",
    "    x_stock = buildings.stock / 10**6\n",
    "\n",
    "    y = cost_efficiency.loc[:, item].rename('{} insulation'.format(key))\n",
    "\n",
    "    temp.update({key: cumulated_plot(x, y, plot=False)})\n",
    "    temp_percent.update({key: cumulated_plot(x_percent, y, plot=False)})\n",
    "    temp_stock.update({key: cumulated_plot(x_stock, y, plot=False)})"
   ],
   "metadata": {
    "collapsed": false,
    "pycharm": {
     "name": "#%%\n"
    }
   }
  },
  {
   "cell_type": "code",
   "execution_count": null,
   "outputs": [],
   "source": [
    "cumulated_plots(temp, 'Cost (€/kWh)')\n",
    "cumulated_plots(temp_percent, 'Cost (€/kWh)')\n",
    "cumulated_plots(temp_stock, 'Cost (€/kWh)')"
   ],
   "metadata": {
    "collapsed": false,
    "pycharm": {
     "name": "#%%\n"
    }
   }
  },
  {
   "cell_type": "markdown",
   "source": [
    "### Net present value assessment"
   ],
   "metadata": {
    "collapsed": false,
    "pycharm": {
     "name": "#%% md\n"
    }
   }
  },
  {
   "cell_type": "code",
   "execution_count": null,
   "outputs": [],
   "source": [
    "output.keys()"
   ],
   "metadata": {
    "collapsed": false,
    "pycharm": {
     "name": "#%%\n"
    }
   }
  },
  {
   "cell_type": "code",
   "execution_count": null,
   "outputs": [],
   "source": [
    "discount_rate = 0.08\n",
    "discount_factor = (1 - (1 + discount_rate) ** -30) / discount_rate\n",
    "print(discount_factor)"
   ],
   "metadata": {
    "collapsed": false,
    "pycharm": {
     "name": "#%%\n"
    }
   }
  },
  {
   "cell_type": "code",
   "execution_count": null,
   "outputs": [],
   "source": [
    "npv = output['Cost insulation (euro/dwelling)'] - output['Bill saved (euro/dwelling)'] * discount_factor"
   ],
   "metadata": {
    "collapsed": false,
    "pycharm": {
     "name": "#%%\n"
    }
   }
  },
  {
   "cell_type": "code",
   "execution_count": null,
   "outputs": [],
   "source": [
    "i = 'Floor'\n",
    "details = concat((output['Cost insulation (euro/dwelling)'].loc[:, insulation[i]], output['Bill saved (euro/dwelling)'].loc[:, insulation[i]] * discount_factor, npv.loc[:, insulation[i]].rename('NPV (euro/dwelling)')), axis=1).sort_values('NPV (euro/dwelling)')"
   ],
   "metadata": {
    "collapsed": false,
    "pycharm": {
     "name": "#%%\n"
    }
   }
  },
  {
   "cell_type": "code",
   "execution_count": null,
   "outputs": [],
   "source": [
    "temp, temp_percent, temp_stock = dict(), dict(), dict()\n",
    "for key, item in insulation.items():\n",
    "    x = consumption_saved.loc[:, item].rename('Consumption saved (TWh)') / 10**9\n",
    "    x_percent = (consumption_saved.loc[:, item] / consumption_standard_before).rename('Consumption saved (%)')\n",
    "    x_stock = buildings.stock / 10**6\n",
    "\n",
    "    y = npv.loc[:, item].rename('{} insulation'.format(key)) / 10**3\n",
    "\n",
    "    temp.update({key: cumulated_plot(x, y, plot=False)})\n",
    "    temp_percent.update({key: cumulated_plot(x_percent, y, plot=False)})\n",
    "    temp_stock.update({key: cumulated_plot(x_stock, y, plot=False)})"
   ],
   "metadata": {
    "collapsed": false,
    "pycharm": {
     "name": "#%%\n"
    }
   }
  },
  {
   "cell_type": "code",
   "execution_count": null,
   "outputs": [],
   "source": [
    "cumulated_plots(temp, 'NPV (Thousand euro/dwelling)', ymin=None)\n",
    "cumulated_plots(temp_percent, 'NPV (Thousand euro/dwelling)', ymin=None)\n",
    "cumulated_plots(temp_stock, 'NPV (Thousand euro/dwelling)', ymin=None)"
   ],
   "metadata": {
    "collapsed": false,
    "pycharm": {
     "name": "#%%\n"
    }
   }
  },
  {
   "cell_type": "markdown",
   "source": [
    "#### Social assessment"
   ],
   "metadata": {
    "collapsed": false,
    "pycharm": {
     "name": "#%% md\n"
    }
   }
  },
  {
   "cell_type": "code",
   "execution_count": null,
   "outputs": [],
   "source": [
    "social_npv = output['Cost insulation (euro/dwelling)'] - (output['Bill saved (euro/dwelling)'] + output['Emission value saved (euro/dwelling)']) * discount_factor"
   ],
   "metadata": {
    "collapsed": false,
    "pycharm": {
     "name": "#%%\n"
    }
   }
  },
  {
   "cell_type": "code",
   "execution_count": null,
   "outputs": [],
   "source": [
    "temp, temp_percent, temp_stock = dict(), dict(), dict()\n",
    "for key, item in insulation.items():\n",
    "    x = consumption_saved.loc[:, item].rename('Consumption saved (TWh)') / 10**9\n",
    "    x_percent = (consumption_saved.loc[:, item] / consumption_standard_before).rename('Consumption saved (%)')\n",
    "    x_stock = buildings.stock / 10**6\n",
    "\n",
    "    y = social_npv.loc[:, item].rename('{} insulation'.format(key)) / 10**3\n",
    "\n",
    "    temp.update({key: cumulated_plot(x, y, plot=False)})\n",
    "    temp_percent.update({key: cumulated_plot(x_percent, y, plot=False)})\n",
    "    temp_stock.update({key: cumulated_plot(x_stock, y, plot=False)})"
   ],
   "metadata": {
    "collapsed": false,
    "pycharm": {
     "name": "#%%\n"
    }
   }
  },
  {
   "cell_type": "code",
   "execution_count": null,
   "outputs": [],
   "source": [
    "cumulated_plots(temp, 'NPV (Thousand euro/dwelling)', ymin=None)\n",
    "cumulated_plots(temp_percent, 'NPV (Thousand euro/dwelling)', ymin=None)\n",
    "cumulated_plots(temp_stock, 'NPV (Thousand euro/dwelling)', ymin=None)"
   ],
   "metadata": {
    "collapsed": false,
    "pycharm": {
     "name": "#%%\n"
    }
   }
  },
  {
   "cell_type": "markdown",
   "source": [
    "### Marginal Energy Saving Cost Curves (MESC-Curves)\n",
    "These curves show for each amount of energy demand savings (x-axis) the costs of the last renovation action to be taken to reach these savings (y-axis).\n",
    "\n",
    "### Energy Saving Cost Curves (ESC-Curves)\n",
    "These curves show for each amount of energy demand savings (x-axis) the average costs of all renovation actions to be implemented to reach these savings (y-axis)."
   ],
   "metadata": {
    "collapsed": false,
    "pycharm": {
     "name": "#%% md\n"
    }
   }
  },
  {
   "cell_type": "code",
   "execution_count": null,
   "outputs": [],
   "source": [],
   "metadata": {
    "collapsed": false,
    "pycharm": {
     "name": "#%%\n"
    }
   }
  }
 ],
 "metadata": {
  "kernelspec": {
   "display_name": "Python 3",
   "language": "python",
   "name": "python3"
  },
  "language_info": {
   "codemirror_mode": {
    "name": "ipython",
    "version": 2
   },
   "file_extension": ".py",
   "mimetype": "text/x-python",
   "name": "python",
   "nbconvert_exporter": "python",
   "pygments_lexer": "ipython2",
   "version": "2.7.6"
  }
 },
 "nbformat": 4,
 "nbformat_minor": 0
}