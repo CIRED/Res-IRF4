{
 "cells": [
  {
   "cell_type": "code",
   "execution_count": 20,
   "metadata": {
    "collapsed": true,
    "pycharm": {
     "name": "#%%\n"
    }
   },
   "outputs": [],
   "source": [
    "import pandas as pd\n",
    "import os\n",
    "import matplotlib.pyplot as plt\n",
    "import numpy as np"
   ]
  },
  {
   "cell_type": "markdown",
   "source": [
    "### Work in progress"
   ],
   "metadata": {
    "collapsed": false,
    "pycharm": {
     "name": "#%% md\n"
    }
   }
  },
  {
   "cell_type": "code",
   "execution_count": 25,
   "outputs": [],
   "source": [
    "path = os.path.join('..','input','revealed_data','hist_consumption.csv' )"
   ],
   "metadata": {
    "collapsed": false,
    "pycharm": {
     "name": "#%%\n"
    }
   }
  },
  {
   "cell_type": "code",
   "execution_count": 30,
   "outputs": [],
   "source": [
    "consumption_hist = pd.read_csv(path)\n"
   ],
   "metadata": {
    "collapsed": false,
    "pycharm": {
     "name": "#%%\n"
    }
   }
  },
  {
   "cell_type": "code",
   "execution_count": 31,
   "outputs": [
    {
     "data": {
      "text/plain": "    Unnamed: 0  Electricity  Natural gas  Oil fuel  Wood fuel\n0         2010           40          127        59         69\n1         2011           40          154        65         78\n2         2012           38          148        58         76\n3         2013           37          142        54         76\n4         2014           37          135        57         83\n5         2015           38          135        53         80\n6         2016           39          132        43         77\n7         2017           39          135        45         78\n8         2018           40          132        42         79\n9         2019           40          128        39         79\n10        2020           42          134        42         82",
      "text/html": "<div>\n<style scoped>\n    .dataframe tbody tr th:only-of-type {\n        vertical-align: middle;\n    }\n\n    .dataframe tbody tr th {\n        vertical-align: top;\n    }\n\n    .dataframe thead th {\n        text-align: right;\n    }\n</style>\n<table border=\"1\" class=\"dataframe\">\n  <thead>\n    <tr style=\"text-align: right;\">\n      <th></th>\n      <th>Unnamed: 0</th>\n      <th>Electricity</th>\n      <th>Natural gas</th>\n      <th>Oil fuel</th>\n      <th>Wood fuel</th>\n    </tr>\n  </thead>\n  <tbody>\n    <tr>\n      <th>0</th>\n      <td>2010</td>\n      <td>40</td>\n      <td>127</td>\n      <td>59</td>\n      <td>69</td>\n    </tr>\n    <tr>\n      <th>1</th>\n      <td>2011</td>\n      <td>40</td>\n      <td>154</td>\n      <td>65</td>\n      <td>78</td>\n    </tr>\n    <tr>\n      <th>2</th>\n      <td>2012</td>\n      <td>38</td>\n      <td>148</td>\n      <td>58</td>\n      <td>76</td>\n    </tr>\n    <tr>\n      <th>3</th>\n      <td>2013</td>\n      <td>37</td>\n      <td>142</td>\n      <td>54</td>\n      <td>76</td>\n    </tr>\n    <tr>\n      <th>4</th>\n      <td>2014</td>\n      <td>37</td>\n      <td>135</td>\n      <td>57</td>\n      <td>83</td>\n    </tr>\n    <tr>\n      <th>5</th>\n      <td>2015</td>\n      <td>38</td>\n      <td>135</td>\n      <td>53</td>\n      <td>80</td>\n    </tr>\n    <tr>\n      <th>6</th>\n      <td>2016</td>\n      <td>39</td>\n      <td>132</td>\n      <td>43</td>\n      <td>77</td>\n    </tr>\n    <tr>\n      <th>7</th>\n      <td>2017</td>\n      <td>39</td>\n      <td>135</td>\n      <td>45</td>\n      <td>78</td>\n    </tr>\n    <tr>\n      <th>8</th>\n      <td>2018</td>\n      <td>40</td>\n      <td>132</td>\n      <td>42</td>\n      <td>79</td>\n    </tr>\n    <tr>\n      <th>9</th>\n      <td>2019</td>\n      <td>40</td>\n      <td>128</td>\n      <td>39</td>\n      <td>79</td>\n    </tr>\n    <tr>\n      <th>10</th>\n      <td>2020</td>\n      <td>42</td>\n      <td>134</td>\n      <td>42</td>\n      <td>82</td>\n    </tr>\n  </tbody>\n</table>\n</div>"
     },
     "execution_count": 31,
     "metadata": {},
     "output_type": "execute_result"
    }
   ],
   "source": [
    "consumption_hist"
   ],
   "metadata": {
    "collapsed": false,
    "pycharm": {
     "name": "#%%\n"
    }
   }
  },
  {
   "cell_type": "code",
   "execution_count": 17,
   "outputs": [
    {
     "data": {
      "text/plain": "2010    127\n2011    154\n2012    148\n2013    142\n2014    135\n2015    135\n2016    132\n2017    135\n2018    132\n2019    128\n2020    134\nName: Natural gas, dtype: int64"
     },
     "execution_count": 17,
     "metadata": {},
     "output_type": "execute_result"
    }
   ],
   "source": [
    "consumption_hist.loc[:,'Natural gas']"
   ],
   "metadata": {
    "collapsed": false,
    "pycharm": {
     "name": "#%%\n"
    }
   }
  },
  {
   "cell_type": "code",
   "execution_count": 32,
   "outputs": [],
   "source": [
    "consumption_hist= np.array(consumption_hist)"
   ],
   "metadata": {
    "collapsed": false,
    "pycharm": {
     "name": "#%%\n"
    }
   }
  },
  {
   "cell_type": "code",
   "execution_count": 33,
   "outputs": [
    {
     "data": {
      "text/plain": "array([[2010,   40,  127,   59,   69],\n       [2011,   40,  154,   65,   78],\n       [2012,   38,  148,   58,   76],\n       [2013,   37,  142,   54,   76],\n       [2014,   37,  135,   57,   83],\n       [2015,   38,  135,   53,   80],\n       [2016,   39,  132,   43,   77],\n       [2017,   39,  135,   45,   78],\n       [2018,   40,  132,   42,   79],\n       [2019,   40,  128,   39,   79],\n       [2020,   42,  134,   42,   82]], dtype=int64)"
     },
     "execution_count": 33,
     "metadata": {},
     "output_type": "execute_result"
    }
   ],
   "source": [
    "consumption_hist"
   ],
   "metadata": {
    "collapsed": false,
    "pycharm": {
     "name": "#%%\n"
    }
   }
  },
  {
   "cell_type": "code",
   "execution_count": 37,
   "outputs": [
    {
     "data": {
      "text/plain": "array([2010,   40,  127,   59,   69], dtype=int64)"
     },
     "execution_count": 37,
     "metadata": {},
     "output_type": "execute_result"
    }
   ],
   "source": [
    "consumption_hist[0]"
   ],
   "metadata": {
    "collapsed": false,
    "pycharm": {
     "name": "#%%\n"
    }
   }
  },
  {
   "cell_type": "code",
   "execution_count": 38,
   "outputs": [
    {
     "data": {
      "text/plain": "[<matplotlib.collections.PolyCollection at 0x1f8b892f460>,\n <matplotlib.collections.PolyCollection at 0x1f8b892f820>,\n <matplotlib.collections.PolyCollection at 0x1f8b892fc10>,\n <matplotlib.collections.PolyCollection at 0x1f8b892ffd0>,\n <matplotlib.collections.PolyCollection at 0x1f8b893e3d0>]"
     },
     "execution_count": 38,
     "metadata": {},
     "output_type": "execute_result"
    },
    {
     "data": {
      "text/plain": "<Figure size 432x288 with 1 Axes>",
      "image/png": "[encoded data removed]"
     },
     "metadata": {
      "needs_background": "light"
     },
     "output_type": "display_data"
    }
   ],
   "source": [
    "plt.stackplot(consumption_hist[:,0], consumption_hist.T)"
   ],
   "metadata": {
    "collapsed": false,
    "pycharm": {
     "name": "#%%\n"
    }
   }
  },
  {
   "cell_type": "code",
   "execution_count": 39,
   "outputs": [],
   "source": [
    "#plt.stackplot(consumption_hist.index, consumption_hist.loc[:,'Natural gas'], consumption_hist.loc[:,'Electricity'])"
   ],
   "metadata": {
    "collapsed": false,
    "pycharm": {
     "name": "#%%\n"
    }
   }
  },
  {
   "cell_type": "code",
   "execution_count": null,
   "outputs": [],
   "source": [],
   "metadata": {
    "collapsed": false,
    "pycharm": {
     "name": "#%%\n"
    }
   }
  }
 ],
 "metadata": {
  "kernelspec": {
   "display_name": "Python 3",
   "language": "python",
   "name": "python3"
  },
  "language_info": {
   "codemirror_mode": {
    "name": "ipython",
    "version": 2
   },
   "file_extension": ".py",
   "mimetype": "text/x-python",
   "name": "python",
   "nbconvert_exporter": "python",
   "pygments_lexer": "ipython2",
   "version": "2.7.6"
  }
 },
 "nbformat": 4,
 "nbformat_minor": 0
}