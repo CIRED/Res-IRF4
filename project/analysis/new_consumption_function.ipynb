{
 "cells": [
  {
   "cell_type": "code",
   "execution_count": 6,
   "outputs": [],
   "source": [
    "from project.thermal import conventional_heating_final, heating_consumption, HDD_EQ\n",
    "from project.input.param import generic_input\n",
    "import pandas as pd"
   ],
   "metadata": {
    "collapsed": false,
    "pycharm": {
     "name": "#%%\n"
    }
   }
  },
  {
   "cell_type": "code",
   "execution_count": 2,
   "outputs": [
    {
     "data": {
      "text/plain": "               Wall  Floor  Roof  Windows\nHousing type                             \nSingle-family   1.2   0.96  0.98     0.15\nMulti-family    0.9   0.00  0.00     0.15",
      "text/html": "<div>\n<style scoped>\n    .dataframe tbody tr th:only-of-type {\n        vertical-align: middle;\n    }\n\n    .dataframe tbody tr th {\n        vertical-align: top;\n    }\n\n    .dataframe thead th {\n        text-align: right;\n    }\n</style>\n<table border=\"1\" class=\"dataframe\">\n  <thead>\n    <tr style=\"text-align: right;\">\n      <th></th>\n      <th>Wall</th>\n      <th>Floor</th>\n      <th>Roof</th>\n      <th>Windows</th>\n    </tr>\n    <tr>\n      <th>Housing type</th>\n      <th></th>\n      <th></th>\n      <th></th>\n      <th></th>\n    </tr>\n  </thead>\n  <tbody>\n    <tr>\n      <th>Single-family</th>\n      <td>1.2</td>\n      <td>0.96</td>\n      <td>0.98</td>\n      <td>0.15</td>\n    </tr>\n    <tr>\n      <th>Multi-family</th>\n      <td>0.9</td>\n      <td>0.00</td>\n      <td>0.00</td>\n      <td>0.15</td>\n    </tr>\n  </tbody>\n</table>\n</div>"
     },
     "execution_count": 2,
     "metadata": {},
     "output_type": "execute_result"
    }
   ],
   "source": [
    "ratio_surface = generic_input['ratio_surface']\n",
    "ratio_surface"
   ],
   "metadata": {
    "collapsed": false,
    "pycharm": {
     "name": "#%%\n"
    }
   }
  },
  {
   "cell_type": "code",
   "execution_count": 3,
   "outputs": [
    {
     "data": {
      "text/plain": "                         Wall  Floor  Roof  Windows  Efficiency\nHousing type                                                   \nSingle-family Renovated   0.2    0.2   0.2      1.6         0.8\n              Old         2.0    2.0   2.0      4.0         0.7\n              New         0.1    0.1   0.1      1.2         3.0\nMulti-family  Renovated   0.2    0.2   0.2      1.6         0.8\n              Old         2.0    2.0   2.0      4.0         0.7\n              New         0.1    0.1   0.1      1.2         3.0",
      "text/html": "<div>\n<style scoped>\n    .dataframe tbody tr th:only-of-type {\n        vertical-align: middle;\n    }\n\n    .dataframe tbody tr th {\n        vertical-align: top;\n    }\n\n    .dataframe thead th {\n        text-align: right;\n    }\n</style>\n<table border=\"1\" class=\"dataframe\">\n  <thead>\n    <tr style=\"text-align: right;\">\n      <th></th>\n      <th></th>\n      <th>Wall</th>\n      <th>Floor</th>\n      <th>Roof</th>\n      <th>Windows</th>\n      <th>Efficiency</th>\n    </tr>\n    <tr>\n      <th>Housing type</th>\n      <th></th>\n      <th></th>\n      <th></th>\n      <th></th>\n      <th></th>\n      <th></th>\n    </tr>\n  </thead>\n  <tbody>\n    <tr>\n      <th rowspan=\"3\" valign=\"top\">Single-family</th>\n      <th>Renovated</th>\n      <td>0.2</td>\n      <td>0.2</td>\n      <td>0.2</td>\n      <td>1.6</td>\n      <td>0.8</td>\n    </tr>\n    <tr>\n      <th>Old</th>\n      <td>2.0</td>\n      <td>2.0</td>\n      <td>2.0</td>\n      <td>4.0</td>\n      <td>0.7</td>\n    </tr>\n    <tr>\n      <th>New</th>\n      <td>0.1</td>\n      <td>0.1</td>\n      <td>0.1</td>\n      <td>1.2</td>\n      <td>3.0</td>\n    </tr>\n    <tr>\n      <th rowspan=\"3\" valign=\"top\">Multi-family</th>\n      <th>Renovated</th>\n      <td>0.2</td>\n      <td>0.2</td>\n      <td>0.2</td>\n      <td>1.6</td>\n      <td>0.8</td>\n    </tr>\n    <tr>\n      <th>Old</th>\n      <td>2.0</td>\n      <td>2.0</td>\n      <td>2.0</td>\n      <td>4.0</td>\n      <td>0.7</td>\n    </tr>\n    <tr>\n      <th>New</th>\n      <td>0.1</td>\n      <td>0.1</td>\n      <td>0.1</td>\n      <td>1.2</td>\n      <td>3.0</td>\n    </tr>\n  </tbody>\n</table>\n</div>"
     },
     "execution_count": 3,
     "metadata": {},
     "output_type": "execute_result"
    }
   ],
   "source": [
    "buildings = {'Renovated': [0.2, 0.2, 0.2, 1.6, 0.8],\n",
    "             'Old': [2, 2, 2, 4, 0.7],\n",
    "             'New': [0.1, 0.1, 0.1, 1.2, 3]\n",
    "             }\n",
    "\n",
    "buildings = pd.DataFrame(buildings, index=pd.Index(['Wall', 'Floor', 'Roof', 'Windows', 'Efficiency'])).T\n",
    "buildings = pd.concat([buildings] * 2, keys=['Single-family', 'Multi-family'], names=['Housing type'])\n",
    "buildings"
   ],
   "metadata": {
    "collapsed": false,
    "pycharm": {
     "name": "#%%\n"
    }
   }
  },
  {
   "cell_type": "code",
   "execution_count": 4,
   "outputs": [
    {
     "data": {
      "text/plain": "Housing type            \nSingle-family  Renovated     68.159817\n               Old          431.752224\n               New           13.018548\nMulti-family   Renovated     36.980527\n               Old          177.386247\n               New            7.556878\ndtype: float64"
     },
     "execution_count": 4,
     "metadata": {},
     "output_type": "execute_result"
    }
   ],
   "source": [
    "conventional_heating_final(buildings['Wall'], buildings['Floor'], buildings['Roof'], buildings['Windows'], ratio_surface, buildings['Efficiency'])"
   ],
   "metadata": {
    "collapsed": false,
    "pycharm": {
     "name": "#%%\n"
    }
   }
  },
  {
   "cell_type": "code",
   "execution_count": 7,
   "outputs": [
    {
     "data": {
      "text/plain": "Housing type            \nSingle-family  Renovated     78.991507\n               Old          583.590526\n               New           14.098636\nMulti-family   Renovated     45.082924\n               Old          254.008262\n               New            8.878821\nName: Consumption, dtype: float64"
     },
     "execution_count": 7,
     "metadata": {},
     "output_type": "execute_result"
    }
   ],
   "source": [
    "heating_consumption(buildings['Wall'], buildings['Floor'], buildings['Roof'], buildings['Windows'], buildings['Efficiency'], ratio_surface, HDD_EQ)"
   ],
   "metadata": {
    "collapsed": false,
    "pycharm": {
     "name": "#%%\n"
    }
   }
  },
  {
   "cell_type": "code",
   "execution_count": 5,
   "outputs": [],
   "source": [],
   "metadata": {
    "collapsed": false,
    "pycharm": {
     "name": "#%%\n"
    }
   }
  }
 ],
 "metadata": {
  "kernelspec": {
   "display_name": "Python 3",
   "language": "python",
   "name": "python3"
  },
  "language_info": {
   "codemirror_mode": {
    "name": "ipython",
    "version": 2
   },
   "file_extension": ".py",
   "mimetype": "text/x-python",
   "name": "python",
   "nbconvert_exporter": "python",
   "pygments_lexer": "ipython2",
   "version": "2.7.6"
  }
 },
 "nbformat": 4,
 "nbformat_minor": 0
}